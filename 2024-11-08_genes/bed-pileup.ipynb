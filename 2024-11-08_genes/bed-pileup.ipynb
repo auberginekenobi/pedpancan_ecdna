{
 "cells": [
  {
   "cell_type": "markdown",
   "id": "ead6e1c3-fe75-469d-a031-a4b8cd1994fa",
   "metadata": {},
   "source": [
    "# bed-pileup\n",
    "Stack bed file outputs from AmpliconClassifier to make a histogram of ecDNA amplifications across the genome. See **Fig. 3a**.  \n",
    "Output: see ./bedgraph  \n",
    "TODO:\n",
    "- Make a bed-pileup of chr17p11.2 for osteosarcomas."
   ]
  },
  {
   "cell_type": "code",
   "execution_count": null,
   "id": "2996f3ab-b811-4225-94b8-500496cb8d06",
   "metadata": {},
   "outputs": [],
   "source": [
    "import pandas as pd\n",
    "import subprocess\n",
    "import shutil\n",
    "import warnings\n",
    "# Directory setup\n",
    "import os\n",
    "from pathlib import Path\n",
    "# Import local dependencies\n",
    "import sys\n",
    "sys.path.append('../src')\n",
    "from data_imports import *"
   ]
  },
  {
   "cell_type": "code",
   "execution_count": null,
   "id": "fbd69047-033c-4391-89a8-47d91a72948b",
   "metadata": {},
   "outputs": [],
   "source": [
    "# GLOBALS\n",
    "BED_DIR=Path(\"../data/source/AmpliconClassifier/pedpancan_classification_bed_files\") # bed outputs from AmpliconClassifier\n",
    "SYM_DIR=Path('bed_symlinks')\n",
    "SYM_DIR.mkdir(parents=True, exist_ok=True)\n",
    "BDG_DIR=Path('bedgraph')\n",
    "BDG_DIR.mkdir(parents=True,exist_ok=True)\n",
    "BIOSAMPLES = import_biosamples()"
   ]
  },
  {
   "cell_type": "code",
   "execution_count": null,
   "id": "1444a1f5-0a26-45ec-94a1-2dafa29ff9c6",
   "metadata": {},
   "outputs": [],
   "source": [
    "# Functions\n",
    "def symlink_beds(dirname, bed_list,verbose=False):\n",
    "    '''\n",
    "    dirname: place where the bed files should go, somewhere in ./bed_symlinks.\n",
    "    bed_list: iterable of bed filenames in BED_DIR\n",
    "    '''\n",
    "    dirname = SYM_DIR/dirname\n",
    "    dirname.mkdir(parents=True, exist_ok=True)\n",
    "    for file in bed_list:\n",
    "        source = Path(file).resolve()\n",
    "        dest = dirname/file.name\n",
    "        try:\n",
    "            # Create the symlink\n",
    "            dest.symlink_to(source)\n",
    "            #shutil.copy(source,dest)\n",
    "            if verbose:\n",
    "                print(f'Successfully created symlink: {dest} -> {source}')\n",
    "        except FileExistsError:\n",
    "            if verbose:\n",
    "                print(f'Symlink already exists: {dest}')\n",
    "        except OSError as e:\n",
    "            print(f'Error creating symlink for {source}: {e}')\n",
    "    return\n",
    "\n",
    "def get_deduplicated_beds(biosamples = None, tumor_type = None):\n",
    "    '''\n",
    "    Remove beds from duplicate biosamples\n",
    "    Remove beds from duplicate AA runs\n",
    "    eg SJST031395_D1_amplicon1_ecDNA_1_intervals.bed \n",
    "    vs \n",
    "\tSJST031395_D1.WholeGenome_amplicon1_ecDNA_1_intervals.bed\n",
    "    '''\n",
    "    # Remove duplicate biosamples\n",
    "    if biosamples is None:\n",
    "        biosamples = import_biosamples()\n",
    "    biosamples = biosamples[biosamples.in_unique_tumor_set]\n",
    "    if tumor_type is not None:\n",
    "        biosamples = biosamples[biosamples.cancer_type == tumor_type]\n",
    "    unique_tumors = set(biosamples.index)\n",
    "    beds = list(BED_DIR.glob('*.bed'))\n",
    "    whitelisted_beds = [file for file in beds if any(whitelisted_str in file.name for whitelisted_str in unique_tumors)]\n",
    "    # remove duplicate AA runs\n",
    "    return whitelisted_beds\n",
    "\n",
    "def run_bed_pileup(bed_dir,outfile):\n",
    "    # parse inputs\n",
    "    script_path = Path('..','src','bed_pileup.py')\n",
    "    outfile = Path(outfile)\n",
    "    command = [sys.executable, script_path, '-d', bed_dir, '-o', BDG_DIR/outfile]\n",
    "    try:\n",
    "        # Run the script and capture output and errors\n",
    "        result = subprocess.run(command, capture_output=True, text=True)\n",
    "        \n",
    "        # Print the script's output\n",
    "        print(result.stdout)\n",
    "        \n",
    "        # Print any errors that occurred\n",
    "        if result.stderr:\n",
    "            print(f\"Errors:\\n{result.stderr}\", file=sys.stderr)\n",
    "        \n",
    "        # Return the result object, which contains info about the execution\n",
    "        return result\n",
    "    except Exception as e:\n",
    "        print(f\"Failed to run script: {e}\", file=sys.stderr)\n",
    "        return None"
   ]
  },
  {
   "cell_type": "code",
   "execution_count": null,
   "id": "c7dea38e-3c19-480e-8cf8-9c506e87f875",
   "metadata": {},
   "outputs": [],
   "source": [
    "def make_ecDNA_bdg():\n",
    "    beds = get_deduplicated_beds(BIOSAMPLES)\n",
    "    run_name = \"ecDNA_all\"\n",
    "    beds = [file for file in beds if \"ecDNA\" in file.name]\n",
    "    symlink_beds(run_name,beds)\n",
    "    run_bed_pileup(SYM_DIR/run_name,run_name+'.bdg')\n",
    "    return\n",
    "def make_intrachromosomal_bdg():\n",
    "    beds = get_deduplicated_beds(BIOSAMPLES)\n",
    "    run_name = \"intrachromosomal_all\"\n",
    "    beds = [file for file in beds if any(text in file.name for text in ['Complex-non-cyclic','Linear','BFB'])]\n",
    "    symlink_beds(run_name,beds)\n",
    "    run_bed_pileup(SYM_DIR/run_name,run_name+'.bdg')\n",
    "    return\n",
    "def make_unknown_bdg():\n",
    "    beds = get_deduplicated_beds(BIOSAMPLES)\n",
    "    run_name = \"unknown_all\"\n",
    "    beds = [file for file in beds if \"unknown\" in file.name]\n",
    "    symlink_beds(run_name,beds)\n",
    "    run_bed_pileup(SYM_DIR/run_name,run_name+'.bdg')\n",
    "    return"
   ]
  },
  {
   "cell_type": "code",
   "execution_count": null,
   "id": "b055eeb2-8149-4bb5-a8e8-4592a7a01662",
   "metadata": {
    "scrolled": true
   },
   "outputs": [],
   "source": [
    "make_ecDNA_bdg()"
   ]
  },
  {
   "cell_type": "code",
   "execution_count": null,
   "id": "8fddb230-f101-4301-bead-b919cca3d331",
   "metadata": {
    "scrolled": true
   },
   "outputs": [],
   "source": [
    "make_intrachromosomal_bdg()"
   ]
  },
  {
   "cell_type": "code",
   "execution_count": null,
   "id": "5acf6846-bfab-4c8c-b053-21735e652f8a",
   "metadata": {
    "scrolled": true
   },
   "outputs": [],
   "source": [
    "make_unknown_bdg()"
   ]
  },
  {
   "cell_type": "markdown",
   "id": "f1e1f3ee-faaf-4726-84c4-d9f48ab813b0",
   "metadata": {},
   "source": [
    "## Tumor type specific"
   ]
  },
  {
   "cell_type": "code",
   "execution_count": null,
   "id": "bf1a6c8d-fcbe-47c9-b922-6e984fadeed2",
   "metadata": {},
   "outputs": [],
   "source": [
    "def make_tumortype_bdg(tumor_type):\n",
    "    beds = get_deduplicated_beds(BIOSAMPLES,tumor_type)\n",
    "    run_name = \"ecDNA_\"+tumor_type\n",
    "    bed_subset = [file for file in beds if \"ecDNA\" in file.name]\n",
    "    symlink_beds(run_name,bed_subset)\n",
    "    run_bed_pileup(SYM_DIR/run_name,run_name+'.bdg')\n",
    "\n",
    "    run_name = \"intrachromosomal_\"+tumor_type\n",
    "    bed_subset = [file for file in beds if any(text in file.name for text in ['Complex-non-cyclic','Linear','BFB'])]\n",
    "    symlink_beds(run_name,bed_subset)\n",
    "    run_bed_pileup(SYM_DIR/run_name,run_name+'.bdg')\n",
    "    \n",
    "    run_name = \"unknown_\"+tumor_type\n",
    "    bed_subset = [file for file in beds if \"unknown\" in file.name]\n",
    "    symlink_beds(run_name,bed_subset)\n",
    "    run_bed_pileup(SYM_DIR/run_name,run_name+'.bdg')\n",
    "    return"
   ]
  },
  {
   "cell_type": "code",
   "execution_count": null,
   "id": "e721f506-28ed-4191-b50e-a34a93ae9c34",
   "metadata": {},
   "outputs": [],
   "source": [
    "make_tumortype_bdg('ACC')"
   ]
  },
  {
   "cell_type": "markdown",
   "id": "f283906b-e779-41c4-981d-5ea1f260c399",
   "metadata": {},
   "source": [
    "## MPNST"
   ]
  },
  {
   "cell_type": "code",
   "execution_count": null,
   "id": "2c871972-a9d6-434d-bf80-927c6a07724c",
   "metadata": {},
   "outputs": [],
   "source": [
    "import pyranges as pr\n",
    "t1b = BED_DIR/'BS_N3FWKZB8_amplicon1_ecDNA_1_intervals.bed'\n",
    "t2s1b1 = BED_DIR/'BS_A1DV9T7G_amplicon1_ecDNA_1_intervals.bed'\n",
    "t2s1b2 = BED_DIR/'BS_A1DV9T7G_amplicon4_ecDNA_1_intervals.bed'\n",
    "t2s2b = BED_DIR/'BS_WH8KWW5J_amplicon1_ecDNA_1_intervals.bed'"
   ]
  },
  {
   "cell_type": "code",
   "execution_count": null,
   "id": "2e65d6a5-d172-4180-b595-8076535d100d",
   "metadata": {},
   "outputs": [],
   "source": [
    "t1b = pr.read_bed(str(t1b))"
   ]
  },
  {
   "cell_type": "code",
   "execution_count": null,
   "id": "9804dd95-cb4a-4de2-ac1f-ef5dd2556d21",
   "metadata": {},
   "outputs": [],
   "source": [
    "t1b.length"
   ]
  },
  {
   "cell_type": "code",
   "execution_count": null,
   "id": "a36e5342-6786-458b-8a77-585e14ef29bd",
   "metadata": {},
   "outputs": [],
   "source": []
  }
 ],
 "metadata": {
  "kernelspec": {
   "display_name": "pyranges",
   "language": "python",
   "name": "pyranges"
  },
  "language_info": {
   "codemirror_mode": {
    "name": "ipython",
    "version": 3
   },
   "file_extension": ".py",
   "mimetype": "text/x-python",
   "name": "python",
   "nbconvert_exporter": "python",
   "pygments_lexer": "ipython3",
   "version": "3.12.7"
  }
 },
 "nbformat": 4,
 "nbformat_minor": 5
}
