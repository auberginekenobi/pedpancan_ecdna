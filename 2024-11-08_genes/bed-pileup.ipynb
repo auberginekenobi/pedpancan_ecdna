{
 "cells": [
  {
   "cell_type": "code",
   "execution_count": null,
   "id": "2996f3ab-b811-4225-94b8-500496cb8d06",
   "metadata": {},
   "outputs": [],
   "source": [
    "import pandas as pd\n",
    "import subprocess\n",
    "import shutil\n",
    "# Directory setup\n",
    "import os\n",
    "from pathlib import Path\n",
    "# Import local dependencies\n",
    "import sys\n",
    "sys.path.append('../src')\n",
    "from data_imports import *"
   ]
  },
  {
   "cell_type": "code",
   "execution_count": null,
   "id": "fbd69047-033c-4391-89a8-47d91a72948b",
   "metadata": {},
   "outputs": [],
   "source": [
    "# GLOBALS\n",
    "BED_DIR=Path(\"../data/source/AmpliconClassifier/pedpancan_classification_bed_files\") # bed outputs from AmpliconClassifier\n",
    "SYM_DIR=Path('bed_symlinks')\n",
    "SYM_DIR.mkdir(parents=True, exist_ok=True)\n",
    "BDG_DIR=Path('bedgraph')\n",
    "BDG_DIR.mkdir(parents=True,exist_ok=True)\n",
    "BIOSAMPLES = import_biosamples()"
   ]
  },
  {
   "cell_type": "code",
   "execution_count": null,
   "id": "1444a1f5-0a26-45ec-94a1-2dafa29ff9c6",
   "metadata": {},
   "outputs": [],
   "source": [
    "# Functions\n",
    "def symlink_beds(dirname, bed_list,verbose=False):\n",
    "    '''\n",
    "    dirname: place where the bed files should go, somewhere in ./bed_symlinks.\n",
    "    bed_list: iterable of bed filenames in BED_DIR\n",
    "    '''\n",
    "    dirname = SYM_DIR/dirname\n",
    "    dirname.mkdir(parents=True, exist_ok=True)\n",
    "    for file in bed_list:\n",
    "        source = Path(file).resolve()\n",
    "        dest = dirname/file.name\n",
    "        try:\n",
    "            # Create the symlink\n",
    "            dest.symlink_to(source)\n",
    "            #shutil.copy(source,dest)\n",
    "            if verbose:\n",
    "                print(f'Successfully created symlink: {dest} -> {source}')\n",
    "        except FileExistsError:\n",
    "            if verbose:\n",
    "                print(f'Symlink already exists: {dest}')\n",
    "        except OSError as e:\n",
    "            print(f'Error creating symlink for {source}: {e}')\n",
    "    return\n",
    "\n",
    "def get_deduplicated_beds(biosamples = None):\n",
    "    '''\n",
    "    Remove beds from duplicate biosamples\n",
    "    Remove beds from duplicate AA runs\n",
    "    eg SJST031395_D1_amplicon1_ecDNA_1_intervals.bed \n",
    "    vs \n",
    "\tSJST031395_D1.WholeGenome_amplicon1_ecDNA_1_intervals.bed\n",
    "    '''\n",
    "    # Remove duplicate biosamples\n",
    "    if biosamples is None:\n",
    "        biosamples = import_biosamples()\n",
    "    unique_tumors = set(biosamples[biosamples.in_unique_tumor_set].index)\n",
    "    beds = list(BED_DIR.glob('*.bed'))\n",
    "    whitelisted_beds = [file for file in beds if any(whitelisted_str in file.name for whitelisted_str in unique_tumors)]\n",
    "    # remove duplicate AA runs\n",
    "    return whitelisted_beds\n",
    "\n",
    "def run_bed_pileup(bed_dir,outfile):\n",
    "    # parse inputs\n",
    "    script_path = Path('..','src','bed_pileup.py')\n",
    "    outfile = Path(outfile)\n",
    "    command = [sys.executable, script_path, '-d', bed_dir, '-o', BDG_DIR/outfile]\n",
    "    try:\n",
    "        # Run the script and capture output and errors\n",
    "        result = subprocess.run(command, capture_output=True, text=True)\n",
    "        \n",
    "        # Print the script's output\n",
    "        print(result.stdout)\n",
    "        \n",
    "        # Print any errors that occurred\n",
    "        if result.stderr:\n",
    "            print(f\"Errors:\\n{result.stderr}\", file=sys.stderr)\n",
    "        \n",
    "        # Return the result object, which contains info about the execution\n",
    "        return result\n",
    "    except Exception as e:\n",
    "        print(f\"Failed to run script: {e}\", file=sys.stderr)\n",
    "        return None"
   ]
  },
  {
   "cell_type": "code",
   "execution_count": null,
   "id": "c7dea38e-3c19-480e-8cf8-9c506e87f875",
   "metadata": {},
   "outputs": [],
   "source": [
    "def make_ecDNA_bdg():\n",
    "    beds = get_deduplicated_beds(BIOSAMPLES)\n",
    "    run_name = \"ecDNA_all\"\n",
    "    beds = [file for file in beds if \"ecDNA\" in file.name]\n",
    "    symlink_beds(run_name,beds)\n",
    "    run_bed_pileup(SYM_DIR/run_name,run_name+'.bdg')\n",
    "    return\n",
    "def make_intrachromosomal_bdg():\n",
    "    beds = get_deduplicated_beds(BIOSAMPLES)\n",
    "    run_name = \"intrachromosomal_all\"\n",
    "    beds = [file for file in beds if any(text in file.name for text in ['Complex-non-cyclic','Linear','BFB'])]\n",
    "    symlink_beds(run_name,beds)\n",
    "    run_bed_pileup(SYM_DIR/run_name,run_name+'.bdg')\n",
    "    return\n",
    "def make_unknown_bdg():\n",
    "    beds = get_deduplicated_beds(BIOSAMPLES)\n",
    "    run_name = \"unknown_all\"\n",
    "    beds = [file for file in beds if \"unknown\" in file.name]\n",
    "    symlink_beds(run_name,beds)\n",
    "    run_bed_pileup(SYM_DIR/run_name,run_name+'.bdg')\n",
    "    return"
   ]
  },
  {
   "cell_type": "code",
   "execution_count": null,
   "id": "b055eeb2-8149-4bb5-a8e8-4592a7a01662",
   "metadata": {
    "scrolled": true
   },
   "outputs": [],
   "source": [
    "make_ecDNA_bdg()"
   ]
  },
  {
   "cell_type": "code",
   "execution_count": null,
   "id": "8fddb230-f101-4301-bead-b919cca3d331",
   "metadata": {
    "scrolled": true
   },
   "outputs": [],
   "source": [
    "make_intrachromosomal_bdg()"
   ]
  },
  {
   "cell_type": "code",
   "execution_count": null,
   "id": "5acf6846-bfab-4c8c-b053-21735e652f8a",
   "metadata": {
    "scrolled": true
   },
   "outputs": [],
   "source": [
    "make_unknown_bdg()"
   ]
  },
  {
   "cell_type": "code",
   "execution_count": null,
   "id": "ca587b42-ef63-4b73-bdaa-e6ebaa7c29cd",
   "metadata": {},
   "outputs": [],
   "source": []
  }
 ],
 "metadata": {
  "kernelspec": {
   "display_name": "pyranges",
   "language": "python",
   "name": "pyranges"
  },
  "language_info": {
   "codemirror_mode": {
    "name": "ipython",
    "version": 3
   },
   "file_extension": ".py",
   "mimetype": "text/x-python",
   "name": "python",
   "nbconvert_exporter": "python",
   "pygments_lexer": "ipython3",
   "version": "3.12.7"
  }
 },
 "nbformat": 4,
 "nbformat_minor": 5
}
