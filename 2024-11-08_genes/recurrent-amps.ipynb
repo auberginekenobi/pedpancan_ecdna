{
 "cells": [
  {
   "cell_type": "markdown",
   "id": "cbf27d6d-9f9a-41cd-a221-5faf825cf1f9",
   "metadata": {},
   "source": [
    "# Recurrent amps\n",
    "Find interesting genomic ranges:\n",
    "- how many regions amplified in more than *n* tumors? (get_recurrent_amps)\n",
    "- how many with 2 or more oncogenes? (get_oncogene_clusters)\n",
    "- what oncogenes are on recurrent amps? (get_recurrently_amp_oncogenes)\n",
    "- how many without an oncogene? (get_oncogene_deserts)\n",
    "- how many with genes but no oncogenes? (get_amps_w_genes_no_oncogenes)\n",
    "- what uninterrupted gene sequences present on the above? (find_whole_genes_in_oncogene_deserts)\n",
    "\n",
    "Requires the .bdg output from bed-pileup.ipynb.  \n",
    "Requires pyranges. See `./pyranges.yml`."
   ]
  },
  {
   "cell_type": "code",
   "execution_count": null,
   "id": "38ea46db-a634-489c-afb5-296cff20fad0",
   "metadata": {},
   "outputs": [],
   "source": [
    "import pyranges as pr\n",
    "import pandas as pd\n",
    "from pathlib import Path\n",
    "import warnings\n",
    "\n",
    "import sys\n",
    "sys.path.append('../src')\n",
    "from data_imports import *\n",
    "\n",
    "pd.set_option('display.max_rows', 100)\n",
    "pd.set_option('display.max_columns', None)"
   ]
  },
  {
   "cell_type": "code",
   "execution_count": null,
   "id": "ce793f8e-93dc-4799-bd50-7008d6485e7a",
   "metadata": {},
   "outputs": [],
   "source": [
    "# These operations take awhile so we set global variables\n",
    "def get_gencode(path='../data/local/gencode.v47.basic.annotation.gff3'):\n",
    "    df = pr.read_gff3(path)\n",
    "    return df[df.Feature == 'gene']\n",
    "def get_oncogene_locations(gencode=None):\n",
    "    if gencode is None:\n",
    "        gencode = get_gencode()\n",
    "    genes = import_genes()\n",
    "    names = genes[genes.is_canonical_oncogene].gene.values\n",
    "    oncogene_locations = gencode[gencode.gene_name.isin(names)]\n",
    "    return oncogene_locations\n",
    "    \n",
    "GENCODE47 = get_gencode()\n",
    "ONCOGENE_LOCATIONS = get_oncogene_locations(GENCODE47)"
   ]
  },
  {
   "cell_type": "code",
   "execution_count": null,
   "id": "73a7947e-b608-4eee-8703-596211e6c31a",
   "metadata": {},
   "outputs": [],
   "source": [
    "# Functions to find interesting intervals\n",
    "def get_recurrent_amps(path=\"bedgraph/ecDNA_all.bdg\", cn=3, slack=10000):\n",
    "    # Regions amplified in at least 3 independent tumors. Merge neighboring intervals within 10kb.\n",
    "    bdg = pr.read_bed(path)\n",
    "    bdg = bdg[bdg.Name >= cn]\n",
    "    bdg = bdg.merge(slack=slack)\n",
    "    return bdg\n",
    "def get_oncogene_clusters(oncogene_locations=None):\n",
    "    # Recurrent amps with 2 or more oncogenes\n",
    "    if oncogene_locations is None:\n",
    "        oncogene_locations = get_oncogene_locations()\n",
    "    recurrent_amps = get_recurrent_amps()\n",
    "    with warnings.catch_warnings(action=\"ignore\"):\n",
    "        overlaps = pr.count_overlaps({\"count\":oncogene_locations},recurrent_amps)\n",
    "    overlaps = overlaps[overlaps.count > 1]\n",
    "    return overlaps\n",
    "def get_oncogene_deserts(oncogene_locations=None):\n",
    "    # 'deserts' = recurrent amplifications without an oncogene.\n",
    "    if oncogene_locations is None:\n",
    "        oncogene_locations = get_oncogene_locations()\n",
    "    recurrent_amps = get_recurrent_amps()\n",
    "    with warnings.catch_warnings(action=\"ignore\"):\n",
    "        overlaps = pr.count_overlaps({\"count\":oncogene_locations},recurrent_amps)\n",
    "    deserts = overlaps[overlaps.count < 1]    \n",
    "    return deserts\n",
    "def get_amps_w_genes_no_oncogenes(oncogene_locations=None,gencode=None):\n",
    "    # recurrent amplifications with genes but no known oncogenes\n",
    "    if oncogene_locations is None:\n",
    "        oncogene_locations = get_oncogene_locations()\n",
    "    if gencode is None:\n",
    "        gencode = get_gencode()\n",
    "    deserts = get_oncogene_deserts(oncogene_locations)\n",
    "    targets = deserts.overlap(gencode,how='containment')\n",
    "    return targets\n",
    "def find_whole_genes_in_oncogene_deserts(oncogene_locations=None,gencode=None):\n",
    "    # Genes amplified in the oncogene deserts.\n",
    "    if oncogene_locations is None:\n",
    "        oncogene_locations = get_oncogene_locations()\n",
    "    if gencode is None:\n",
    "        gencode = get_gencode()\n",
    "    deserts = get_oncogene_deserts(oncogene_locations)\n",
    "    targets = gencode.overlap(deserts,how='containment')\n",
    "    return targets\n",
    "def get_recurrently_amp_oncogenes(oncogene_locations):\n",
    "    if oncogene_locations is None:\n",
    "        oncogene_locations = get_oncogene_locations()\n",
    "    recurrent_amps = get_recurrent_amps()\n",
    "    amp_oncogenes = oncogene_locations.overlap(recurrent_amps,how='containment')\n",
    "    return amp_oncogenes"
   ]
  },
  {
   "cell_type": "code",
   "execution_count": null,
   "id": "9ca97cd5-aff3-4311-b7c1-d6238386ab6d",
   "metadata": {
    "scrolled": true
   },
   "outputs": [],
   "source": [
    "get_recurrent_amps()"
   ]
  },
  {
   "cell_type": "code",
   "execution_count": null,
   "id": "c6c9ca9a-a85a-443d-a085-e5b8444c5e94",
   "metadata": {},
   "outputs": [],
   "source": [
    "get_oncogene_clusters(ONCOGENE_LOCATIONS)"
   ]
  },
  {
   "cell_type": "code",
   "execution_count": null,
   "id": "c72e2e2d-cfbc-416e-9fc9-0d3cfc182d79",
   "metadata": {},
   "outputs": [],
   "source": [
    "deserts = get_oncogene_deserts(ONCOGENE_LOCATIONS)\n",
    "deserts.summary()\n",
    "deserts.head()"
   ]
  },
  {
   "cell_type": "code",
   "execution_count": null,
   "id": "f4c083dc-30d6-4cba-9e25-5caa92c6817e",
   "metadata": {},
   "outputs": [],
   "source": [
    "putative_oncoregions = get_amps_w_genes_no_oncogenes(ONCOGENE_LOCATIONS,GENCODE47)\n",
    "putative_oncoregions.summary()"
   ]
  },
  {
   "cell_type": "code",
   "execution_count": null,
   "id": "b351b2fb-7021-4134-a341-e82022e057a4",
   "metadata": {},
   "outputs": [],
   "source": [
    "putative_oncogenes = find_whole_genes_in_oncogene_deserts(ONCOGENE_LOCATIONS,GENCODE47)\n",
    "putative_oncogenes.df[['gene_name','gene_type']].groupby('gene_type').count()\n"
   ]
  },
  {
   "cell_type": "code",
   "execution_count": null,
   "id": "5a095d68-983e-49cc-be99-4c2ba44634b6",
   "metadata": {},
   "outputs": [],
   "source": [
    "putative_oncogenes = putative_oncogenes[['Chromosome','Start','End','Strand','gene_id','gene_type',\n",
    "                                         'gene_name','hgnc_id']]\n",
    "putative_oncogenes.df.to_csv('out/putative_oncogenes.tsv',sep='\\t',index=False)\n",
    "putative_oncogenes[putative_oncogenes.gene_type == 'protein_coding']"
   ]
  },
  {
   "cell_type": "code",
   "execution_count": null,
   "id": "02cd8c53-5154-413d-84f1-0e88dd211ed8",
   "metadata": {},
   "outputs": [],
   "source": [
    "get_recurrently_amp_oncogenes(ONCOGENE_LOCATIONS).df.shape"
   ]
  },
  {
   "cell_type": "code",
   "execution_count": null,
   "id": "e6d4b81c-ddb7-44fa-a74d-484dcc72dfbb",
   "metadata": {},
   "outputs": [],
   "source": [
    "ONCOGENE_LOCATIONS.df.shape"
   ]
  },
  {
   "cell_type": "code",
   "execution_count": null,
   "id": "a958488a-1f54-42f4-976a-51433109d1b9",
   "metadata": {},
   "outputs": [],
   "source": []
  }
 ],
 "metadata": {
  "kernelspec": {
   "display_name": "pyranges",
   "language": "python",
   "name": "pyranges"
  },
  "language_info": {
   "codemirror_mode": {
    "name": "ipython",
    "version": 3
   },
   "file_extension": ".py",
   "mimetype": "text/x-python",
   "name": "python",
   "nbconvert_exporter": "python",
   "pygments_lexer": "ipython3",
   "version": "3.12.7"
  }
 },
 "nbformat": 4,
 "nbformat_minor": 5
}
