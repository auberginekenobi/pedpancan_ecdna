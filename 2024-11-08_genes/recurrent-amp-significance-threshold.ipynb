{
 "cells": [
  {
   "cell_type": "markdown",
   "id": "463c14a4-d834-416d-a21f-1953c71205a2",
   "metadata": {},
   "source": [
    "# recurrent-amp-significance-threshold\n",
    "Previously we have used an arbitrary threshold of n >= 3 to consider a recurrently amplified locus \"interesting\".* Here we define a statistical threshold for enriched loci as the 99.9% confidence interval at above which regions would be unlikely to be recurrently amplified assuming a uniform distribution of ecDNA across the mappable genome.\n",
    "\n",
    "The permutation test is defined as follows:\n",
    "- shuffle the ecDNA regions across the mappable genome:  \n",
    "  ```\n",
    "  cat *.bed | \\\n",
    "  bedtools shuffle -excl [blacklist.bed] -i [all_ecDNAs.bed] -g [hg38.genome] | \\\n",
    "  ```\n",
    "- get genome-wide coverage of shuffled regions:\n",
    "  ```\n",
    "  bedtools sort | \\\n",
    "  bedtools genomecov -bga -i - -g [hg38.genome] | \\\n",
    "  bedtools subtract -a - -b $blacklist  > \\\n",
    "  tmp/${i}.bdg\n",
    "  ```\n",
    "\n",
    "## Requirements\n",
    "- Run bed-pileup.ipynb to get actual distribution of ecDNA genome coverage\n",
    "- Run run_bed_pileup_permutation_test.sh  to get null distribution\n",
    "\n",
    "## Conclusion\n",
    "n >= 3 represents a 99.9% confidence interval on a null distribution of independent randomly distributed ecDNA.\n",
    "\n",
    "'* Twice is coincidence, thrice is a pattern."
   ]
  },
  {
   "cell_type": "code",
   "execution_count": null,
   "id": "fbd72cf8-f899-403a-9422-54e0d2df5c67",
   "metadata": {},
   "outputs": [],
   "source": [
    "import pyranges as pr\n",
    "import pandas as pd\n",
    "from pathlib import Path\n",
    "import warnings\n",
    "import numpy as np\n",
    "from scipy.stats import poisson\n",
    "import matplotlib.pyplot as plt\n",
    "import seaborn as sns\n",
    "\n",
    "import sys\n",
    "sys.path.append('../src')\n",
    "from data_imports import *\n",
    "\n",
    "pd.set_option('display.max_rows', 100)\n",
    "pd.set_option('display.max_columns', None)"
   ]
  },
  {
   "cell_type": "markdown",
   "id": "c124ef25-d58b-4769-bd09-406807c89d42",
   "metadata": {},
   "source": [
    "## Utility functions"
   ]
  },
  {
   "cell_type": "code",
   "execution_count": null,
   "id": "5ef54c81-93e2-4841-ac0a-ce87b45a2dca",
   "metadata": {},
   "outputs": [],
   "source": [
    "def load_null_coverage(path='tmp/ecDNA'):\n",
    "    '''\n",
    "    Load all bedgraph files in a directory and concatenate into one giant pyranges.\n",
    "    '''\n",
    "    bedgraph_dir = Path(path)\n",
    "    bedgraph_list = [pr.read_bed(str(file_path)) for file_path in bedgraph_dir.glob(\"*.bdg\")]\n",
    "    return pr.concat(bedgraph_list)\n",
    "\n",
    "def load_observed_coverage(path='bedgraph/ecDNA_all.bdg'):\n",
    "    observations = pr.read_bed(path)\n",
    "    # hack hack: need to calculate regions with zero coverage\n",
    "    null = pr.read_bed('tmp/ecDNA/1.bdg')\n",
    "    l1 = observations.length\n",
    "    l0 = null.length\n",
    "    dummy_region = pr.PyRanges(pd.DataFrame({\n",
    "        \"Chromosome\":[\"chrS\"],\n",
    "        \"Start\":[0],\n",
    "        \"End\":[l0-l1],\n",
    "        \"Name\":[0]\n",
    "    }))\n",
    "    return pr.concat([observations,dummy_region])"
   ]
  },
  {
   "cell_type": "code",
   "execution_count": null,
   "id": "8e1c3e0c-cdaf-4e5d-9c18-07db73d31fb8",
   "metadata": {},
   "outputs": [],
   "source": [
    "def hist_transform(bedgraph):\n",
    "    '''\n",
    "    For a given bedgraph, return a dict of the total bases with a given coverage.\n",
    "    Eg. Input\n",
    "        chr1 \t0 \t1 \t0\n",
    "        chr1 \t9999 \t207667 \t0\n",
    "        chr1 \t1832744 \t2045953 \t1\n",
    "        ...\n",
    "    Output:\n",
    "        0: 197667\n",
    "        1: 213209\n",
    "    '''\n",
    "    coverages = {}\n",
    "    for coverage in bedgraph.Name.unique():\n",
    "        bg = bedgraph[bedgraph.Name == coverage]\n",
    "        coverages[coverage] = bg.length\n",
    "    return coverages\n",
    "    \n",
    "def fit_lambda(hist_transform):\n",
    "    '''\n",
    "    Assuming my data are approximately Poisson distributed, the Poisson parameter lambda is equal\n",
    "    to the expected value.\n",
    "    '''\n",
    "    n = np.int64(); d = np.int64()\n",
    "    for k,v in hist_transform.items():\n",
    "        n += k*v\n",
    "        d += v\n",
    "    return n/d"
   ]
  },
  {
   "cell_type": "code",
   "execution_count": null,
   "id": "dd7ba336-505f-4a05-8a4f-4c3aa760e1e8",
   "metadata": {},
   "outputs": [],
   "source": [
    "# plot\n",
    "def format_df_helper(pyrange,name):\n",
    "    df = pd.DataFrame.from_dict(hist_transform(pyrange),orient='index')\n",
    "    df.index.name = 'coverage'\n",
    "    df.columns = ['freq_'+name]\n",
    "    total = df['freq_'+name].sum()\n",
    "    df['frac_'+name] = df['freq_'+name]/total\n",
    "    return df\n",
    "    \n",
    "def format_dataframe(observed,null):\n",
    "    '''\n",
    "    Take pyranges objects observed and null and format a pd.DataFrame with the following columns:\n",
    "    Index freq_h0 freq_h1 frac_h0 frac_h1\n",
    "    '''\n",
    "    cts_df0 = format_df_helper(null,'h0')\n",
    "    cts_df1 = format_df_helper(observed,'h1')\n",
    "    return cts_df1.merge(cts_df0,how='outer',left_index=True,right_index=True).fillna(0).sort_index()\n",
    "\n",
    "def plot_poisson_null(observed,null,n=10):\n",
    "    \n",
    "    df = format_dataframe(observed,null)\n",
    "    if n > 0:\n",
    "        df = df.head(n)\n",
    "    _lambda_ = np.average(df.index, weights=df.freq_h0)\n",
    "    poisson_pmf = poisson.pmf(df.index, _lambda_)\n",
    "    bar_width=0.35\n",
    "    x_positions = np.arange(len(df.index))\n",
    "    fig, ax = plt.subplots()\n",
    "    ax.bar(x_positions-bar_width/2,df.frac_h0,width=bar_width,color='skyblue',label='permutations (H0)')\n",
    "    ax.bar(x_positions+bar_width/2,df.frac_h1,width=bar_width,color='orange',label='observed data (H1)')\n",
    "    ax.plot(x_positions, poisson_pmf, 'r-', marker='o', label=f'Poisson PMF (λ = {_lambda_:.2f})')\n",
    "    plt.yscale('log')\n",
    "    ax.legend()\n",
    "    return ax\n",
    "    "
   ]
  },
  {
   "cell_type": "code",
   "execution_count": null,
   "id": "0c223804-4c70-48ad-a953-07417aa6a50b",
   "metadata": {},
   "outputs": [],
   "source": [
    "def savefig(basename):\n",
    "    pngName = basename + \".png\"\n",
    "    svgName = basename + \".svg\"\n",
    "    plt.savefig(pngName,format='png')\n",
    "    plt.savefig(svgName,format='svg')"
   ]
  },
  {
   "cell_type": "markdown",
   "id": "a59907b1-20cf-494b-ab40-d5ba1987353e",
   "metadata": {},
   "source": [
    "## Null distribution of shuffled ecDNA sequences\n",
    "_lambda_ = 0.29  \n",
    "95% confidence threshold = 1  \n",
    "99.9% confidence threshold = 3"
   ]
  },
  {
   "cell_type": "code",
   "execution_count": null,
   "id": "2cb4f91b-3d74-43a7-b1b3-4c2d9dbb2fb6",
   "metadata": {},
   "outputs": [],
   "source": [
    "permutations = load_null_coverage()\n",
    "observations = load_observed_coverage()\n",
    "observations.head()"
   ]
  },
  {
   "cell_type": "code",
   "execution_count": null,
   "id": "3c33cad6-8cc8-4295-acf5-62f9336b3f99",
   "metadata": {},
   "outputs": [],
   "source": [
    "# Get confidence thresholds\n",
    "_lambda_ = fit_lambda(hist_transform(permutations))\n",
    "print(_lambda_)\n",
    "confidence_95 = poisson.ppf(0.95, _lambda_)\n",
    "print(confidence_95)\n",
    "confidence_999 = poisson.ppf(0.999, _lambda_)\n",
    "print(confidence_999)"
   ]
  },
  {
   "cell_type": "code",
   "execution_count": null,
   "id": "9f47d015-c856-4251-93e4-5698731d77bf",
   "metadata": {},
   "outputs": [],
   "source": [
    "plot = plot_poisson_null(observations,permutations)\n",
    "savefig('out/recurrent_ecDNA_null_logscale')"
   ]
  },
  {
   "cell_type": "markdown",
   "id": "8a39bf27-0b32-493e-8b14-26efc92175a3",
   "metadata": {},
   "source": [
    "## Null of shuffled intrachromosomal sequences\n",
    "_lambda_ = 0.24  \n",
    "95% confidence threshold = 1  \n",
    "99.9% confidence threshold = 3"
   ]
  },
  {
   "cell_type": "code",
   "execution_count": null,
   "id": "18372ec7-27bf-432a-8a9d-576a6d5fe571",
   "metadata": {},
   "outputs": [],
   "source": [
    "permutations = load_null_coverage(path='tmp/intrachromosomal')\n",
    "observations = load_observed_coverage(path='bedgraph/intrachromosomal_all.bdg')\n",
    "observations.head()"
   ]
  },
  {
   "cell_type": "code",
   "execution_count": null,
   "id": "98210d78-03fc-4fd1-8283-8a1be720a58d",
   "metadata": {},
   "outputs": [],
   "source": [
    "# Get confidence thresholds\n",
    "_lambda_ = fit_lambda(hist_transform(permutations))\n",
    "print(_lambda_)\n",
    "confidence_95 = poisson.ppf(0.95, _lambda_)\n",
    "print(confidence_95)\n",
    "confidence_999 = poisson.ppf(0.999, _lambda_)\n",
    "print(confidence_999)"
   ]
  },
  {
   "cell_type": "code",
   "execution_count": null,
   "id": "aedbb433-4107-48ba-8f5a-072cc961a7c8",
   "metadata": {},
   "outputs": [],
   "source": [
    "plot = plot_poisson_null(observations,permutations)\n",
    "savefig('out/recurrent_intrachromosomal_null_logscale')"
   ]
  },
  {
   "cell_type": "code",
   "execution_count": null,
   "id": "b23fbe67-a1ec-4b96-b4d4-f7bfa1e8e102",
   "metadata": {},
   "outputs": [],
   "source": []
  }
 ],
 "metadata": {
  "kernelspec": {
   "display_name": "pyranges",
   "language": "python",
   "name": "pyranges"
  },
  "language_info": {
   "codemirror_mode": {
    "name": "ipython",
    "version": 3
   },
   "file_extension": ".py",
   "mimetype": "text/x-python",
   "name": "python",
   "nbconvert_exporter": "python",
   "pygments_lexer": "ipython3",
   "version": "3.12.8"
  }
 },
 "nbformat": 4,
 "nbformat_minor": 5
}
