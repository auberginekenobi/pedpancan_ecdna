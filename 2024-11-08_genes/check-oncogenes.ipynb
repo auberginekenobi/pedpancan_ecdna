{
 "cells": [
  {
   "cell_type": "markdown",
   "id": "f877345b-e603-476f-9f2f-29165876a31f",
   "metadata": {},
   "source": [
    "# check-oncogenes\n",
    "Reviewers point out that some of the genes listed as oncogenes by AC are not actually oncogenes. This notebook:\n",
    "- Checks the AC list against the Cosmic CGC and ONGene databases it's supposed to come from;\n",
    "- Asks which are included in my data.\n",
    "## Results\n",
    "\n",
    "I count 81 genes in my data which are annotated by AC as oncogenes but not in COSMIC or ONGene.\n",
    "Looking at this list, I see three main sources for these annotations:\n",
    "- COSMIC. The majority are annotated as TSG or fusion in COSMIC and nowhere else. \n",
    "- hg38_alias. No idea where these come from. Evidence for these seems weak or mixed:\n",
    "\tCCN3 (TSG), CCN4 (oncogene), KMT2C (TSG), LHFPL6 (no evidence), PWWP3A (no evidence), WDCP (no evidence)\n",
    "- COSMIC and another source, either \"Frankell2019\" or \"Paulson2022\". \n",
    "\tPaulson2022 seems to refer to this paper on Barrett's esophagus: https://doi.org/10.1038/s41467-022-29767-7\n",
    "\t\tOnly 1 gene in this category, CDK12 (TSG), amplified in 1 \"unknown\" amp in our data.\n",
    "\tFrankell2019 could be a paper on esophageal adenocarcinoma: https://doi.org/10.1038/s41588-018-0331-5\n",
    "\t\tARID2 (TSG), AXIN1 (TSG, some evidence that certain splice variants oncogenic), SMARCA4 (TSG), STK11 (TSG).\n",
    "\n",
    "## Discussion\n",
    "None of these genes except CCN4 should be reported as oncogenes. Only CCN4 recurrently amplified.\n",
    "Include as annotated oncogene or new 'putative' oncogene?"
   ]
  },
  {
   "cell_type": "code",
   "execution_count": null,
   "id": "79880d3d-b2d0-460e-b3ae-a1039b820feb",
   "metadata": {},
   "outputs": [],
   "source": [
    "import pandas as pd\n",
    "from pathlib import Path\n",
    "import warnings\n",
    "\n",
    "import sys\n",
    "sys.path.append('../src')\n",
    "from data_imports import *\n",
    "\n",
    "pd.set_option('display.max_rows', 100)\n",
    "pd.set_option('display.max_columns', None)"
   ]
  },
  {
   "cell_type": "code",
   "execution_count": null,
   "id": "11fb4c7f-26bd-45ee-9108-a57336bf9ad5",
   "metadata": {
    "scrolled": true
   },
   "outputs": [],
   "source": [
    "def read_ac_table(file='../data/oncogenes/AmpliconClassifier_v1.3.1/combined_oncogene_list.txt'):\n",
    "    return pd.read_csv(file,sep='\\t',index_col=0,names=['gene','source'])\n",
    "def read_ongene_table(file='../data/oncogenes/ongene_human.txt'):\n",
    "    return pd.read_csv(file,sep='\\t',index_col=1)\n",
    "def read_cosmic_table(file='../data/oncogenes/Cosmic_CancerGeneCensus_Tsv_v101_GRCh38/Cosmic_CancerGeneCensus_v101_GRCh38.tsv'):\n",
    "    return pd.read_csv(file,sep='\\t',index_col=0)\n",
    "def get_cosmic_oncogenes(df=None):\n",
    "    if df is None:\n",
    "        df = read_cosmic_table()\n",
    "    df = df[~(df.ROLE_IN_CANCER.isna()) & (df.ROLE_IN_CANCER.str.contains('oncogene'))]\n",
    "    return set(df.index)\n",
    "def get_unsupported_oncogenes(subset_my_data=True):\n",
    "    '''\n",
    "    get all oncogenes in my dataset which are included in the AC oncogene list but not in ONGene or COSMIC CGC.\n",
    "    '''\n",
    "    oncogenes = set(read_ac_table().index)\n",
    "    oncogenes -= set(read_ongene_table().index)\n",
    "    oncogenes -= set(get_cosmic_oncogenes())\n",
    "    if subset_my_data:\n",
    "        my_data = import_genes()\n",
    "        my_data = set(my_data[my_data.is_canonical_oncogene].gene)\n",
    "        oncogenes = oncogenes & my_data\n",
    "    return oncogenes"
   ]
  },
  {
   "cell_type": "code",
   "execution_count": null,
   "id": "95803912-3e98-42b1-8691-6762d2a59e6a",
   "metadata": {
    "scrolled": true
   },
   "outputs": [],
   "source": [
    "misses = get_unsupported_oncogenes(subset_my_data = False)\n",
    "print(len(misses))"
   ]
  },
  {
   "cell_type": "code",
   "execution_count": null,
   "id": "0bb0136b-1b4d-4ab9-9364-7588bdb62309",
   "metadata": {},
   "outputs": [],
   "source": [
    "ac_table = read_ac_table()"
   ]
  },
  {
   "cell_type": "code",
   "execution_count": null,
   "id": "3b424459-a666-42fb-8100-67411c9426be",
   "metadata": {
    "scrolled": true
   },
   "outputs": [],
   "source": [
    "ac_table[ac_table.index.isin(misses)]"
   ]
  },
  {
   "cell_type": "code",
   "execution_count": null,
   "id": "6c74a7ae-2a43-4dee-b15e-d150acd4a65c",
   "metadata": {
    "scrolled": true
   },
   "outputs": [],
   "source": [
    "cosmic_tbl = read_cosmic_table()\n",
    "cosmic_tbl[cosmic_tbl.index.isin(misses)]"
   ]
  },
  {
   "cell_type": "code",
   "execution_count": null,
   "id": "20d2c31a-c663-4963-b7ce-ea5f9b325ebc",
   "metadata": {},
   "outputs": [],
   "source": [
    "#  Write a blacklist\n",
    "misses = get_unsupported_oncogenes(subset_my_data = True)\n",
    "blacklist_file='../data/oncogenes/oncogene_blacklist.txt'\n",
    "with open(blacklist_file, \"w\") as f:\n",
    "    f.write(\"\\n\".join(misses))"
   ]
  }
 ],
 "metadata": {
  "kernelspec": {
   "display_name": "py3",
   "language": "python",
   "name": "py3"
  },
  "language_info": {
   "codemirror_mode": {
    "name": "ipython",
    "version": 3
   },
   "file_extension": ".py",
   "mimetype": "text/x-python",
   "name": "python",
   "nbconvert_exporter": "python",
   "pygments_lexer": "ipython3",
   "version": "3.12.6"
  }
 },
 "nbformat": 4,
 "nbformat_minor": 5
}
