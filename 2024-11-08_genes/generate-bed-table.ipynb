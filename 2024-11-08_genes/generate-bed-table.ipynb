{
 "cells": [
  {
   "cell_type": "markdown",
   "id": "725cda09-f508-4f2b-8450-8ff8291b2a03",
   "metadata": {},
   "source": [
    "# generate-bed-table.ipynb\n",
    "Generate a table of all amplicons detected in the dataset, to be included as a Supplementary Table."
   ]
  },
  {
   "cell_type": "code",
   "execution_count": null,
   "id": "2bac7e6e-5e41-45fb-bcfb-04a19543f842",
   "metadata": {},
   "outputs": [],
   "source": [
    "import pyranges as pr\n",
    "import pandas as pd\n",
    "from pathlib import Path\n",
    "import warnings\n",
    "\n",
    "import sys\n",
    "sys.path.append('../src')\n",
    "from data_imports import *\n",
    "\n",
    "pd.set_option('display.max_rows', 100)\n",
    "pd.set_option('display.max_columns', None)"
   ]
  },
  {
   "cell_type": "code",
   "execution_count": null,
   "id": "a9ab7690-0d0a-4e6f-8a4d-c435f36a8146",
   "metadata": {},
   "outputs": [],
   "source": [
    "# Get all bed files\n",
    "bed_paths = [Path(\"./bed_symlinks/ecDNA_all\"),Path(\"./bed_symlinks/intrachromosomal_all\"),Path(\"./bed_symlinks/unknown_all\")]\n",
    "bed_files = (bed for d in bed_paths for bed in d.rglob(\"*.bed\"))"
   ]
  },
  {
   "cell_type": "code",
   "execution_count": null,
   "id": "a959c12d-a6be-4d25-aaab-7027257bd136",
   "metadata": {},
   "outputs": [],
   "source": [
    "def extract_bed(bedfile):\n",
    "    try:\n",
    "        bed = pr.read_bed(str(bedfile))\n",
    "    except IndexError: # read_bed hates empty bed files\n",
    "        return pr.PyRanges()\n",
    "    name = bedfile.stem[:-len(\"_intervals\")]\n",
    "    bed = pr.PyRanges(bed.df.assign(Name=name))\n",
    "    return bed"
   ]
  },
  {
   "cell_type": "code",
   "execution_count": null,
   "id": "15f18cce-1c1b-4d3e-a728-4cf06750c5c7",
   "metadata": {},
   "outputs": [],
   "source": [
    "beds = (extract_bed(f) for f in bed_files)\n",
    "merge = pr.concat(beds)\n",
    "merge"
   ]
  },
  {
   "cell_type": "code",
   "execution_count": null,
   "id": "c9b3e1ce-3ada-4669-9077-d77ecb2c858e",
   "metadata": {},
   "outputs": [],
   "source": [
    "merge.df.to_csv(\"out/suppl_table_amplicon_locations.tsv\",sep='\\t',index=False)\n"
   ]
  },
  {
   "cell_type": "code",
   "execution_count": null,
   "id": "4fe020b2-1cba-4992-abb7-19f4ff73c7d3",
   "metadata": {},
   "outputs": [],
   "source": []
  }
 ],
 "metadata": {
  "kernelspec": {
   "display_name": "pyranges",
   "language": "python",
   "name": "pyranges"
  },
  "language_info": {
   "codemirror_mode": {
    "name": "ipython",
    "version": 3
   },
   "file_extension": ".py",
   "mimetype": "text/x-python",
   "name": "python",
   "nbconvert_exporter": "python",
   "pygments_lexer": "ipython3",
   "version": "3.12.8"
  }
 },
 "nbformat": 4,
 "nbformat_minor": 5
}
