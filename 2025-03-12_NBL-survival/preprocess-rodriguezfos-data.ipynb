{
 "cells": [
  {
   "cell_type": "markdown",
   "id": "20658c2c-7684-4f73-a117-2efd7a1b7385",
   "metadata": {},
   "source": [
    "# preprocess-rodriguezfos-data.ipynb\n",
    "This notebook preprocess data received from Elias Rodriguez-Fos and Anton Henssen from their paper \"Mutational topography reflects clinical neuroblastoma heterogeneity\", Cell Genomics, 2023.  Preprocessing is done in python because existing preprocessing code is in python; survival is in R because existing survival analysis code is in R; hence, 2 notebooks.\n",
    "\n",
    "## Validation\n",
    "Note that we have 8 tumors in this dataset annotated as 'ecDNA (MYCN)' in the publication for which AC returns ecDNA- classifications:  \n",
    "| Patient ID  | MYCN status | ecDNA (MYCN) | HSR (MYCN) |   amplicon_class | AC result |\n",
    "|-------------|-------------|--------------|------------|------------------|-----------|\n",
    "| CB2022      | amplified   |       yes    |     no | intrachromosomal | CNC at MYCN |\n",
    "| CB2024      | amplified   |       yes    |     no | intrachromosomal | CNC, elsewhere |\n",
    "| CB2031      | amplified   |       yes    |     no | no amplification | No amp, no genes |\n",
    "| CB2042      | amplified   |       yes    |     no | no amplification | Invalid, no genes|\n",
    "| CB2045      | amplified   |       yes    |     no | no amplification | No amp, no genes |\n",
    "| NBL26       | amplified   |       yes    |     no | intrachromosomal | CNC at MYCN |\n",
    "| NBL31       | amplified   |       yes    |     no | no amplification | No amp, no genes |\n",
    "| NBL32       | amplified   |       yes    |     no | intrachromosomal | CNC at MYCN |\n",
    "\n",
    "Going to tentatively use the AC classifications for consistency, but maybe bring it up with Elias and Anton.  \n",
    "\n",
    "TODO: Maybe run a clustering to confirm that there are no duplicated samples between our cohort and theirs.\n",
    "\n",
    "## Outputs\n",
    "Writes \"processed_rodriguezfos_survival_data.tsv\" to `./out`. Required for NBL-survival.ipynb."
   ]
  },
  {
   "cell_type": "code",
   "execution_count": null,
   "id": "7dd16b61-7183-4c90-8cd0-38fdb024dc74",
   "metadata": {},
   "outputs": [],
   "source": [
    "import pandas as pd\n",
    "import numpy as np\n",
    "import warnings\n",
    "\n",
    "# import data_imports.py\n",
    "import sys\n",
    "sys.path.append('../src')\n",
    "from data_imports import *"
   ]
  },
  {
   "cell_type": "code",
   "execution_count": null,
   "id": "5b15cc51-edde-4a09-8311-0db13d0703e6",
   "metadata": {
    "scrolled": true
   },
   "outputs": [],
   "source": [
    "pts = import_patients()\n",
    "pts = pts[pts.cancer_type == 'NBL']\n",
    "pts.head()"
   ]
  },
  {
   "cell_type": "code",
   "execution_count": null,
   "id": "d59e5ebc-ed35-4702-96ea-cd092e75659d",
   "metadata": {},
   "outputs": [],
   "source": [
    "genes = import_genes()\n",
    "genes.head()"
   ]
  },
  {
   "cell_type": "code",
   "execution_count": null,
   "id": "b5928078-b331-4136-9059-a4b8825eda60",
   "metadata": {},
   "outputs": [],
   "source": [
    "def load_rodriguezfos_clinical_data(path,clean=False):\n",
    "    '''\n",
    "    Load clinical data from Rodriguez Fos et al, 2023.\n",
    "    clean: if true, preprocess columns to match what is expected in preprocess_rodriguezfos_data.\n",
    "    '''\n",
    "    df = pd.read_csv(path)\n",
    "    if clean:\n",
    "        # rename columns we need\n",
    "        df = df.rename(columns={\n",
    "            \"Patient ID\":\"patient_id\",\n",
    "            \"Sex\":\"sex\",\n",
    "            \"Age (days)\":\"age_at_diagnosis\",\n",
    "            \"Overall survival\":\"OS_days\",\n",
    "            \"Status DOA\":\"OS_status\",\n",
    "            \"MYCN status\":\"MYCN_amp\"\n",
    "        })\n",
    "        # convert units, unify terminology, etc.\n",
    "        df = df.replace({\n",
    "            \"sex\":{\n",
    "                \"M\":\"Male\",\n",
    "                \"F\":\"Female\",\n",
    "                \"na\":np.nan\n",
    "            },\n",
    "            \"OS_status\":{\n",
    "                1:\"Deceased\",\n",
    "                0:\"Alive\"\n",
    "            },\n",
    "            \"MYCN_amp\":{\n",
    "                \"amplified\":True,\n",
    "                \"non_amp\":False\n",
    "            }\n",
    "        }).infer_objects(copy=False)\n",
    "        df[\"OS_months\"] = df[\"OS_days\"] / 365.25 * 12\n",
    "        # Remove columns not used downstream. Comment if you want them.\n",
    "        df = df.drop(columns=[\n",
    "            \"Risk group\",\n",
    "            \"Age (class)\",\n",
    "            \"Stage of the disease (INSS)\",\n",
    "            \"Status\",\n",
    "            #\"MYCN status\",\n",
    "            \"ecDNA (MYCN)\",\n",
    "            \"HSR (MYCN)\",\n",
    "            \"OS_days\"\n",
    "        ])\n",
    "        # Add columns expected downstream\n",
    "        df[\"cohort\"] = \"Rodriguez_Fos_2023\"\n",
    "        df[\"cancer_type\"] = \"NBL\"\n",
    "        df[\"cancer_subclass\"] = np.nan\n",
    "    df = df.set_index(df.columns[0])\n",
    "    return df\n",
    "\n",
    "\n",
    "def load_rodriguezfos_gene_amp_data(path):\n",
    "    df = pd.read_csv(path,sep='\\t',names=[\"gene\",\"sv_class\",\"risk_group\",\"patient_id\"])\n",
    "    return(df)\n",
    "\n",
    "def preprocess_rodriguezfos_data(path_to_clinical_data,\n",
    "                                 path_to_ampliconclassifier_data,\n",
    "                                 path_to_rodriguezfos_gene_amp_data):\n",
    "    '''\n",
    "    Preprocess data from Henssen lab into the same format as we use in this publication, as a table\n",
    "    row-indexed by patient and the following columns:\n",
    "        patient_id sex age_at_diagnosis cohort cancer_type cancer_subclass amplicon_class OS_status OS_months\n",
    "    '''\n",
    "    cldata = load_rodriguezfos_clinical_data(path=path_to_clinical_data,clean=True)\n",
    "    # Add amplification classes\n",
    "    cldata = annotate_amplicon_class(cldata,path_to_ampliconclassifier_data)\n",
    "    # Add MYCN amp status\n",
    "    cldata = annotate_mycn_amp(cldata,load_rodriguezfos_gene_amp_data(path_to_rodriguezfos_gene_amp_data))\n",
    "    return cldata \n",
    "\n",
    "def sample_patient_map():\n",
    "    '''\n",
    "    Get a dict of sample id -> patient id for our dataset.\n",
    "    '''\n",
    "    return import_biosamples().patient_id.to_dict()\n",
    "\n",
    "def load_this_gene_amp_data():\n",
    "    df = import_genes()\n",
    "    df['patient_id'] = df.sample_name.map(sample_patient_map())\n",
    "    return df\n",
    "\n",
    "def annotate_mycn_amp(patient_df,gene_df):\n",
    "    mycn_amp_patients = gene_df[gene_df.gene=='MYCN']['patient_id']\n",
    "    patient_df['MYCN_amp_AC'] = patient_df.index.isin(mycn_amp_patients)\n",
    "    return patient_df\n",
    "\n",
    "def preprocess_our_data():\n",
    "    df = import_patients()\n",
    "    df = df[df.cancer_type=='NBL']\n",
    "    genes = load_this_gene_amp_data()\n",
    "    df = annotate_mycn_amp(df,genes)\n",
    "    df['MYCN_amp'] = df['MYCN_amp_AC'] # we only have amp calls from ac, so propagate these.\n",
    "    return df"
   ]
  },
  {
   "cell_type": "code",
   "execution_count": null,
   "id": "281d0f87-4ffb-4063-b3aa-fbcff9e049c1",
   "metadata": {
    "scrolled": true
   },
   "outputs": [],
   "source": [
    "pd.set_option('display.max_rows', None)\n",
    "path_to_clinical_data='../data/cloud/RodriguezFos2023/clinicaldata_neuroblastoma_Rodriguez-Fos_etal_MYCNampstatus_25.02.17.csv'\n",
    "path_to_ampliconclassifier_data='../data/cloud/RodriguezFos2023/AmpliconClassifier_results_RodriguezFos_etal/input_file_classif_amplicons_AA_amplicon_classification_profiles.tsv'\n",
    "path_to_gene_amp_data='../data/cloud/RodriguezFos2023/table_GENESoverlapingcomplexrearrangements_INTERSECT_114patients_infopatient_inforiskgroup_proteincoding.txt'\n",
    "rf_data = preprocess_rodriguezfos_data(path_to_clinical_data,path_to_ampliconclassifier_data,path_to_gene_amp_data)\n",
    "our_data = preprocess_our_data()\n",
    "data = pd.concat([rf_data,our_data])\n",
    "data.to_csv(\"out/processed_nbl_survival_data.tsv\",sep='\\t')"
   ]
  },
  {
   "cell_type": "code",
   "execution_count": null,
   "id": "e4a57222-6d76-48e0-8793-f80d08b04f06",
   "metadata": {
    "scrolled": true
   },
   "outputs": [],
   "source": [
    "data"
   ]
  },
  {
   "cell_type": "code",
   "execution_count": null,
   "id": "87d031c6-6136-4a71-ac32-69d1948f6bc0",
   "metadata": {},
   "outputs": [],
   "source": [
    "def validate_rodriguezfos_data(path_to_clinical_data,\n",
    "                                 path_to_ampliconclassifier_data):\n",
    "    '''\n",
    "    We have published annotations from this paper indicating ecDNA at the MYCN locus, and also \n",
    "    AC predictions of ecDNA genome-wide. This function validates that all samples annotated as \n",
    "    having ecDNA at MYCN also are annotated as having ecDNA according to AC.\n",
    "    '''\n",
    "    cldata = load_rodriguezfos_clinical_data(path=path_to_clinical_data,clean=False)\n",
    "    cldata = annotate_amplicon_class(cldata,path_to_ampliconclassifier_data)\n",
    "    problems = cldata[(cldata[\"ecDNA (MYCN)\"]=='yes') & (cldata[\"amplicon_class\"]!='ecDNA')]\n",
    "    if len(problems) > 0:\n",
    "        warnings.warn(\"Some samples have inconsistent ecDNA annotations:\")\n",
    "        print(problems[['MYCN status','ecDNA (MYCN)','HSR (MYCN)','amplicon_class']])\n",
    "    else:\n",
    "        print(\"all clear\")\n",
    "    return\n",
    "\n",
    "validate_rodriguezfos_data(path_to_clinical_data,path_to_ampliconclassifier_data)"
   ]
  }
 ],
 "metadata": {
  "kernelspec": {
   "display_name": "py3",
   "language": "python",
   "name": "py3"
  },
  "language_info": {
   "codemirror_mode": {
    "name": "ipython",
    "version": 3
   },
   "file_extension": ".py",
   "mimetype": "text/x-python",
   "name": "python",
   "nbconvert_exporter": "python",
   "pygments_lexer": "ipython3",
   "version": "3.12.6"
  }
 },
 "nbformat": 4,
 "nbformat_minor": 5
}
