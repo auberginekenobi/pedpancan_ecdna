{
 "cells": [
  {
   "cell_type": "markdown",
   "id": "da66d0f2-df0e-4dc5-8c59-41ddf895d874",
   "metadata": {},
   "source": [
    "# NBL-survival\n",
    "For response to reviewers.\n",
    "Is there any difference in survival between extra- and intrachromosomally amplified neuroblastomas?\n",
    "\n",
    "## Dependencies\n",
    "Dependencies:  \n",
    "r-survival.yml  \n",
    "Run `preprocess-rodriguezfos-data.ipynb`\n",
    "\n",
    "## Results\n",
    "ecDNA has (barely) significantly worse outcomes than intrachromosomal amplification, both in the\n",
    "Kaplan-Meier model (adjusted p = 0.042) and in the Cox model controlling for sex, age and amplification ONLY (p = 0.048). Including MYCN amplification as a covariate, using either the Rodriguez annotations or the AmpliconClassifier, renders the effect of ecDNA nonsignificant. Figures saved to `./out`.\n",
    "\n",
    "## TODO\n",
    "- Association test comparing incidence of ecDNA vs chromosomal amp for MYCN vs other loci?\n",
    "- Follow up with Elias and Anton about discrepant ecDNA classifications."
   ]
  },
  {
   "cell_type": "code",
   "execution_count": null,
   "id": "32bd806d-6e94-43a1-b29e-726f192bed76",
   "metadata": {
    "scrolled": true
   },
   "outputs": [],
   "source": [
    "Sys.setenv(LANGUAGE = \"en\") # set language to \"ja\" if you prefer\n",
    "\n",
    "library(tidyverse)\n",
    "library(readxl)\n",
    "library(dplyr)\n",
    "library(stringr)\n",
    "library(naniar) #for replace with Nas function\n",
    "library(survival)\n",
    "library(survminer)\n",
    "library(RColorBrewer)\n",
    "library(janitor)\n",
    "library(gt)\n",
    "library(gtsummary)\n",
    "library(ggsurvfit)\n",
    "library(extrafont)\n",
    "library(svglite)\n",
    "\n",
    "extrafont::font_import(pattern=\"Arial\",prompt=FALSE)\n",
    "extrafont::loadfonts()\n",
    "\n",
    "sessionInfo()"
   ]
  },
  {
   "cell_type": "code",
   "execution_count": null,
   "id": "f0c27a9c-9922-4561-8ab7-2faef5450c3a",
   "metadata": {},
   "outputs": [],
   "source": [
    "# From survival.ipynb, load data\n",
    "dir.create('out', showWarnings = FALSE)\n",
    "\n",
    "preprocess_survival_data <- function(combinedsurv) {\n",
    "  old_len <- nrow(combinedsurv)\n",
    "  # Drop NAs\n",
    "  combinedsurv <- combinedsurv %>%\n",
    "    filter(complete.cases(amplicon_class,OS_status,OS_months)) %>%\n",
    "    mutate(OS_months = as.numeric(OS_months)) %>%\n",
    "  # Censor at 5 years = 60 months\n",
    "    mutate(OS_months_5y = if_else(OS_months < 60, OS_months, 60)) %>%\n",
    "    mutate(OS_status_5y = if_else(OS_months <= 60, OS_status, \"Alive\")) %>%\n",
    "    mutate(OS_status_5y = if_else(OS_status_5y == \"Alive\", 0, 1)) %>%\n",
    "  # get ecDNA status\n",
    "    mutate(ecDNA_status = if_else(amplicon_class == \"ecDNA\", \"ecDNA+\", \"ecDNA-\")) %>%\n",
    "    mutate(amplicon_class = if_else(amplicon_class == \"intrachromosomal\", \"chromosomal\", amplicon_class)) %>%\n",
    "    mutate(amplified = if_else(amplicon_class %in% c(\"ecDNA\",\"chromosomal\"), TRUE, FALSE)) %>%\n",
    "  # convert to factors\n",
    "    mutate(ecDNA_status = factor(ecDNA_status)) %>%\n",
    "    mutate(amplicon_class = factor(amplicon_class)) %>%\n",
    "    mutate(cancer_type = factor(cancer_type)) %>%\n",
    "    mutate(amplified = factor(amplified)) %>% \n",
    "    mutate(MYCN_amp = factor(MYCN_amp)) %>%\n",
    "    mutate(MYCN_amp_AC = factor(MYCN_amp_AC))\n",
    "  combinedsurv$amplified = relevel(combinedsurv$amplified,ref=TRUE)\n",
    "  combinedsurv$ecDNA_status = relevel(combinedsurv$ecDNA_status,ref=\"ecDNA-\")\n",
    "  #combinedsurv$MYCN_amp = relevel(combinedsurv$MYCN_amp,ref=FALSE)\n",
    "  new_len <- nrow(combinedsurv)\n",
    "  message(\"Dropped \",old_len-new_len,\" entries without survival data\")\n",
    "  return(combinedsurv)\n",
    "}"
   ]
  },
  {
   "cell_type": "code",
   "execution_count": null,
   "id": "b9ae86c6-c4cf-491c-ad15-37aabf6fe678",
   "metadata": {
    "scrolled": true
   },
   "outputs": [],
   "source": [
    "load_survival_data <- function(path){\n",
    "    data <- read_tsv(path,show_col_types = FALSE) %>%\n",
    "        preprocess_survival_data()\n",
    "    return(data)\n",
    "}"
   ]
  },
  {
   "cell_type": "code",
   "execution_count": null,
   "id": "83d3289e-ac1b-4599-b099-842d439ecae6",
   "metadata": {
    "scrolled": true
   },
   "outputs": [],
   "source": [
    "nbl_survival_data = 'out/processed_nbl_survival_data.tsv'\n",
    "data <- load_survival_data(nbl_survival_data)"
   ]
  },
  {
   "cell_type": "code",
   "execution_count": null,
   "id": "24bc9048-5da8-46c5-86fb-9c0142cb67f3",
   "metadata": {
    "scrolled": true
   },
   "outputs": [],
   "source": [
    "data %>%head()"
   ]
  },
  {
   "cell_type": "code",
   "execution_count": null,
   "id": "fa30a7b6-19ab-430e-815e-911c3f800e10",
   "metadata": {},
   "outputs": [],
   "source": [
    "cox_plot <- function(coxobj,data,outfile=NULL,width=3,height=6){\n",
    "  ## OSC function to perform a Cox regression and generate the plot\n",
    "  #coxph(Surv(OS_months, OS_status) ~ ecDNA_status + strata(cancer_type), data = data)\n",
    "  zph <-cox.zph(coxobj) \n",
    "  print(zph)\n",
    "  #ggcoxzph(zph)\n",
    "  #m4\n",
    "  #creating forest plots\n",
    "  plt <- ggforest(coxobj,data=as.data.frame(data)) +\n",
    "        theme_classic(base_size=7, base_family=\"Arial\") +\n",
    "        theme(axis.text = element_text(size=7,colour=\"black\"),\n",
    "              plot.title = element_text(size=7))\n",
    "\n",
    "  if(!is.null(outfile)){\n",
    "    #pdf.options(encoding='ISOLatin2.enc')\n",
    "    #pdfName = paste(outfile, \".pdf\", sep=\"\")\n",
    "    pngName = paste(outfile, \".png\", sep=\"\")\n",
    "    svgName = paste(outfile, \".svg\", sep = \"\")\n",
    "    #ggsave(path=\"out\", filename=pdfName, device=\"pdf\", width=width, height=height, units='in')\n",
    "    ggsave(path=\"out\", device=\"png\", filename=pngName, width=width, height=height, units='in')\n",
    "    ggsave(path=\"out\", device=\"svg\", filename=svgName, width=width, height=height, units='in')\n",
    "  }\n",
    "  return(plt)\n",
    "}\n",
    "\n",
    "km_plot <- function(survObj,outfile=NULL){\n",
    "  ## OSC function to perform a KM analysis and generate the plot\n",
    "  if (length(survObj$n) == 2){\n",
    "    colors = c('blue', 'red')\n",
    "    labels = c('ecDNA-', 'ecDNA+')\n",
    "  } else if (length(survObj$n) == 3){\n",
    "    colors = c('magenta','red','dodgerblue')\n",
    "    labels = c('chromosomal','ecDNA','no amplification')\n",
    "  }\n",
    "  plt <- survObj %>% \n",
    "   ggsurvfit(linewidth=0.5) +\n",
    "   labs(x = 'Follow-up time (Months)',\n",
    "        y = 'Overall Survival') +\n",
    "   scale_color_manual(values = colors,\n",
    "                      labels = labels) +\n",
    "   scale_fill_manual(values = colors,\n",
    "                     labels = labels) +\n",
    "   scale_y_continuous(limits=c(0, 1))+\n",
    "   add_censor_mark(size = .5, alpha = 1) +\n",
    "   add_risktable(risktable_stats = \"n.risk\", size=2,\n",
    "                 theme = theme_risktable_default(axis.text.y.size = 7,\n",
    "                                    plot.title.size = 7)) +\n",
    "   add_risktable_strata_symbol(size=4) + \n",
    "   theme_classic(base_size=7, base_family=\"Arial\",) +\n",
    "   theme(axis.text = element_text(size=7,colour=\"black\"),\n",
    "         legend.position = \"bottom\",\n",
    "   )\n",
    "  if (length(survObj$n) <=3){\n",
    "    plt <- plt + add_confidence_interval()\n",
    "  }\n",
    "  \n",
    "  if(!is.null(outfile)){\n",
    "    #pdf.options(encoding='ISOLatin2.enc')\n",
    "    #pdfName = paste(outfile, \".pdf\", sep=\"\")\n",
    "    pngName = paste(outfile, \".png\", sep=\"\")\n",
    "    svgName = paste(outfile, \".svg\", sep = \"\")\n",
    "    #ggsave(path=\"out\", filename=pdfName, device=\"pdf\", width=3, height=3.5, units='in')\n",
    "    ggsave(path=\"out\", device=\"png\", filename=pngName, width=3, height=3.5, units='in')\n",
    "    ggsave(path=\"out\", device=\"svg\", filename=svgName, width=3, height=3.5, units='in')\n",
    "  }\n",
    "  return(plt)\n",
    "}"
   ]
  },
  {
   "cell_type": "code",
   "execution_count": null,
   "id": "025db87d-065a-4a9b-bfec-fc1e3ab524a3",
   "metadata": {},
   "outputs": [],
   "source": [
    "# KM\n",
    "formula = Surv(OS_months_5y, OS_status_5y) ~ amplicon_class\n",
    "km = survfit2(formula=formula, data = data )\n",
    "plt <- km_plot(km, \"km_nbl_5year\")\n",
    "#km_plot(km)\n",
    "logrank <- pairwise_survdiff(formula,data,p.adjust.method=\"BH\",rho=0)\n",
    "logrank"
   ]
  },
  {
   "cell_type": "code",
   "execution_count": null,
   "id": "74a8f837-2c19-494e-9822-24dbaa224655",
   "metadata": {},
   "outputs": [],
   "source": [
    "# Cox model\n",
    "m4 <- coxph(Surv(OS_months_5y, OS_status_5y) ~ ecDNA_status + amplified + sex + age_at_diagnosis, data = data)\n",
    "cox_plot(m4,data,\"cox_forest_nbl\",width=6,height=6)"
   ]
  },
  {
   "cell_type": "code",
   "execution_count": null,
   "id": "30558c20-4860-4614-89c3-23cc7c4e996e",
   "metadata": {},
   "outputs": [],
   "source": [
    "# Cox model including MYCN amp, using rodriguez annotations\n",
    "m5 <- coxph(Surv(OS_months_5y, OS_status_5y) ~ ecDNA_status + amplified + MYCN_amp + sex + age_at_diagnosis, data = data)\n",
    "cox_plot(m5,data,NULL,width=6,height=6)"
   ]
  },
  {
   "cell_type": "code",
   "execution_count": null,
   "id": "d3775dcc-3ded-4c68-9e81-aa5e1994a156",
   "metadata": {},
   "outputs": [],
   "source": [
    "# Cox model including MYCN amp, using AmpliconClassifier annotations\n",
    "m6 <- coxph(Surv(OS_months_5y, OS_status_5y) ~ ecDNA_status + amplified + MYCN_amp_AC + sex + age_at_diagnosis, data = data)\n",
    "cox_plot(m6,data,'cox_forest_nbl_mycn',width=6,height=6)"
   ]
  },
  {
   "cell_type": "code",
   "execution_count": null,
   "id": "ed714ecd-631a-418c-8486-2065d4c7184f",
   "metadata": {},
   "outputs": [],
   "source": []
  }
 ],
 "metadata": {
  "kernelspec": {
   "display_name": "r-survival",
   "language": "R",
   "name": "r-survival"
  },
  "language_info": {
   "codemirror_mode": "r",
   "file_extension": ".r",
   "mimetype": "text/x-r-source",
   "name": "R",
   "pygments_lexer": "r",
   "version": "4.4.1"
  }
 },
 "nbformat": 4,
 "nbformat_minor": 5
}
