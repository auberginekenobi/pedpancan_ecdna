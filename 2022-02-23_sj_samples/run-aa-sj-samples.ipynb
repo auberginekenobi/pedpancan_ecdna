{
 "cells": [
  {
   "cell_type": "markdown",
   "id": "4a5a0620-d471-445e-bb76-55f5b0e0a6d1",
   "metadata": {},
   "source": [
    "# run AA on SJ samples using the dxpy API"
   ]
  },
  {
   "cell_type": "code",
   "execution_count": null,
   "id": "2eeea36e-9888-4090-aa05-897476369d48",
   "metadata": {},
   "outputs": [],
   "source": [
    "import dxpy\n",
    "import pandas as pd\n",
    "import os\n",
    "import sys\n",
    "sys.path.append('../src')\n",
    "import data_imports\n"
   ]
  },
  {
   "cell_type": "markdown",
   "id": "ff98c391-7fe3-464c-a96f-66450daa4520",
   "metadata": {},
   "source": [
    "## New SJ samples, acquired 9/6/2022, run 9/2024\n",
    "Params: Timeout at 48h, cn 4.5"
   ]
  },
  {
   "cell_type": "code",
   "execution_count": null,
   "id": "d46ad0ad-ab7f-4ec2-88b2-aaf3e8a6c8b7",
   "metadata": {},
   "outputs": [],
   "source": [
    "# GLOBALS\n",
    "PROJECT_ID = 'project-Fz9yBjQ9fj2QPbFY16B8JG8X' # PedPanCancer ecDNA\n",
    "#APPLET_ID = 'applet-GqPyyxQ9fj2ky254fGgG5Vv7' # AmpliconSuite-DNANexus-applet\n",
    "APPLET_ID = 'applet-GqgzpFQ9fj2X5qZvKB62x69p' #ampliconsuite-dnanexus-applet\n",
    "DATA_REPO = dxpy.dxlink('file-GqQbpY09fj2f50kk87843164') # /data_repo/GRCh38.tar.gz\n",
    "MOSEK = dxpy.dxlink('file-GqQZYGQ9fj2qbJkqjY834g75') # /mosek.lic\n",
    "OUT_DIR = '/AmpliconArchitect/results_batch_20240912'\n",
    "REF = 'hg38'"
   ]
  },
  {
   "cell_type": "code",
   "execution_count": null,
   "id": "2f0fdcdf-6d21-4ce5-9546-63e94a7d71d5",
   "metadata": {},
   "outputs": [],
   "source": [
    "def get_sj_cohort():\n",
    "    asdf = data_imports.get_pedpancan_biosamples_from_AC()\n",
    "    asdf = asdf[asdf.str.startswith('SJ')]\n",
    "    return set(asdf)\n",
    "def get_sample_info(file):\n",
    "    df = pd.read_csv(file,sep='\\t')\n",
    "    # drop hematologic malignancies\n",
    "    #df = df[~(df.attr_diagnosis_group == 'Hematologic Malignancy')]\n",
    "    return df\n",
    "def text_venn2(s1, s2):\n",
    "    print(f'size of set 1: {len(s1)}')\n",
    "    print(f'size of set 2: {len(s2)}')\n",
    "    print(f'Samples in s1 not in s2: {len(s1 - s2)}')\n",
    "    print(f'Samples in s2 not in s1: {len(s2 - s1)}')\n",
    "    print(f'Overlap: {len(s1 & s2)}')\n",
    "\n",
    "def write_progress(samples):\n",
    "    # write the strings in samples to an intermediate file so we can keep track of jobs we have already submitted.\n",
    "    with open('out/progress.txt','w') as f:\n",
    "        [f.write(g+'\\n') for g in samples]\n",
    "\n",
    "def append_progress(sample):\n",
    "    with open('out/progress.txt','a') as f:\n",
    "        f.write(sample+'\\n')\n",
    "\n",
    "def read_progress():\n",
    "    # read the lines in progress.txt to a set\n",
    "    with open('out/progress.txt','r') as f:\n",
    "        return set(map(str.strip,f.readlines()))\n",
    "\n",
    "def get_dx_bai(filename):\n",
    "    # get a handle to the corresponding .bai file given the file's name SJ000_D1.bam.bai\n",
    "    file_search = dxpy.find_data_objects(name=filename, project=PROJECT_ID, classname='file', return_handler=True)\n",
    "    for result in file_search:\n",
    "        return result.get_id()\n",
    "\n",
    "def create_subdir(dirname,parent):\n",
    "    project = dxpy.DXProject(PROJECT_ID)\n",
    "    folders = project.list_folder(folder=parent)['folders']\n",
    "    subdirectory_path = parent.rstrip('/') + '/' + dirname  # Ensure correct path format\n",
    "    if subdirectory_path not in folders:\n",
    "        project.new_folder(subdirectory_path, parents=True)\n",
    "    return subdirectory_path\n",
    "    #return subdirectory_path in folders\n",
    "\n",
    "def run_AA(sample_name, cngain = False):\n",
    "    # requires globals all_bam and current_cohort\n",
    "    # Inputs: sample_name (string) of the format eg. SJEPD031215_D1\n",
    "    #         cngain (float) copy number threshold. default 4.5 if not set.\n",
    "    if sample_name in current_cohort:\n",
    "        print(f'AA result for {sample_name} already exists!')\n",
    "        return\n",
    "    print(f'Seting up AA run for {sample_name}...')\n",
    "    bam = all_bam[all_bam.sample_name==sample_name].file_id.iloc[0]\n",
    "    index = get_dx_bai(sample_name+'.WholeGenome.bam.bai')\n",
    "    input_data = {\n",
    "        'bam':dxpy.dxlink(bam),\n",
    "        'index':dxpy.dxlink(index),\n",
    "        'data_repo':DATA_REPO,\n",
    "        'mosek_lic':MOSEK,\n",
    "        'ref':REF\n",
    "    }\n",
    "    if cngain:\n",
    "        input_data['cngain'] = cngain\n",
    "    out_folder = create_subdir(sample_name,OUT_DIR)\n",
    "    job = dxpy.DXApplet(applet_id).run(\n",
    "        applet_input=input_data,\n",
    "        project=PROJECT_ID,\n",
    "        folder=out_folder,\n",
    "        name='AmpliconSuite '+sample_name\n",
    "    )\n",
    "    current_cohort.add(sample_name)\n",
    "    append_progress(sample_name)\n",
    "    print(f'Submitted job for {sample_name}.')\n",
    "    return"
   ]
  },
  {
   "cell_type": "code",
   "execution_count": null,
   "id": "ae83a9db-14c6-436a-89ad-15d09390e4d4",
   "metadata": {},
   "outputs": [],
   "source": [
    "# Setup: run once\n",
    "# Get the DX_AUTH_TOKEN variable from the OS\n",
    "DX_AUTH_TOKEN = os.getenv('DX_AUTH_TOKEN')\n",
    "dxpy.set_security_context({\"auth_token_type\": \"Bearer\", \"auth_token\": DX_AUTH_TOKEN})\n",
    "create_subdir('results_batch_20240912','/AmpliconArchitect')"
   ]
  },
  {
   "cell_type": "code",
   "execution_count": null,
   "id": "948520ce-4144-4963-b9a8-77d1b1255e86",
   "metadata": {},
   "outputs": [],
   "source": [
    "current_cohort = get_sj_cohort() | read_progress()\n",
    "all_bam = get_sample_info('out/SAMPLE_INFO_SJ00.txt')\n",
    "st_bam = all_bam[all_bam.attr_diagnosis_group != 'Hematologic Malignancy']\n",
    "all_bam_set = set(all_bam.sample_name)\n",
    "st_bam_set = set(st_bam.sample_name)\n",
    "text_venn2(all_bam_set,current_cohort)\n",
    "text_venn2(st_bam_set, current_cohort)\n",
    "# we have 1776 more samples we can run from the .bam files currently on SJC. About half are hematologic malignancies."
   ]
  },
  {
   "cell_type": "code",
   "execution_count": null,
   "id": "09da9d7d-cdb7-4703-8fa1-ae382635b2c1",
   "metadata": {
    "scrolled": true
   },
   "outputs": [],
   "source": [
    "# Now we need to run one AA job for each sample in our st_bam_set.\n",
    "todo = st_bam_set - current_cohort\n",
    "i=0\n",
    "for sample in todo:\n",
    "    run_AA(sample)\n",
    "    i+=1\n",
    "    if i >= 100:\n",
    "        break"
   ]
  },
  {
   "cell_type": "code",
   "execution_count": null,
   "id": "dad33c5c-f717-4b79-a057-d39cf1a45d65",
   "metadata": {},
   "outputs": [],
   "source": [
    "# Rerun failures\n",
    "# Walltimes for these are 3 days, cngain = 10\n",
    "df = get_walltimes()\n",
    "todo = df[(df.state == 'failed') & (df.walltime_hours > 48)]\n",
    "current_cohort = current_cohort - set(todo.name)\n",
    "for sample in todo.name:\n",
    "    run_AA(sample,cngain=16)"
   ]
  },
  {
   "cell_type": "code",
   "execution_count": null,
   "id": "0f59439c-2b38-4645-9346-05f0390ef467",
   "metadata": {},
   "outputs": [],
   "source": [
    "df[(df.state == 'failed') & (df.walltime_hours < 48)]"
   ]
  },
  {
   "cell_type": "markdown",
   "id": "d8144ec9-71ba-4fef-82ba-3c7d735981ff",
   "metadata": {},
   "source": [
    "## Test dataset (RCMB56-x1)"
   ]
  },
  {
   "cell_type": "code",
   "execution_count": null,
   "id": "018be997-b261-440b-bb02-47eb30c1fcb4",
   "metadata": {},
   "outputs": [],
   "source": [
    "project_id = 'project-Fz9yBjQ9fj2QPbFY16B8JG8X' # PedPanCancer ecDNA\n",
    "applet_id = 'applet-GqgzpFQ9fj2X5qZvKB62x69p' #ampliconsuite-dnanexus-applet\n",
    "out_folder = '/test-out/RCMB56-x1'\n",
    "input_data = {\n",
    "    'bam':dxpy.dxlink('file-GqQQ3109fj2vqJKX61y5b9Bq'),\n",
    "    'index':dxpy.dxlink('file-GqQQK389fj2yVPq4gfxKvFF0'),\n",
    "    'data_repo':dxpy.dxlink('file-GqQbpY09fj2f50kk87843164'),\n",
    "    'mosek_lic':dxpy.dxlink('file-GqQZYGQ9fj2qbJkqjY834g75'),\n",
    "    'ref':'hg38'\n",
    "}\n",
    "\n",
    "# Create and run the job\n",
    "job = dxpy.DXApplet(applet_id).run(\n",
    "    applet_input=input_data,\n",
    "    project=project_id,\n",
    "    folder=out_folder\n",
    ")"
   ]
  },
  {
   "cell_type": "code",
   "execution_count": null,
   "id": "13d72ab9-05f7-4890-9e9a-a4ebd78125aa",
   "metadata": {},
   "outputs": [],
   "source": [
    "dxpy.dxlink"
   ]
  },
  {
   "cell_type": "code",
   "execution_count": null,
   "id": "a8a4b51f-f35c-4fc5-b955-6cb17bd80936",
   "metadata": {},
   "outputs": [],
   "source": [
    "job_output = job.wait_on_done()\n",
    "print(job_output)"
   ]
  },
  {
   "cell_type": "code",
   "execution_count": null,
   "id": "3e3da85d-5309-4533-90d8-b3b8f2c24a68",
   "metadata": {},
   "outputs": [],
   "source": [
    "all_bam.head()"
   ]
  },
  {
   "cell_type": "markdown",
   "id": "c56d97b7-74eb-4c42-8925-0996a9354faf",
   "metadata": {},
   "source": [
    "# Job metaanalysis"
   ]
  },
  {
   "cell_type": "code",
   "execution_count": null,
   "id": "9cf3538f-0eed-4cbc-a157-6486afede598",
   "metadata": {},
   "outputs": [],
   "source": [
    "import dxpy\n",
    "import datetime\n",
    "import seaborn as sns\n",
    "import matplotlib.pyplot as plt\n",
    "\n",
    "\n",
    "def get_walltimes():\n",
    "    ## Get the walltimes of all AA jobs run in september.\n",
    "\n",
    "    results = []\n",
    "    \n",
    "    # Define the time range\n",
    "    start = str(datetime.date(2024,9,1))\n",
    "    end = str(datetime.date(2024,10,1))\n",
    "    \n",
    "    # Search for jobs\n",
    "    jobs = dxpy.find_jobs(created_after=start, created_before=end, \n",
    "                          launched_by=dxpy.whoami(), describe=True)\n",
    "    \n",
    "    # Function to convert timestamps\n",
    "    def format_time(timestamp):\n",
    "        return datetime.datetime.utcfromtimestamp(timestamp / 1000) if timestamp else \"N/A\"\n",
    "    \n",
    "    # Print job times\n",
    "    for job in jobs:\n",
    "        details = job['describe']\n",
    "        if details.get('executableName')=='AmpliconSuite-DNANexus-applet':\n",
    "            name = details['name'].split()[-1]\n",
    "            if name.startswith('SJ'):\n",
    "                result = {}\n",
    "                result['name'] = name\n",
    "                result['state'] = details.get('state')\n",
    "                start = format_time(details['stateTransitions'][1].get('setAt'))\n",
    "                end = format_time(details['stateTransitions'][-1].get('setAt'))\n",
    "                elapsed = (end-start).total_seconds()/3600\n",
    "                result['walltime_hours']=elapsed\n",
    "                results.append(result)\n",
    "    return pd.DataFrame(results)\n",
    "                #for state in details['stateTransitions']:\n",
    "                #    print(f\"  {state['newState']}: {format_time(state.get('setAt'))}\")\n",
    "                #print(\"-\" * 40)"
   ]
  },
  {
   "cell_type": "code",
   "execution_count": null,
   "id": "28487763-339c-496d-bacb-3d204ad2cae6",
   "metadata": {},
   "outputs": [],
   "source": [
    "adf = get_walltimes()"
   ]
  },
  {
   "cell_type": "code",
   "execution_count": null,
   "id": "056890be-ea59-4d3c-a870-623234c1be3e",
   "metadata": {},
   "outputs": [],
   "source": [
    "# Haven't downloaded results for these.\n",
    "adf[adf.state == 'failed']"
   ]
  },
  {
   "cell_type": "code",
   "execution_count": null,
   "id": "59dcb111-02bb-4f3c-b7f2-21e578e6300a",
   "metadata": {},
   "outputs": [],
   "source": [
    "len(adf)"
   ]
  },
  {
   "cell_type": "code",
   "execution_count": null,
   "id": "b944801d-ddb7-416a-af71-ad56ce8c1107",
   "metadata": {},
   "outputs": [],
   "source": [
    "df = adf[adf.state != 'running']\n",
    "a=len(df[(df.state == 'failed') & (df.walltime_hours > 48)])\n",
    "b=len(df)\n",
    "print(f\"Timeouts: {a} / {b} ({round(a/b*100,1)}%)\")\n",
    "fig=plt.figure()\n",
    "ax = sns.ecdfplot(df,legend=False,stat='count',complementary=True)\n",
    "ax.set(xlabel='Time (hours)', ylabel='Cumulative jobs running')\n",
    "sns.despine()"
   ]
  },
  {
   "cell_type": "code",
   "execution_count": null,
   "id": "e63c8360-8695-4378-aa26-b8a233637a12",
   "metadata": {},
   "outputs": [],
   "source": [
    "fig.savefig(\"out/job_walltimes.png\",dpi=300)\n"
   ]
  },
  {
   "cell_type": "markdown",
   "id": "07f518ad-a3c3-4623-a712-49c60a91ee96",
   "metadata": {},
   "source": [
    "# Download job outputs\n",
    "Should maybe find a better way to do this because it took almost 5 hours..."
   ]
  },
  {
   "cell_type": "code",
   "execution_count": null,
   "id": "fad98139-957c-4fac-93cd-56a95e3056e9",
   "metadata": {},
   "outputs": [],
   "source": [
    "import dxpy\n",
    "import os\n",
    "import pathlib\n",
    "\n",
    "# Function to recursively list all files in a DNAnexus directory\n",
    "def list_files_in_directory(project_id, folder_path):\n",
    "    files = []\n",
    "    \n",
    "    # Recursively list the contents of the folder\n",
    "    for result in dxpy.bindings.search.find_data_objects(project=project_id, folder=folder_path, recurse=True, describe=True):\n",
    "        if result[\"describe\"][\"class\"] == \"file\":\n",
    "            files.append(result)\n",
    "    \n",
    "    return files\n",
    "\n",
    "# Function to download a file, preserving the directory structure\n",
    "def download_file_with_structure(file_info, project_id, local_base_dir=\"downloads\"):\n",
    "    file_path = file_info['describe']['folder'] + \"/\" + file_info['describe']['name']\n",
    "    dxfile = dxpy.DXFile(file_info['id'], project=project_id)\n",
    "    \n",
    "    # Create corresponding local directory structure\n",
    "    local_path = os.path.join(local_base_dir, file_path.strip(\"/\"))\n",
    "    local_dir = os.path.dirname(local_path)\n",
    "    \n",
    "    if not os.path.exists(local_dir):\n",
    "        os.makedirs(local_dir)\n",
    "    \n",
    "    # Download the file\n",
    "    print(f\"Downloading {file_path} to {local_path}...\")\n",
    "    dxpy.download_dxfile(dxfile.get_id(), local_path)\n",
    "    print(f\"Download completed: {local_path}\")\n",
    "\n",
    "# Main function to download all files in a directory\n",
    "def download_directory(project_id, folder_path, local_base_dir=\"downloads\"):\n",
    "    # List all files in the DNAnexus directory\n",
    "    files = list_files_in_directory(project_id, folder_path)\n",
    "    \n",
    "    # Download each file while preserving directory structure\n",
    "    for file_info in files:\n",
    "        download_file_with_structure(file_info, project_id, local_base_dir)\n",
    "\n"
   ]
  },
  {
   "cell_type": "code",
   "execution_count": null,
   "id": "da880e41-0ca3-4438-896b-45d354647ea6",
   "metadata": {},
   "outputs": [],
   "source": [
    "local_out = str(pathlib.Path(os.getcwd(),'out'))"
   ]
  },
  {
   "cell_type": "code",
   "execution_count": null,
   "id": "3bcc0f80-ef42-49c1-8aa5-bd2e978e1b93",
   "metadata": {
    "scrolled": true
   },
   "outputs": [],
   "source": [
    "download_directory(PROJECT_ID, OUT_DIR, local_out)"
   ]
  },
  {
   "cell_type": "code",
   "execution_count": null,
   "id": "6f99fa61-934c-473e-8377-7bba85391519",
   "metadata": {
    "scrolled": true
   },
   "outputs": [],
   "source": [
    "# Get results that weren't available during the big download\n",
    "stragglers = ['SJMB031439_D1','SJST031395_D1','SJOS031478_D2','SJOS030861_D3']\n",
    "stragglers = ['SJWLM031677_D1']\n",
    "stragglers = ['SJOS032521_D1','SJOS031922_D2','SJHGG032492_D1','SJNBL032876_D1','SJST032243_D1','SJMEL031086_D3',\n",
    "              'SJOS031711_D2','SJBT031810_D1']\n",
    "stragglers = dnanexus_dirs - local_dirs\n",
    "\n",
    "for s in stragglers:\n",
    "    remote_out = str(pathlib.Path(OUT_DIR,s))\n",
    "    download_directory(PROJECT_ID, remote_out, local_out)"
   ]
  },
  {
   "cell_type": "markdown",
   "id": "044a730e-e739-4c17-b6f2-98eb1cb09f6e",
   "metadata": {},
   "source": [
    "# Tracking down possible missing runs?\n",
    "progress report says we should have 633 runs.  \n",
    "However, we only have 616 subdirectories on DNANexus."
   ]
  },
  {
   "cell_type": "code",
   "execution_count": null,
   "id": "13769d72-370b-44c2-80d2-ae3754adfb04",
   "metadata": {},
   "outputs": [],
   "source": [
    "# Function to recursively list all files in a DNAnexus directory\n",
    "def list_subdirectories(project_id, folder_path):\n",
    "    # List the contents of the specified folder\n",
    "    contents = dxpy.DXProject(project_id).list_folder(folder=folder_path)\n",
    "    \n",
    "    # Extract the subdirectories\n",
    "    subdirectories = contents['folders']\n",
    "    \n",
    "    return subdirectories\n",
    "\n",
    "def list_local_subdirectories(local_path):\n",
    "    # List only the immediate subdirectories\n",
    "    subdirectories = [d for d in os.listdir(local_path) if os.path.isdir(os.path.join(local_path, d))]\n",
    "    return subdirectories\n",
    "\n",
    "dnanexus_dirs = set(map(lambda x: x.split('/')[-1],list_subdirectories(PROJECT_ID,OUT_DIR)))\n",
    "local_dirs = set(list_local_subdirectories(local_out+OUT_DIR))"
   ]
  },
  {
   "cell_type": "code",
   "execution_count": null,
   "id": "5a692615-549f-453c-95c4-10d98dfca8a1",
   "metadata": {},
   "outputs": [],
   "source": [
    "print(len(dnanexus_dirs))\n",
    "print(len(local_dirs))"
   ]
  },
  {
   "cell_type": "code",
   "execution_count": null,
   "id": "8b66494a-6adc-4220-a81d-f6396150c03f",
   "metadata": {},
   "outputs": [],
   "source": [
    "stragglers = dnanexus_dirs - local_dirs\n",
    "stragglers"
   ]
  },
  {
   "cell_type": "code",
   "execution_count": null,
   "id": "72f0c2a9-c14b-4938-bf84-3230ea0871e1",
   "metadata": {},
   "outputs": [],
   "source": [
    "'SJMEL001002_D1' in local_dirs"
   ]
  },
  {
   "cell_type": "code",
   "execution_count": null,
   "id": "df48dd3e-ea4b-44f1-a0e7-7fa95bb9bc4b",
   "metadata": {
    "scrolled": true
   },
   "outputs": [],
   "source": [
    "local_dirs"
   ]
  },
  {
   "cell_type": "code",
   "execution_count": null,
   "id": "4da64e63-392a-4529-8b5a-6f72549aa223",
   "metadata": {},
   "outputs": [],
   "source": []
  }
 ],
 "metadata": {
  "kernelspec": {
   "display_name": "dxpy",
   "language": "python",
   "name": "dxpy"
  },
  "language_info": {
   "codemirror_mode": {
    "name": "ipython",
    "version": 3
   },
   "file_extension": ".py",
   "mimetype": "text/x-python",
   "name": "python",
   "nbconvert_exporter": "python",
   "pygments_lexer": "ipython3",
   "version": "3.10.8"
  }
 },
 "nbformat": 4,
 "nbformat_minor": 5
}
