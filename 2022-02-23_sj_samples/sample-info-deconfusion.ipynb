{
 "cells": [
  {
   "cell_type": "markdown",
   "id": "3e822097-ba06-40ae-a6f7-b195e9fdf5cb",
   "metadata": {},
   "source": [
    "GOAL: ID the tumor sequencing data to run on the st jude cloud.  \n",
    "Also, I have too many SAMPLE_INFO files from St Jude, want to make sure I use the right one and probably archive the others.\n",
    "\n"
   ]
  },
  {
   "cell_type": "code",
   "execution_count": 1,
   "id": "e836b58d-6446-4145-92c7-a1168aae054e",
   "metadata": {},
   "outputs": [],
   "source": [
    "import pandas as pd\n",
    "import numpy as np\n",
    "import sys\n",
    "from pathlib import Path\n",
    "from collections import OrderedDict\n",
    "\n",
    "sys.path.append('../src')\n",
    "Path(\"out\").mkdir(parents=True, exist_ok=True)\n",
    "\n",
    "import data_imports\n",
    "\n",
    "from pathlib import Path\n",
    "import os\n",
    "import shutil\n",
    "\n",
    "pd.set_option('display.max_columns', None)"
   ]
  },
  {
   "cell_type": "markdown",
   "id": "368cec42-fc3c-4e62-a5e9-db51392a7126",
   "metadata": {},
   "source": [
    "# So many SAMPLE INFO files, and some directories without sample_info...\n",
    "What does it all mean?\n",
    "\n",
    "DNANexus  \n",
    "├── PedPanCan  \n",
    "│   ├── Data Requested 2022-08-29 # this is a superset of the project-specific sets from the same date, plus 7792 more files.    \n",
    "│   │   └── SAMPLE_INFO.txt  \n",
    "│   ├── Data Requested 2022-08-29 - Pediatric Cancer Genome Project  \n",
    "│   │   └── SAMPLE_INFO.txt  \n",
    "│   ├── Data Requested 2022-08-29 Real Time Clinical Genomics  \n",
    "│   │   └── SAMPLE_INFO.txt  \n",
    "│   ├── Data Requested 2022-09-02 # this is a subset of 829 missing 1240 files.  \n",
    "│   │   └── SAMPLE_INFO.txt  \n",
    "│   ├── Data Requested 2022-09-06 # considering only tumor WGS, this is equivalent to 829.  \n",
    "│   │   └── SAMPLE_INFO.txt  \n",
    "│   └── restricted  \n",
    "└── PedPanCancer ecDNA  \n",
    "    ├── Data Requested 2022-09-06  \n",
    "    │   └── SAMPLE_INFO.txt # this is the same as the eponymous file in PedPanCan.  \n",
    "    └── restricted  \n",
    "\n",
    "1. \"Data Requested 2022-08-29/SAMPLE_INFO.txt\" (829) is a superset of all other SAMPLE_INFO files on St Jude.\n",
    "2. How does 829 compare to our local SAMPLE_INFO files of unknown provenance?  \n",
    "   'SAMPLE_INFO PedPanCancer ecDNA.txt', 'SAMPLE_INFO_2022-03-02.txt', and 'SAMPLE_INFO_batch_2022-03-03.txt' contain samples not in 829.\n",
    "\n",
    "TODO: repeat this exercise excluding hematological malignancies."
   ]
  },
  {
   "cell_type": "code",
   "execution_count": null,
   "id": "a72a9c97-1518-43e3-9c73-63805db3c7ed",
   "metadata": {},
   "outputs": [],
   "source": [
    "def read_sample_info(file):\n",
    "    path=Path('/Users/ochapman/Library/CloudStorage/OneDrive-SanfordBurnhamPrebysMedicalDiscoveryInstitute/projects/2023-pedpancan/data/sjcloud',file)\n",
    "    df = pd.read_csv(path,sep='\\t')\n",
    "    df['sample_type'] = df.sample_type.str.lower()\n",
    "    df['file_name'] = df.file_path.map(lambda x: x.split('/')[-1])\n",
    "    return df\n",
    "def get_file_set(file):\n",
    "    df = read_sample_info(file)\n",
    "    st = ['diagnosis', 'relapse', 'metastasis', 'autopsy']\n",
    "    df = df[(df.sequencing_type == 'WGS') & (df.file_type == 'BAM') & (df.sample_type.isin(st))  & df.file_path.str.endswith('.bam')]\n",
    "    return set(df.file_name)\n",
    "def text_venn2(s1, s2):\n",
    "    print(f'size of set 1: {len(s1)}')\n",
    "    print(f'size of set 2: {len(s2)}')\n",
    "    print(f'Samples in s1 not in s2: {len(s1 - s2)}')\n",
    "    print(f'Samples in s2 not in s1: {len(s2 - s1)}')\n",
    "    print(f'Overlap: {len(s1 & s2)}')\n",
    "def text_venn(file1, file2):\n",
    "    s1 = get_file_set(file1)\n",
    "    s2 = get_file_set(file2)\n",
    "    text_venn2(s1,s2)"
   ]
  },
  {
   "cell_type": "code",
   "execution_count": null,
   "id": "b2f620a6-2774-4053-8cdf-b1ed51ca9efb",
   "metadata": {},
   "outputs": [],
   "source": [
    "DNANEXUS_ROOT = Path(Path.cwd(),'DNANexus')\n",
    "si_ppc_829 = Path(DNANEXUS_ROOT,'PedPanCan','Data Requested 2022-08-29','SAMPLE_INFO.txt')\n",
    "si_ppc_829_pcgp = Path(DNANEXUS_ROOT,'PedPanCan','Data Requested 2022-08-29 - Pediatric Cancer Genome Project','SAMPLE_INFO.txt')\n",
    "si_ppc_829_rtcg = Path(DNANEXUS_ROOT,'PedPanCan','Data Requested 2022-08-29 Real Time Clinical Genomics','SAMPLE_INFO.txt')\n",
    "si_ppc_92 = Path(DNANEXUS_ROOT,'PedPanCan','Data Requested 2022-09-02','SAMPLE_INFO.txt')\n",
    "si_ppc_96 = Path(DNANEXUS_ROOT,'PedPanCan','Data Requested 2022-09-06','SAMPLE_INFO.txt')\n",
    "si_ppce_96 = Path(DNANEXUS_ROOT,'PedPanCancer ecDNA','Data Requested 2022-09-06','SAMPLE_INFO.txt')\n",
    "\n",
    "CLOUD_ROOT = Path('/Users/ochapman/Library/CloudStorage/OneDrive-SanfordBurnhamPrebysMedicalDiscoveryInstitute/projects/2023-pedpancan/data/sjcloud')\n",
    "f1=Path(CLOUD_ROOT,'2022-09-08_SAMPLE_INFO.txt')\n",
    "f2=Path(CLOUD_ROOT,'SAMPLE_INFO PedPanCan_clinical.txt')\n",
    "f3=Path(CLOUD_ROOT,'SAMPLE_INFO PedPanCancer ecDNA.txt')\n",
    "f4=Path(CLOUD_ROOT,'SAMPLE_INFO_2022-03-02.tsv')\n",
    "f5=Path(CLOUD_ROOT,'SAMPLE_INFO_batch_2022-03-03.txt') # seems to be only WGS, mutually exclusive with f4."
   ]
  },
  {
   "cell_type": "code",
   "execution_count": null,
   "id": "1f5a964a-222d-491a-8a43-4331d373caa3",
   "metadata": {},
   "outputs": [],
   "source": [
    "# These files are the same set\n",
    "#text_venn(si_ppc_96, si_ppce_96)\n",
    "\n",
    "# These are mutually exclusive\n",
    "#text_venn(si_ppc_829_pcgp, si_ppc_829_rtcg)\n",
    "\n",
    "# 829 includes 829pcgp, 829rtcg, and 7792 more files.\n",
    "#text_venn2(get_file_set(si_ppc_829),get_file_set(si_ppc_829_pcgp) | get_file_set(si_ppc_829_rtcg))\n",
    "\n",
    "# 829 is a superset of 92 + 1240 more files.\n",
    "#text_venn(si_ppc_829, si_ppc_92)\n",
    "#text_venn2(get_file_set(si_ppc_92),get_file_set(si_ppc_829_pcgp) | get_file_set(si_ppc_829_rtcg))\n",
    "\n",
    "# 829 is a superset of 96 + 327 more files.\n",
    "#text_venn(si_ppc_829,si_ppc_96)\n",
    "\n",
    "text_venn(si_ppc_96,f1)\n",
    "\n",
    "# 'SAMPLE_INFO PedPanCan_clinical.txt' is a subset of 829, missing 1639 files. Ok to delete.\n",
    "#text_venn(si_ppc_829,f2)\n",
    "\n",
    "# 'SAMPLE_INFO PedPanCancer ecDNA.txt' overlaps 829, but incompletely. 954 | 1494 | 45\n",
    "text_venn(si_ppc_829,f3)\n",
    "\n",
    "# 'SAMPLE_INFO_2022-03-02.txt' overlaps 829, but incompletely. 259 | 2189 | 245\n",
    "text_venn(si_ppc_829,f4)\n",
    "\n",
    "# 'SAMPLE_INFO_batch_2022-03-03.txt' mostly independent of 829. 1753 | 695 | 200\n",
    "text_venn(si_ppc_829,f5)"
   ]
  },
  {
   "cell_type": "markdown",
   "id": "f144b512-90cd-4e00-9888-1d9401d56396",
   "metadata": {},
   "source": [
    "# Inventory of the actual bam files we have in various locations\n",
    "\n",
    "DNANexus  \n",
    "├── PedPanCan  \n",
    "│   ├── Data Requested 2022-08-29     \n",
    "│   │   └── BAM - No WGS files of interest here.  \n",
    "│   ├── Data Requested 2022-08-29 - Pediatric Cancer Genome Project  \n",
    "│   │   └── BAM - this is empty.  \n",
    "│   ├── Data Requested 2022-08-29 Real Time Clinical Genomics  \n",
    "│   │   └── BAM - this is empty  \n",
    "│   ├── Data Requested 2022-09-02  \n",
    "│   │   └── BAM - this is empty  \n",
    "│   ├── Data Requested 2022-09-06  \n",
    "│   │   └── BAM - (almost) mutually exclusive with restricted.  \n",
    "│   └── restricted  \n",
    "│       └── BAM  \n",
    "└── PedPanCancer ecDNA - These are copied from PedPanCan.  \n",
    "    ├── Data Requested 2022-09-06  \n",
    "    │   └── BAM  \n",
    "    └── restricted  \n",
    "        └── BAM  \n",
    "\n",
    "Conclusion: only the directories copied from PedPanCan to PedPanCancer ecDNA have any WGS of interest here. 'Data Requested 2022-09-06' and 'restricted' directories are (almost) mutually exclusive."
   ]
  },
  {
   "cell_type": "code",
   "execution_count": null,
   "id": "8402d86f-91f4-4c94-b4d7-21de1339e5b4",
   "metadata": {},
   "outputs": [],
   "source": [
    "import dxpy\n",
    "import os"
   ]
  },
  {
   "cell_type": "code",
   "execution_count": null,
   "id": "b834edcf-7fbe-4345-8acd-7253e9d859c3",
   "metadata": {},
   "outputs": [],
   "source": [
    "DX_AUTH_TOKEN = os.getenv('DX_AUTH_TOKEN')\n",
    "dxpy.set_security_context({\"auth_token_type\": \"Bearer\", \"auth_token\": DX_AUTH_TOKEN})"
   ]
  },
  {
   "cell_type": "code",
   "execution_count": null,
   "id": "03368701-9d82-4b02-8343-b608c7bc6176",
   "metadata": {},
   "outputs": [],
   "source": [
    "def validate_file(file):\n",
    "    a = file.split('.')\n",
    "    if a[-1] != 'bam':\n",
    "        return False\n",
    "    if a[1] != 'WholeGenome':\n",
    "        return False\n",
    "    b = a[0].split('_')\n",
    "    t = b[1][0]\n",
    "    if t == 'G' or t == 'X' or t == 'H' or t == 'I':\n",
    "        return False\n",
    "    return True\n",
    "def get_dx_files(project_id,path,validate=True):\n",
    "    gen = dxpy.find_data_objects(project=project_id, folder=path, recurse=False, describe=True)\n",
    "    file_list = set()\n",
    "    for file_obj in gen:\n",
    "        file_name = file_obj['describe']['name']\n",
    "        if validate:\n",
    "            if not validate_file(file_name):\n",
    "                continue\n",
    "        file_list.add(file_name)\n",
    "    return file_list"
   ]
  },
  {
   "cell_type": "code",
   "execution_count": null,
   "id": "52e9bc12-d1cb-49ce-8b76-8cb761575e2b",
   "metadata": {},
   "outputs": [],
   "source": [
    "ppc_id='project-Fk1P9x09ZgZJbb0q38XffZJB'\n",
    "ppce_id='project-Fz9yBjQ9fj2QPbFY16B8JG8X'\n",
    "ppc_829_path='/Data Requested 2022-08-29/BAM/'\n",
    "ppc_96_path='/Data Requested 2022-09-06/BAM/'\n",
    "res_path='/restricted/BAM/'\n",
    "\n",
    "#ppc_829_files = get_dx_files(ppc_id,ppc_829_path)\n",
    "#ppc_96_files = get_dx_files(ppc_id,ppc_96_path)\n",
    "#ppc_res_files = get_dx_files(ppc_id,res_path)\n",
    "ppce_res_files = get_dx_files(ppce_id,res_path)\n",
    "ppce_96_files = get_dx_files(ppce_id,ppc_96_path)"
   ]
  },
  {
   "cell_type": "code",
   "execution_count": null,
   "id": "cae1e0d9-e322-4d97-bcb8-d0b3a28806f1",
   "metadata": {},
   "outputs": [],
   "source": [
    "## comparing actual file sets\n",
    "\n",
    "# ppce sets are almost mutually exclusive (overlap is {'SJBALL030248_D1.WholeGenome.bam', 'SJTALL030047_R1.WholeGenome.bam'})\n",
    "#text_venn2(ppce_96_files,ppce_res_files)\n",
    "\n",
    "# 96 file sets are the same again\n",
    "#text_venn2(ppce_96_files,ppc_96_files)\n",
    "\n",
    "# ppc_96 and restricted file sets are again almost mutually exclusive (overlap is the same as above)\n",
    "#text_venn2(ppc_96_files,ppc_res_files)\n",
    "\n",
    "# restricted file sets are the same again\n",
    "#text_venn2(ppc_res_files,ppce_res_files)"
   ]
  },
  {
   "cell_type": "code",
   "execution_count": null,
   "id": "88cd940e-1401-406b-aa11-4fe994607b72",
   "metadata": {},
   "outputs": [],
   "source": [
    "# comparing sample_info to actual file sets\n",
    "\n",
    "# The sample_info for ppce_96 contains more samples than the actual BAM files\n",
    "#text_venn2(get_file_set(si_ppce_96), ppce_96_files)\n",
    "\n",
    "# The sample_info for 96 also contains info for most but not all of files in restricted. (45 files missing)\n",
    "#text_venn2(get_file_set(si_ppce_96), ppce_res_files)\n",
    "\n",
    "missing = ppce_res_files - get_file_set(si_ppce_96)\n",
    "\n",
    "# f3 and f4 contain the 45 missing files. f4 has the same columns, so let's use that.\n",
    "#text_venn2(missing,get_file_set(f4))\n",
    "\n",
    "# should I use f3 or f4 to supplement info in f1?\n",
    "f1s = set(read_sample_info(f1).columns)\n",
    "f3s = set(read_sample_info(f3).columns)\n",
    "f4s = set(read_sample_info(f4).columns)\n",
    "f1s == f4s\n",
    "\n",
    "missing_samples = list(map(lambda x: x.split('.')[0],missing))"
   ]
  },
  {
   "cell_type": "code",
   "execution_count": null,
   "id": "1d83bb4c-4b73-4d15-bbe5-b3a8585b720a",
   "metadata": {},
   "outputs": [],
   "source": [
    "f1si = read_sample_info(si_ppce_96)\n",
    "f4si = read_sample_info(f4)\n",
    "\n",
    "d1_96 = f1si[f1si.file_name.isin(ppce_96_files) & f1si.file_name.map(validate_file)].copy()\n",
    "d1_96['file_path'] = '/Data Requested 2022-09-06'+d1_96.file_path\n",
    "d1_res = f1si[f1si.file_name.isin(ppce_res_files) & f1si.file_name.map(validate_file)].copy()\n",
    "d1_res['file_path'] = '/restricted'+d1_res.file_path\n",
    "d4 = f4si[f4si.file_name.isin(ppce_res_files) & f4si.file_name.map(validate_file) & ~(f4si.file_name.isin(d1.file_name))]\n",
    "\n",
    "df = pd.concat([d1_res,d4,d1_96]).drop_duplicates('file_name')\n",
    "print(len(df))\n",
    "df.head()\n",
    "\n",
    "df.to_csv('out/SAMPLE_INFO_SJ00.txt',sep='\\t',index=False)"
   ]
  },
  {
   "cell_type": "markdown",
   "id": "b31f70f6-76d2-41ce-a786-011ba3b5f9fb",
   "metadata": {
    "scrolled": true
   },
   "source": [
    "# Inventory AA results\n",
    "We now have a list of all WGS files on PedPanCancer ecDNA of interest to us.\n",
    "- Do we have AA results for all of these?\n",
    "- Do we need to make another request for samples?"
   ]
  },
  {
   "cell_type": "code",
   "execution_count": null,
   "id": "aeaa2580-b4f4-4dac-b34a-bebf53edd4fa",
   "metadata": {},
   "outputs": [],
   "source": [
    "def get_sj_cohort():\n",
    "    asdf = data_imports.get_pedpancan_biosamples_from_AC()\n",
    "    asdf = asdf[asdf.str.startswith('SJ')]\n",
    "    return set(asdf)\n",
    "def get_sample_info(file):\n",
    "    df = pd.read_csv(file,sep='\\t')\n",
    "    # drop hematologic malignancies\n",
    "    #df = df[~(df.attr_diagnosis_group == 'Hematologic Malignancy')]\n",
    "    return df"
   ]
  },
  {
   "cell_type": "code",
   "execution_count": null,
   "id": "f77662dd-519b-4b24-b76e-c84a84897a50",
   "metadata": {},
   "outputs": [],
   "source": [
    "sj_set = get_sj_cohort()\n",
    "all_dnanexus_wgs_set = set(get_sample_info('out/SAMPLE_INFO_SJ00.txt').sample_name)\n",
    "all_dnanexus_wgs_set\n",
    "\n",
    "text_venn2(sj_set,all_dnanexus_wgs_set)"
   ]
  },
  {
   "cell_type": "markdown",
   "id": "2372a410-5143-46c9-aee8-48f1eead397d",
   "metadata": {},
   "source": [
    "# Old shit"
   ]
  },
  {
   "cell_type": "code",
   "execution_count": null,
   "id": "da772509-7b0b-4f34-8f6e-afc15f78be4e",
   "metadata": {},
   "outputs": [],
   "source": []
  },
  {
   "cell_type": "code",
   "execution_count": null,
   "id": "fa7fb5a5-a0dc-43c0-81f1-bc98d60b7815",
   "metadata": {},
   "outputs": [],
   "source": [
    "def get_sj_cohort():\n",
    "    asdf = data_imports.get_pedpancan_biosamples_from_AC()\n",
    "    asdf = asdf[asdf.str.startswith('SJ')]\n",
    "    return set(asdf)\n",
    "def read_sample_info(file):\n",
    "    path=Path('/Users/ochapman/Library/CloudStorage/OneDrive-SanfordBurnhamPrebysMedicalDiscoveryInstitute/projects/2023-pedpancan/data/sjcloud',file)\n",
    "    df = pd.read_csv(path,sep='\\t')\n",
    "    #TODO: remove hematologic malignancies.\n",
    "    #return df[(df.sequencing_type == 'WGS') & (df.file_type == 'BAM') & (df.sample_type != 'germline')]\n",
    "    #hm=[]\n",
    "    return df[(df.sequencing_type == 'WGS') & (df.file_type == 'BAM') & (df.sample_type != 'Germline') & (~df.sj_diseases.isin(hm)) & df.file_path.str.endswith('.bam')]"
   ]
  },
  {
   "cell_type": "code",
   "execution_count": null,
   "id": "2a0273cd-c144-4273-babf-45a59a2c6d15",
   "metadata": {},
   "outputs": [],
   "source": []
  },
  {
   "cell_type": "code",
   "execution_count": null,
   "id": "2ccfb55c-816d-4c37-b5a5-30fe085ad7ff",
   "metadata": {},
   "outputs": [],
   "source": [
    "def text_venn(file):\n",
    "    sj_cohort = get_sj_cohort()\n",
    "    info = set(read_sample_info(file)['sample_name'])\n",
    "    print(f'{file}')\n",
    "    print(f'Samples in cohort not in SAMPLE_INFO: {len(sj_cohort - info)}')\n",
    "    print(f'Samples in SAMPLE_INFO not in cohort: {len(info - sj_cohort)}')\n",
    "    print(f'Overlap: {len(sj_cohort & info)}')\n",
    "    "
   ]
  },
  {
   "cell_type": "code",
   "execution_count": null,
   "id": "f044e52e-82c4-4c61-9d88-16e099324226",
   "metadata": {},
   "outputs": [],
   "source": [
    "text_venn(f1)\n",
    "text_venn(f2)\n",
    "text_venn(f3)\n",
    "text_venn(f4)\n",
    "text_venn(f5)"
   ]
  },
  {
   "cell_type": "code",
   "execution_count": null,
   "id": "9758c7df-084b-46ea-a02c-cb211a51cf41",
   "metadata": {},
   "outputs": [],
   "source": [
    "read_sample_info(si_ppc_829).attr_diagnosis_group.unique()"
   ]
  },
  {
   "cell_type": "code",
   "execution_count": null,
   "id": "0db7803c-9392-4e85-8a31-137e39970b7e",
   "metadata": {},
   "outputs": [],
   "source": [
    "temp = read_sample_info(si_ppc_829)\n",
    "temp[temp.attr_diagnosis_group == 'Not Available']"
   ]
  },
  {
   "cell_type": "code",
   "execution_count": null,
   "id": "5531363d-27e0-4e5d-8dab-cb2ce1b86912",
   "metadata": {},
   "outputs": [],
   "source": []
  }
 ],
 "metadata": {
  "kernelspec": {
   "display_name": "dxpy",
   "language": "python",
   "name": "dxpy"
  },
  "language_info": {
   "codemirror_mode": {
    "name": "ipython",
    "version": 3
   },
   "file_extension": ".py",
   "mimetype": "text/x-python",
   "name": "python",
   "nbconvert_exporter": "python",
   "pygments_lexer": "ipython3",
   "version": "3.10.8"
  }
 },
 "nbformat": 4,
 "nbformat_minor": 5
}
