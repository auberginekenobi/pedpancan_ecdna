{
 "cells": [
  {
   "cell_type": "markdown",
   "id": "b57e27de-c89d-49ac-b2a3-e37cdc1c1906",
   "metadata": {},
   "source": [
    "## Notebook to pull file metadata from CAVATICA to match AmpliconArchitect runs to patient and biosample.\n",
    "### Todo:\n",
    "- Rename and reorganize AA file outputs and/or...\n",
    "- Script a name_map file to map AA results to patient and biosample.\n",
    "\n",
    "### Requires:\n",
    "`mamba install sevenbridges-python pandas ipykernel` \\\n",
    "`python -m ipykernel install --user --name sevenbridges --display-name sevenbridges` \\\n",
    "AmpliconArchitect results are copied to chapmano/pancancer-ecdna/X01-amplicon-architect/amplicon-architect but are also in the CBTN-PBTA dataset.\n",
    "\n",
    "API docs at https://sevenbridges-python.readthedocs.io/en/latest/quickstart.html \\\n",
    "Examples at https://github.com/sbg/okAPI/tree/master/Recipes/SBPLAT"
   ]
  },
  {
   "cell_type": "code",
   "execution_count": null,
   "id": "003d1ff2-60d0-4354-a8f7-c8a99e80a101",
   "metadata": {
    "tags": []
   },
   "outputs": [],
   "source": [
    "import sevenbridges as sbg\n",
    "import pandas as pd\n",
    "import pathlib\n",
    "import os\n",
    "import shutil\n",
    "\n",
    "pd.set_option('display.max_columns', None)"
   ]
  },
  {
   "cell_type": "code",
   "execution_count": null,
   "id": "9d4734d8-ef54-45ef-813e-4eba7ffc0c0c",
   "metadata": {
    "tags": []
   },
   "outputs": [],
   "source": [
    "## Setup API, set global variables\n",
    "\n",
    "# default config location is ~/.sevenbridges/credentials\n",
    "api = sbg.Api(config=sbg.Config(profile='cavatica'))\n",
    "\n",
    "PROJECT_ID='chapmano/pancancer-ecdna'\n",
    "\n",
    "# Setup the output directory\n",
    "OUT_DIR = pathlib.Path(pathlib.Path.cwd(),\"out\")\n",
    "def makedirs(path):\n",
    "    if not os.path.exists(path):\n",
    "        # Create the directory\n",
    "        os.makedirs(path)\n"
   ]
  },
  {
   "cell_type": "markdown",
   "id": "fbebe60d-d4e4-4bf6-8269-9e442eb488d4",
   "metadata": {
    "tags": []
   },
   "source": [
    "## Download X01 dataset AA results"
   ]
  },
  {
   "cell_type": "code",
   "execution_count": null,
   "id": "b67f9b00-4a4c-4ff4-9f65-6fba30999d39",
   "metadata": {
    "tags": []
   },
   "outputs": [],
   "source": [
    "def get_aa_results_directory(cohort=\"X01\"):\n",
    "    '''\n",
    "    Get the ID of the directory containing AA results. \n",
    "    cohort: may be X01, X00 or PNOC\n",
    "    '''\n",
    "    if cohort == \"X01\":\n",
    "        # Looking for chapmano/pancancer-ecdna/X01-amplicon-architect/amplicon-architect.\n",
    "        # idk why this is so hard\n",
    "        cd = api.files.query(project=PROJECT_ID, names=['X01-amplicon-architect'])\n",
    "        cd = api.files.query(parent=cd[0], names=['amplicon-architect'])\n",
    "    elif cohort == \"X00\":\n",
    "        # chapmano/pancancer-ecdna/wgs.\n",
    "        cd = api.files.query(project=PROJECT_ID, names=['wgs'])\n",
    "    elif cohort == \"PNOC\":\n",
    "        # chapmano/pancancer-ecdna/pnoc\n",
    "        cd = api.files.query(project=PROJECT_ID, names=['pnoc'])\n",
    "    return cd[0]\n",
    "\n",
    "AA_RESULTS=get_aa_results_directory(\"X00\")"
   ]
  },
  {
   "cell_type": "code",
   "execution_count": null,
   "id": "43ec80b2-5646-48bb-a98a-dba363225b97",
   "metadata": {
    "tags": []
   },
   "outputs": [],
   "source": [
    "AA_RESULTS"
   ]
  },
  {
   "cell_type": "code",
   "execution_count": null,
   "id": "af782be3-9454-4e08-99bf-8393caee1d72",
   "metadata": {
    "tags": []
   },
   "outputs": [],
   "source": [
    "def get_metadata_table(cohort=\"X01\"):\n",
    "    '''\n",
    "    Generate the metadata table of WGS corresponding to a sub-cohort. \n",
    "    cohort: may be X01, X00 or PNOC\n",
    "    '''\n",
    "    AA_RESULTS=get_aa_results_directory(cohort)\n",
    "    # Assemble table of metadata, one row per file\n",
    "    metadata = pd.DataFrame()\n",
    "    files = api.files.query(parent=AA_RESULTS).all()\n",
    "    for file in files:\n",
    "        df = pd.DataFrame(data=file.metadata,index=[file.name])\n",
    "        metadata = pd.concat([metadata,df])\n",
    "    \n",
    "    metadata = metadata[[\"Kids First Biospecimen ID\",\"gender\",\"race\",\"ethnicity\",\"Kids First Participant ID\",\"disease_type\",\"sample_id\",\"Tumor Descriptor\",\"primary_site\",\"age_at_diagnosis\",\"case_id\"]]\n",
    "    metadata['WGS_UUID'] = metadata.index.map(lambda x: x.split('_')[0]) # 1:1 mapping WGS run to biosample.\n",
    "    metadata['WGS_UUID'] = metadata.index.map(lambda x: x.split('.')[0])\n",
    "    metadata = metadata.set_index('Kids First Biospecimen ID')\n",
    "    metadata = metadata.sort_values([\"Kids First Participant ID\",\"Tumor Descriptor\"])\n",
    "    metadata = metadata.drop_duplicates()\n",
    "    return metadata\n"
   ]
  },
  {
   "cell_type": "code",
   "execution_count": null,
   "id": "492676c5-fbb9-4d6a-9f29-4b4b491c792b",
   "metadata": {},
   "outputs": [],
   "source": [
    "metadata = get_metadata_table(\"PNOC\")\n",
    "#print(f'{len(metadata)} files') 3131 files\n",
    "print(f'{len(metadata.drop_duplicates('Kids First Participant ID'))} unique patients')\n",
    "#print(f'{len(metadata.drop_duplicates('Kids First Biospecimen ID'))} unique biosamples')\n",
    "print(f'Unique sample types: {metadata['Tumor Descriptor'].unique()}')\n",
    "metadata"
   ]
  },
  {
   "cell_type": "code",
   "execution_count": null,
   "id": "13067c93-5fa7-4554-99ab-2d2c4c726186",
   "metadata": {
    "tags": []
   },
   "outputs": [],
   "source": [
    "# Write metadata table\n",
    "def write_metadata_table(metadata,filename=\"X01-biosample-metadata.tsv\"):\n",
    "    makedirs(OUT_DIR)\n",
    "    file_path = pathlib.Path(OUT_DIR,filename)\n",
    "    metadata.to_csv(file_path,sep='\\t')\n",
    "\n",
    "# Write name_map file for AmpliconClassifier\n",
    "def write_name_map(metadata,filename=\"X01-name-map.txt\"):\n",
    "    makedirs(OUT_DIR)\n",
    "    file_path = pathlib.Path(OUT_DIR,filename)\n",
    "    name_map = pd.Series(index=metadata[\"WGS_UUID\"],\n",
    "                         data=(metadata[\"Kids First Participant ID\"] + \"-\" + metadata.index).values)\n",
    "    name_map.to_csv(file_path,sep='\\t',header=False)\n",
    "    return(name_map)"
   ]
  },
  {
   "cell_type": "code",
   "execution_count": null,
   "id": "b8fd00ec-0f26-444e-ac15-ef33499dee63",
   "metadata": {
    "tags": []
   },
   "outputs": [],
   "source": [
    "metadata = get_metadata_table(\"PNOC\")\n",
    "write_metadata_table(metadata,\"PNOC-biosample-metadata.tsv\")\n",
    "#write_name_map(metadata)"
   ]
  },
  {
   "cell_type": "code",
   "execution_count": null,
   "id": "c529f615-8389-4c13-9121-06e3112d79d2",
   "metadata": {
    "tags": []
   },
   "outputs": [],
   "source": [
    "# Rename all the files anyway\n",
    "def rename_AA_outputs(indir, outdir, metadata):\n",
    "    # map UUIDs (useless) to patient and biosample names.\n",
    "    metadata = metadata[[\"WGS_UUID\",\"Kids First Participant ID\",\"Kids First Biospecimen ID\"]].set_index(\"WGS_UUID\")\n",
    "\n",
    "    # Traverse through each file\n",
    "    file_list = os.listdir(indir)\n",
    "    for filename in file_list:\n",
    "        file_path = pathlib.Path(indir, filename)\n",
    "        if os.path.isfile(file_path):\n",
    "            uuid = filename.split('_')[0]\n",
    "            patient_id = metadata.loc[uuid,\"Kids First Participant ID\"]\n",
    "            biosample_id = metadata.loc[uuid,\"Kids First Biospecimen ID\"]\n",
    "            dest = pathlib.Path(outdir, patient_id, biosample_id)\n",
    "            makedirs(dest)\n",
    "            shutil.copy2(file_path,pathlib.Path(dest,filename.replace(uuid,patient_id+\"-\"+biosample_id)))\n",
    "\n",
    "\n",
    "indir = pathlib.Path(pathlib.Path.cwd(),\"data\",\"amplicon-architect\")\n",
    "outdir = pathlib.Path(pathlib.Path.cwd(),\"out\",\"amplicon-architect\")\n",
    "#rename_AA_outputs(indir, outdir, metadata)"
   ]
  },
  {
   "cell_type": "markdown",
   "id": "af427366-ec28-4bf8-9ffa-eb0fb6945b6a",
   "metadata": {},
   "source": [
    "## Download AmpliconSuite-Grouped results"
   ]
  },
  {
   "cell_type": "code",
   "execution_count": null,
   "id": "2af23128-f9ed-4151-bb57-e1e243d30063",
   "metadata": {},
   "outputs": [],
   "source": [
    "ASG_dir_id='66ba7831a4373d49ee84e4e1'\n",
    "\n",
    "def download_asg():\n",
    "    # create directory at ./out/ASG\n",
    "    out_dir = pathlib.Path(OUT_DIR,\"ASG\")\n",
    "    makedirs(out_dir)\n",
    "    # download all results to out/ASG\n",
    "    files = api.files.query(parent=ASG_dir_id).all()\n",
    "    for file in files:\n",
    "        z = pathlib.Path(out_dir,file.name)\n",
    "        unz = pathlib.Path(out_dir,z.stem)\n",
    "        try:\n",
    "            file.download(path=str(z))\n",
    "        except sbg.LocalFileAlreadyExists:\n",
    "            print(f'zip file {file.name} already exists')\n",
    "        shutil.unpack_archive(filename=z,extract_dir=unz)\n",
    "        \n",
    "        break\n",
    "    \n",
    "download_asg()"
   ]
  },
  {
   "cell_type": "code",
   "execution_count": null,
   "id": "4536956a-508f-46a6-94df-3eaf44662482",
   "metadata": {},
   "outputs": [],
   "source": []
  }
 ],
 "metadata": {
  "kernelspec": {
   "display_name": "sevenbridges",
   "language": "python",
   "name": "sevenbridges"
  },
  "language_info": {
   "codemirror_mode": {
    "name": "ipython",
    "version": 3
   },
   "file_extension": ".py",
   "mimetype": "text/x-python",
   "name": "python",
   "nbconvert_exporter": "python",
   "pygments_lexer": "ipython3",
   "version": "3.12.5"
  }
 },
 "nbformat": 4,
 "nbformat_minor": 5
}
