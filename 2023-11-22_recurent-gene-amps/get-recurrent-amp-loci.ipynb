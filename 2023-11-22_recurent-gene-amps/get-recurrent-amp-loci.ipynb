{
 "cells": [
  {
   "cell_type": "code",
   "execution_count": 28,
   "id": "c20edaed-0a5b-4c0b-a4d6-1eea44176cef",
   "metadata": {
    "tags": []
   },
   "outputs": [],
   "source": [
    "import pybedtools as pbt\n",
    "import pandas as pd\n",
    "pbt.helpers.set_bedtools_path(\"/Users/ochapman/miniconda3/envs/pybedtools/bin/bedtools\")\n",
    "pd.set_option('display.max_rows', 100)"
   ]
  },
  {
   "cell_type": "code",
   "execution_count": 33,
   "id": "71c0b0c0-2915-41a1-a83e-7a298fbd164b",
   "metadata": {
    "tags": []
   },
   "outputs": [],
   "source": [
    "def get_recurrently_amplified_loci(filename,min_size=10000):\n",
    "    '''\n",
    "    Get all regions in a bedgraph with count > 1\n",
    "    No idea why this doesn't work in the notebook, only in command prompt python.\n",
    "    '''\n",
    "    a = pd.read_csv(filename, sep='\\t', names=['chrom','start','end','count'])\n",
    "    a = a[a['count'] > 1]\n",
    "    a = pbt.BedTool.from_dataframe(a)\n",
    "    a = a.merge(d=50000)\n",
    "    a['length'] = a['end'] - a['start']\n",
    "    b = a[a[\"length\"] > 50000]\n",
    "    b.to_csv(\"recurrent_amps.bed\", sep='\\t', header=False, index=False)\n",
    "    return b\n"
   ]
  },
  {
   "cell_type": "code",
   "execution_count": 34,
   "id": "45ae4757-9271-49e9-a2c3-9962bb5bb184",
   "metadata": {
    "tags": []
   },
   "outputs": [],
   "source": [
    "bg = 'pedpancan_ec_pileup.bedgraph'\n",
    "bed = get_recurrently_amplified_loci(bg)"
   ]
  },
  {
   "cell_type": "code",
   "execution_count": null,
   "id": "74e33ede-4d1f-4393-8faf-d3ccd3f69f0c",
   "metadata": {
    "tags": []
   },
   "outputs": [],
   "source": []
  },
  {
   "cell_type": "code",
   "execution_count": null,
   "id": "cd67cb4f-3e66-4e12-92b3-54a0e58dcf6a",
   "metadata": {
    "tags": []
   },
   "outputs": [],
   "source": []
  },
  {
   "cell_type": "code",
   "execution_count": null,
   "id": "abb3c53a-f60a-49dd-b1d6-66a0b7f948f3",
   "metadata": {},
   "outputs": [],
   "source": []
  }
 ],
 "metadata": {
  "kernelspec": {
   "display_name": "pybedtools",
   "language": "python",
   "name": "pybedtools"
  },
  "language_info": {
   "codemirror_mode": {
    "name": "ipython",
    "version": 3
   },
   "file_extension": ".py",
   "mimetype": "text/x-python",
   "name": "python",
   "nbconvert_exporter": "python",
   "pygments_lexer": "ipython3",
   "version": "3.10.13"
  }
 },
 "nbformat": 4,
 "nbformat_minor": 5
}
