{
 "cells": [
  {
   "cell_type": "code",
   "execution_count": null,
   "id": "422d2eb9-aae2-4a6a-920d-48feff2b073c",
   "metadata": {},
   "outputs": [],
   "source": [
    "# adapted from:\n",
    "# https://ucdavis-bioinformatics-training.github.io/2018-June-RNA-Seq-Workshop/thursday/DE.html\n",
    "# https://rpubs.com/jrgonzalezISGlobal/transcriptomic_analyses\n",
    "# https://ucdavis-bioinformatics-training.github.io/2018-September-Bioinformatics-Prerequisites/friday/limma_biomart_vignettes.html\n",
    "# https://github.com/kevinblighe/EnhancedVolcano"
   ]
  },
  {
   "cell_type": "code",
   "execution_count": null,
   "id": "7062ba5a-31fd-455c-af18-93112ea0d081",
   "metadata": {
    "scrolled": true
   },
   "outputs": [],
   "source": [
    "# Dependencies\n",
    "Sys.setenv(LANGUAGE = \"en\") # set language to \"ja\" if you prefer\n",
    "\n",
    "suppressWarnings(library(edgeR))\n",
    "suppressWarnings(library(EnhancedVolcano))\n",
    "suppressWarnings(library(patchwork)) # combine plots\n",
    "suppressWarnings(library(magrittr))\n",
    "suppressWarnings(library(tibble))\n",
    "suppressWarnings(library(repr))\n",
    "suppressWarnings(library(stringr))\n",
    "suppressWarnings(library(dplyr))\n",
    "suppressWarnings(library(ggplot2))\n",
    "suppressWarnings(library(extrafont))\n",
    "suppressWarnings(library(svglite))\n",
    "\n",
    "suppressMessages(extrafont::font_import(pattern=\"Arial\",prompt=FALSE))\n",
    "suppressMessages(extrafont::loadfonts())\n",
    "\n",
    "sessionInfo()"
   ]
  },
  {
   "cell_type": "code",
   "execution_count": null,
   "id": "ff897a42-9162-4964-b016-5bb7022e8df8",
   "metadata": {},
   "outputs": [],
   "source": [
    "# imports from external file\n",
    "gex <- new.env()\n",
    "source(\"gex.r\", local = gex)"
   ]
  },
  {
   "cell_type": "markdown",
   "id": "342b4325-8ef2-4ad9-bdef-9c7e21845cf4",
   "metadata": {},
   "source": [
    "# Data import and preprocessing"
   ]
  },
  {
   "cell_type": "code",
   "execution_count": null,
   "id": "689f10fd-1db9-40ed-8db1-d7b48d86a8e4",
   "metadata": {},
   "outputs": [],
   "source": [
    "# Data\n",
    "dir.create(\"figures\", showWarnings = FALSE)\n",
    "dir.create(\"out\", showWarnings = FALSE)\n",
    "\n",
    "path_to_counts =  \"../data/cloud/gex/pbta-rsem-genes.expected_count.tsv\"\n",
    "path_to_annotation = \"../data/cloud/gex/sample_phenotypes.csv\"\n",
    "path_to_gencode = \"../data/cloud/gex/gencode.v47.primary_assembly.basic.annotation.gtf\"\n",
    "\n",
    "data=gex$load_inputs(path_to_counts,path_to_annotation,path_to_gencode) # this will take awhile"
   ]
  },
  {
   "cell_type": "code",
   "execution_count": null,
   "id": "e6afefa9-b714-491b-8a4f-6f9da3cc9b9b",
   "metadata": {},
   "outputs": [],
   "source": [
    "head(data$annot)"
   ]
  },
  {
   "cell_type": "code",
   "execution_count": null,
   "id": "4469e1e8-a93d-4ea3-93af-982660fbd680",
   "metadata": {},
   "outputs": [],
   "source": [
    "head(data$cts)"
   ]
  },
  {
   "cell_type": "code",
   "execution_count": null,
   "id": "acbf5474-8762-41f9-9e69-6c8001a4b484",
   "metadata": {},
   "outputs": [],
   "source": [
    "data$annot %>% dim\n",
    "table(data$annot[c('cancer_type','amplicon_class')])"
   ]
  },
  {
   "cell_type": "code",
   "execution_count": null,
   "id": "b6dafa16-eeec-49fe-b618-19c997ba3d47",
   "metadata": {},
   "outputs": [],
   "source": [
    "## lots of R pacakges work by creating a data *object* and performing matematical transformations on the structured data within.\n",
    "# https://www.rdocumentation.org/packages/edgeR/versions/3.14.0/topics/DGEList-class\n",
    "\n",
    "\n",
    "formula = ~ data$annot$cohort + data$annot$sex + data$annot$tumor_history + data$annot$age_at_diagnosis + data$annot$extent_of_tumor_resection + \n",
    "            data$annot$cancer_type + data$annot$amplified + data$annot$ecDNA\n",
    "\n",
    "dge = gex$setup_preprocess_dge(data,formula)"
   ]
  },
  {
   "cell_type": "markdown",
   "id": "4a40d1fc-565f-4ca3-96cb-fb511bb82236",
   "metadata": {},
   "source": [
    "# Batch correction and outlier detection\n",
    "No need to run this section;  \n",
    "No batch effect or outliers detected by cohort after removing noncoding genes."
   ]
  },
  {
   "cell_type": "code",
   "execution_count": null,
   "id": "c9a264b6-b618-4a6a-80ce-31a1b06d3134",
   "metadata": {},
   "outputs": [],
   "source": [
    "# Looks like samples cluster by cohort, with a few odd outliers.\n",
    "options(repr.plot.width = 8, repr.plot.height = 6)\n",
    "colors <- c(\"blue\",\"red\",\"dark green\")[as.factor(data$annot$cohort)]\n",
    "mds = plotMDS(dge, gene.selection = \"common\", col = colors, pch=16)"
   ]
  },
  {
   "cell_type": "code",
   "execution_count": null,
   "id": "376115b0-a172-4fd7-bd03-b675de67888b",
   "metadata": {},
   "outputs": [],
   "source": [
    "# Corrected expression\n",
    "# NB: no need to log transform before correction; identical results.\n",
    "# PCs 1 and 2 driven by extreme values in a handful of outliers\n",
    "dgec <- removeBatchEffect(dge,batch=as.factor(data$annot$cohort))\n",
    "options(repr.plot.width = 8, repr.plot.height = 6)\n",
    "colors <- c(\"blue\",\"red\",\"dark green\")[as.factor(data$annot$cohort)]\n",
    "mdsc = plotMDS(dgec, gene.selection = \"common\", col = colors, pch=16)"
   ]
  },
  {
   "cell_type": "code",
   "execution_count": null,
   "id": "cb555ba8-fb7e-41e3-ab52-6e9e8bf65441",
   "metadata": {
    "scrolled": true
   },
   "outputs": [],
   "source": [
    "mx = median(mds$x)\n",
    "sx = sd(mds$x)\n",
    "my = median(mds$y)\n",
    "sy = sd(mds$y)\n",
    "outlier_mask <- (mds$y < my-3*sy) | (mds$y > my+3*sy) | (mds$x < mx-3*sx) | (mds$x > mx+3*sx)\n",
    "paste(\"Identified\",sum(outlier_mask),\"outlier samples\")\n",
    "data$annot[outlier_mask,]"
   ]
  },
  {
   "cell_type": "code",
   "execution_count": null,
   "id": "d8a15676-f6f6-4be3-9af5-fa2ce382c1d1",
   "metadata": {},
   "outputs": [],
   "source": [
    "# Corrected expression sans outliers\n",
    "# Cohorts now overlap, but PC1 describes cohort 1 variance and PC2 describes cohort 2.\n",
    "options(repr.plot.width = 8, repr.plot.height = 6)\n",
    "colors <- c(\"blue\",\"red\",\"dark green\")[as.factor(data$annot$cohort[!outlier_mask])]\n",
    "mdsc = plotMDS(dgec[,!outlier_mask], gene.selection = \"common\", col = colors, pch=16)"
   ]
  },
  {
   "cell_type": "code",
   "execution_count": null,
   "id": "7d2023ee-51dc-4889-a2e3-a4b6c7fafd45",
   "metadata": {},
   "outputs": [],
   "source": [
    "# Regenerate the dataset sans outliers\n",
    "# Outliers are hardcoded here if you don't want to run the previous lines of code\n",
    "if (exists(\"outlier_mask\")){\n",
    "    outliers <- data$annot[outlier_mask,] %>% rownames\n",
    "} else {\n",
    "    outliers=c('7316-13','7316-1082','7316-2744','7316-3645','7316-170','7316-9449','7316-1089','7316-290','7316-2144','7316-1886',\n",
    "               '7316-3028','7316-2589','7316-2071','7316-3657','7316-3061','7316-477','7316-2614','7316-2138','7316-291')\n",
    "    outlers=c()\n",
    "}\n",
    "data$cts <- data$cts[,which(!(colnames(data$cts) %in% outliers))] \n",
    "data$annot <- data$annot[which(!(rownames(data$annot) %in% outliers)),]"
   ]
  },
  {
   "cell_type": "markdown",
   "id": "779c6774-3647-4669-b10c-010453702c45",
   "metadata": {},
   "source": [
    "# Model fitting"
   ]
  },
  {
   "cell_type": "code",
   "execution_count": null,
   "id": "779855d7-7ce9-4568-aaa8-9e6a05a876ff",
   "metadata": {},
   "outputs": [],
   "source": [
    "fit_dge_lm <- function(dge,design){\n",
    "    # This takes a minute\n",
    "    options(repr.plot.width=7, repr.plot.height=7)\n",
    "    message(\"Fitting voom normalization...\")\n",
    "    v <- voom(dge, design, plot=TRUE)\n",
    "    \n",
    "    message(\"Fitting linear model...\")\n",
    "    fit <- lmFit(v,design)\n",
    "    \n",
    "    message(\"Calculating emperical bayes statistics...\")\n",
    "    fit <- eBayes(fit,robust=TRUE)\n",
    "    return(fit)\n",
    "}\n",
    "\n",
    "design <- model.matrix(formula)\n",
    "fit <- fit_dge_lm(dge,design)"
   ]
  },
  {
   "cell_type": "code",
   "execution_count": null,
   "id": "35f0daae-8a31-486a-bdd7-2580040dbf75",
   "metadata": {},
   "outputs": [],
   "source": [
    "# Apply multiple testing correction and obtain stats\n",
    "ecDNA_comparison = ncol(design)\n",
    "amp_comparison = ncol(design)-1\n",
    "get_de_genes <- function(fit,comparison_index){\n",
    "    print(paste(\"Getting DE genes w.r.t.\",colnames(fit$design)[comparison_index]))\n",
    "    stats_df <- topTable(fit,n=Inf,coef=comparison_index) %>% tibble\n",
    "    print(stats_df %>% head)\n",
    "    return(stats_df)\n",
    "}\n",
    "ec_stats_df = get_de_genes(fit,ecDNA_comparison)\n",
    "amp_stats_df = get_de_genes(fit,amp_comparison)"
   ]
  },
  {
   "cell_type": "code",
   "execution_count": null,
   "id": "f710f120-99c9-41af-a294-f3cf76aab57e",
   "metadata": {},
   "outputs": [],
   "source": [
    "hits <- ec_stats_df %>% \n",
    "    #filter(adj.P.Val < 0.10) %>%\n",
    "    arrange(desc(logFC))\n",
    "hits %>% head(n=30)\n",
    "write.table(hits, file='out/differential_expression_ecDNA.tsv',quote=FALSE,sep='\\t',row.names=FALSE)\n",
    "write.table(amp_stats_df %>% arrange(desc(logFC)), file='out/differential_expression_amp.tsv',quote=FALSE,sep='\\t',row.names=FALSE)"
   ]
  },
  {
   "cell_type": "code",
   "execution_count": null,
   "id": "4c0adf7b-10ec-400a-bee7-d6371ed45fb2",
   "metadata": {
    "scrolled": true
   },
   "outputs": [],
   "source": [
    "hits %>% tail(n=30)"
   ]
  },
  {
   "cell_type": "code",
   "execution_count": null,
   "id": "53a80a58-23e3-4ac3-8d17-5766bbeb9338",
   "metadata": {},
   "outputs": [],
   "source": [
    "## Plotting code\n",
    "\n",
    "color_code <- list(\n",
    "  \"replication-dependent histones\" = \"blue\",\n",
    "  \"replication-independent histones\" = \"darkgreen \",\n",
    "  \"histone pseudogenes\" = \"darkorange\",\n",
    "  \"other\" = \"grey50\",\n",
    "  'c-NHEJ' = 'royalblue3',\n",
    "  'Alt-EJ' = 'darkblue',\n",
    "  'SSA' = 'blue3',\n",
    "  'HR' = 'purple4',\n",
    "  'HOXA@' = 'black',\n",
    "  'HOXB@' = 'cyan',\n",
    "  'HOXC@' = 'mediumorchid4',\n",
    "  'HOXD@' = 'slateblue4'\n",
    ")\n",
    "ylabel=expression(-Log[10]*\"(\"*italic(q)*\")\")\n",
    "\n",
    "base_theme <- theme_classic(base_size=7, base_family=\"Arial\",) +\n",
    "    theme(axis.text = element_text(size=7,colour=\"black\"))\n",
    "theme_set(base_theme)\n",
    "\n",
    "osc_volcano_i <- function(stats_df,gene_set,gene_set_name){\n",
    "    # Highlight a specific gene set. Plot axes specific to ecDNA FC and qvalues.\n",
    "    stats_df$highlight = stats_df$ID %in% gene_set\n",
    "    stats_df <- stats_df[order(stats_df$highlight),]\n",
    "    colCustom <- c(ifelse(stats_df$highlight, color_code[[gene_set_name]], \"grey50\"))\n",
    "    names(colCustom) <- c(ifelse(stats_df$highlight, gene_set_name, \"other\"))\n",
    "    plt <- EnhancedVolcano(stats_df,\n",
    "                    lab = stats_df$'ID',\n",
    "                    title = NULL,\n",
    "                    subtitle = NULL,\n",
    "                    caption = NULL,\n",
    "                    axisLabSize = 14,\n",
    "                    x = 'logFC',\n",
    "                    y = \"adj.P.Val\",\n",
    "                    xlim = c(-4,4),\n",
    "                    ylim = c(0,4),\n",
    "                    pCutoff = 0.05,\n",
    "                    FCcutoff = 10,\n",
    "                    labSize=0,\n",
    "                    pointSize = c(ifelse(stats_df$highlight, 3, 1)),\n",
    "                    colCustom = colCustom,\n",
    "                    colAlpha = .6\n",
    "                    ) %>% suppressWarnings\n",
    "    options(repr.plot.width=18, repr.plot.height=7)\n",
    "    return(plt + ylab(ylabel)) #+ lims(x=c(0,4),y=c(-4,4))\n",
    "}\n",
    "\n",
    "osc_volcano_ii <- function(stats_df,gene_set,gene_set_name){\n",
    "    # Highlight a specific gene set. Plot axes specific to amp FC and qvalues.\n",
    "    stats_df$highlight = stats_df$ID %in% gene_set\n",
    "    stats_df <- stats_df[order(stats_df$highlight),]\n",
    "    colCustom <- c(ifelse(stats_df$highlight, color_code[[gene_set_name]], \"grey50\"))\n",
    "    names(colCustom) <- c(ifelse(stats_df$highlight, gene_set_name, \"other\"))\n",
    "    plt <- EnhancedVolcano(stats_df,\n",
    "                    lab = stats_df$'ID',\n",
    "                    title = NULL,\n",
    "                    subtitle = NULL,\n",
    "                    caption = NULL,\n",
    "                    axisLabSize = 14,\n",
    "                    x = 'logFC',\n",
    "                    y = \"adj.P.Val\",\n",
    "                    xlim = c(-4,4),\n",
    "                    ylim = c(0,25),\n",
    "                    pCutoff = 0.05,\n",
    "                    FCcutoff = 10,\n",
    "                    labSize=0,\n",
    "                    pointSize = c(ifelse(stats_df$highlight, 3, 1)),\n",
    "                    colCustom = colCustom,\n",
    "                    colAlpha = .6\n",
    "                    ) %>% suppressWarnings\n",
    "    options(repr.plot.width=18, repr.plot.height=7)\n",
    "    return(plt + ylab(ylabel)) #+ lims(x=c(0,4),y=c(-4,4))\n",
    "}\n",
    "\n",
    "osc_volcano_v <- function(stats_df){\n",
    "    highlight <- c('GFAP','HOXA6','HOXA9','HOXA10','S100B','XRCC4','CCNB1','CCNA2','CIP2A','FEN1','MYCN',\n",
    "                  'RAD51','SMC2','RAD17','PRIM2','TIMELESS','CDK7','CDK1',\n",
    "                  #'CENPK','AURKA','CENPN','CENPL',\n",
    "                  'H3C15','H2AW','H2BU1', 'H3C13','H3C14','H3C11','H3C4','H2BC18','H2AC13','H4C13','H1-5',\n",
    "                   'H2AC11','H2BU1','H4C3')\n",
    "    stats_df$highlight = ifelse(stats_df$ID %in% highlight,\"notable significant\",\"other\")\n",
    "    stats_df <- stats_df[order(stats_df$highlight=='other',decreasing=TRUE),]\n",
    "    stats_df$color <- ifelse(stats_df$highlight=='other','grey50','black')\n",
    "    sapply(stats_df$highlight, function(x) color_code[[x]])\n",
    "       \n",
    "    plt <- EnhancedVolcano(stats_df,\n",
    "                lab = stats_df$'ID',\n",
    "                title = NULL,\n",
    "                subtitle = NULL,\n",
    "                caption = NULL,\n",
    "                axisLabSize = 14,\n",
    "                x = 'logFC',\n",
    "                y = \"adj.P.Val\",\n",
    "                #xlim = c(-2.75,2.75),\n",
    "                ylim = c(0,4),\n",
    "                pCutoff = 0.05,\n",
    "                selectLab = highlight,\n",
    "                labSize = 4.21644413212,#3.37315530569,#\n",
    "                FCcutoff = 10,\n",
    "                vline = NULL, \n",
    "                vlineType = \"blank\",\n",
    "                legendPosition = \"none\",\n",
    "                pointSize = c(ifelse(stats_df$highlight == \"other\", 1, 3)),\n",
    "                colCustom = setNames(stats_df$color,stats_df$highlight),\n",
    "                drawConnectors = TRUE,\n",
    "                maxoverlapsConnectors = Inf,\n",
    "                lengthConnectors = unit(0, \"npc\"),\n",
    "                colAlpha = .6\n",
    "                ) %>% suppressWarnings\n",
    "    options(repr.plot.width=5, repr.plot.height=5)\n",
    "    return(plt + ylab(ylabel))\n",
    "}"
   ]
  },
  {
   "cell_type": "code",
   "execution_count": null,
   "id": "96e6d33f-78db-4cca-bb1b-fba25f8f791e",
   "metadata": {},
   "outputs": [],
   "source": [
    "options(warn=-1)\n",
    "plt <- osc_volcano_v(ec_stats_df)\n",
    "w=14.4/4;h=3.55\n",
    "options(repr.plot.width=2*w, repr.plot.height=2*h)\n",
    "#gex$write_plot(plt,\"selected_volcano\",w,h)\n",
    "plt\n",
    "options(warn=0)"
   ]
  },
  {
   "cell_type": "code",
   "execution_count": null,
   "id": "92c33065-83a8-4a18-b406-c993a69ea943",
   "metadata": {},
   "outputs": [],
   "source": [
    "options(warn=-1)\n",
    "histone_sets = gex$read_gmt(\"out/histone-sets.gmt\")\n",
    "rdh = histone_sets[['replication_dependent_histones']]\n",
    "nrdh = histone_sets[['replication_independent_histones']]\n",
    "H_pseudogenes = histone_sets[['histone_pseudogenes']]\n",
    "p1 = osc_volcano_i(ec_stats_df,rdh,'replication-dependent histones')\n",
    "p2 = osc_volcano_i(ec_stats_df,nrdh,'replication-independent histones')\n",
    "#p3 = osc_volcano_i(ec_stats_df,H_pseudogenes, 'histone pseudogenes')\n",
    "p4 = osc_volcano_ii(amp_stats_df,rdh,'replication-dependent histones')\n",
    "p5 = osc_volcano_ii(amp_stats_df,nrdh,'replication-independent histones')\n",
    "#p6 = osc_volcano_ii(amp_stats_df,H_pseudogenes, 'histone pseudogenes')\n",
    "plt <- (p1+p2)/(p4+p5)\n",
    "w=14.4/4*2;h=9\n",
    "options(repr.plot.width=w, repr.plot.height=h)\n",
    "gex$write_plot(plt,\"rdh_volcano\",w,h)\n",
    "plt\n",
    "options(warn=0)"
   ]
  },
  {
   "cell_type": "code",
   "execution_count": null,
   "id": "d2e21d80-fc54-4eac-91ed-0e55b7025d01",
   "metadata": {},
   "outputs": [],
   "source": [
    "options(warn=-1)\n",
    "dsbr_sets = gex$read_gmt(\"out/dsbr-sets.gmt\")\n",
    "p1 <- osc_volcano_i(ec_stats_df,dsbr_sets[[\"c-NHEJ\"]],'c-NHEJ') |\n",
    "osc_volcano_i(ec_stats_df,dsbr_sets[[\"Alt-EJ\"]],'Alt-EJ') |\n",
    "osc_volcano_i(ec_stats_df,dsbr_sets[[\"SSA\"]], 'SSA') | \n",
    "osc_volcano_i(ec_stats_df,dsbr_sets[[\"HR\"]], 'HR')\n",
    "p2 <- osc_volcano_ii(amp_stats_df,dsbr_sets[[\"c-NHEJ\"]],'c-NHEJ') |\n",
    "osc_volcano_ii(amp_stats_df,dsbr_sets[[\"Alt-EJ\"]],'Alt-EJ') |\n",
    "osc_volcano_ii(amp_stats_df,dsbr_sets[[\"SSA\"]], 'SSA') | \n",
    "osc_volcano_ii(amp_stats_df,dsbr_sets[[\"HR\"]], 'HR')\n",
    "plt = p1/p2\n",
    "w=14.4;h=9\n",
    "options(repr.plot.width=w, repr.plot.height=h)\n",
    "gex$write_plot(plt,\"dsbr_volcano\",w,h)\n",
    "\n",
    "plt \n",
    "options(warn=0)"
   ]
  },
  {
   "cell_type": "code",
   "execution_count": null,
   "id": "788e01a3-ba91-4d0d-9c7f-088b5efcce08",
   "metadata": {},
   "outputs": [],
   "source": [
    "options(warn=-1)\n",
    "hox_sets = gex$read_gmt(\"out/hox-sets.gmt\")\n",
    "p1 <- osc_volcano_i(ec_stats_df,hox_sets[[\"HOXA@\"]],'HOXA@') |\n",
    "osc_volcano_i(ec_stats_df,hox_sets[[\"HOXB@\"]],'HOXB@') |\n",
    "osc_volcano_i(ec_stats_df,hox_sets[[\"HOXC@\"]], 'HOXC@') | \n",
    "osc_volcano_i(ec_stats_df,hox_sets[[\"HOXD@\"]], 'HOXD@')\n",
    "p2 <- osc_volcano_ii(amp_stats_df,hox_sets[[\"HOXA@\"]],'HOXA@') |\n",
    "osc_volcano_ii(amp_stats_df,hox_sets[[\"HOXB@\"]],'HOXB@') |\n",
    "osc_volcano_ii(amp_stats_df,hox_sets[[\"HOXC@\"]], 'HOXC@') | \n",
    "osc_volcano_ii(amp_stats_df,hox_sets[[\"HOXD@\"]], 'HOXD@')\n",
    "plt = p1/p2\n",
    "w=14.4;h=9\n",
    "options(repr.plot.width=w, repr.plot.height=h)\n",
    "gex$write_plot(plt,\"hox_volcano\",w,h)\n",
    "\n",
    "plt\n",
    "options(warn=0)"
   ]
  },
  {
   "cell_type": "markdown",
   "id": "c7a4931b-3236-4a5c-a8ee-cef489f4200b",
   "metadata": {},
   "source": [
    "# Alternative model not correcting for amplification\n",
    "Specifies a glm with ecDNA as a covariate but not amplification."
   ]
  },
  {
   "cell_type": "code",
   "execution_count": null,
   "id": "dd7a0970-3e38-44d6-af6d-c21614695af3",
   "metadata": {},
   "outputs": [],
   "source": [
    "# rerun if you don't want to correct for cohort.\n",
    "formula_alt = ~ data$annot$sex + data$annot$tumor_history + data$annot$age_at_diagnosis + data$annot$extent_of_tumor_resection + \n",
    "            data$annot$cancer_type + data$annot$ecDNA\n",
    "dge_alt = gex$setup_preprocess_dge(data,formula_alt)\n",
    "\n",
    "design_alt <- model.matrix(formula_alt)\n",
    "fit_alt <- fit_dge_lm(dge_alt,design_alt)\n",
    "\n",
    "ecDNA_comparison_alt = ncol(design_alt)\n",
    "alt_stats_df = get_de_genes(fit_alt,ecDNA_comparison_alt)"
   ]
  },
  {
   "cell_type": "code",
   "execution_count": null,
   "id": "c78d6601-b4c7-4dec-a159-f35843bdafef",
   "metadata": {},
   "outputs": [],
   "source": [
    "write.table(alt_stats_df %>% arrange(desc(logFC)), file='out/differential_expression_alt.tsv',quote=FALSE,sep='\\t',row.names=FALSE)"
   ]
  },
  {
   "cell_type": "code",
   "execution_count": null,
   "id": "e4bda4e8-6718-4f52-8684-ee8e6916a215",
   "metadata": {},
   "outputs": [],
   "source": [
    "library(ggVennDiagram)\n",
    "qt = 0.05\n",
    "upregulated <- list(\n",
    "    ec = (ec_stats_df %>% filter(adj.P.Val < qt) %>% filter(logFC > 0))$ID,\n",
    "    amp = (amp_stats_df %>% filter(adj.P.Val < qt) %>% filter(logFC > 0))$ID,\n",
    "    alt = (alt_stats_df %>% filter(adj.P.Val < qt) %>% filter(logFC > 0))$ID\n",
    ")\n",
    "downregulated <- list(\n",
    "    ec = (ec_stats_df %>% filter(adj.P.Val < qt) %>% filter(logFC < 0))$ID,\n",
    "    amp = (amp_stats_df %>% filter(adj.P.Val < qt) %>% filter(logFC < 0))$ID,\n",
    "    alt = (alt_stats_df %>% filter(adj.P.Val < qt) %>% filter(logFC < 0))$ID\n",
    ")\n",
    "p1 = ggVennDiagram(upregulated, category.names = c(\"ec controlling for amp\",\"amplified\",\"ec not controlling for amp\")) + \n",
    "    scale_x_continuous(expand = expansion(mult = .3)) + \n",
    "    scale_fill_distiller(palette = \"Reds\", direction=1) + \n",
    "    ggtitle(paste0(\"Significantly upregulated genes (q < \",qt,\")\"))\n",
    "p2 = ggVennDiagram(downregulated, category.names = c(\"ec controlling for amp\",\"amplified\",\"ec not controlling for amp\")) + \n",
    "    scale_x_continuous(expand = expansion(mult = .3)) + \n",
    "    scale_fill_distiller(palette = \"Blues\", direction=1) + \n",
    "    ggtitle(paste0(\"Significantly downregulated genes (q < \",qt,\")\"))\n",
    "\n",
    "p3 = Venn(upregulated[c(1,3)], names = c(\"ec controlling for amp\",\"ec not controlling for amp\")) %>%\n",
    "    process_data(shape_id = \"201\") %>%\n",
    "    plot_venn() + \n",
    "    #scale_x_continuous(expand = expansion(mult = .2)) + \n",
    "    scale_fill_distiller(palette = \"Reds\", direction=1) + \n",
    "    ggtitle(paste0(\"Significantly upregulated genes (q < \",qt,\")\"))\n",
    "\n",
    "p4 = Venn(downregulated[c(1,3)], names = c(\"ec controlling for amp\",\"ec not controlling for amp\")) %>%\n",
    "    process_data(shape_id = \"201\") %>%\n",
    "    plot_venn() + \n",
    "    #scale_x_continuous(expand = expansion(mult = .2)) + \n",
    "    scale_fill_distiller(palette = \"Blues\", direction=1) + \n",
    "    ggtitle(paste0(\"Significantly downregulated genes (q < \",qt,\")\"))\n",
    "\n",
    "plt <- (p1 + p2) / (p3 + p4)\n",
    "w=12;h=10\n",
    "options(repr.plot.width=w, repr.plot.height=h)\n",
    "gex$write_plot(plt,\"venns\",w,h)\n",
    "\n",
    "plt"
   ]
  },
  {
   "cell_type": "markdown",
   "id": "d63226cd-65fc-42aa-9666-eef61cf25d09",
   "metadata": {},
   "source": [
    "# Regression w.r.t. age for no particular reason"
   ]
  },
  {
   "cell_type": "code",
   "execution_count": null,
   "id": "17659558-fbf8-4425-a1c1-4d672020053a",
   "metadata": {
    "scrolled": true
   },
   "outputs": [],
   "source": [
    "# reminder, here's what the formula for our regresison looks like\n",
    "#formula = ~ data$annot$cohort + data$annot$sex + data$annot$tumor_history + data$annot$age_at_diagnosis + data$annot$extent_of_tumor_resection + \n",
    "#            data$annot$cancer_type + data$annot$amplified + data$annot$ecDNA\n",
    "age_comparison = 11\n",
    "age_stats_df = get_de_genes(fit,age_comparison)\n",
    "age_stats_df %>% head(n=30)"
   ]
  },
  {
   "cell_type": "code",
   "execution_count": null,
   "id": "a9cb5fcb-fd78-4040-ae79-8f8c13f3acf8",
   "metadata": {},
   "outputs": [],
   "source": [
    "# plot counts by variable\n",
    "plot_gex <- function(dge,annot,gene,covariate){\n",
    "    y = (dge %>% cpm)[gene,]\n",
    "    x = annot[[covariate]]\n",
    "    model <- lm(y ~ x)\n",
    "    intercept <- coef(model)[1]\n",
    "    slope <- coef(model)[2]\n",
    "    message(paste('slope:',slope,'intercept:',intercept))\n",
    "    if (class(x) == 'numeric'){\n",
    "        plot_type=geom_point()\n",
    "        adjust=0\n",
    "    } else if(class(x) == 'logical'){\n",
    "        plot_type=geom_boxplot()\n",
    "        adjust=intercept*0.5\n",
    "    } else{\n",
    "        stop('not implemented')\n",
    "    }\n",
    "    data = data.frame(x=x,y=y)\n",
    "    plt <- ggplot(data,aes(x=x,y=y)) +\n",
    "        plot_type +\n",
    "        geom_abline(intercept = intercept+adjust, slope = slope, color = \"blue\") + \n",
    "        theme_classic(base_size=14, base_family=\"Arial\",) +\n",
    "        theme(axis.text = element_text(size=14,colour=\"black\"))+\n",
    "        labs(x = covariate, y = paste0(gene,\" expression\"))\n",
    "    return(plt)\n",
    "}\n",
    "w=8;h=8\n",
    "options(repr.plot.width=w, repr.plot.height=h)\n",
    "plot_gex(dge,data$annot,'CBX7','age_at_diagnosis')"
   ]
  },
  {
   "cell_type": "code",
   "execution_count": null,
   "id": "90ab1867-0ea2-4b6b-b9c0-6238af0a9a5b",
   "metadata": {},
   "outputs": [],
   "source": [
    "w=8;h=8\n",
    "options(repr.plot.width=w, repr.plot.height=h)\n",
    "plot_gex(dge,data$annot,'CBX7','amplified')"
   ]
  },
  {
   "cell_type": "markdown",
   "id": "355e2fdf-5a56-4469-b5f7-a9b6462bde0b",
   "metadata": {},
   "source": [
    "# Old plots"
   ]
  },
  {
   "cell_type": "code",
   "execution_count": null,
   "id": "e92b868e-893f-479b-8bab-19d746125a54",
   "metadata": {},
   "outputs": [],
   "source": [
    "osc_volcano_i <- function(stats_df,gene_set,gene_set_name){\n",
    "    highlight <- stats_df$ID %in% gene_set\n",
    "    plt <- EnhancedVolcano(stats_df,\n",
    "                    lab = stats_df$'ID',\n",
    "                    title = NULL,\n",
    "                    subtitle = NULL,\n",
    "                    caption = NULL,\n",
    "                    axisLabSize = 14,\n",
    "                    x = 'logFC',\n",
    "                    y = \"adj.P.Val\",\n",
    "                    xlim = c(-3,3),\n",
    "                    ylim = c(0,3),\n",
    "                    pCutoff = 0.05,\n",
    "                    drawConnectors = TRUE,\n",
    "                    maxoverlapsConnectors = Inf,\n",
    "                    #lengthConnectors = unit(2, \"npc\"),\n",
    "                    selectLab = gene_set,\n",
    "                    pointSize = c(ifelse(highlight, 3, 1)),\n",
    "                    )\n",
    "    options(repr.plot.width=18, repr.plot.height=7)\n",
    "    return(plt)\n",
    "}\n",
    "\n",
    "osc_volcano_iii <- function(stats_df){\n",
    "    stats_df$highlight = ifelse(stats_df$ID %in% rdh,\"replication-dependent histones\",\n",
    "                                ifelse(stats_df$ID %in% nrdh, \"canonical histones\",\n",
    "                                       ifelse(stats_df$ID %in% H_pseudogenes, \"histone pseudogenes\", \"other\")))\n",
    "    stats_df <- stats_df[order(stats_df$highlight=='other',decreasing=TRUE),]\n",
    "    stats_df$color <- sapply(stats_df$highlight, function(x) color_code[[x]])\n",
    "                             \n",
    "    plt <- EnhancedVolcano(stats_df,\n",
    "                    lab = stats_df$'ID',\n",
    "                    title = NULL,\n",
    "                    subtitle = NULL,\n",
    "                    caption = NULL,\n",
    "                    axisLabSize = 14,\n",
    "                    x = 'logFC',\n",
    "                    y = \"adj.P.Val\",\n",
    "                    xlim = c(-2.75,2.75),\n",
    "                    ylim = c(0,3),\n",
    "                    pCutoff = 0.05,\n",
    "                    FCcutoff = 10,\n",
    "                    labSize=0,\n",
    "                    pointSize = c(ifelse(stats_df$highlight == \"other\", 1, 3)),\n",
    "                    colCustom = setNames(stats_df$color,stats_df$highlight)\n",
    "                    )\n",
    "    options(repr.plot.width=8, repr.plot.height=9)\n",
    "    return(plt + ylab(ylabel)) #+ lims(x=c(0,4),y=c(-4,4))\n",
    "}\n",
    "\n",
    "osc_volcano_iv <- function(stats_df){\n",
    "    plt <- EnhancedVolcano(stats_df,\n",
    "                lab = stats_df$'ID',\n",
    "                title = NULL,\n",
    "                subtitle = NULL,\n",
    "                caption = NULL,\n",
    "                axisLabSize = 14,\n",
    "                x = 'logFC',\n",
    "                y = \"adj.P.Val\",\n",
    "                xlim = c(-2.75,2.75),\n",
    "                ylim = c(0,3),\n",
    "                pCutoff = 0.05,\n",
    "                drawConnectors = TRUE,\n",
    "                maxoverlapsConnectors = Inf,\n",
    "                lengthConnectors = unit(0, \"npc\"),   \n",
    "                )\n",
    "    options(repr.plot.width=12, repr.plot.height=12)\n",
    "    return(plt)\n",
    "}"
   ]
  },
  {
   "cell_type": "code",
   "execution_count": null,
   "id": "73d01d91-29b7-4fe0-a20f-fe8707c0b70a",
   "metadata": {},
   "outputs": [],
   "source": [
    "osc_volcano_i(ec_stats_df,rdh) +\n",
    "osc_volcano_i(ec_stats_df,nrdh) + \n",
    "osc_volcano_i(ec_stats_df,H_pseudogenes)"
   ]
  },
  {
   "cell_type": "code",
   "execution_count": null,
   "id": "00c132ca-a80d-43a0-bc4e-974021dcfee7",
   "metadata": {},
   "outputs": [],
   "source": [
    "plt <- osc_volcano_iv(ec_stats_df)\n",
    "#write_plot(plt,\"sig_volcano\",11,11)\n",
    "plt"
   ]
  },
  {
   "cell_type": "code",
   "execution_count": null,
   "id": "67edf283-ff11-41b8-9963-9fe263d69594",
   "metadata": {},
   "outputs": [],
   "source": [
    "plt <- osc_volcano_iv(amp_stats_df)\n",
    "plt"
   ]
  },
  {
   "cell_type": "code",
   "execution_count": null,
   "id": "84fb2838-cd17-40c5-8659-20ba295c2299",
   "metadata": {},
   "outputs": [],
   "source": []
  }
 ],
 "metadata": {
  "kernelspec": {
   "display_name": "differential-expression",
   "language": "R",
   "name": "differential-expression"
  },
  "language_info": {
   "codemirror_mode": "r",
   "file_extension": ".r",
   "mimetype": "text/x-r-source",
   "name": "R",
   "pygments_lexer": "r",
   "version": "4.4.2"
  }
 },
 "nbformat": 4,
 "nbformat_minor": 5
}
