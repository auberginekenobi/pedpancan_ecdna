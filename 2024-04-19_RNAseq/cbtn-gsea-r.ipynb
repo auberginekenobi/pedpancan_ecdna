{
 "cells": [
  {
   "cell_type": "code",
   "execution_count": null,
   "id": "f77183e0-fedc-471c-a37f-d5a7634eb7bb",
   "metadata": {
    "scrolled": true
   },
   "outputs": [],
   "source": [
    "# Dependencies\n",
    "Sys.setenv(LANGUAGE = \"en\") # set language to \"ja\" if you prefer\n",
    "\n",
    "suppressWarnings(library(edgeR))\n",
    "suppressWarnings(library(patchwork)) # combine plots\n",
    "suppressWarnings(library(magrittr))\n",
    "suppressWarnings(library(tibble))\n",
    "suppressWarnings(library(repr))\n",
    "suppressWarnings(library(stringr))\n",
    "suppressWarnings(library(dplyr))\n",
    "suppressWarnings(library(ggplot2))\n",
    "suppressWarnings(library(extrafont))\n",
    "suppressWarnings(library(svglite))\n",
    "suppressWarnings(library(RColorBrewer))\n",
    "suppressWarnings(library(sva))\n",
    "\n",
    "suppressMessages(extrafont::font_import(pattern=\"Arial\",prompt=FALSE))\n",
    "suppressMessages(extrafont::loadfonts())\n",
    "\n",
    "sessionInfo()"
   ]
  },
  {
   "cell_type": "code",
   "execution_count": null,
   "id": "b6a7ae63-7856-49f9-80be-bada131199cb",
   "metadata": {},
   "outputs": [],
   "source": [
    "# imports from external file\n",
    "gex <- new.env()\n",
    "source(\"gex.r\", local = gex)"
   ]
  },
  {
   "cell_type": "code",
   "execution_count": null,
   "id": "07527cd1-409d-4717-8c9c-b9a4afd27f60",
   "metadata": {},
   "outputs": [],
   "source": [
    "# Data\n",
    "dir.create(\"figures\", showWarnings = FALSE)\n",
    "dir.create(\"out\", showWarnings = FALSE)\n",
    "\n",
    "path_to_counts =  \"../data/cloud/gex/pbta-rsem-genes.expected_count.tsv\"\n",
    "path_to_annotation = \"../data/cloud/gex/sample_phenotypes.csv\"\n",
    "path_to_gencode = \"../data/cloud/gex/gencode.v47.primary_assembly.basic.annotation.gtf\"\n",
    "\n",
    "og_data=gex$load_inputs(path_to_counts,path_to_annotation,path_to_gencode) # this will take awhile"
   ]
  },
  {
   "cell_type": "code",
   "execution_count": null,
   "id": "ae9395d4-46e3-4a84-8f11-1b654e245b9a",
   "metadata": {},
   "outputs": [],
   "source": [
    "generate_data_v2 <- function(data,batch_vars){\n",
    "## returns list:\n",
    "    ## list (data$uncorrected, data$corrected_once, ...)\n",
    "    ## annot\n",
    "    dge = gex$setup_preprocess_dge(data$cts,formula=NULL,filterbyexp=FALSE)\n",
    "    cts_list = list(dge)\n",
    "    groups <- model.matrix(~ data$annot$amplified + data$annot$ecDNA)[, -1]\n",
    "    for (covariate in batch_vars){\n",
    "        message(paste('Starting correction on',covariate))\n",
    "        batch <- factor(data$annot[[covariate]])\n",
    "        cts_uncorrected <- cts_list[[length(cts_list)]]$counts\n",
    "        #if (covariate == 'cancer_type'){\n",
    "        #    return(list(cts_list,batch,groups))\n",
    "        #}    \n",
    "        cts_corrected <- sva::ComBat_seq(counts=cts_uncorrected,batch=batch,covar_mod=groups)\n",
    "        dgec = gex$setup_preprocess_dge(cts_corrected,formula=NULL,filterbyexp=FALSE)\n",
    "        cts_list <- c(cts_list,list(dgec))\n",
    "        message(paste('Finished correction on',covariate))\n",
    "    }\n",
    "    return(list(cts_list,data$annot))\n",
    "}"
   ]
  },
  {
   "cell_type": "markdown",
   "id": "f625386e-c373-4835-9c03-6efe754bb636",
   "metadata": {},
   "source": [
    "# GSEA input files including various tumor types with ecDNA:\n",
    "    c('EMBT','ETMR','HGG','MBL','MST','NBL','PINT','RMS','SARC')"
   ]
  },
  {
   "cell_type": "code",
   "execution_count": null,
   "id": "55fcf606-8cf2-497c-b616-f4148c40d981",
   "metadata": {},
   "outputs": [],
   "source": [
    "#all_data <- generate_data(og_data,\n",
    "tumor_types = c('EMBT','ETMR','HGG','MBL','MST','NBL','PINT','RMS','SARC')\n",
    "#                         )\n",
    "data_subset <- gex$filter_tumor_types(og_data,tumor_types)\n",
    "all_data <- generate_data_v2(data=data_subset,batch_vars=c('cohort','cancer_type'))"
   ]
  },
  {
   "cell_type": "code",
   "execution_count": null,
   "id": "6a8a3623-4c8b-4402-80c8-16f4b05c2c0e",
   "metadata": {},
   "outputs": [],
   "source": [
    "base_theme <- theme_classic(base_size=14, base_family=\"Arial\",) +\n",
    "    theme(axis.text = element_text(size=14,colour=\"black\"))\n",
    "theme_set(base_theme)\n",
    "\n",
    "plot_pca <- function(dge,annot,covariate){\n",
    "    annot$cohort <- str_remove(annot$cohort, \"^PBTA-\")\n",
    "    classes = annot[[covariate]]\n",
    "    # define colors\n",
    "    n_classes = length(unique(classes))\n",
    "    if (n_classes <= 9) {\n",
    "        colors <- RColorBrewer::brewer.pal(n_classes, \"Set1\")\n",
    "    } else if (n_classes <= 12) {\n",
    "        colors <- RColorBrewer::brewer.pal(n_classes, \"Set3\")\n",
    "    } else {\n",
    "        colors <- rainbow(n_classes)\n",
    "    }\n",
    "    names(colors) <- unique(classes)\n",
    "    \n",
    "    mds_data <- plotMDS(dge, gene.selection = \"common\", plot=FALSE)\n",
    "    mds_df <- data.frame(y=mds_data$x, x=mds_data$y, group=classes) \n",
    "    plt <- ggplot(mds_df, aes(x=x, y=y, color=group)) +\n",
    "        geom_point(size = 2, shape = 16) + \n",
    "        scale_color_manual(values=colors) + \n",
    "        labs(color=covariate,\n",
    "             y=paste0('PC1 (',scales::percent(mds_data$var.explained[1]),')'),\n",
    "             x=paste0('PC2 (',scales::percent(mds_data$var.explained[2]),')')) \n",
    "    return(plt)\n",
    "}\n",
    "\n",
    "plot_all <- function(all_data){\n",
    "    l = length(all_data[[1]])\n",
    "    vars = c('cohort','cancer_type','amplicon_class')\n",
    "    flag_i=FALSE\n",
    "    for (i in seq_len(l)){\n",
    "        flag_j=FALSE\n",
    "        for (j in seq_along(vars)){\n",
    "            dge <- all_data[[1]][[i]]\n",
    "            covariate <- vars[j]\n",
    "            subplt <- plot_pca(dge,all_data[[2]],covariate)\n",
    "            if (!flag_j){\n",
    "                flag_j=TRUE\n",
    "                plt_j<-subplt\n",
    "            } else {\n",
    "                plt_j <- plt_j + subplt\n",
    "            }\n",
    "        }\n",
    "        if (!flag_i){\n",
    "            flag_i=TRUE\n",
    "            plt <- plt_j\n",
    "        } else {\n",
    "            plt <- plt / plt_j\n",
    "        }\n",
    "    }\n",
    "    return(plt)\n",
    "}"
   ]
  },
  {
   "cell_type": "code",
   "execution_count": null,
   "id": "2d45ed9a-30c0-4d60-8e60-58cfe06c51dd",
   "metadata": {},
   "outputs": [],
   "source": [
    "plt <- plot_all(all_data)\n",
    "w=4;h=3\n",
    "options(repr.plot.width=3*w, repr.plot.height=3*h)\n",
    "gex$write_plot(plt,\"batch-corrections\",3*w,3*h)\n",
    "plt"
   ]
  },
  {
   "cell_type": "code",
   "execution_count": null,
   "id": "27e3a3ff-8a82-4848-ac5d-3eba16487440",
   "metadata": {},
   "outputs": [],
   "source": [
    "# Write files for GSEA:\n",
    "# gex_all_bc_cohort_tumortype.tmm.gct: tmm normalized gene expression for 406 tumors \n",
    "#    batch-corrected for cohort and tumor type\n",
    "\n",
    "exp = all_data[[1]][[3]] %>% cpm\n",
    "filepath = 'out/gex_all_bc_cohort_tumortype.tmm.gct'\n",
    "gex$write_gct(exp,filepath)\n",
    "\n",
    "pheno = all_data[[2]][['amplicon_class']]\n",
    "filepath = 'out/gex_all_ampclass.cls'\n",
    "gex$write_cls(pheno,filepath)"
   ]
  },
  {
   "cell_type": "code",
   "execution_count": null,
   "id": "f33f7b1a-6c6f-45e2-8d5a-759663b01ac1",
   "metadata": {},
   "outputs": [],
   "source": [
    "# gex_amp_bc_cohort_tumortype.tmm.gct: tmm normalized gene expression for 102 tumors with amplification\n",
    "#    batch-corrected for cohort and tumor type\n",
    "\n",
    "mask = all_data[[2]][['amplified']]\n",
    "\n",
    "exp = all_data[[1]][[3]] %>% cpm\n",
    "filepath = 'out/gex_amp_bc_cohort_tumortype.tmm.gct'\n",
    "gex$write_gct(exp[,mask],filepath)\n",
    "\n",
    "pheno = all_data[[2]][['ecDNA']]\n",
    "filepath = 'out/gex_amp_ecDNA.cls'\n",
    "gex$write_cls(pheno[mask],filepath)"
   ]
  },
  {
   "cell_type": "code",
   "execution_count": null,
   "id": "15462873-eb20-43ec-ba54-87f9bac6b6db",
   "metadata": {},
   "outputs": [],
   "source": [
    "all_data[[2]][c('cancer_type','amplicon_class')] %>% table"
   ]
  },
  {
   "cell_type": "markdown",
   "id": "a5002bf4-f87a-46b5-8ac7-a0e0dcc7aea4",
   "metadata": {},
   "source": [
    "# GSEA input files for MBs"
   ]
  },
  {
   "cell_type": "code",
   "execution_count": null,
   "id": "f9162728-3cba-4837-a3a7-1148a77ce54a",
   "metadata": {},
   "outputs": [],
   "source": [
    "tumor_types = 'MBL'\n",
    "data_subset <- gex$filter_tumor_types(og_data,tumor_types)\n",
    "mb_data <- generate_data_v2(data=data_subset,batch_vars=c('cohort','cancer_subclass'))"
   ]
  },
  {
   "cell_type": "code",
   "execution_count": null,
   "id": "29144ce6-75fb-43f2-9dad-447bde49db3b",
   "metadata": {},
   "outputs": [],
   "source": [
    "plot_tumortype <- function(some_data){\n",
    "    l = length(some_data[[1]])\n",
    "    vars = c('cohort','cancer_subclass','amplicon_class')\n",
    "    flag_i=FALSE\n",
    "    for (i in seq_len(l)){\n",
    "        flag_j=FALSE\n",
    "        for (j in seq_along(vars)){\n",
    "            dge <- some_data[[1]][[i]]\n",
    "            covariate <- vars[j]\n",
    "            subplt <- plot_pca(dge,some_data[[2]],covariate)\n",
    "            if (!flag_j){\n",
    "                flag_j=TRUE\n",
    "                plt_j<-subplt\n",
    "            } else {\n",
    "                plt_j <- plt_j + subplt\n",
    "            }\n",
    "        }\n",
    "        if (!flag_i){\n",
    "            flag_i=TRUE\n",
    "            plt <- plt_j\n",
    "        } else {\n",
    "            plt <- plt / plt_j\n",
    "        }\n",
    "    }\n",
    "    return(plt)\n",
    "}"
   ]
  },
  {
   "cell_type": "code",
   "execution_count": null,
   "id": "8ca540ff-11e3-426a-ad4e-0671ee2e5df9",
   "metadata": {},
   "outputs": [],
   "source": [
    "plt <- plot_tumortype(mb_data)\n",
    "w=4;h=3\n",
    "options(repr.plot.width=3*w, repr.plot.height=3*h)\n",
    "gex$write_plot(plt,\"mb-batch-corrections\",3*w,3*h)\n",
    "plt"
   ]
  },
  {
   "cell_type": "code",
   "execution_count": null,
   "id": "2d6bfef7-74c5-4299-9599-a069cc602511",
   "metadata": {},
   "outputs": [],
   "source": [
    "# Write files for GSEA:\n",
    "# gex_mb_bc_cohort_subtype.tmm.gct: tmm normalized gene expression for 186 medulloblastomas \n",
    "#    batch-corrected for cohort and tumor type\n",
    "\n",
    "exp = mb_data[[1]][[3]] %>% cpm\n",
    "filepath = 'out/gex_mb_bc_cohort_subtype.tmm.gct'\n",
    "gex$write_gct(exp,filepath)\n",
    "\n",
    "pheno = mb_data[[2]][['amplicon_class']]\n",
    "filepath = 'out/gex_mb_ampclass.cls'\n",
    "gex$write_cls(pheno,filepath)"
   ]
  },
  {
   "cell_type": "code",
   "execution_count": null,
   "id": "b78164c6-ceb3-42c7-a742-737bb831d491",
   "metadata": {},
   "outputs": [],
   "source": [
    "# gex_amp_bc_cohort_tumortype.tmm.gct: tmm normalized gene expression for 30 mb tumors with amplification\n",
    "#    batch-corrected for cohort and tumor type\n",
    "\n",
    "mask = mb_data[[2]][['amplified']]\n",
    "\n",
    "exp = mb_data[[1]][[3]] %>% cpm\n",
    "filepath = 'out/gex_mb_amp_bc_cohort_subtype.tmm.gct'\n",
    "gex$write_gct(exp[,mask],filepath)\n",
    "\n",
    "pheno = mb_data[[2]][['ecDNA']]\n",
    "filepath = 'out/gex_mb_amp_ecDNA.cls'\n",
    "gex$write_cls(pheno[mask],filepath)"
   ]
  },
  {
   "cell_type": "markdown",
   "id": "a44a87f5-0fd1-4786-b1e7-123d64290fc8",
   "metadata": {},
   "source": [
    "# TODO: GSEA input files for HGGs"
   ]
  },
  {
   "cell_type": "code",
   "execution_count": null,
   "id": "67813c70-e176-4ddc-bde6-87998b2e2802",
   "metadata": {},
   "outputs": [],
   "source": []
  }
 ],
 "metadata": {
  "kernelspec": {
   "display_name": "differential-expression",
   "language": "R",
   "name": "differential-expression"
  },
  "language_info": {
   "codemirror_mode": "r",
   "file_extension": ".r",
   "mimetype": "text/x-r-source",
   "name": "R",
   "pygments_lexer": "r",
   "version": "4.4.2"
  }
 },
 "nbformat": 4,
 "nbformat_minor": 5
}
