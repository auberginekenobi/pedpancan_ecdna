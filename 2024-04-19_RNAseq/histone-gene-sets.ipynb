{
 "cells": [
  {
   "cell_type": "code",
   "execution_count": null,
   "id": "bfa185c5-7a41-434c-b348-c8c1e6d7cda2",
   "metadata": {},
   "outputs": [],
   "source": [
    "# See also cbtn-gsea.ipynb for DSBR sets\n",
    "\n",
    "# TODO: convert cbtn-gsea DSBR sets to R code."
   ]
  },
  {
   "cell_type": "markdown",
   "id": "ce73d005-18c8-4248-b7b2-ef0179db1f4e",
   "metadata": {},
   "source": [
    "# Load expression data"
   ]
  },
  {
   "cell_type": "code",
   "execution_count": null,
   "id": "3266d8a4-e1a5-4295-8b94-1e0f0735bd18",
   "metadata": {
    "scrolled": true
   },
   "outputs": [],
   "source": [
    "# Dependencies\n",
    "Sys.setenv(LANGUAGE = \"en\") # set language to \"ja\" if you prefer\n",
    "\n",
    "suppressWarnings(library(magrittr))\n",
    "suppressWarnings(library(tibble))\n",
    "suppressWarnings(library(repr))\n",
    "suppressWarnings(library(stringr))\n",
    "suppressWarnings(library(dplyr))\n",
    "\n",
    "sessionInfo()"
   ]
  },
  {
   "cell_type": "code",
   "execution_count": null,
   "id": "6e4f419b-30fd-4d2d-884f-aad7952ca6c1",
   "metadata": {},
   "outputs": [],
   "source": [
    "# imports from external file\n",
    "gex <- new.env()\n",
    "source(\"gex.r\", local = gex)"
   ]
  },
  {
   "cell_type": "code",
   "execution_count": null,
   "id": "107a4a27-ae15-411f-b6e5-de633382fc27",
   "metadata": {},
   "outputs": [],
   "source": [
    "path_to_counts =  \"../data/cloud/gex/pbta-rsem-genes.expected_count.tsv\"\n",
    "genes = read.csv(path_to_counts,sep='\\t',row.names=\"Gene_or_Transcript_ID\",check.names=FALSE) %>%\n",
    "    rownames\n",
    "genes = sub(\"^ENSG\\\\d*\\\\.\\\\d*_\", \"\", genes)"
   ]
  },
  {
   "cell_type": "markdown",
   "id": "1d648cb5-47d3-46a1-abda-ed0430ac4f1a",
   "metadata": {},
   "source": [
    "# Replication-dependent histones"
   ]
  },
  {
   "cell_type": "code",
   "execution_count": null,
   "id": "8695348b-e9a3-458c-b979-686de33f1a44",
   "metadata": {},
   "outputs": [],
   "source": [
    "# Seal, R.L., Denny, P., Bruford, E.A. et al. A standardized nomenclature for mammalian histone genes. Epigenetics & Chromatin 15, 34 \n",
    "# (2022). https://doi.org/10.1186/s13072-022-00467-2\n",
    "# changes in v2: H1-1, H1-2, H1-3, H1-4, H1-5, H1-6, H4-16 to rdh\n",
    "#                \n",
    "\n",
    "H_pseudogenes = c('H1-9P','H1-12P',\n",
    "                  'H2AC2P','H2AC3P','H2AC5P','H2AC9P','H2AC10P','H2AQ1P','H2AL1MP',\n",
    "                  'H2BC2P','H2BC16P','H2BC19P','H2BC20P','H2BU2P','H2BL1P', # H2BU2P = H2BC27P\n",
    "                  'H2BW3P',#'H2BW4P', # note H2BW4P and aliases not in gex dataset\n",
    "                  'H3C5P','H3C9P','H3P16','H3P44',\n",
    "                  'H4C10P',\n",
    "                  'H2AZP7','H2AZ2P1','H2AZP2','H2AZP5','H2BP2','H2BP3','H2BP9','H4P1','H2BP1','H2AL1QP','H3P18','H3P21','H3P3','H3P1','H3P4',\n",
    "                  'H3P37','H3P31','H3P14','H3P47','H3P6','H3P39','H3P13',\n",
    "                  \"H2AZP1\",\"H2AZP3\",\"H3P28\",\"H3P27\",\"H2ACP1\",\"H2ACP2\",\"H3P26\" ,\"H2BP7\",\"H3P43\",\"H2BP6\",\"H3P45\",\"H3P9\",\"H3P30\",\"H3P29\",\"H3P10\",\"H3P11\",\n",
    "                  \"H3P12\",\"H3P5\",\"H2AZP6\",\"H3P32\",\"H2BP8\",\"H3P36\",\"H3P7\",\"H3P2\",\"H3P17\",\"H3P20\",\"H3P23\",\"H3P22\",\"H3P15\",\"H3P24\",\"H3P34\",\"H2AZP4\",\n",
    "                  \"H3P33\",\"H3P35\",\"H3P40\",\"H3P38\",\"H3P41\",\"H3P8\",\"H3P19\",\"H3P42\",\"H3P25\",\"H2BP5\",\"H3P46\" ) \n",
    "H1 = c('H1-0','H1-7','H1-8','H1-10')\n",
    "H1_clustered = c('H1-1','H1-2','H1-3','H1-4','H1-5','H1-6')\n",
    "H2A_clustered = c('H2AC1','H2AC4','H2AC6','H2AC7','H2AC8','H2AC11','H2AC12',\n",
    "                'H2AC13','H2AC14','H2AC15','H2AC16','H2AC17','H2AC18','H2AC19','H2AC20','H2AC21','H2AW') # H2AW = H2AC25\n",
    "H2A = c('H2AZ1','H2AZ2','MACROH2A1','MACROH2A2','H2AX','H2AJ','H2AB1','H2AB2','H2AB3','H2AP','H2AL3')\n",
    "H2B_clustered = c('H2BC1','H2BC3','H2BC4','H2BC5','H2BC6','H2BC7','H2BC8','H2BC9','H2BC10','H2BC11','H2BC12',\n",
    "                 'H2BC13','H2BC14','H2BC15','H2BC17','H2BC18','H2BC21','H2BU1') # H2BU1 = H2BC26\n",
    "H2B = c('H2BE1','H2BW1','H2BW2','H2BS1') # H2BS1 = H2BC12L; H2BE1 = H2BK1; H2BN1 and aliases not in gex dataset\n",
    "H3_clustered = c('H3C1','H3C2','H3C3','H3C4','H3C6','H3C7','H3C8','H3C10','H3C11','H3C12','H3C13','H3C14','H3C15',\n",
    "                 'H3-4') # H3-4 has a stem loop and is in a cluster\n",
    "H3 = c('H3-3A','H3-3B','H3-5','H3-2','H3Y1','H3Y2','CENPA') # H3-2 = H3-7\n",
    "H4_clustered = c('H4C1','H4C2','H4C3','H4C4','H4C5','H4C6','H4C7','H4C8','H4C9','H4C11','H4C12','H4C13','H4C14','H4C15',\n",
    "                'H4-16') # H4-16 = H4C16 is outside the clusters but has a stem-loop and is cell-cycle regulated.\n",
    "H4 = c()\n",
    "rdh = c(H1_clustered,H2A_clustered,H2B_clustered,H3_clustered,H4_clustered)\n",
    "nrdh = c(H1,H2A,H2B,H3,H4)\n",
    "all_histones = c(rdh,nrdh,H_pseudogenes)"
   ]
  },
  {
   "cell_type": "code",
   "execution_count": null,
   "id": "2896915f-a774-4b86-b965-a42702bce8a2",
   "metadata": {},
   "outputs": [],
   "source": [
    "# gene set validation checks\n",
    "paste(\"replication-dependent histone count:\",length(rdh))\n",
    "paste(\"replication-independent histone count:\",length(nrdh))\n",
    "paste(\"histone pseudogene count:\",length(H_pseudogenes))\n",
    "\n",
    "# all genes in my sets should be in my gene expression dataset\n",
    "# requires global variable genes\n",
    "check_set <- function(name,set){\n",
    "    pass = all(v %in% genes)\n",
    "    print(paste(name,'...',pass))\n",
    "    if (!pass){\n",
    "        missing = setdiff(v,genes)\n",
    "        print(paste(\"  missing\",missing,\"from gene expression data\"))\n",
    "    }\n",
    "    return(pass)\n",
    "}\n",
    "vectors = list(\"H1ri\"=H1,\n",
    "          \"H2Ari\"=H2A,\n",
    "          \"H2Bri\"=H2B,\n",
    "          \"H3ri\"=H3,\n",
    "          \"H4ri\"=H4,\n",
    "          \"H1rd\"=H1_clustered,\n",
    "          \"H2Ard\"=H2A_clustered,\n",
    "          \"H2Brd\"=H2B_clustered,\n",
    "          \"H3rd\"=H3_clustered,\n",
    "          \"H4rd\"=H3_clustered,\n",
    "          \"HP\"=H_pseudogenes\n",
    "    )\n",
    "print(\"Checking each histone class for genes not in expression dataset...\")\n",
    "flags=c()\n",
    "for (name in names(vectors)){\n",
    "    v = vectors[[name]]\n",
    "    pass = check_set(name,v)\n",
    "    if (!pass){\n",
    "        flags=c(flags,name)\n",
    "    }\n",
    "}\n",
    "\n",
    "print(\"Checking for possible unannotated histone genes in expression dataset...\")\n",
    "regex = \"^H(1|2|3|4)|^HIST\"\n",
    "candidates = grep(regex,genes,value=TRUE)\n",
    "candidates = setdiff(candidates,all_histones)\n",
    "not_histones=c('H19')\n",
    "candidates = setdiff(candidates,not_histones)\n",
    "print(candidates)"
   ]
  },
  {
   "cell_type": "code",
   "execution_count": null,
   "id": "aba0a0ac-8135-40b7-9bba-54deb3c5a323",
   "metadata": {},
   "outputs": [],
   "source": [
    "filepath=\"out/histone-sets.gmt\"\n",
    "set_list = list(\n",
    "    \"replication_dependent_histones\"=rdh,\n",
    "    \"replication_independent_histones\"=nrdh,\n",
    "    \"histone_pseudogenes\"=H_pseudogenes\n",
    ")\n",
    "gex$write_gene_sets(filepath,set_list)"
   ]
  },
  {
   "cell_type": "markdown",
   "id": "e62d71af-1e60-4b92-a4a5-eeb71d9bbef3",
   "metadata": {},
   "source": [
    "# HOX sets"
   ]
  },
  {
   "cell_type": "code",
   "execution_count": null,
   "id": "6af84691-0357-43af-adc5-3027a0e4df5a",
   "metadata": {},
   "outputs": [],
   "source": [
    "hoxa = c('HOXA1','HOXA2','HOXA3','HOXA4','HOXA5','HOXA6','HOXA7','HOXA9','HOXA10','HOXA11','HOXA13')\n",
    "hoxb = c('HOXB1','HOXB2','HOXB3','HOXB4','HOXB5','HOXB6','HOXB7','HOXB8','HOXB9','HOXB13')\n",
    "hoxc = c('HOXC4','HOXC5','HOXC6','HOXC8','HOXC9','HOXC10','HOXC11','HOXC12','HOXC13')\n",
    "hoxd = c('HOXD1','HOXD3','HOXD4','HOXD8','HOXD9','HOXD10','HOXD11','HOXD12','HOXD13')\n",
    "\n",
    "filepath=\"out/hox-sets.gmt\"\n",
    "set_list = list(\n",
    "    \"HOXA@\"=hoxa,\n",
    "    \"HOXB@\"=hoxb,\n",
    "    \"HOXC@\"=hoxc,\n",
    "    \"HOXD@\"=hoxd,\n",
    "    \"HOX\"=c(hoxa,hoxb,hoxc,hoxd)\n",
    ")\n",
    "gex$write_gene_sets(filepath,set_list)"
   ]
  },
  {
   "cell_type": "code",
   "execution_count": null,
   "id": "101d6643-419e-40d5-807e-cf949e9ae06a",
   "metadata": {},
   "outputs": [],
   "source": []
  }
 ],
 "metadata": {
  "kernelspec": {
   "display_name": "differential-expression",
   "language": "R",
   "name": "differential-expression"
  },
  "language_info": {
   "codemirror_mode": "r",
   "file_extension": ".r",
   "mimetype": "text/x-r-source",
   "name": "R",
   "pygments_lexer": "r",
   "version": "4.4.2"
  }
 },
 "nbformat": 4,
 "nbformat_minor": 5
}
