{
 "cells": [
  {
   "cell_type": "code",
   "execution_count": 1,
   "id": "7fc80483-ce72-477a-bbf9-b580f4b0e7d9",
   "metadata": {},
   "outputs": [],
   "source": [
    "# DESeq2 analysis of CBTN RNA-seq"
   ]
  },
  {
   "cell_type": "code",
   "execution_count": 30,
   "id": "af3cd5ab-95a1-4d5c-8baf-7567aa969957",
   "metadata": {
    "scrolled": true
   },
   "outputs": [
    {
     "name": "stderr",
     "output_type": "stream",
     "text": [
      "loading data...\n",
      "\n"
     ]
    }
   ],
   "source": [
    "# Dependencies\n",
    "suppressMessages(library(DESeq2))\n",
    "\n",
    "# Data\n",
    "path_to_counts =  \"/Users/ochapman/Library/CloudStorage/OneDrive-SanfordBurnhamPrebysMedicalDiscoveryInstitute/projects/2023-pedpancan/data/gex/pbta-rsem-genes.expected_count.tsv\"\n",
    "path_to_annotation = \"/Users/ochapman/Library/CloudStorage/OneDrive-SanfordBurnhamPrebysMedicalDiscoveryInstitute/projects/2023-pedpancan/data/gex/sample_phenotypes.csv\"\n",
    "load_inputs <- function(cts_path,annot_path){\n",
    "    message(\"loading data...\")\n",
    "    cts = as.matrix(read.csv(cts_path,sep='\\t',row.names=\"Gene_or_Transcript_ID\",check.names=FALSE))\n",
    "    annot = read.csv(annot_path,row.names=1)\n",
    "\n",
    "    cts = round(cts) # counts must be integer\n",
    "    cts <- cts[, rownames(annot)] # only include samples with metadata\n",
    "    annot$age_at_diagnosis <- (annot$age_at_diagnosis - mean(annot$age_at_diagnosis)) / sd(annot$age_at_diagnosis)\n",
    "\n",
    "    stopifnot(all(rownames(annot) == colnames(cts)))\n",
    "    return(list(cts=cts,annot=annot))\n",
    "}\n",
    "data=load_inputs(path_to_counts,path_to_annotation) # this will take awhile\n"
   ]
  },
  {
   "cell_type": "code",
   "execution_count": 31,
   "id": "d4d02dc8-5511-478f-bac8-663bd067adc7",
   "metadata": {},
   "outputs": [
    {
     "data": {
      "text/html": [
       "<table class=\"dataframe\">\n",
       "<caption>A matrix: 6 × 760 of type dbl</caption>\n",
       "<thead>\n",
       "\t<tr><th></th><th scope=col>7316-272</th><th scope=col>7316-447</th><th scope=col>7316-898</th><th scope=col>7316-1702</th><th scope=col>7316-746</th><th scope=col>7316-2578</th><th scope=col>7316-1944</th><th scope=col>7316-2581</th><th scope=col>7316-2158</th><th scope=col>7316-2857</th><th scope=col>⋯</th><th scope=col>7316-1080</th><th scope=col>7316-346</th><th scope=col>7316-3139</th><th scope=col>7316-2860</th><th scope=col>7316-117</th><th scope=col>7316-2666</th><th scope=col>7316-725</th><th scope=col>7316-3319</th><th scope=col>7316-2723</th><th scope=col>7316-2758</th></tr>\n",
       "</thead>\n",
       "<tbody>\n",
       "\t<tr><th scope=row>ENSG00000000003.15_TSPAN6</th><td>2470</td><td>1385</td><td>1269</td><td>159</td><td> 420</td><td>3294</td><td>1758</td><td>3163</td><td>1131</td><td>1004</td><td>⋯</td><td> 712</td><td>1764</td><td>843</td><td>3670</td><td>2428</td><td>1092</td><td>683</td><td>10323</td><td>623</td><td>5632</td></tr>\n",
       "\t<tr><th scope=row>ENSG00000000005.6_TNMD</th><td>  43</td><td>   9</td><td>   0</td><td>  1</td><td>   1</td><td>  11</td><td>  12</td><td>   1</td><td>   3</td><td>   3</td><td>⋯</td><td>   0</td><td>   7</td><td>  1</td><td>   4</td><td>   6</td><td>   0</td><td>  8</td><td>   21</td><td>  3</td><td>  15</td></tr>\n",
       "\t<tr><th scope=row>ENSG00000000419.14_DPM1</th><td>1111</td><td> 634</td><td> 738</td><td>939</td><td> 878</td><td>1131</td><td> 586</td><td> 939</td><td> 664</td><td>1486</td><td>⋯</td><td>1206</td><td> 571</td><td>787</td><td>1194</td><td> 753</td><td> 607</td><td>740</td><td>  737</td><td>669</td><td> 875</td></tr>\n",
       "\t<tr><th scope=row>ENSG00000000457.14_SCYL3</th><td> 993</td><td> 547</td><td> 650</td><td>364</td><td>1229</td><td> 911</td><td> 476</td><td> 719</td><td> 666</td><td> 783</td><td>⋯</td><td> 704</td><td> 558</td><td>663</td><td>1101</td><td> 771</td><td> 865</td><td>635</td><td>  983</td><td>674</td><td> 287</td></tr>\n",
       "\t<tr><th scope=row>ENSG00000000460.17_C1orf112</th><td> 450</td><td> 437</td><td> 444</td><td>231</td><td> 594</td><td> 291</td><td> 174</td><td> 294</td><td> 237</td><td> 459</td><td>⋯</td><td> 215</td><td> 147</td><td>428</td><td> 225</td><td> 210</td><td> 174</td><td>255</td><td>  393</td><td>416</td><td>  91</td></tr>\n",
       "\t<tr><th scope=row>ENSG00000000938.13_FGR</th><td> 284</td><td> 113</td><td>1169</td><td>749</td><td> 245</td><td> 303</td><td>1559</td><td> 234</td><td> 867</td><td>  60</td><td>⋯</td><td> 289</td><td> 382</td><td>486</td><td> 319</td><td> 228</td><td> 289</td><td>338</td><td>  354</td><td>376</td><td> 156</td></tr>\n",
       "</tbody>\n",
       "</table>\n"
      ],
      "text/latex": [
       "A matrix: 6 × 760 of type dbl\n",
       "\\begin{tabular}{r|lllllllllllllllllllll}\n",
       "  & 7316-272 & 7316-447 & 7316-898 & 7316-1702 & 7316-746 & 7316-2578 & 7316-1944 & 7316-2581 & 7316-2158 & 7316-2857 & ⋯ & 7316-1080 & 7316-346 & 7316-3139 & 7316-2860 & 7316-117 & 7316-2666 & 7316-725 & 7316-3319 & 7316-2723 & 7316-2758\\\\\n",
       "\\hline\n",
       "\tENSG00000000003.15\\_TSPAN6 & 2470 & 1385 & 1269 & 159 &  420 & 3294 & 1758 & 3163 & 1131 & 1004 & ⋯ &  712 & 1764 & 843 & 3670 & 2428 & 1092 & 683 & 10323 & 623 & 5632\\\\\n",
       "\tENSG00000000005.6\\_TNMD &   43 &    9 &    0 &   1 &    1 &   11 &   12 &    1 &    3 &    3 & ⋯ &    0 &    7 &   1 &    4 &    6 &    0 &   8 &    21 &   3 &   15\\\\\n",
       "\tENSG00000000419.14\\_DPM1 & 1111 &  634 &  738 & 939 &  878 & 1131 &  586 &  939 &  664 & 1486 & ⋯ & 1206 &  571 & 787 & 1194 &  753 &  607 & 740 &   737 & 669 &  875\\\\\n",
       "\tENSG00000000457.14\\_SCYL3 &  993 &  547 &  650 & 364 & 1229 &  911 &  476 &  719 &  666 &  783 & ⋯ &  704 &  558 & 663 & 1101 &  771 &  865 & 635 &   983 & 674 &  287\\\\\n",
       "\tENSG00000000460.17\\_C1orf112 &  450 &  437 &  444 & 231 &  594 &  291 &  174 &  294 &  237 &  459 & ⋯ &  215 &  147 & 428 &  225 &  210 &  174 & 255 &   393 & 416 &   91\\\\\n",
       "\tENSG00000000938.13\\_FGR &  284 &  113 & 1169 & 749 &  245 &  303 & 1559 &  234 &  867 &   60 & ⋯ &  289 &  382 & 486 &  319 &  228 &  289 & 338 &   354 & 376 &  156\\\\\n",
       "\\end{tabular}\n"
      ],
      "text/markdown": [
       "\n",
       "A matrix: 6 × 760 of type dbl\n",
       "\n",
       "| <!--/--> | 7316-272 | 7316-447 | 7316-898 | 7316-1702 | 7316-746 | 7316-2578 | 7316-1944 | 7316-2581 | 7316-2158 | 7316-2857 | ⋯ | 7316-1080 | 7316-346 | 7316-3139 | 7316-2860 | 7316-117 | 7316-2666 | 7316-725 | 7316-3319 | 7316-2723 | 7316-2758 |\n",
       "|---|---|---|---|---|---|---|---|---|---|---|---|---|---|---|---|---|---|---|---|---|---|\n",
       "| ENSG00000000003.15_TSPAN6 | 2470 | 1385 | 1269 | 159 |  420 | 3294 | 1758 | 3163 | 1131 | 1004 | ⋯ |  712 | 1764 | 843 | 3670 | 2428 | 1092 | 683 | 10323 | 623 | 5632 |\n",
       "| ENSG00000000005.6_TNMD |   43 |    9 |    0 |   1 |    1 |   11 |   12 |    1 |    3 |    3 | ⋯ |    0 |    7 |   1 |    4 |    6 |    0 |   8 |    21 |   3 |   15 |\n",
       "| ENSG00000000419.14_DPM1 | 1111 |  634 |  738 | 939 |  878 | 1131 |  586 |  939 |  664 | 1486 | ⋯ | 1206 |  571 | 787 | 1194 |  753 |  607 | 740 |   737 | 669 |  875 |\n",
       "| ENSG00000000457.14_SCYL3 |  993 |  547 |  650 | 364 | 1229 |  911 |  476 |  719 |  666 |  783 | ⋯ |  704 |  558 | 663 | 1101 |  771 |  865 | 635 |   983 | 674 |  287 |\n",
       "| ENSG00000000460.17_C1orf112 |  450 |  437 |  444 | 231 |  594 |  291 |  174 |  294 |  237 |  459 | ⋯ |  215 |  147 | 428 |  225 |  210 |  174 | 255 |   393 | 416 |   91 |\n",
       "| ENSG00000000938.13_FGR |  284 |  113 | 1169 | 749 |  245 |  303 | 1559 |  234 |  867 |   60 | ⋯ |  289 |  382 | 486 |  319 |  228 |  289 | 338 |   354 | 376 |  156 |\n",
       "\n"
      ],
      "text/plain": [
       "                            7316-272 7316-447 7316-898 7316-1702 7316-746\n",
       "ENSG00000000003.15_TSPAN6   2470     1385     1269     159        420    \n",
       "ENSG00000000005.6_TNMD        43        9        0       1          1    \n",
       "ENSG00000000419.14_DPM1     1111      634      738     939        878    \n",
       "ENSG00000000457.14_SCYL3     993      547      650     364       1229    \n",
       "ENSG00000000460.17_C1orf112  450      437      444     231        594    \n",
       "ENSG00000000938.13_FGR       284      113     1169     749        245    \n",
       "                            7316-2578 7316-1944 7316-2581 7316-2158 7316-2857 ⋯\n",
       "ENSG00000000003.15_TSPAN6   3294      1758      3163      1131      1004      ⋯\n",
       "ENSG00000000005.6_TNMD        11        12         1         3         3      ⋯\n",
       "ENSG00000000419.14_DPM1     1131       586       939       664      1486      ⋯\n",
       "ENSG00000000457.14_SCYL3     911       476       719       666       783      ⋯\n",
       "ENSG00000000460.17_C1orf112  291       174       294       237       459      ⋯\n",
       "ENSG00000000938.13_FGR       303      1559       234       867        60      ⋯\n",
       "                            7316-1080 7316-346 7316-3139 7316-2860 7316-117\n",
       "ENSG00000000003.15_TSPAN6    712      1764     843       3670      2428    \n",
       "ENSG00000000005.6_TNMD         0         7       1          4         6    \n",
       "ENSG00000000419.14_DPM1     1206       571     787       1194       753    \n",
       "ENSG00000000457.14_SCYL3     704       558     663       1101       771    \n",
       "ENSG00000000460.17_C1orf112  215       147     428        225       210    \n",
       "ENSG00000000938.13_FGR       289       382     486        319       228    \n",
       "                            7316-2666 7316-725 7316-3319 7316-2723 7316-2758\n",
       "ENSG00000000003.15_TSPAN6   1092      683      10323     623       5632     \n",
       "ENSG00000000005.6_TNMD         0        8         21       3         15     \n",
       "ENSG00000000419.14_DPM1      607      740        737     669        875     \n",
       "ENSG00000000457.14_SCYL3     865      635        983     674        287     \n",
       "ENSG00000000460.17_C1orf112  174      255        393     416         91     \n",
       "ENSG00000000938.13_FGR       289      338        354     376        156     "
      ]
     },
     "metadata": {},
     "output_type": "display_data"
    }
   ],
   "source": [
    "head(data$cts)"
   ]
  },
  {
   "cell_type": "code",
   "execution_count": 32,
   "id": "e385f00e-8929-494e-9696-ab077e68817d",
   "metadata": {
    "editable": true,
    "slideshow": {
     "slide_type": ""
    },
    "tags": []
   },
   "outputs": [
    {
     "data": {
      "text/html": [
       "<table class=\"dataframe\">\n",
       "<caption>A data.frame: 6 × 12</caption>\n",
       "<thead>\n",
       "\t<tr><th></th><th scope=col>sex</th><th scope=col>patient_id</th><th scope=col>tumor_history</th><th scope=col>age_at_diagnosis</th><th scope=col>cohort</th><th scope=col>extent_of_tumor_resection</th><th scope=col>cancer_type</th><th scope=col>cancer_subclass</th><th scope=col>ecDNA_sequences_detected</th><th scope=col>amplicon_class</th><th scope=col>in_unique_tumor_set</th><th scope=col>in_unique_patient_set</th></tr>\n",
       "\t<tr><th></th><th scope=col>&lt;chr&gt;</th><th scope=col>&lt;chr&gt;</th><th scope=col>&lt;chr&gt;</th><th scope=col>&lt;dbl&gt;</th><th scope=col>&lt;chr&gt;</th><th scope=col>&lt;chr&gt;</th><th scope=col>&lt;chr&gt;</th><th scope=col>&lt;chr&gt;</th><th scope=col>&lt;int&gt;</th><th scope=col>&lt;chr&gt;</th><th scope=col>&lt;chr&gt;</th><th scope=col>&lt;chr&gt;</th></tr>\n",
       "</thead>\n",
       "<tbody>\n",
       "\t<tr><th scope=row>7316-272</th><td>Male  </td><td>PT_00G007DM</td><td>Diagnosis  </td><td>-1.31769052</td><td>PBTA-X00</td><td>Gross/Near total resection</td><td>ETMR</td><td>    </td><td>1</td><td>ecDNA </td><td>True</td><td>True</td></tr>\n",
       "\t<tr><th scope=row>7316-447</th><td>Male  </td><td>PT_01MZ62KG</td><td>Progressive</td><td>-1.28217620</td><td>PBTA-X00</td><td>Partial resection         </td><td>ETMR</td><td>    </td><td>1</td><td>ecDNA </td><td>True</td><td>True</td></tr>\n",
       "\t<tr><th scope=row>7316-898</th><td>Male  </td><td>PT_02J5CWN5</td><td>Progressive</td><td> 0.09335387</td><td>PBTA-X00</td><td>Partial resection         </td><td>LGG </td><td>MAPK</td><td>0</td><td>no_amp</td><td>True</td><td>True</td></tr>\n",
       "\t<tr><th scope=row>7316-1702</th><td>      </td><td>PT_02MVZZSW</td><td>Diagnosis  </td><td> 0.50220160</td><td>PBTA-X00</td><td>Partial resection         </td><td>MNG </td><td>    </td><td>0</td><td>no_amp</td><td>True</td><td>True</td></tr>\n",
       "\t<tr><th scope=row>7316-746</th><td>Male  </td><td>PT_04YTK82N</td><td>Diagnosis  </td><td>-1.05653037</td><td>PBTA-X00</td><td>Gross/Near total resection</td><td>MBL </td><td>G3  </td><td>0</td><td>no_amp</td><td>True</td><td>True</td></tr>\n",
       "\t<tr><th scope=row>7316-2578</th><td>Female</td><td>PT_06ERX8Z7</td><td>Diagnosis  </td><td> 0.05567405</td><td>PBTA-X00</td><td>Gross/Near total resection</td><td>SEGA</td><td>    </td><td>0</td><td>no_amp</td><td>True</td><td>True</td></tr>\n",
       "</tbody>\n",
       "</table>\n"
      ],
      "text/latex": [
       "A data.frame: 6 × 12\n",
       "\\begin{tabular}{r|llllllllllll}\n",
       "  & sex & patient\\_id & tumor\\_history & age\\_at\\_diagnosis & cohort & extent\\_of\\_tumor\\_resection & cancer\\_type & cancer\\_subclass & ecDNA\\_sequences\\_detected & amplicon\\_class & in\\_unique\\_tumor\\_set & in\\_unique\\_patient\\_set\\\\\n",
       "  & <chr> & <chr> & <chr> & <dbl> & <chr> & <chr> & <chr> & <chr> & <int> & <chr> & <chr> & <chr>\\\\\n",
       "\\hline\n",
       "\t7316-272 & Male   & PT\\_00G007DM & Diagnosis   & -1.31769052 & PBTA-X00 & Gross/Near total resection & ETMR &      & 1 & ecDNA  & True & True\\\\\n",
       "\t7316-447 & Male   & PT\\_01MZ62KG & Progressive & -1.28217620 & PBTA-X00 & Partial resection          & ETMR &      & 1 & ecDNA  & True & True\\\\\n",
       "\t7316-898 & Male   & PT\\_02J5CWN5 & Progressive &  0.09335387 & PBTA-X00 & Partial resection          & LGG  & MAPK & 0 & no\\_amp & True & True\\\\\n",
       "\t7316-1702 &        & PT\\_02MVZZSW & Diagnosis   &  0.50220160 & PBTA-X00 & Partial resection          & MNG  &      & 0 & no\\_amp & True & True\\\\\n",
       "\t7316-746 & Male   & PT\\_04YTK82N & Diagnosis   & -1.05653037 & PBTA-X00 & Gross/Near total resection & MBL  & G3   & 0 & no\\_amp & True & True\\\\\n",
       "\t7316-2578 & Female & PT\\_06ERX8Z7 & Diagnosis   &  0.05567405 & PBTA-X00 & Gross/Near total resection & SEGA &      & 0 & no\\_amp & True & True\\\\\n",
       "\\end{tabular}\n"
      ],
      "text/markdown": [
       "\n",
       "A data.frame: 6 × 12\n",
       "\n",
       "| <!--/--> | sex &lt;chr&gt; | patient_id &lt;chr&gt; | tumor_history &lt;chr&gt; | age_at_diagnosis &lt;dbl&gt; | cohort &lt;chr&gt; | extent_of_tumor_resection &lt;chr&gt; | cancer_type &lt;chr&gt; | cancer_subclass &lt;chr&gt; | ecDNA_sequences_detected &lt;int&gt; | amplicon_class &lt;chr&gt; | in_unique_tumor_set &lt;chr&gt; | in_unique_patient_set &lt;chr&gt; |\n",
       "|---|---|---|---|---|---|---|---|---|---|---|---|---|\n",
       "| 7316-272 | Male   | PT_00G007DM | Diagnosis   | -1.31769052 | PBTA-X00 | Gross/Near total resection | ETMR | <!----> | 1 | ecDNA  | True | True |\n",
       "| 7316-447 | Male   | PT_01MZ62KG | Progressive | -1.28217620 | PBTA-X00 | Partial resection          | ETMR | <!----> | 1 | ecDNA  | True | True |\n",
       "| 7316-898 | Male   | PT_02J5CWN5 | Progressive |  0.09335387 | PBTA-X00 | Partial resection          | LGG  | MAPK | 0 | no_amp | True | True |\n",
       "| 7316-1702 | <!----> | PT_02MVZZSW | Diagnosis   |  0.50220160 | PBTA-X00 | Partial resection          | MNG  | <!----> | 0 | no_amp | True | True |\n",
       "| 7316-746 | Male   | PT_04YTK82N | Diagnosis   | -1.05653037 | PBTA-X00 | Gross/Near total resection | MBL  | G3   | 0 | no_amp | True | True |\n",
       "| 7316-2578 | Female | PT_06ERX8Z7 | Diagnosis   |  0.05567405 | PBTA-X00 | Gross/Near total resection | SEGA | <!----> | 0 | no_amp | True | True |\n",
       "\n"
      ],
      "text/plain": [
       "          sex    patient_id  tumor_history age_at_diagnosis cohort  \n",
       "7316-272  Male   PT_00G007DM Diagnosis     -1.31769052      PBTA-X00\n",
       "7316-447  Male   PT_01MZ62KG Progressive   -1.28217620      PBTA-X00\n",
       "7316-898  Male   PT_02J5CWN5 Progressive    0.09335387      PBTA-X00\n",
       "7316-1702        PT_02MVZZSW Diagnosis      0.50220160      PBTA-X00\n",
       "7316-746  Male   PT_04YTK82N Diagnosis     -1.05653037      PBTA-X00\n",
       "7316-2578 Female PT_06ERX8Z7 Diagnosis      0.05567405      PBTA-X00\n",
       "          extent_of_tumor_resection  cancer_type cancer_subclass\n",
       "7316-272  Gross/Near total resection ETMR                       \n",
       "7316-447  Partial resection          ETMR                       \n",
       "7316-898  Partial resection          LGG         MAPK           \n",
       "7316-1702 Partial resection          MNG                        \n",
       "7316-746  Gross/Near total resection MBL         G3             \n",
       "7316-2578 Gross/Near total resection SEGA                       \n",
       "          ecDNA_sequences_detected amplicon_class in_unique_tumor_set\n",
       "7316-272  1                        ecDNA          True               \n",
       "7316-447  1                        ecDNA          True               \n",
       "7316-898  0                        no_amp         True               \n",
       "7316-1702 0                        no_amp         True               \n",
       "7316-746  0                        no_amp         True               \n",
       "7316-2578 0                        no_amp         True               \n",
       "          in_unique_patient_set\n",
       "7316-272  True                 \n",
       "7316-447  True                 \n",
       "7316-898  True                 \n",
       "7316-1702 True                 \n",
       "7316-746  True                 \n",
       "7316-2578 True                 "
      ]
     },
     "metadata": {},
     "output_type": "display_data"
    }
   ],
   "source": [
    "head(data$annot)"
   ]
  },
  {
   "cell_type": "code",
   "execution_count": 39,
   "id": "f36aa09c-3f77-4c55-8ab3-fdcc42169fc4",
   "metadata": {},
   "outputs": [
    {
     "name": "stderr",
     "output_type": "stream",
     "text": [
      "converting counts to integer mode\n",
      "\n",
      "Warning message in DESeqDataSet(se, design = design, ignoreRank):\n",
      "“some variables in design formula are characters, converting to factors”\n",
      "estimating size factors\n",
      "\n",
      "estimating dispersions\n",
      "\n",
      "gene-wise dispersion estimates\n",
      "\n",
      "mean-dispersion relationship\n",
      "\n",
      "final dispersion estimates\n",
      "\n",
      "fitting model and testing\n",
      "\n",
      "-- replacing outliers and refitting for 9481 genes\n",
      "-- DESeq argument 'minReplicatesForReplace' = 7 \n",
      "-- original counts are preserved in counts(dds)\n",
      "\n",
      "estimating dispersions\n",
      "\n",
      "fitting model and testing\n",
      "\n"
     ]
    }
   ],
   "source": [
    "dds <- DESeqDataSetFromMatrix(countData = data$cts,\n",
    "                              colData = data$annot,\n",
    "                              design = ~ amplicon_class)\n",
    "dds <- DESeq(dds)"
   ]
  },
  {
   "cell_type": "code",
   "execution_count": null,
   "id": "767c9b08-fd89-4e0a-8182-30f87086f655",
   "metadata": {},
   "outputs": [],
   "source": [
    "ddsmf <- DESeqDataSetFromMatrix(countData = data$cts,\n",
    "                              colData = data$annot,\n",
    "                              design = ~ tumor_history + age_at_diagnosis + extent_of_tumor_resection + cancer_type + amplicon_class)\n",
    "ddsmf <- DESeq(ddsmf)"
   ]
  },
  {
   "cell_type": "code",
   "execution_count": null,
   "id": "c6a460aa-2df9-4bac-b84a-c96f55443b39",
   "metadata": {},
   "outputs": [],
   "source": [
    "results(dds,contrast=list(c(\"ecDNA\",\"ecDNA\"),c(\"chromosomal\",\"no_amp\")))"
   ]
  },
  {
   "cell_type": "code",
   "execution_count": 29,
   "id": "ef7d74a2-c3bf-4456-857f-ab74376da75f",
   "metadata": {},
   "outputs": [
    {
     "data": {
      "text/html": [
       "<pre class=language-r><code>new(\"standardGeneric\", .Data = function (x, na.rm = FALSE) \n",
       "standardGeneric(\"sd\"), generic = structure(\"sd\", package = \"BiocGenerics\"), \n",
       "<span style=white-space:pre-wrap>    package = \"BiocGenerics\", group = list(), valueClass = character(0), </span>\n",
       "<span style=white-space:pre-wrap>    signature = \"x\", default = new(\"derivedDefaultMethod\", .Data = function (x, </span>\n",
       "<span style=white-space:pre-wrap>        na.rm = FALSE) </span>\n",
       "<span style=white-space:pre-wrap>    sqrt(var(if (is.vector(x) || is.factor(x)) x else as.double(x), </span>\n",
       "<span style=white-space:pre-wrap>        na.rm = na.rm)), target = new(\"signature\", .Data = \"ANY\", </span>\n",
       "<span style=white-space:pre-wrap>        names = \"x\", package = \"methods\"), defined = new(\"signature\", </span>\n",
       "<span style=white-space:pre-wrap>        .Data = \"ANY\", names = \"x\", package = \"methods\"), generic = structure(\"sd\", package = \"stats\")), </span>\n",
       "<span style=white-space:pre-wrap>    skeleton = (new(\"derivedDefaultMethod\", .Data = function (x, </span>\n",
       "<span style=white-space:pre-wrap>        na.rm = FALSE) </span>\n",
       "<span style=white-space:pre-wrap>    sqrt(var(if (is.vector(x) || is.factor(x)) x else as.double(x), </span>\n",
       "<span style=white-space:pre-wrap>        na.rm = na.rm)), target = new(\"signature\", .Data = \"ANY\", </span>\n",
       "<span style=white-space:pre-wrap>        names = \"x\", package = \"methods\"), defined = new(\"signature\", </span>\n",
       "<span style=white-space:pre-wrap>        .Data = \"ANY\", names = \"x\", package = \"methods\"), generic = structure(\"sd\", package = \"stats\")))(x, </span>\n",
       "<span style=white-space:pre-wrap>        na.rm))</span></code></pre>"
      ],
      "text/latex": [
       "\\begin{minted}{r}\n",
       "new(\"standardGeneric\", .Data = function (x, na.rm = FALSE) \n",
       "standardGeneric(\"sd\"), generic = structure(\"sd\", package = \"BiocGenerics\"), \n",
       "    package = \"BiocGenerics\", group = list(), valueClass = character(0), \n",
       "    signature = \"x\", default = new(\"derivedDefaultMethod\", .Data = function (x, \n",
       "        na.rm = FALSE) \n",
       "    sqrt(var(if (is.vector(x) \\textbar{}\\textbar{} is.factor(x)) x else as.double(x), \n",
       "        na.rm = na.rm)), target = new(\"signature\", .Data = \"ANY\", \n",
       "        names = \"x\", package = \"methods\"), defined = new(\"signature\", \n",
       "        .Data = \"ANY\", names = \"x\", package = \"methods\"), generic = structure(\"sd\", package = \"stats\")), \n",
       "    skeleton = (new(\"derivedDefaultMethod\", .Data = function (x, \n",
       "        na.rm = FALSE) \n",
       "    sqrt(var(if (is.vector(x) \\textbar{}\\textbar{} is.factor(x)) x else as.double(x), \n",
       "        na.rm = na.rm)), target = new(\"signature\", .Data = \"ANY\", \n",
       "        names = \"x\", package = \"methods\"), defined = new(\"signature\", \n",
       "        .Data = \"ANY\", names = \"x\", package = \"methods\"), generic = structure(\"sd\", package = \"stats\")))(x, \n",
       "        na.rm))\n",
       "\\end{minted}"
      ],
      "text/markdown": [
       "```r\n",
       "new(\"standardGeneric\", .Data = function (x, na.rm = FALSE) \n",
       "standardGeneric(\"sd\"), generic = structure(\"sd\", package = \"BiocGenerics\"), \n",
       "    package = \"BiocGenerics\", group = list(), valueClass = character(0), \n",
       "    signature = \"x\", default = new(\"derivedDefaultMethod\", .Data = function (x, \n",
       "        na.rm = FALSE) \n",
       "    sqrt(var(if (is.vector(x) || is.factor(x)) x else as.double(x), \n",
       "        na.rm = na.rm)), target = new(\"signature\", .Data = \"ANY\", \n",
       "        names = \"x\", package = \"methods\"), defined = new(\"signature\", \n",
       "        .Data = \"ANY\", names = \"x\", package = \"methods\"), generic = structure(\"sd\", package = \"stats\")), \n",
       "    skeleton = (new(\"derivedDefaultMethod\", .Data = function (x, \n",
       "        na.rm = FALSE) \n",
       "    sqrt(var(if (is.vector(x) || is.factor(x)) x else as.double(x), \n",
       "        na.rm = na.rm)), target = new(\"signature\", .Data = \"ANY\", \n",
       "        names = \"x\", package = \"methods\"), defined = new(\"signature\", \n",
       "        .Data = \"ANY\", names = \"x\", package = \"methods\"), generic = structure(\"sd\", package = \"stats\")))(x, \n",
       "        na.rm))\n",
       "```"
      ],
      "text/plain": [
       "new(\"standardGeneric\", .Data = function (x, na.rm = FALSE) \n",
       "standardGeneric(\"sd\"), generic = \"sd\", package = \"BiocGenerics\", \n",
       "    group = list(), valueClass = character(0), signature = \"x\", \n",
       "    default = new(\"derivedDefaultMethod\", .Data = function (x, \n",
       "        na.rm = FALSE) \n",
       "    sqrt(var(if (is.vector(x) || is.factor(x)) x else as.double(x), \n",
       "        na.rm = na.rm)), target = new(\"signature\", .Data = \"ANY\", \n",
       "        names = \"x\", package = \"methods\"), defined = new(\"signature\", \n",
       "        .Data = \"ANY\", names = \"x\", package = \"methods\"), generic = \"sd\"), \n",
       "    skeleton = (new(\"derivedDefaultMethod\", .Data = function (x, \n",
       "        na.rm = FALSE) \n",
       "    sqrt(var(if (is.vector(x) || is.factor(x)) x else as.double(x), \n",
       "        na.rm = na.rm)), target = new(\"signature\", .Data = \"ANY\", \n",
       "        names = \"x\", package = \"methods\"), defined = new(\"signature\", \n",
       "        .Data = \"ANY\", names = \"x\", package = \"methods\"), generic = \"sd\"))(x, \n",
       "        na.rm))\n",
       "<bytecode: 0x7fbb5dba20e0>\n",
       "<environment: 0x7fbb5db9bf20>\n",
       "attr(,\"generic\")\n",
       "[1] \"sd\"\n",
       "attr(,\"generic\")attr(,\"package\")\n",
       "[1] \"BiocGenerics\"\n",
       "attr(,\"package\")\n",
       "[1] \"BiocGenerics\"\n",
       "attr(,\"group\")\n",
       "list()\n",
       "attr(,\"valueClass\")\n",
       "character(0)\n",
       "attr(,\"signature\")\n",
       "[1] \"x\"\n",
       "attr(,\"default\")\n",
       "Method Definition (Class \"derivedDefaultMethod\"):\n",
       "\n",
       "function (x, na.rm = FALSE) \n",
       "sqrt(var(if (is.vector(x) || is.factor(x)) x else as.double(x), \n",
       "    na.rm = na.rm))\n",
       "<bytecode: 0x7fbb5db99698>\n",
       "<environment: namespace:stats>\n",
       "\n",
       "Signatures:\n",
       "        x    \n",
       "target  \"ANY\"\n",
       "defined \"ANY\"\n",
       "attr(,\"skeleton\")\n",
       "(new(\"derivedDefaultMethod\", .Data = function (x, na.rm = FALSE) \n",
       "sqrt(var(if (is.vector(x) || is.factor(x)) x else as.double(x), \n",
       "    na.rm = na.rm)), target = new(\"signature\", .Data = \"ANY\", \n",
       "    names = \"x\", package = \"methods\"), defined = new(\"signature\", \n",
       "    .Data = \"ANY\", names = \"x\", package = \"methods\"), generic = \"sd\"))(x, \n",
       "    na.rm)\n",
       "attr(,\"class\")\n",
       "[1] \"standardGeneric\"\n",
       "attr(,\"class\")attr(,\"package\")\n",
       "[1] \"methods\""
      ]
     },
     "metadata": {},
     "output_type": "display_data"
    }
   ],
   "source": [
    "sd"
   ]
  },
  {
   "cell_type": "code",
   "execution_count": null,
   "id": "b54872e2-3f4e-4f1a-a680-d7f119117985",
   "metadata": {},
   "outputs": [],
   "source": []
  }
 ],
 "metadata": {
  "kernelspec": {
   "display_name": "deseq2",
   "language": "R",
   "name": "deseq2"
  },
  "language_info": {
   "codemirror_mode": "r",
   "file_extension": ".r",
   "mimetype": "text/x-r-source",
   "name": "R",
   "pygments_lexer": "r",
   "version": "4.3.3"
  }
 },
 "nbformat": 4,
 "nbformat_minor": 5
}
