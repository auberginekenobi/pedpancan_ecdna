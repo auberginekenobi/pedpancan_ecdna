{
 "cells": [
  {
   "cell_type": "markdown",
   "id": "422571e3-f59b-48c5-bdf6-866a7e94ad0c",
   "metadata": {},
   "source": [
    "# create inputs for DE\n",
    "see next: cbtn-edger.ipynb"
   ]
  },
  {
   "cell_type": "code",
   "execution_count": null,
   "id": "40fea5b7-530e-42fa-b63f-02bfdbe9706b",
   "metadata": {},
   "outputs": [],
   "source": [
    "import pandas as pd\n",
    "import numpy as np\n",
    "#import seaborn as sns\n",
    "#import matplotlib.pyplot as plt\n",
    "#import scipy.stats\n",
    "import sys\n",
    "from pathlib import Path\n",
    "from collections import OrderedDict\n",
    "\n",
    "sys.path.append('../src')\n",
    "Path(\"out\").mkdir(parents=True, exist_ok=True)\n",
    "\n",
    "import data_imports"
   ]
  },
  {
   "cell_type": "code",
   "execution_count": null,
   "id": "a2455bb4-37eb-4b04-9e1b-7101203509c4",
   "metadata": {},
   "outputs": [],
   "source": [
    "def clean_cbtn_rnaseq(df):\n",
    "    # Drop ENSG prefixes \n",
    "    df.index = df.index.map(lambda x: '_'.join(x.split('_')[1:]))\n",
    "    # We want these two ENSG entries (C19MC) but no others\n",
    "    #save = df.loc[['ENSG00000269842','ENSG00000269564']]\n",
    "    # drop Drop entries without HUGO entries or with nonunique names.\n",
    "    df = df[~ (df.index.str.startswith('ENSG') | df.index.str.startswith('PAR_Y') | df.index.str.startswith('LINC'))]\n",
    "    #f = pd.concat([df,save])\n",
    "    # drop duplicates\n",
    "    df = df[~ df.index.duplicated(False)]\n",
    "    # Samples in the cohort\n",
    "    samples = data_imports.import_biosamples().external_sample_id\n",
    "    df = df.loc[:,df.columns.isin(samples)]\n",
    "    return df\n",
    "\n",
    "# note that this is a different file than cbtn-gsea. GSEA requires normalized values (TPM)\n",
    "# DESeq2 requires raw counts.\n",
    "def import_cbtn_rnaseq(path='/Users/ochapman/Library/CloudStorage/OneDrive-SanfordBurnhamPrebysMedicalDiscoveryInstitute/projects/2023-pedpancan/data/gex/pbta-rsem-genes.expected_count.tsv'):\n",
    "    df = pd.read_csv(path,sep='\\t',index_col=0)\n",
    "    df=clean_cbtn_rnaseq(df)\n",
    "    return df\n",
    "\n",
    "def import_biosamples():\n",
    "    df = data_imports.import_biosamples()\n",
    "    # preprocessing\n",
    "    df = df[df.in_unique_tumor_set]\n",
    "    df['amplicon_class']=df['amplicon_class'].replace(\n",
    "        {'Complex noncyclic':'chromosomal',\n",
    "         'BFB':'chromosomal',\n",
    "         'Linear':'chromosomal',\n",
    "         'No amplification':'no_amp',\n",
    "        })\n",
    "    # drop duplicate samples\n",
    "    df=df.dropna(subset='external_sample_id')\n",
    "    return df\n",
    "\n",
    "def import_genes():\n",
    "    df = data_imports.import_genes()\n",
    "    # preprocessing\n",
    "    df['feature']=df['feature'].map(lambda x: x.split('_')[0]) # drop suffix\n",
    "    df['feature']=df['feature'].replace(\n",
    "        {'Complex-non-cyclic':'chromosomal',\n",
    "         'BFB':'chromosomal',\n",
    "         'Linear':'chromosomal',\n",
    "         'No amplification':'no_amp',\n",
    "    })\n",
    "    # unknown in this table are not reported in other AC results afaik\n",
    "    df=df[df.feature != 'unknown']\n",
    "    return df"
   ]
  },
  {
   "cell_type": "code",
   "execution_count": null,
   "id": "bbbdf612-e5f1-4b20-87a7-5a863155bec8",
   "metadata": {},
   "outputs": [],
   "source": [
    "# GLOBALS\n",
    "\n",
    "RNA=import_cbtn_rnaseq()\n",
    "BIOSAMPLES=import_biosamples()\n",
    "GENES = import_genes()\n"
   ]
  },
  {
   "cell_type": "code",
   "execution_count": null,
   "id": "bf77b2a6-4531-439b-b516-fc9da9bb068e",
   "metadata": {},
   "outputs": [],
   "source": [
    "RNA.columns"
   ]
  },
  {
   "cell_type": "code",
   "execution_count": null,
   "id": "41f7c598-686c-4ca8-b154-cd3df2c79aee",
   "metadata": {},
   "outputs": [],
   "source": [
    "def generate_deseq2_phenotype_table():\n",
    "    df = BIOSAMPLES.copy()\n",
    "    df = df.set_index(\"external_sample_id\")\n",
    "    df = df[df.index.isin(RNA.columns)]\n",
    "    df = df.drop(\"file_name\",axis=1)\n",
    "    df.index.name = \"Sample ID\"\n",
    "    df.to_csv(\"out/sample_phenotypes.csv\")\n",
    "    return df"
   ]
  },
  {
   "cell_type": "code",
   "execution_count": null,
   "id": "85d30133-adfd-486b-ba37-e0d838aca537",
   "metadata": {},
   "outputs": [],
   "source": [
    "df = generate_deseq2_phenotype_table()"
   ]
  },
  {
   "cell_type": "code",
   "execution_count": null,
   "id": "85001018-923a-4473-b2dd-9bcff910786f",
   "metadata": {},
   "outputs": [],
   "source": [
    "len(df)"
   ]
  },
  {
   "cell_type": "code",
   "execution_count": null,
   "id": "f4a851b1-89e2-4c1e-81c0-8a54fd10abe1",
   "metadata": {},
   "outputs": [],
   "source": [
    "df.head()"
   ]
  }
 ],
 "metadata": {
  "kernelspec": {
   "display_name": "py3",
   "language": "python",
   "name": "py3"
  },
  "language_info": {
   "codemirror_mode": {
    "name": "ipython",
    "version": 3
   },
   "file_extension": ".py",
   "mimetype": "text/x-python",
   "name": "python",
   "nbconvert_exporter": "python",
   "pygments_lexer": "ipython3",
   "version": "3.12.5"
  }
 },
 "nbformat": 4,
 "nbformat_minor": 5
}
