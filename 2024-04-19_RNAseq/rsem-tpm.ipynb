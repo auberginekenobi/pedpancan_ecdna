{
 "cells": [
  {
   "cell_type": "code",
   "execution_count": null,
   "id": "b85d4b91-f1d5-4b92-a9b6-a754ff24f313",
   "metadata": {},
   "outputs": [],
   "source": [
    "# How closely associated is ecDNA amplification to oncogene overexpression?"
   ]
  },
  {
   "cell_type": "code",
   "execution_count": null,
   "id": "32eedef6-443e-4670-9814-15e359d2e370",
   "metadata": {
    "tags": []
   },
   "outputs": [],
   "source": [
    "import pandas as pd\n",
    "import numpy as np\n",
    "import seaborn as sns\n",
    "import matplotlib.pyplot as plt\n",
    "import scipy.stats\n",
    "import sys\n",
    "from pathlib import Path\n",
    "\n",
    "sys.path.append('../src')\n",
    "Path(\"out\").mkdir(parents=True, exist_ok=True)\n",
    "\n",
    "import data_imports"
   ]
  },
  {
   "cell_type": "code",
   "execution_count": null,
   "id": "e3faac3a-de0e-4c4f-a68d-641b0f077a50",
   "metadata": {
    "tags": []
   },
   "outputs": [],
   "source": [
    "def clean_cbtn_rnaseq(df):\n",
    "    # Drop ENSG prefixes \n",
    "    df.index = df.index.map(lambda x: '_'.join(x.split('_')[1:]))\n",
    "    # We want these two ENSG entries (C19MC) but no others\n",
    "    save = df.loc[['ENSG00000269842','ENSG00000269564']]\n",
    "    # drop Drop entries without HUGO entries or with nonunique names.\n",
    "    df = df[~ (df.index.str.startswith('ENSG') | df.index.str.startswith('PAR_Y'))]\n",
    "    df = pd.concat([df,save])\n",
    "    # drop duplicates\n",
    "    df = df[~ df.index.duplicated(False)]\n",
    "    # Samples in the cohort\n",
    "    samples = data_imports.import_biosamples().external_sample_id\n",
    "    df = df.loc[:,df.columns.isin(samples)]\n",
    "    return df\n",
    "\n",
    "def import_cbtn_rnaseq(path='/Users/ochapman/Library/CloudStorage/OneDrive-SanfordBurnhamPrebysMedicalDiscoveryInstitute/projects/2023-pedpancan/data/gex/CBTN-gex.tpm.tsv'):\n",
    "    df = pd.read_csv(path,sep='\\t',index_col=0)\n",
    "    df=clean_cbtn_rnaseq(df)\n",
    "    return df\n",
    "\n",
    "def import_biosamples():\n",
    "    df = data_imports.import_biosamples()\n",
    "    # preprocessing\n",
    "    df['amplicon_class']=df['amplicon_class'].replace(\n",
    "        {'Complex noncyclic':'chromosomal',\n",
    "         'BFB':'chromosomal',\n",
    "         'Linear':'chromosomal'\n",
    "        })\n",
    "    # drop duplicate samples\n",
    "    df=df.dropna(subset='external_sample_id')\n",
    "    return df\n",
    "\n",
    "def import_genes():\n",
    "    df = data_imports.import_genes()\n",
    "    # preprocessing\n",
    "    df['feature']=df['feature'].map(lambda x: x.split('_')[0]) # drop suffix\n",
    "    df['feature']=df['feature'].replace(\n",
    "        {'Complex-non-cyclic':'chromosomal',\n",
    "         'BFB':'chromosomal',\n",
    "         'Linear':'chromosomal'\n",
    "    })\n",
    "    # unknown in this table are not reported in other AC results afaik\n",
    "    df=df[df.feature != 'unknown']\n",
    "    return df"
   ]
  },
  {
   "cell_type": "code",
   "execution_count": null,
   "id": "a5353fac-19e5-404c-86c1-1d379e5d7cd2",
   "metadata": {
    "tags": []
   },
   "outputs": [],
   "source": [
    "# GLOBALS\n",
    "\n",
    "RNA=import_cbtn_rnaseq()\n",
    "BIOSAMPLES=import_biosamples()\n",
    "GENES = import_genes()\n"
   ]
  },
  {
   "cell_type": "markdown",
   "id": "0496973e-ea99-4e0a-8473-6905a8a0e294",
   "metadata": {},
   "source": [
    "### schemae"
   ]
  },
  {
   "cell_type": "code",
   "execution_count": null,
   "id": "23231454-c862-4027-b049-04a067d9a9b0",
   "metadata": {},
   "outputs": [],
   "source": [
    "RNA.head() "
   ]
  },
  {
   "cell_type": "code",
   "execution_count": null,
   "id": "f3279156-bc5c-44e0-92d8-1bc638a68238",
   "metadata": {},
   "outputs": [],
   "source": [
    "BIOSAMPLES.head()"
   ]
  },
  {
   "cell_type": "code",
   "execution_count": null,
   "id": "68887afd-709a-4d1c-9d5c-02bb3e47a8b5",
   "metadata": {},
   "outputs": [],
   "source": [
    "GENES.head()"
   ]
  },
  {
   "cell_type": "markdown",
   "id": "f351be89-f2a0-43b3-b0e4-1d3f0fd85ee4",
   "metadata": {},
   "source": [
    "# all oncogene expression"
   ]
  },
  {
   "cell_type": "code",
   "execution_count": null,
   "id": "6f8efaae-bcb1-4f7a-a310-b5f3bfbea4f4",
   "metadata": {},
   "outputs": [],
   "source": [
    "def get_all_amp_oncogenes():\n",
    "    # All oncogenes amplified on cbtn samples\n",
    "    df = GENES[(GENES.is_canonical_oncogene) & GENES.sample_name.isin(BIOSAMPLES.index)].gene\n",
    "    return set(df)\n",
    "    \n",
    "def amp_class(ex_sample_id, gene):\n",
    "    '''\n",
    "    returns ecDNA, chromosomal, or no amplification\n",
    "    '''\n",
    "    biosamples = BIOSAMPLES[BIOSAMPLES.external_sample_id == ex_sample_id].index\n",
    "    genes = GENES[(GENES.sample_name.isin(biosamples)) & (GENES.gene==gene)]\n",
    "    if len(genes) == 0:\n",
    "        return 'no amplification'\n",
    "    elif (genes.feature == 'ecDNA').any():\n",
    "        return 'ecDNA'\n",
    "    return 'chromosomal'\n",
    "\n",
    "def construct_oncogene_amp_dataframe():\n",
    "    # get expression of all oncogenes\n",
    "    genes = get_all_amp_oncogenes()\n",
    "    gex = RNA[RNA.index.isin(genes)]\n",
    "    gex=gex.T\n",
    "    df = pd.melt(gex,ignore_index=False)\n",
    "    # annotate amp status\n",
    "    # TODO this is not a fast operation\n",
    "    df['amplicon_class'] = df.apply(lambda x: amp_class(x.name,x['Gene']), axis=1)\n",
    "    return df\n",
    "\n",
    "def savefig(plot,basename):\n",
    "    pdfName = basename + \".pdf\"\n",
    "    pngName = basename + \".png\"\n",
    "    svgName = basename + \".svg\"\n",
    "    plt.savefig(pdfName,format='pdf')\n",
    "    plt.savefig(pngName,format='png')\n",
    "    plt.savefig(svgName,format='svg')\n",
    "\n",
    "def plot_oncogene_exp(df):\n",
    "    my_order = df.groupby(by=[\"amplicon_class\"])['value'].median().sort_values(ascending=False).index\n",
    "    print(my_order)\n",
    "    plot = sns.boxplot(data=df,x='amplicon_class',y='value',order=my_order,log_scale=2)\n",
    "    value_counts = df.amplicon_class.value_counts()\n",
    "    labels = [f\"{val}\\n(n={value_counts.loc[val]})\" for val in my_order]\n",
    "    plt.xticks(range(len(labels)), labels)\n",
    "    plt.xlabel(f' {len(df.Gene.unique())} oncogenes across {len(df.index.unique())} tumors')\n",
    "    plt.ylabel(f'log_2 TPM')\n",
    "    sns.despine()\n",
    "    savefig(plot,'figures/gex_boxplot')\n",
    "    plt.show()\n",
    "    # statistical tests\n",
    "    s1 = df[(df.amplicon_class=='ecDNA')]['value']\n",
    "    print(f'Median oncogene expression in ecDNA: {s1.median()} (TPM)')\n",
    "    for comparison in ['chromosomal','no amplification']:\n",
    "        s2 = df[(df.amplicon_class==comparison)]['value']\n",
    "        if len(s1) > 2 and len(s2) > 2:\n",
    "            stat = scipy.stats.mannwhitneyu(s1,s2)\n",
    "            print(f'Mann-Whitney U test, ecDNA + vs {comparison}: {stat}')\n",
    "            print(f'Median oncogene expression in {comparison}: {s2.median()} (TPM)')\n",
    "        else:\n",
    "            continue\n",
    "    return plot"
   ]
  },
  {
   "cell_type": "code",
   "execution_count": null,
   "id": "817c551c-977d-4ddf-aefc-a08de51aa0fd",
   "metadata": {},
   "outputs": [],
   "source": [
    "asdf = construct_oncogene_amp_dataframe()\n",
    "asdf.head()"
   ]
  },
  {
   "cell_type": "code",
   "execution_count": null,
   "id": "742d3790-2312-4ca8-9dfb-265e25a5abe3",
   "metadata": {
    "scrolled": true
   },
   "outputs": [],
   "source": [
    "df = plot_oncogene_exp(asdf)"
   ]
  },
  {
   "cell_type": "markdown",
   "id": "40fe2198-a214-4598-af85-d9ae5a949405",
   "metadata": {},
   "source": [
    "# RCMB56"
   ]
  },
  {
   "cell_type": "code",
   "execution_count": null,
   "id": "90b78d82-df25-4f97-a0eb-20426a65d31e",
   "metadata": {},
   "outputs": [],
   "source": [
    "def import_case11_rnaseq(path='/Users/ochapman/Library/CloudStorage/OneDrive-SanfordBurnhamPrebysMedicalDiscoveryInstitute/projects/2023-pedpancan/data/gex/case11.genes.results'):\n",
    "    df = pd.read_csv(path,sep='\\t',index_col=0)\n",
    "    df.index.name = \"Gene\"\n",
    "    df['case11'] = df['FPKM']\n",
    "    return df.case11\n",
    "def import_mb_genes():\n",
    "    cols=[\"_\",\"start\",\"end\",\"Gene\"]\n",
    "    p1=\"/Users/ochapman/projects/medullo-ecdna/circos/RCMB56/genes_1.txt\"\n",
    "    df1 = pd.read_csv(p1,sep='\\t',names=cols)\n",
    "    p2=\"/Users/ochapman/projects/medullo-ecdna/circos/RCMB56/genes_2.txt\"\n",
    "    df2 = pd.read_csv(p2,sep='\\t',names=cols)\n",
    "    df = pd.concat([df1,df2]).Gene\n",
    "    return df"
   ]
  },
  {
   "cell_type": "code",
   "execution_count": null,
   "id": "7a6a9e42-e6be-4067-af56-dacbfc526933",
   "metadata": {},
   "outputs": [],
   "source": [
    "def violinplot_gex(gex,highlight_set,path=None):\n",
    "    sns.violinplot(data=gex,orient='v',color='C0')\n",
    "    swarm = gex.loc[highlight_set]\n",
    "    sns.swarmplot(data=swarm,color='C1')\n",
    "    for k, v in swarm.items():\n",
    "        plt.text(0.1, v, k, horizontalalignment='center', verticalalignment='bottom', fontsize=10, color='black')\n",
    "    #plt.title('Violin Plot of Pandas Series')\n",
    "    plt.ylabel(\"Log gene expression (log10 TPM)\")\n",
    "    #plt.xlabel(\"7316-2577 (Recurrence)\")\n",
    "    sns.despine()\n",
    "    if path != None:\n",
    "        plt.savefig(path)\n",
    "    plt.show()\n",
    "    return swarm"
   ]
  },
  {
   "cell_type": "code",
   "execution_count": null,
   "id": "1f150e1f-22d2-4a41-8ac4-f22206f572d0",
   "metadata": {},
   "outputs": [],
   "source": [
    "data = import_case11_rnaseq()\n",
    "data = np.log10(data+1)\n",
    "highlight = import_mb_genes()\n",
    "highlight = highlight[highlight.isin(data.index)]\n",
    "genes = violinplot_gex(data,highlight,'out/case11-gex.svg')"
   ]
  },
  {
   "cell_type": "code",
   "execution_count": null,
   "id": "58f72577-8689-4108-ab95-c3da40b3b43d",
   "metadata": {},
   "outputs": [],
   "source": [
    "genes[genes > .5].to_csv(\"out/rcmb56-ecdna-highly-expressed.tsv\",sep='\\t')\n"
   ]
  },
  {
   "cell_type": "code",
   "execution_count": null,
   "id": "98a61f4c-816f-455a-8548-e86933436ddf",
   "metadata": {},
   "outputs": [],
   "source": [
    "Differential expression sans X01Differential expression sans X01"
   ]
  },
  {
   "cell_type": "markdown",
   "id": "6b17267b-ba96-4001-bf22-65276ff359d6",
   "metadata": {
    "tags": []
   },
   "source": [
    "# ETMR PT_00G007DM\n",
    "BS_AQMKA8NC \tMale \tPT_00G007DM \t7316-2577 \tRecurrence  \n",
    "BS_K07KNTFY \tMale \tPT_00G007DM \t7316-272 \tDiagnosis  "
   ]
  },
  {
   "cell_type": "code",
   "execution_count": null,
   "id": "9337141d-40be-45bc-8e90-0ea30f79462a",
   "metadata": {
    "tags": []
   },
   "outputs": [],
   "source": [
    "def violinplot_gex(gex,highlight_set,path=None):\n",
    "    sns.violinplot(data=gex,orient='v',color='C0')\n",
    "    swarm = gex.loc[highlight_set]\n",
    "    sns.swarmplot(data=swarm,color='C1')\n",
    "    i=-.9\n",
    "    for sample, series in swarm.items():\n",
    "        i+=1\n",
    "        for k, v in series.items():\n",
    "            plt.text(i, v, k, horizontalalignment='center', verticalalignment='bottom', fontsize=10, color='black')\n",
    "    #plt.title('Violin Plot of Pandas Series')\n",
    "    plt.ylabel(\"Log gene expression (log10 TPM)\")\n",
    "    #plt.xlabel(\"7316-2577 (Recurrence)\")\n",
    "    sns.despine()\n",
    "    if path != None:\n",
    "        plt.savefig(path)\n",
    "    plt.show()\n"
   ]
  },
  {
   "cell_type": "code",
   "execution_count": null,
   "id": "773dfc0b-fcdd-4fb3-b95f-0a9c2bea4057",
   "metadata": {
    "tags": []
   },
   "outputs": [],
   "source": [
    "data = RNA[['7316-272','7316-2577']]\n",
    "data = np.log10(data+1)\n",
    "highlight = GENES[GENES.sample_name == 'BS_K07KNTFY']['gene'].to_list()\n",
    "highlight += ['ENSG00000269842','ENSG00000269564']\n",
    "\n",
    "violinplot_gex(data,highlight,'out/PT_00G007DM-gex.svg')"
   ]
  },
  {
   "cell_type": "code",
   "execution_count": null,
   "id": "fde248d7-71ec-437a-b160-213fd5c09acf",
   "metadata": {
    "tags": []
   },
   "outputs": [],
   "source": [
    "data = RNA[['7316-272','7316-2577']]\n",
    "data = np.log10(data+1)\n",
    "path = '/Users/ochapman/projects/pedpancan_ecdna/data/source/AmpliconClassifier/beds_by_tumor_type/ETMR/C19MC.genes.txt'\n",
    "with open(path, \"r\") as file:\n",
    "    highlight = list(map(str.strip,file.readlines()))\n",
    "\n",
    "violinplot_gex(data,highlight,'out/PT_00G007DM-C19MC.svg')\n",
    "# C19MC miRNA expression not detected"
   ]
  },
  {
   "cell_type": "code",
   "execution_count": null,
   "id": "030c2c60-062e-4827-8cea-908a130feef4",
   "metadata": {
    "scrolled": true,
    "tags": []
   },
   "outputs": [],
   "source": [
    "data = RNA[['7316-272','7316-2577']]\n",
    "data = np.log10(data+1)\n",
    "highlight = ['ENSG00000269842','ENSG00000269564','MIR17HG']\n",
    "\n",
    "violinplot_gex(data,highlight,'out/PT_00G007DM-C19MC.svg')\n",
    "data.loc[highlight]\n",
    "# 1/2 preprocessed RNAs expressed."
   ]
  },
  {
   "cell_type": "markdown",
   "id": "3ed66e6b-a464-4ffe-9e3d-168b09a21bce",
   "metadata": {},
   "source": [
    "# DEAD CODE (amp gene expression comparison)"
   ]
  },
  {
   "cell_type": "code",
   "execution_count": null,
   "id": "f24d0a18-fd62-4389-87b7-1ff3a09152a3",
   "metadata": {},
   "outputs": [],
   "source": [
    "def construct_gene_amplicon_dataframe(gene,diagnosis=None):\n",
    "    # subset only samples of specific diagnosis \n",
    "    if diagnosis != None:\n",
    "        bs = BIOSAMPLES[BIOSAMPLES.cancer_type == diagnosis]\n",
    "    else:\n",
    "        bs=BIOSAMPLES.copy()\n",
    "\n",
    "    # is gene on amplicon?\n",
    "    bs['is_amp']=bs.index.map(lambda x: len(GENES[(GENES.sample_name==x) & \n",
    "                                            (GENES.feature.str.contains(BIOSAMPLES.loc[x,'amplicon_class'])) & \n",
    "                                            (GENES.gene==gene)])>0).copy()\n",
    "    bs.set_index(keys='external_sample_id',inplace=True)\n",
    "    # get amplicon class \n",
    "    bs=bs[['amplicon_class','is_amp']]\n",
    "    # subset gene of interest\n",
    "    df=RNA.loc[[gene]].T\n",
    "    df = df.join(bs,how='inner')\n",
    "    df.sort_values(gene,inplace=True)    \n",
    "    return df\n",
    "\n",
    "def plot_gene_amplicon(gene,diagnosis=None):\n",
    "    df=construct_gene_amplicon_dataframe(gene,diagnosis)\n",
    "    my_order = df.groupby(by=[\"amplicon_class\"])[gene].median().iloc[::-1].index\n",
    "    sns.boxplot(data=df,x='amplicon_class',y=gene,order=my_order,hue='is_amp')\n",
    "    value_counts = pd.Series(data=0,index=pd.MultiIndex.from_product([my_order, [True,False]]))\n",
    "    other = df.groupby(['amplicon_class','is_amp']).count()\n",
    "    # hack hack\n",
    "    value_counts=pd.Series(\n",
    "        data=value_counts.index.map(lambda x: value_counts.loc[x] + other.loc[x].iloc[0] if other.index.isin([x]).any() else value_counts.loc[x]),\n",
    "        index=value_counts.index\n",
    "    )\n",
    "    labels = [f\"{val}\\n(n={value_counts.loc[(val,False)]}, {value_counts.loc[(val,True)]})\" for val in my_order]\n",
    "    plt.xticks(range(len(labels)), labels)\n",
    "    plt.xlabel(f'{\"all tumors\" if diagnosis == None else str(diagnosis)} (n={len(df)})')\n",
    "    plt.ylabel(f'{gene} (TPM)')\n",
    "    sns.despine()\n",
    "    \n",
    "    eci = value_counts.index.get_loc('ecDNA')\n",
    "    for key, value in value_counts.items():\n",
    "        if key == ('ecDNA',True):\n",
    "            continue\n",
    "        else:\n",
    "            s1 = df[(df.amplicon_class==key[0]) & (df.is_amp==key[1])][gene]\n",
    "            s2 = df[(df.amplicon_class=='ecDNA') & df.is_amp][gene]\n",
    "            if len(s1) > 2 and len(s2) > 2:\n",
    "                stat = scipy.stats.mannwhitneyu(s1,s2)\n",
    "                print(f'Mann-Whitney U test, ecDNA_{gene}+ vs {key[0]}_{gene}{\"+\" if key[1] else \"-\"}: {stat}')\n",
    "            else:\n",
    "                #print(f'Mann-Whitney U test, ecDNA_{gene}+ vs {key[0]}_{gene}{\"+\" if key[1] else \"-\"}: is invalid')\n",
    "                continue\n",
    "    return df"
   ]
  },
  {
   "cell_type": "code",
   "execution_count": null,
   "id": "d0f5ccb6-147d-4397-a056-64dad1e2392a",
   "metadata": {
    "scrolled": true
   },
   "outputs": [],
   "source": [
    "df = plot_gene_amplicon('MYCN')\n",
    "plt.gcf().savefig('out/all_tumors_mycn_expression.png')\n",
    "plt.show()\n",
    "# Most MYCN overexpression attributable to ecDNA"
   ]
  },
  {
   "cell_type": "code",
   "execution_count": null,
   "id": "a17635ae-343f-4533-9990-5ed71566b8b1",
   "metadata": {
    "scrolled": true
   },
   "outputs": [],
   "source": [
    "sns.violinplot(data=df,y='MYCN',x=True)"
   ]
  },
  {
   "cell_type": "code",
   "execution_count": null,
   "id": "1bc391e7-8591-4175-b4e1-989b18282adb",
   "metadata": {
    "scrolled": true
   },
   "outputs": [],
   "source": [
    "df=plot_gene_amplicon('MYCN','MBL')\n",
    "plt.gcf().savefig('out/mb_mycn_expression.png')\n",
    "plt.show()"
   ]
  },
  {
   "cell_type": "code",
   "execution_count": null,
   "id": "d062f67c-6af6-4fa2-84e4-6f6aec41e4f1",
   "metadata": {
    "scrolled": true
   },
   "outputs": [],
   "source": [
    "df = plot_gene_amplicon('MYC','MBL')\n",
    "plt.gcf().savefig('out/mb_myc_expression.png')\n",
    "plt.show()"
   ]
  },
  {
   "cell_type": "code",
   "execution_count": null,
   "id": "e8bab31a-65fd-4cc1-8005-fb565242224b",
   "metadata": {},
   "outputs": [],
   "source": [
    "df = plot_gene_amplicon('CDK4')\n",
    "#plt.gcf().savefig('out/all_tumors_cdk4_expression.png')\n",
    "plt.show()"
   ]
  },
  {
   "cell_type": "code",
   "execution_count": null,
   "id": "f33a4e4c-049f-4b4f-a74f-18ac7105125b",
   "metadata": {},
   "outputs": [],
   "source": [
    "df = plot_gene_amplicon('AGAP2')\n",
    "#plt.gcf().savefig('out/all_tumors_cdk4_expression.png')\n",
    "plt.show()"
   ]
  },
  {
   "cell_type": "code",
   "execution_count": null,
   "id": "73cf1cb3-283a-44cb-90f0-3ee07a0173ce",
   "metadata": {},
   "outputs": [],
   "source": [
    "df[df.amplicon_class == 'ecDNA'].sort_values('AGAP2',ascending=False).head()"
   ]
  }
 ],
 "metadata": {
  "kernelspec": {
   "display_name": "py3",
   "language": "python",
   "name": "py3"
  },
  "language_info": {
   "codemirror_mode": {
    "name": "ipython",
    "version": 3
   },
   "file_extension": ".py",
   "mimetype": "text/x-python",
   "name": "python",
   "nbconvert_exporter": "python",
   "pygments_lexer": "ipython3",
   "version": "3.11.3"
  }
 },
 "nbformat": 4,
 "nbformat_minor": 5
}
