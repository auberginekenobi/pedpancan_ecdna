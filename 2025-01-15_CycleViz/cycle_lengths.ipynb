{
 "cells": [
  {
   "cell_type": "code",
   "execution_count": 1,
   "id": "1796f3fb-47ec-4d72-8552-90f7295c5b5f",
   "metadata": {},
   "outputs": [],
   "source": [
    "# Get lengths of cycles plotted with CycleViz"
   ]
  },
  {
   "cell_type": "code",
   "execution_count": 2,
   "id": "369e3c62-6496-4e15-86a7-90d77266e87f",
   "metadata": {},
   "outputs": [],
   "source": [
    "import pandas\n",
    "import sys\n",
    "from pathlib import Path\n",
    "sys.path.append('/Users/ochapman/software/oscutils')\n",
    "import AAutils"
   ]
  },
  {
   "cell_type": "code",
   "execution_count": 3,
   "id": "03fe7c6f-5cb0-4a74-bde3-90b17c356d58",
   "metadata": {},
   "outputs": [],
   "source": [
    "# Input parameters\n",
    "ROOT=Path('/Users/ochapman/Library/CloudStorage/OneDrive-SanfordBurnhamPrebysMedicalDiscoveryInstitute/projects/2023-pedpancan/data/AmpliconArchitect/')\n",
    "SJRHB031519_path = ROOT/'stjude/results_batch_20240912/SJRHB031519_D1/SJRHB031519_D1_amplicon1_cycles.txt'\n",
    "SJRHB031519_cycle = 1"
   ]
  },
  {
   "cell_type": "code",
   "execution_count": 4,
   "id": "ba44dd9d-4ca7-4633-ad9e-79277f9ddb73",
   "metadata": {},
   "outputs": [
    {
     "data": {
      "text/plain": [
       "669992"
      ]
     },
     "execution_count": 4,
     "metadata": {},
     "output_type": "execute_result"
    }
   ],
   "source": [
    "cycle = AAutils.Cycle(str(SJRHB031519_path),SJRHB031519_cycle)\n",
    "len(cycle)"
   ]
  },
  {
   "cell_type": "code",
   "execution_count": 7,
   "id": "d20bdfcd-bb55-4dd0-b592-6d69907b47f9",
   "metadata": {},
   "outputs": [],
   "source": [
    "SJHGG052_path = ROOT/'stjude/results_batch_20240912/SJHGG052_A/SJHGG052_A_amplicon1_cycles.txt'\n",
    "SJHGG052_cycle = 7"
   ]
  },
  {
   "cell_type": "code",
   "execution_count": 8,
   "id": "c85a51e7-3330-4775-99f2-c40415c65093",
   "metadata": {},
   "outputs": [
    {
     "data": {
      "text/plain": [
       "1280956"
      ]
     },
     "execution_count": 8,
     "metadata": {},
     "output_type": "execute_result"
    }
   ],
   "source": [
    "cycle = AAutils.Cycle(str(SJHGG052_path),SJHGG052_cycle)\n",
    "len(cycle)"
   ]
  },
  {
   "cell_type": "code",
   "execution_count": 10,
   "id": "df7cb13c-32b6-45c1-8e38-c9abc75d08ad",
   "metadata": {},
   "outputs": [],
   "source": [
    "BS_M4E4H6NG_path = ROOT/'cbtn/hgg/PT_Y76A7PBA/BS_M4E4H6NG/BS_M4E4H6NG_amplicon1_cycles.txt'\n",
    "BS_M4E4H6NG_cycle = 2"
   ]
  },
  {
   "cell_type": "code",
   "execution_count": 11,
   "id": "dfea9f95-5125-4edd-add9-a95ed85805fb",
   "metadata": {},
   "outputs": [
    {
     "data": {
      "text/plain": [
       "4390545"
      ]
     },
     "execution_count": 11,
     "metadata": {},
     "output_type": "execute_result"
    }
   ],
   "source": [
    "cycle = AAutils.Cycle(str(BS_M4E4H6NG_path),BS_M4E4H6NG_cycle)\n",
    "len(cycle)"
   ]
  },
  {
   "cell_type": "code",
   "execution_count": null,
   "id": "0b7431f9-c2ab-46ba-8a18-091821c42718",
   "metadata": {},
   "outputs": [],
   "source": []
  }
 ],
 "metadata": {
  "kernelspec": {
   "display_name": "py3",
   "language": "python",
   "name": "py3"
  },
  "language_info": {
   "codemirror_mode": {
    "name": "ipython",
    "version": 3
   },
   "file_extension": ".py",
   "mimetype": "text/x-python",
   "name": "python",
   "nbconvert_exporter": "python",
   "pygments_lexer": "ipython3",
   "version": "3.12.5"
  }
 },
 "nbformat": 4,
 "nbformat_minor": 5
}
