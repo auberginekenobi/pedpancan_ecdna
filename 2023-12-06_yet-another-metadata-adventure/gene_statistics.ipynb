{
 "cells": [
  {
   "cell_type": "code",
   "execution_count": null,
   "id": "f4a68743-a0d7-4f0e-938c-b244759d9681",
   "metadata": {
    "tags": []
   },
   "outputs": [],
   "source": [
    "import pandas as pd\n",
    "from data_imports import *\n",
    "pd.set_option('display.max_rows', None)\n",
    "pd.set_option('display.max_columns', None)\n",
    "import numpy as np\n",
    "import matplotlib.pyplot as plt\n",
    "import seaborn as sns"
   ]
  },
  {
   "cell_type": "code",
   "execution_count": null,
   "id": "e5e6002e-a5c1-4f9f-88b3-534ba5d7e6f6",
   "metadata": {
    "tags": []
   },
   "outputs": [],
   "source": [
    "SUPPLEMENTARY_TABLES_PATH=\"/Users/ochapman/projects/pedpancan_ecdna/data/Supplementary Tables.xlsx\"\n",
    "\n",
    "def import_biosamples():\n",
    "    return pd.read_excel(SUPPLEMENTARY_TABLES_PATH,sheet_name=\"2. Biosamples\",index_col=0)\n",
    "def import_genes():\n",
    "    return pd.read_excel(SUPPLEMENTARY_TABLES_PATH,sheet_name=\"4. Gene amplifications\")"
   ]
  },
  {
   "cell_type": "code",
   "execution_count": null,
   "id": "31a54db3-83f2-4c03-a076-57dfa6da5777",
   "metadata": {
    "tags": []
   },
   "outputs": [],
   "source": [
    "biosamples = import_biosamples()\n",
    "genes = import_genes()\n",
    "genes = genes[genes.sample_name.isin(biosamples[biosamples.in_unique_patient_set].index)]\n",
    "genes.head()"
   ]
  },
  {
   "cell_type": "code",
   "execution_count": null,
   "id": "86f4addf-9867-48c5-9acf-d4b3bc393ab2",
   "metadata": {
    "tags": []
   },
   "outputs": [],
   "source": [
    "# How many MYCN ecDNA?\n",
    "len(genes[(genes.feature.str.contains(\"ecDNA\"))&(genes.gene==\"MYCN\")])"
   ]
  },
  {
   "cell_type": "code",
   "execution_count": null,
   "id": "552970a9-4821-4253-b3e8-e957821ca012",
   "metadata": {
    "tags": []
   },
   "outputs": [],
   "source": [
    "# How many MYC ecDNA?\n",
    "len(genes[(genes.feature.str.contains(\"ecDNA\"))&(genes.gene==\"MYC\")])"
   ]
  },
  {
   "cell_type": "code",
   "execution_count": null,
   "id": "afdee871-b3ea-4c4e-8a3f-6524058ef238",
   "metadata": {
    "tags": []
   },
   "outputs": [],
   "source": [
    "# How many unique oncogenes?\n",
    "subset = genes[(genes.feature.str.contains(\"ecDNA\"))&(genes.is_canonical_oncogene)]\n",
    "print(len(subset.gene.unique()))\n",
    "subset.gene.unique()"
   ]
  },
  {
   "cell_type": "code",
   "execution_count": null,
   "id": "b40a77c7-b137-4802-8eb5-33b2775ade20",
   "metadata": {},
   "outputs": [],
   "source": []
  }
 ],
 "metadata": {
  "kernelspec": {
   "display_name": "py3",
   "language": "python",
   "name": "py3"
  },
  "language_info": {
   "codemirror_mode": {
    "name": "ipython",
    "version": 3
   },
   "file_extension": ".py",
   "mimetype": "text/x-python",
   "name": "python",
   "nbconvert_exporter": "python",
   "pygments_lexer": "ipython3",
   "version": "3.11.3"
  }
 },
 "nbformat": 4,
 "nbformat_minor": 5
}
