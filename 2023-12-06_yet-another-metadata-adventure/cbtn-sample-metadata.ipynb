{
 "cells": [
  {
   "cell_type": "code",
   "execution_count": null,
   "id": "611bedf9-53a4-409f-8962-d9cf24d3796d",
   "metadata": {},
   "outputs": [],
   "source": [
    "# ok to archive"
   ]
  },
  {
   "cell_type": "code",
   "execution_count": null,
   "id": "b22c3607-23c4-4679-bfb5-e9b1b4c163e6",
   "metadata": {
    "tags": []
   },
   "outputs": [],
   "source": [
    "import pandas as pd\n",
    "import pathlib\n",
    "import os\n",
    "\n",
    "from data_imports import *\n",
    "\n",
    "pd.set_option('display.max_columns', None)\n",
    "pd.set_option('display.max_rows', None)\n"
   ]
  },
  {
   "cell_type": "code",
   "execution_count": null,
   "id": "02bac212-9857-4072-b5f1-26d558e7fa96",
   "metadata": {
    "tags": []
   },
   "outputs": [],
   "source": [
    "sample_ids = ['7316-272','7316-2577','7316-883','7316-1772','7316-178','7316-153','7316-2178','7316-2107']\n",
    "df = pd.read_csv('../data/local/opentarget/histologies.tsv',sep='\\t')\n",
    "df = df[df.sample_id.isin(sample_ids)]\n",
    "df.sort_values(['sample_id','experimental_strategy'])"
   ]
  },
  {
   "cell_type": "code",
   "execution_count": null,
   "id": "b936e6fc-8ce9-4f12-b4e0-731a0e041f7f",
   "metadata": {
    "tags": []
   },
   "outputs": [],
   "source": [
    "compare(df,\"age_at_diagnosis\",\"age_at_diagnosis_days\")\n",
    "compare(df,\"gender\",\"reported_gender\")\n",
    "compare(df,\"primary_site_x\",\"primary_site_y\")\n",
    "compare(df,\"Tumor Descriptor\",\"tumor_descriptor\")\n",
    "compare(df,\"disease_type\",\"harmonized_diagnosis\")\n",
    "df.head()"
   ]
  }
 ],
 "metadata": {
  "kernelspec": {
   "display_name": "py3",
   "language": "python",
   "name": "py3"
  },
  "language_info": {
   "codemirror_mode": {
    "name": "ipython",
    "version": 3
   },
   "file_extension": ".py",
   "mimetype": "text/x-python",
   "name": "python",
   "nbconvert_exporter": "python",
   "pygments_lexer": "ipython3",
   "version": "3.11.3"
  }
 },
 "nbformat": 4,
 "nbformat_minor": 5
}
