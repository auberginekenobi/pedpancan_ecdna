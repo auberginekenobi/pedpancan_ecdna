{
 "cells": [
  {
   "cell_type": "code",
   "execution_count": 10,
   "id": "b22c3607-23c4-4679-bfb5-e9b1b4c163e6",
   "metadata": {
    "tags": []
   },
   "outputs": [],
   "source": [
    "import pandas as pd\n",
    "import pathlib\n",
    "import os\n",
    "\n",
    "from data_imports import *\n",
    "\n",
    "pd.set_option('display.max_columns', 10)\n",
    "pd.set_option('display.max_rows', None)\n"
   ]
  },
  {
   "cell_type": "code",
   "execution_count": 2,
   "id": "b798fd1d-f38d-4d1f-8862-a14855ee174f",
   "metadata": {
    "tags": []
   },
   "outputs": [],
   "source": [
    "# Data validation\n",
    "def compare(df,left,right):\n",
    "    print(f\"NA values in {left}: {df[left].isna().sum()}\")\n",
    "    print(f\"NA values in {right}: {df[right].isna().sum()}\")\n",
    "    print(f\"NA values in both: {(df[left].isna() & df[right].isna()).sum()}\")\n",
    "    print(f\"Different values: {((df[left] != df[right]) & (~df[left].isna()) & (~df[right].isna())).sum()}\")\n",
    "    return df[((df[left] != df[right]) & (~df[left].isna()) & (~df[right].isna()))]\n",
    "\n",
    "def contingency(left,right):\n",
    "    left = set(left)\n",
    "    right = set(right)\n",
    "    print(f\"len(left): {len(left)}\")\n",
    "    print(f\"len(right): {len(right)}\")\n",
    "    print(f\"In left but not in right: {len(left-right)}\")\n",
    "    print(f\"In right but not in left: {len(right-left)}\")\n",
    "    print(f\"In both: {len(left & right)}\")\n",
    "    "
   ]
  },
  {
   "cell_type": "code",
   "execution_count": 3,
   "id": "02bac212-9857-4072-b5f1-26d558e7fa96",
   "metadata": {
    "tags": []
   },
   "outputs": [
    {
     "name": "stderr",
     "output_type": "stream",
     "text": [
      "/Users/ochapman/projects/pedpancan_ecdna/2023-12-06_yet-another-metadata-adventure/data_imports.py:127: DtypeWarning: Columns (1,21,24,25,26,27,33,36,37,41,43,45,47,48,49,51) have mixed types. Specify dtype option on import or set low_memory=False.\n",
      "  df = pd.read_csv(path,sep='\\t',index_col=0)\n"
     ]
    },
    {
     "name": "stdout",
     "output_type": "stream",
     "text": [
      "Warning: The column 'harmonized_diagnosis' for sample 7316-1101 differs between CAVATICA and opentarget annotations.\n",
      "Warning: The column 'harmonized_diagnosis' for sample 7316-2935 differs between CAVATICA and opentarget annotations.\n",
      "Warning: The column 'tumor_descriptor' for sample 7316-3217 differs between CAVATICA and opentarget annotations.\n",
      "Warning: The column 'primary_site' for sample 7316-3229 differs between CAVATICA and opentarget annotations.\n",
      "Warning: The column 'age_at_diagnosis_days' for sample 7316-323 differs between CAVATICA and opentarget annotations.\n",
      "Warning: The column 'primary_site' for sample 7316-3230 differs between CAVATICA and opentarget annotations.\n",
      "Warning: The column 'CNS_region' for sample 7316-3230 differs between CAVATICA and opentarget annotations.\n",
      "Warning: The column 'primary_site' for sample 7316-3231 differs between CAVATICA and opentarget annotations.\n",
      "Warning: The column 'harmonized_diagnosis' for sample 7316-3295 differs between CAVATICA and opentarget annotations.\n",
      "Warning: The column 'harmonized_diagnosis' for sample 7316-3632 differs between CAVATICA and opentarget annotations.\n",
      "Warning: The column 'harmonized_diagnosis' for sample 7316-4062 differs between CAVATICA and opentarget annotations.\n",
      "Warning: The column 'harmonized_diagnosis' for sample 7316-921 differs between CAVATICA and opentarget annotations.\n",
      "53 KF biospecimens missing from the opentarget histologies table...\n",
      "found 41 matching external sample IDs, adding to table...\n"
     ]
    },
    {
     "data": {
      "text/plain": [
       "994"
      ]
     },
     "execution_count": 3,
     "metadata": {},
     "output_type": "execute_result"
    }
   ],
   "source": [
    "df = generate_cbtn_biosample_table()\n",
    "len(df)"
   ]
  },
  {
   "cell_type": "code",
   "execution_count": 12,
   "id": "b936e6fc-8ce9-4f12-b4e0-731a0e041f7f",
   "metadata": {
    "tags": []
   },
   "outputs": [
    {
     "name": "stdout",
     "output_type": "stream",
     "text": [
      "NA values in age_at_diagnosis: 0\n",
      "NA values in age_at_diagnosis_days: 12\n",
      "NA values in both: 0\n",
      "Different values: 251\n",
      "NA values in gender: 52\n",
      "NA values in reported_gender: 12\n",
      "NA values in both: 0\n",
      "Different values: 2\n",
      "NA values in primary_site_x: 20\n",
      "NA values in primary_site_y: 12\n",
      "NA values in both: 3\n",
      "Different values: 109\n",
      "NA values in Tumor Descriptor: 0\n",
      "NA values in tumor_descriptor: 12\n",
      "NA values in both: 0\n",
      "Different values: 37\n",
      "NA values in disease_type: 20\n",
      "NA values in harmonized_diagnosis: 12\n",
      "NA values in both: 3\n",
      "Different values: 746\n"
     ]
    },
    {
     "data": {
      "text/html": [
       "<div>\n",
       "<style scoped>\n",
       "    .dataframe tbody tr th:only-of-type {\n",
       "        vertical-align: middle;\n",
       "    }\n",
       "\n",
       "    .dataframe tbody tr th {\n",
       "        vertical-align: top;\n",
       "    }\n",
       "\n",
       "    .dataframe thead th {\n",
       "        text-align: right;\n",
       "    }\n",
       "</style>\n",
       "<table border=\"1\" class=\"dataframe\">\n",
       "  <thead>\n",
       "    <tr style=\"text-align: right;\">\n",
       "      <th></th>\n",
       "      <th>gender</th>\n",
       "      <th>Kids First Participant ID</th>\n",
       "      <th>cohort</th>\n",
       "      <th>disease_type</th>\n",
       "      <th>sample_id</th>\n",
       "      <th>...</th>\n",
       "      <th>Notes</th>\n",
       "      <th>harmonized_diagnosis</th>\n",
       "      <th>broad_histology</th>\n",
       "      <th>short_histology</th>\n",
       "      <th>cancer_group</th>\n",
       "    </tr>\n",
       "  </thead>\n",
       "  <tbody>\n",
       "    <tr>\n",
       "      <th>BS_85Y70BHE</th>\n",
       "      <td>Female</td>\n",
       "      <td>PT_124TTG01</td>\n",
       "      <td>PBTA-X00</td>\n",
       "      <td>Adenoma</td>\n",
       "      <td>7316-1960</td>\n",
       "      <td>...</td>\n",
       "      <td>NaN</td>\n",
       "      <td>Adenoma</td>\n",
       "      <td>Benign tumor</td>\n",
       "      <td>Adenoma</td>\n",
       "      <td>NaN</td>\n",
       "    </tr>\n",
       "    <tr>\n",
       "      <th>BS_A9S5HT6P</th>\n",
       "      <td>Female</td>\n",
       "      <td>PT_9XAA8PF6</td>\n",
       "      <td>PBTA-X00</td>\n",
       "      <td>Adenoma</td>\n",
       "      <td>7316-1069</td>\n",
       "      <td>...</td>\n",
       "      <td>NaN</td>\n",
       "      <td>Adenoma</td>\n",
       "      <td>Benign tumor</td>\n",
       "      <td>Adenoma</td>\n",
       "      <td>NaN</td>\n",
       "    </tr>\n",
       "    <tr>\n",
       "      <th>BS_1EQGGHHQ</th>\n",
       "      <td>Female</td>\n",
       "      <td>PT_XP8AM1CH</td>\n",
       "      <td>PBTA-X00</td>\n",
       "      <td>Adenoma</td>\n",
       "      <td>7316-1096</td>\n",
       "      <td>...</td>\n",
       "      <td>NaN</td>\n",
       "      <td>Adenoma</td>\n",
       "      <td>Benign tumor</td>\n",
       "      <td>Adenoma</td>\n",
       "      <td>NaN</td>\n",
       "    </tr>\n",
       "    <tr>\n",
       "      <th>BS_BR1X3R68</th>\n",
       "      <td>Female</td>\n",
       "      <td>PT_ZN1F7RMP</td>\n",
       "      <td>PBTA-X00</td>\n",
       "      <td>Adenoma</td>\n",
       "      <td>7316-1080</td>\n",
       "      <td>...</td>\n",
       "      <td>NaN</td>\n",
       "      <td>Adenoma</td>\n",
       "      <td>Benign tumor</td>\n",
       "      <td>Adenoma</td>\n",
       "      <td>NaN</td>\n",
       "    </tr>\n",
       "    <tr>\n",
       "      <th>BS_JDMM2XG4</th>\n",
       "      <td>Male</td>\n",
       "      <td>PT_32J909WM</td>\n",
       "      <td>PBTA-X00</td>\n",
       "      <td>Atypical Teratoid Rhabdoid Tumor (ATRT)</td>\n",
       "      <td>7316-2688</td>\n",
       "      <td>...</td>\n",
       "      <td>NaN</td>\n",
       "      <td>Atypical Teratoid Rhabdoid Tumor (ATRT)</td>\n",
       "      <td>Embryonal tumor</td>\n",
       "      <td>ATRT</td>\n",
       "      <td>Atypical Teratoid Rhabdoid Tumor</td>\n",
       "    </tr>\n",
       "  </tbody>\n",
       "</table>\n",
       "<p>5 rows × 36 columns</p>\n",
       "</div>"
      ],
      "text/plain": [
       "             gender Kids First Participant ID    cohort   \n",
       "BS_85Y70BHE  Female               PT_124TTG01  PBTA-X00  \\\n",
       "BS_A9S5HT6P  Female               PT_9XAA8PF6  PBTA-X00   \n",
       "BS_1EQGGHHQ  Female               PT_XP8AM1CH  PBTA-X00   \n",
       "BS_BR1X3R68  Female               PT_ZN1F7RMP  PBTA-X00   \n",
       "BS_JDMM2XG4    Male               PT_32J909WM  PBTA-X00   \n",
       "\n",
       "                                        disease_type  sample_id  ... Notes   \n",
       "BS_85Y70BHE                                  Adenoma  7316-1960  ...   NaN  \\\n",
       "BS_A9S5HT6P                                  Adenoma  7316-1069  ...   NaN   \n",
       "BS_1EQGGHHQ                                  Adenoma  7316-1096  ...   NaN   \n",
       "BS_BR1X3R68                                  Adenoma  7316-1080  ...   NaN   \n",
       "BS_JDMM2XG4  Atypical Teratoid Rhabdoid Tumor (ATRT)  7316-2688  ...   NaN   \n",
       "\n",
       "                                harmonized_diagnosis  broad_histology   \n",
       "BS_85Y70BHE                                  Adenoma     Benign tumor  \\\n",
       "BS_A9S5HT6P                                  Adenoma     Benign tumor   \n",
       "BS_1EQGGHHQ                                  Adenoma     Benign tumor   \n",
       "BS_BR1X3R68                                  Adenoma     Benign tumor   \n",
       "BS_JDMM2XG4  Atypical Teratoid Rhabdoid Tumor (ATRT)  Embryonal tumor   \n",
       "\n",
       "            short_histology                      cancer_group  \n",
       "BS_85Y70BHE         Adenoma                               NaN  \n",
       "BS_A9S5HT6P         Adenoma                               NaN  \n",
       "BS_1EQGGHHQ         Adenoma                               NaN  \n",
       "BS_BR1X3R68         Adenoma                               NaN  \n",
       "BS_JDMM2XG4            ATRT  Atypical Teratoid Rhabdoid Tumor  \n",
       "\n",
       "[5 rows x 36 columns]"
      ]
     },
     "execution_count": 12,
     "metadata": {},
     "output_type": "execute_result"
    }
   ],
   "source": [
    "compare(df,\"age_at_diagnosis\",\"age_at_diagnosis_days\")\n",
    "compare(df,\"gender\",\"reported_gender\")\n",
    "compare(df,\"primary_site_x\",\"primary_site_y\")\n",
    "compare(df,\"Tumor Descriptor\",\"tumor_descriptor\")\n",
    "compare(df,\"disease_type\",\"harmonized_diagnosis\")\n",
    "df.head()"
   ]
  }
 ],
 "metadata": {
  "kernelspec": {
   "display_name": "py3",
   "language": "python",
   "name": "py3"
  },
  "language_info": {
   "codemirror_mode": {
    "name": "ipython",
    "version": 3
   },
   "file_extension": ".py",
   "mimetype": "text/x-python",
   "name": "python",
   "nbconvert_exporter": "python",
   "pygments_lexer": "ipython3",
   "version": "3.11.3"
  }
 },
 "nbformat": 4,
 "nbformat_minor": 5
}
