{
 "cells": [
  {
   "cell_type": "code",
   "execution_count": null,
   "id": "8163edf9-620f-43eb-9e6b-bb845b48a08f",
   "metadata": {
    "tags": []
   },
   "outputs": [],
   "source": [
    "import os\n",
    "import pandas as pd\n",
    "pd.set_option('display.max_rows', None)\n",
    "pd.set_option('display.max_columns', None)"
   ]
  },
  {
   "cell_type": "code",
   "execution_count": null,
   "id": "d62ab8a6-f4ed-4f4c-a0b7-44f7e4250b8a",
   "metadata": {
    "tags": []
   },
   "outputs": [],
   "source": [
    "# GLOBALS\n",
    "SUPPLEMENTARY_TABLES_PATH=\"/Users/ochapman/projects/pedpancan_ecdna/data/Supplementary Tables.xlsx\"\n",
    "AC_BED_DIR_PATH=\"/Users/ochapman/projects/pedpancan_ecdna/data/source/AmpliconClassifier/pedpancan_classification_bed_files\"\n",
    "AC_BED_DEST_PATH=\"/Users/ochapman/projects/pedpancan_ecdna/data/source/AmpliconClassifier/beds_by_tumor_type\"\n",
    "\n",
    "TUMOR_TYPES=[\"RBL\"]\n",
    "AMPLICON_TYPES=[\"ecDNA\",\"BFB\",\"Complex-non-cyclic\",\"Linear\",\"unknown\"]"
   ]
  },
  {
   "cell_type": "code",
   "execution_count": null,
   "id": "e0f2c66d-de8a-41ae-a49f-9a580709ed9f",
   "metadata": {
    "tags": []
   },
   "outputs": [],
   "source": [
    "def import_patients():\n",
    "    return pd.read_excel(SUPPLEMENTARY_TABLES_PATH,sheet_name=\"1. Patients\",index_col=0)\n",
    "def import_biosamples():\n",
    "    return pd.read_excel(SUPPLEMENTARY_TABLES_PATH,sheet_name=\"2. Biosamples\",index_col=0)\n",
    "def import_amplicons():\n",
    "    return pd.read_excel(SUPPLEMENTARY_TABLES_PATH,sheet_name=\"3. Amplicons\")\n",
    "def import_genes():\n",
    "    return pd.read_excel(SUPPLEMENTARY_TABLES_PATH,sheet_name=\"4. Gene amplifications\")\n",
    "BIOSAMPLES = import_biosamples()"
   ]
  },
  {
   "cell_type": "code",
   "execution_count": null,
   "id": "065c12e7-b7db-47da-816b-c1817f86cc9f",
   "metadata": {
    "tags": []
   },
   "outputs": [],
   "source": [
    "def makedir(path):\n",
    "    try:\n",
    "        os.makedirs(path, exist_ok=True)\n",
    "        print(f\"successfully created directory {path}\")\n",
    "    except OSError as error:\n",
    "        print(f\"directory {path} already exists\")\n",
    "def get_bed_files(tumor_type,amplicon_type):\n",
    "    biosamples = BIOSAMPLES[(BIOSAMPLES.cancer_type == tumor_type) & (BIOSAMPLES.in_unique_tumor_set)].index\n",
    "    files = []\n",
    "    for filename in os.listdir(AC_BED_DIR_PATH):\n",
    "        if (amplicon_type in filename) and (any(substring in filename for substring in biosamples)):\n",
    "            files.append(filename)\n",
    "    return files\n",
    "def symlink_bed_files():\n",
    "    # create root\n",
    "    makedir(AC_BED_DEST_PATH)\n",
    "    # iterate through tumor types, amplicon types\n",
    "    for tt in TUMOR_TYPES:\n",
    "        for at in AMPLICON_TYPES:\n",
    "            # get set of bed files of this tumor and amplicon type\n",
    "            bed_files = get_bed_files(tt,at)\n",
    "            if len(bed_files) > 0:\n",
    "                path=os.path.join(AC_BED_DEST_PATH,tt,at)\n",
    "                makedir(path)\n",
    "                for bed in bed_files:\n",
    "                    src=os.path.join(AC_BED_DIR_PATH,bed)\n",
    "                    dst=os.path.join(path,bed)\n",
    "                    #print(f\"os.symlink(src={src},dst={dst})\")\n",
    "                    os.symlink(src=src,dst=dst)\n",
    "            \n"
   ]
  },
  {
   "cell_type": "code",
   "execution_count": null,
   "id": "29bcd067-6656-4d69-a9dc-82345bbaf9c7",
   "metadata": {
    "tags": []
   },
   "outputs": [],
   "source": [
    "symlink_bed_files()"
   ]
  },
  {
   "cell_type": "code",
   "execution_count": null,
   "id": "f9cec223-6ebf-4a3b-9e44-ace87b435b73",
   "metadata": {},
   "outputs": [],
   "source": []
  }
 ],
 "metadata": {
  "kernelspec": {
   "display_name": "py3",
   "language": "python",
   "name": "py3"
  },
  "language_info": {
   "codemirror_mode": {
    "name": "ipython",
    "version": 3
   },
   "file_extension": ".py",
   "mimetype": "text/x-python",
   "name": "python",
   "nbconvert_exporter": "python",
   "pygments_lexer": "ipython3",
   "version": "3.11.3"
  }
 },
 "nbformat": 4,
 "nbformat_minor": 5
}
