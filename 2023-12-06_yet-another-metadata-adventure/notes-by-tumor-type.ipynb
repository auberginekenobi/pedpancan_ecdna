{
 "cells": [
  {
   "cell_type": "code",
   "execution_count": null,
   "id": "4013dff6-0f31-4b48-bab8-63e361854465",
   "metadata": {},
   "outputs": [],
   "source": [
    "import pandas as pd\n",
    "import numpy as np\n",
    "import matplotlib.pyplot as plt\n",
    "import seaborn as sns\n",
    "import sys\n",
    "sys.path.append('../src')\n",
    "from data_imports import *\n",
    "pd.set_option('display.max_rows', None)\n",
    "pd.set_option('display.max_columns', None)"
   ]
  },
  {
   "cell_type": "code",
   "execution_count": null,
   "id": "a03a14ea-1bc9-40d2-b772-e755e4d5f767",
   "metadata": {},
   "outputs": [],
   "source": [
    "patients = import_patients()\n",
    "biosamples = import_biosamples()\n",
    "amplicons = import_amplicons()\n",
    "genes = import_genes()\n",
    "#biosamples = biosamples[biosamples.in_unique_tumor_set]"
   ]
  },
  {
   "cell_type": "code",
   "execution_count": null,
   "id": "d199f088-e6f3-4651-a1fa-c33a2df6145c",
   "metadata": {},
   "outputs": [],
   "source": [
    "def get_ecDNA_biosamples(tumor_type):\n",
    "    return biosamples[(biosamples.cancer_type == tumor_type) & (biosamples.amplicon_class == 'ecDNA')]"
   ]
  },
  {
   "cell_type": "markdown",
   "id": "a351432a-8768-48e5-a0d6-d48533f6ae6f",
   "metadata": {},
   "source": [
    "# PNST\n"
   ]
  },
  {
   "cell_type": "code",
   "execution_count": null,
   "id": "0b6e0436-ff46-43ba-b221-d50609d56ee9",
   "metadata": {},
   "outputs": [],
   "source": [
    "get_ecDNA_biosamples('PNST')"
   ]
  },
  {
   "cell_type": "markdown",
   "id": "8dde4026-40b3-4790-9be3-3d522fd7d0ac",
   "metadata": {},
   "source": [
    "# EPN\n",
    "- BS_QMY84KF4: MYCN, CN 26\n",
    "- BS_9GJHMA3J: No known oncogenes. CN 8. (some partial) CLYBL FGF14 FKSG29 GPR18 GPR183 ITGBL1 NALCN PCCA TM9SF2 UBAC2 ZIC2 ZIC5  \n",
    "    Best guess oncogene NALCN\n",
    "- SJEPD031010_D1: No known oncogenes. CN 3. LHX3, QSOX2, NACC2-CCDC187.  \n",
    "    Best guess QSOX2"
   ]
  },
  {
   "cell_type": "code",
   "execution_count": null,
   "id": "220368a7-f95d-41d5-83d6-71eff7a8612b",
   "metadata": {},
   "outputs": [],
   "source": [
    "get_ecDNA_biosamples('EPN')"
   ]
  },
  {
   "cell_type": "markdown",
   "id": "60c78e6a-982b-4298-b487-70d283c024e8",
   "metadata": {},
   "source": [
    "# CPT\n",
    "- BS_YMYESCY7 (CPP): CN < 2. Looks low-quality. Probable false positive.\n",
    "- BS_XEVMEYFS (CPC): CN 3-4. Low copy, no known oncogenes. Some developmental TFs."
   ]
  },
  {
   "cell_type": "code",
   "execution_count": null,
   "id": "c66af1ec-d0c1-45d7-a007-932fc2f197e7",
   "metadata": {},
   "outputs": [],
   "source": [
    "get_ecDNA_biosamples('CPT')"
   ]
  },
  {
   "cell_type": "markdown",
   "id": "ad328008-85ab-4f27-b413-5395302fdde8",
   "metadata": {
    "jp-MarkdownHeadingCollapsed": true
   },
   "source": [
    "# PINT\n",
    "- BS_XJZQA3AP: CN 20. MYC."
   ]
  },
  {
   "cell_type": "code",
   "execution_count": null,
   "id": "8ece40ca-ab2d-4a72-8438-4575f5075437",
   "metadata": {},
   "outputs": [],
   "source": [
    "get_ecDNA_biosamples('PINT')"
   ]
  },
  {
   "cell_type": "markdown",
   "id": "9740c646-0c1a-42d0-9ec3-925d9eb936a2",
   "metadata": {
    "jp-MarkdownHeadingCollapsed": true
   },
   "source": [
    "# NBL\n",
    "\n",
    "MYCN-amp: BS_YC4RWPH3, BS_4NPEMNAD, BS_25VZM81R, SJNBL004_D, SJNBL008_D, SJNBL010_D, SJNBL012_D, SJNBL016_D, SJNBL017_D,\n",
    "SJNBL019_D, SJNBL021_D, SJNBL023_D, SJNBL027_D, SJNBL030_D, SJNBL033_D, SJNBL044_D, SJNBL101_D, SJNBL117_D, SJNBL124_D,\n",
    "SJNBL186_R, SJNBL189_R, SJNBL191_R, SJNBL192_R, SJNBL194_R, SJNBL195_R, SJNBL198_R, SJNBL030096_D1, SJNBL030107_D1,\n",
    "SJNBL030177_D1, SJNBL030820_D1, SJNBL031239_D1, SJNBL031668_D1, SJNBL031668_D2, SJNBL032779_D1, SJNBL032876_D1\n",
    "(35 total, 34 unique)\n",
    "\n",
    "non-MYCN-amp:  \n",
    "- SJNBL014_D (TERT, CN 7)  \n",
    "- SJNBL196_R (STEAP1B, CN 9)  \n",
    "- SJNBL197_R (no genes, CN 4)  \n",
    "- SJNBL030810_D2 (TERT, CN 5)  \n",
    "- SJNBL031802_D2 (KANSL1 partial, CN 8)\n",
    "  "
   ]
  },
  {
   "cell_type": "code",
   "execution_count": null,
   "id": "132f9b22-5a5a-4196-b107-c6108ecb84ae",
   "metadata": {
    "scrolled": true
   },
   "outputs": [],
   "source": [
    "df = get_ecDNA_biosamples('NBL')\n",
    "print(len(df))\n",
    "df"
   ]
  },
  {
   "attachments": {},
   "cell_type": "markdown",
   "id": "175bcc0f-20ff-47c1-aeac-64814f70e34a",
   "metadata": {
    "jp-MarkdownHeadingCollapsed": true
   },
   "source": [
    "# RBL\n",
    "No new ecDNA+ tumors from previous draft.  \n",
    "TODO: add sample names.  \n",
    "- 2 MYCN amp (SJRB001_D, SJRB011_D)\n",
    "- 2 RB1 fusion amp (SJRB039_D, SJRB030065_D1\n",
    "- SMARCA5 amp (SJRB030199_D1)\n",
    "- ND (SJRB030188_D1). CN 72(!). No known oncogenes. CLRN2, DCAF16, FAM184B, HS3ST1, LAP3, LCORL, MED28, NCAPG, QDPR, SEL1L3, SNORA75B"
   ]
  },
  {
   "cell_type": "code",
   "execution_count": null,
   "id": "7a49e1cb-ec60-4f15-aaa3-c008ee1c96e3",
   "metadata": {},
   "outputs": [],
   "source": [
    "df = get_ecDNA_biosamples('RBL')\n",
    "print(len(df))\n",
    "df"
   ]
  },
  {
   "attachments": {},
   "cell_type": "markdown",
   "id": "5b5bcef7-1109-4b96-a979-be93a76bb76d",
   "metadata": {
    "jp-MarkdownHeadingCollapsed": true
   },
   "source": [
    "# Misc. sarcomas\n",
    "- SJBT030809_D1 (HGCS): GALK2, FAM227B\n",
    "- SJST030131_D3 (SCT): KIT, PDGFRA; APIP, CAT, CD44\n",
    "- SJST032561_D1 (SYNS): low-copy (CN 3), no genes, short (48kbp)\n",
    "- BS_X3KSK1AF (NOS): MYC, CN 14\n",
    "- BS_AVMVWGX0 (NOS): No known oncogenes; CN 10; ARGLU1, DAOA, EFNB2, FAM155A, SLC10A2, SNORD31B. \n",
    "- BS_9E2FF9ZP (NOS): No genes; cycles file super unclear."
   ]
  },
  {
   "cell_type": "code",
   "execution_count": null,
   "id": "d4254f59-f439-420a-8d5a-ef61da653c5a",
   "metadata": {},
   "outputs": [],
   "source": [
    "get_ecDNA_biosamples('SARC')"
   ]
  },
  {
   "cell_type": "markdown",
   "id": "bbd596b1-8afd-4ae7-938e-e1a9fba6acec",
   "metadata": {
    "jp-MarkdownHeadingCollapsed": true
   },
   "source": [
    "# ETMR"
   ]
  },
  {
   "cell_type": "code",
   "execution_count": null,
   "id": "7a96142b-f4da-4278-8533-ba202b219316",
   "metadata": {},
   "outputs": [],
   "source": [
    "get_ecDNA_biosamples('ETMR')"
   ]
  },
  {
   "attachments": {},
   "cell_type": "markdown",
   "id": "3b5ef848-249a-4f88-aac0-523675590eef",
   "metadata": {},
   "source": [
    "# OST\n",
    "- 17p11.2-p12: SJOS001101_M5, SJOS001108_M1, SJOS001126_D1 (also chr19 including CCNE1), SJOS003_D, SJOS012_D, SJOS016_D, SJOS019_D, SJOS030101_D1, SJOS018_D (also MDM2, CCND3, FOXP4), SJOS031130_D1, SJOS031782_D1\n",
    "- BIRC2/BIRC3/YAP1: SJOS001104_M1, SJOS030759_D2\n",
    "- 12q13 (AGAP2/CDK4/GLI1/LRIG3): SJOS001109_D1 (also FOXP4, BOC, MLLT1, SEC62, EPCAM, FBXO11, IGFR1, MSH2, MSH6 on another ecDNA),\n",
    "  SJOS001110_D1, SJOS002_D, SJOS001115_D1, SJOS031125_D1 (also FOXP4),\n",
    "- 6p21 (FOXP4): SJOS001109_D1, SJOS030272_D1 (17p11.2 classified as 'unknown'),SJOS031125_D1 (also 12q13), SJOS018_D (also 17p11.2)\n",
    "- MYC: SJOS015_D, SJOS030605_D1\n",
    "- CCNE1: SJOS001126_D1 (also including 17p11.2), SJOS016_D, SJOS030422_D1, SJOS030861_D3, SJOS032521_D1 (also RAD21 on CNC)\n",
    "- SJOS001105_D1 (most of amplicon3 is categorized as 'unknown' including putative oncogenes ADGRF1, CCND3, CUL7, DNPH1, ERBB3, LRIG3, NACA, PA2G4, POLH, PTK7, TFEB; but a small segment is 'ecDNA'.\n",
    "- SJOS001111_M1 (amplicon3 including MYC is 'unknown' but amplicon4 is ecDNA with a small fragment of ecDNA (CNBD1, CNGB3)\n",
    "- SJOS001120_D1 (no genes on ecDNA, but oncogenes on other amplicons)\n",
    "- SJOS001128_D1 (amplicon6 is mostly 'unknown' including IGF1R, but a small fragment is ecDNA+ NR2F2)\n",
    "- SJOS004_D (no oncogenes on ecDNA but some on 'unknown')\n",
    "- SJOS006_D (no oncogenes. LIPH, SENP2, TMEM41A)\n",
    "- SJOS014_D (RAD21)\n",
    "- SJOS030645_D1/2 (E2F3, HLA-B; 17p11.2 classed as 'unknown')\n",
    "- SJOS031478_D2 (a bit of highly repetitive chr5 incl. PCDHB1-19, PCDHA1-12, PCDHC3-5)\n",
    "- SJST031623_D1 (no ecDNA genes, but lots on 'unknown')\n",
    "- SJST032337_D1 (PIM2)\n",
    "- SJOS032468_D1 (no ecDNA genes, but 17p11.2 on CNC)"
   ]
  },
  {
   "cell_type": "code",
   "execution_count": null,
   "id": "2a54369b-6366-410c-b6cc-76857103d8d7",
   "metadata": {
    "scrolled": true
   },
   "outputs": [],
   "source": [
    "get_ecDNA_biosamples('OST')"
   ]
  },
  {
   "cell_type": "code",
   "execution_count": null,
   "id": "9adc0948-4762-4983-99c8-427a0fa000c9",
   "metadata": {},
   "outputs": [],
   "source": [
    "osts = get_ecDNA_biosamples('OST').index\n",
    "genes[genes.sample_name.isin(osts) & (genes.gene == 'FOXP4')]"
   ]
  },
  {
   "cell_type": "code",
   "execution_count": null,
   "id": "4737cad7-a8f7-41e2-b086-197a6afc42a2",
   "metadata": {},
   "outputs": [],
   "source": [
    "genes.head()"
   ]
  },
  {
   "cell_type": "code",
   "execution_count": null,
   "id": "ac19e0da-b73f-458c-9ac2-2cb96151f8a0",
   "metadata": {},
   "outputs": [],
   "source": []
  }
 ],
 "metadata": {
  "kernelspec": {
   "display_name": "py3",
   "language": "python",
   "name": "py3"
  },
  "language_info": {
   "codemirror_mode": {
    "name": "ipython",
    "version": 3
   },
   "file_extension": ".py",
   "mimetype": "text/x-python",
   "name": "python",
   "nbconvert_exporter": "python",
   "pygments_lexer": "ipython3",
   "version": "3.12.5"
  }
 },
 "nbformat": 4,
 "nbformat_minor": 5
}
