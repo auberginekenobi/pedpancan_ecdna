{
 "cells": [
  {
   "cell_type": "markdown",
   "id": "7c4facbf-1412-4be6-82fc-f27aec971178",
   "metadata": {},
   "source": [
    "# notes by tumor type\n",
    "Notes on each ecDNA sequence organized by tumor type. See also summary_statistics.ipynb."
   ]
  },
  {
   "cell_type": "code",
   "execution_count": null,
   "id": "4013dff6-0f31-4b48-bab8-63e361854465",
   "metadata": {},
   "outputs": [],
   "source": [
    "import pandas as pd\n",
    "import numpy as np\n",
    "import matplotlib.pyplot as plt\n",
    "import seaborn as sns\n",
    "import sys\n",
    "sys.path.append('../src')\n",
    "from data_imports import *\n",
    "pd.set_option('display.max_rows', None)\n",
    "pd.set_option('display.max_columns', None)"
   ]
  },
  {
   "cell_type": "code",
   "execution_count": null,
   "id": "a03a14ea-1bc9-40d2-b772-e755e4d5f767",
   "metadata": {},
   "outputs": [],
   "source": [
    "patients = import_patients()\n",
    "biosamples = import_biosamples()\n",
    "amplicons = import_amplicons()\n",
    "genes = import_genes()\n",
    "#biosamples = biosamples[biosamples.in_unique_tumor_set]"
   ]
  },
  {
   "cell_type": "code",
   "execution_count": null,
   "id": "d199f088-e6f3-4651-a1fa-c33a2df6145c",
   "metadata": {},
   "outputs": [],
   "source": [
    "def get_ecDNA_biosamples(tumor_type):\n",
    "    return biosamples[(biosamples.cancer_type == tumor_type) & (biosamples.amplicon_class == 'ecDNA')]\n",
    "def ecDNA_by_subgroup(tumor_type):\n",
    "    df = biosamples[(biosamples.cancer_type == tumor_type) & (biosamples.in_unique_tumor_set)]\n",
    "    return pd.crosstab(df.cancer_subclass, df.amplicon_class)"
   ]
  },
  {
   "attachments": {},
   "cell_type": "markdown",
   "id": "4c25d583-5b3e-42c9-920e-cf6628718679",
   "metadata": {},
   "source": [
    "# HBL\n",
    "- SJST031395_D1: No known oncogenes. ABCB11 ACVR1 ACVR1C AHCTF1P1 B3GALT1 BAZ2B CCDC148 CD302 CERS6 COBLL1 CSRNP3 CYTIP DAPL1 DHRS9 DPP4 ERMN FAM133DP FAP FIGN G6PC2 GALNT3 GALNT5 GCA GCG GRB14 IFIH1 ITGB6 KCNH7 LRP2 LY75 MARCHF7 NOSTRIN PKP4 PLA2R1 PSMD14 RBMS1 SCN1A SCN2A SCN3A SCN7A SCN9A SLC38A11 SLC4A10 SNORA70F SPC25 STK39 TANC1 TANK TBR1 TTC21B UPP2 WDSUB1 XIRP2\n",
    "- SJST031890_D1: No known oncogenes. AHCTF1P1 BAZ2B CD302 DPP4 FAP FIGN GCA GCG IFIH1 ITGB6 KCNH7 LY75 MARCHF7 PLA2R1 PSMD14 RBMS1 SLC4A10 TANK TBR1\n",
    "\n",
    "No known oncogenes but they share a minimally recurrent amplification of chr2:159297000-164350000. Notably, amplification of this locus looks exclusive to HBL."
   ]
  },
  {
   "cell_type": "code",
   "execution_count": null,
   "id": "9f43e217-c460-4469-bd48-9fa113869a92",
   "metadata": {},
   "outputs": [],
   "source": [
    "get_ecDNA_biosamples('HBL')"
   ]
  },
  {
   "cell_type": "markdown",
   "id": "3ca81f04-e66a-4ce9-8907-acf4e90c2e9b",
   "metadata": {},
   "source": [
    "# MEL\n",
    "- SJMEL031086_D3: Large, chromothriptic high-copy amp. ACTN4 / AKT2 / AXL / CNOT3 / RAC1 / SERTAD1 / SERTAD3 / TFPT / ZNF331 "
   ]
  },
  {
   "cell_type": "code",
   "execution_count": null,
   "id": "df30dcc1-8f81-42ca-a6b9-51045a377d5f",
   "metadata": {},
   "outputs": [],
   "source": [
    "get_ecDNA_biosamples('MEL')"
   ]
  },
  {
   "cell_type": "markdown",
   "id": "ecbb82aa-8286-46f5-8af5-0484d378fc5e",
   "metadata": {},
   "source": [
    "# PNST\n",
    "- BS_N3FWKZB8: AGAP2 / CDK4 / DDIT3 / GLI1 / HMGA2 / IFNG / MDM2 / WIF1\n",
    "- BS_A1DV9T7G: amp1 no oncogenes (FYB1, RICTOR); amp4 TWIST1. HOXA@ on 'unknown' classification.\n",
    "- BS_WH8KWW5J: CAV1 / CUX1 / FEZF1 / MET / PAX4 / SMO\n",
    "Note that BS_A1DV9T7G and BS_WH8KWW5J are longitudinal samples from the same tumor. Low similarity score but some overlap means probably recombinant. "
   ]
  },
  {
   "cell_type": "code",
   "execution_count": null,
   "id": "da0d5b4c-8bed-4930-931b-3eb779b03289",
   "metadata": {},
   "outputs": [],
   "source": [
    "get_ecDNA_biosamples('PNST')"
   ]
  },
  {
   "cell_type": "code",
   "execution_count": null,
   "id": "75a41b5c-3b4d-45ed-bbd0-6759645ed698",
   "metadata": {},
   "outputs": [],
   "source": [
    "ecDNA_by_subgroup('PNST')"
   ]
  },
  {
   "cell_type": "code",
   "execution_count": null,
   "id": "8e6b60b4-8ce4-4cb7-9891-04366933c7a1",
   "metadata": {},
   "outputs": [],
   "source": [
    "len(biosamples[(biosamples.cancer_type == 'NFP') & (biosamples.in_unique_tumor_set)])"
   ]
  },
  {
   "cell_type": "markdown",
   "id": "1e613ff2-2702-45b3-a094-c54f0ab9e90a",
   "metadata": {},
   "source": [
    "# BENG\n",
    "- SJST032574_D1/D2: chr2:57170434-57220435"
   ]
  },
  {
   "cell_type": "code",
   "execution_count": null,
   "id": "1edd627b-c890-403d-b738-c0e83c372f1b",
   "metadata": {},
   "outputs": [],
   "source": [
    "get_ecDNA_biosamples('BENG')"
   ]
  },
  {
   "cell_type": "markdown",
   "id": "743ecb7e-dc2e-4900-9617-ef0677072e02",
   "metadata": {},
   "source": [
    "# GCT\n",
    "- BS_MZS6FZKF: MYCN, RRAS2\n",
    "- SJST030529_D1: HMGA2, IFNG, MDM2, TBC1D15, YEATS4, ALDH1A1"
   ]
  },
  {
   "cell_type": "code",
   "execution_count": null,
   "id": "dcfa14fe-4ac4-47fb-8aad-5cb27b8f8da9",
   "metadata": {},
   "outputs": [],
   "source": [
    "get_ecDNA_biosamples('GCT')"
   ]
  },
  {
   "cell_type": "code",
   "execution_count": null,
   "id": "e086343a-7434-4e41-82cf-7f24719c6fb5",
   "metadata": {},
   "outputs": [],
   "source": [
    "ecDNA_by_subgroup('GCT').sum()"
   ]
  },
  {
   "attachments": {},
   "cell_type": "markdown",
   "id": "e8b1b17e-db16-46b1-b76d-fea1aa974023",
   "metadata": {},
   "source": [
    "# ACC\n",
    "- SJACT001_D: no known oncogenes (chr2q23.3 ARL5A, CACNB4, NEB 5' partial). All less than 10 CN.\n",
    "- SJACT005_D: no known oncogenes (chr14q32.33 ELK2AP). All less than 10 CN.\n",
    "- SJACT062_D: no known oncogenes (chr8q21.11 KCNB2 partial). All less than 10 CN.\n",
    "- SJACT069_D: amp2 chr11q13.4 INPPL1, NUMA1; amp3 SPI1 partial. All less than 10 CN."
   ]
  },
  {
   "cell_type": "code",
   "execution_count": null,
   "id": "96157c62-f1cc-4da9-a399-a4c39cf4bfb3",
   "metadata": {},
   "outputs": [],
   "source": [
    "get_ecDNA_biosamples('ACC')"
   ]
  },
  {
   "cell_type": "code",
   "execution_count": null,
   "id": "1678f05d-4a7c-4cbf-adbf-df8bbf979713",
   "metadata": {},
   "outputs": [],
   "source": [
    "biosamples[(biosamples.cancer_type == 'ACC') & (biosamples.amplicon_class == 'intrachromosomal')]"
   ]
  },
  {
   "cell_type": "markdown",
   "id": "34bb5498-cb97-45df-8ec9-56300ade8192",
   "metadata": {},
   "source": [
    "# WLM\n",
    "- SJST030043_D2: No known oncogenes (ARAP2, DTHD1, RNF212, TMED11P). FGFR3 and NSD2 amp on unknown amplicon.\n",
    "- SJWLM031333_D1: chr20 (BCL2L1, ID1, PLAGL2, SRC)\n",
    "- SJST031620_D1: MYCL, YBX1\n",
    "- SJWLM031677_D1: ID2, MYCN, YWHAQ"
   ]
  },
  {
   "cell_type": "code",
   "execution_count": null,
   "id": "c2f93a1d-3bea-42a4-a056-be6aeb388fa9",
   "metadata": {},
   "outputs": [],
   "source": [
    "get_ecDNA_biosamples('WLM')"
   ]
  },
  {
   "cell_type": "markdown",
   "id": "06c3cc03-0499-4daf-bd59-adb6750f8187",
   "metadata": {},
   "source": [
    "# GNT\n",
    "- BS_9M49SGAQ: PLAG1 (5' partial; oncogene). CN 6."
   ]
  },
  {
   "cell_type": "code",
   "execution_count": null,
   "id": "3ec05204-29dc-44dc-9d9c-0407e6224a47",
   "metadata": {},
   "outputs": [],
   "source": [
    "get_ecDNA_biosamples('GNT')"
   ]
  },
  {
   "cell_type": "markdown",
   "id": "0e59da4b-af07-4879-a4cc-16bb42e5c1c4",
   "metadata": {},
   "source": [
    "# LGG\n",
    "- SJLGG040_D:  MYB (5' partial; oncogene), CT69 (lncRNA). CN 11."
   ]
  },
  {
   "cell_type": "code",
   "execution_count": null,
   "id": "6ed8c7dc-32ab-4cad-8396-f588b50ca92c",
   "metadata": {},
   "outputs": [],
   "source": [
    "get_ecDNA_biosamples('LGG')"
   ]
  },
  {
   "cell_type": "markdown",
   "id": "e72e5c32-ef9b-4279-bd66-6edb16927b56",
   "metadata": {},
   "source": [
    "# CPG\n",
    "- BS_PMFR8NPN: 2 ecDNA. amplicon1 MET; amplicon2 chr13 no known oncogenes. Progressive, partial resection. "
   ]
  },
  {
   "cell_type": "code",
   "execution_count": null,
   "id": "cbc1bde1-df0f-4415-9bf3-a7a6d193f6d4",
   "metadata": {},
   "outputs": [],
   "source": [
    "get_ecDNA_biosamples('CPG')"
   ]
  },
  {
   "cell_type": "code",
   "execution_count": null,
   "id": "37037f9c-31c9-418a-863d-017712141ec3",
   "metadata": {
    "scrolled": true
   },
   "outputs": [],
   "source": [
    "def cpg():\n",
    "    df = import_biosamples()\n",
    "    df = df[(df.cancer_type == 'CPG') & df.in_unique_tumor_set]\n",
    "    return pd.crosstab(df.amplicon_class, df.extent_of_tumor_resection)\n",
    "cpg()"
   ]
  },
  {
   "cell_type": "markdown",
   "id": "a351432a-8768-48e5-a0d6-d48533f6ae6f",
   "metadata": {},
   "source": [
    "# PNST\n"
   ]
  },
  {
   "cell_type": "code",
   "execution_count": null,
   "id": "0b6e0436-ff46-43ba-b221-d50609d56ee9",
   "metadata": {},
   "outputs": [],
   "source": [
    "get_ecDNA_biosamples('PNST')"
   ]
  },
  {
   "cell_type": "markdown",
   "id": "8dde4026-40b3-4790-9be3-3d522fd7d0ac",
   "metadata": {},
   "source": [
    "# EPN\n",
    "- BS_QMY84KF4: MYCN, CN 26\n",
    "- BS_9GJHMA3J: No known oncogenes. CN 8. (some partial) CLYBL FGF14 FKSG29 GPR18 GPR183 ITGBL1 NALCN PCCA TM9SF2 UBAC2 ZIC2 ZIC5  \n",
    "    Best guess oncogene NALCN\n",
    "- SJEPD031010_D1: No known oncogenes. CN 3. LHX3, QSOX2, NACC2-CCDC187.  \n",
    "    Best guess QSOX2"
   ]
  },
  {
   "cell_type": "code",
   "execution_count": null,
   "id": "220368a7-f95d-41d5-83d6-71eff7a8612b",
   "metadata": {},
   "outputs": [],
   "source": [
    "get_ecDNA_biosamples('EPN')"
   ]
  },
  {
   "cell_type": "code",
   "execution_count": null,
   "id": "43a56f8f-247b-4c5d-9f9b-9c7a98d5204d",
   "metadata": {},
   "outputs": [],
   "source": [
    "ecDNA_by_subgroup('EPN')"
   ]
  },
  {
   "cell_type": "markdown",
   "id": "60c78e6a-982b-4298-b487-70d283c024e8",
   "metadata": {},
   "source": [
    "# CPT\n",
    "- BS_YMYESCY7 (CPP): CN < 2. Looks low-quality. Probable false positive. Update 20241112: Reran AA, reclassified.\n",
    "- BS_XEVMEYFS (CPC): CN 3-4. Low copy, no known oncogenes. Some developmental TFs."
   ]
  },
  {
   "cell_type": "code",
   "execution_count": null,
   "id": "c66af1ec-d0c1-45d7-a007-932fc2f197e7",
   "metadata": {},
   "outputs": [],
   "source": [
    "get_ecDNA_biosamples('CPT')"
   ]
  },
  {
   "cell_type": "code",
   "execution_count": null,
   "id": "a8bacd83-3e30-4ec8-82a4-b80dca70850d",
   "metadata": {},
   "outputs": [],
   "source": [
    "ecDNA_by_subgroup('CPT')"
   ]
  },
  {
   "cell_type": "markdown",
   "id": "ad328008-85ab-4f27-b413-5395302fdde8",
   "metadata": {
    "jp-MarkdownHeadingCollapsed": true
   },
   "source": [
    "# PINT\n",
    "- BS_XJZQA3AP: CN 20. MYC."
   ]
  },
  {
   "cell_type": "code",
   "execution_count": null,
   "id": "8ece40ca-ab2d-4a72-8438-4575f5075437",
   "metadata": {},
   "outputs": [],
   "source": [
    "get_ecDNA_biosamples('PINT')"
   ]
  },
  {
   "cell_type": "markdown",
   "id": "9740c646-0c1a-42d0-9ec3-925d9eb936a2",
   "metadata": {
    "jp-MarkdownHeadingCollapsed": true
   },
   "source": [
    "# NBL\n",
    "\n",
    "MYCN-amp: BS_YC4RWPH3, BS_4NPEMNAD, BS_25VZM81R, SJNBL004_D, SJNBL008_D, SJNBL010_D, SJNBL012_D, SJNBL016_D, SJNBL017_D,\n",
    "SJNBL019_D, SJNBL021_D, SJNBL023_D, SJNBL027_D, SJNBL030_D, SJNBL033_D, SJNBL044_D, SJNBL101_D, SJNBL117_D, SJNBL124_D,\n",
    "SJNBL186_R, SJNBL189_R, SJNBL191_R, SJNBL192_R, SJNBL194_R, SJNBL195_R, SJNBL198_R, SJNBL030096_D1, SJNBL030107_D1,\n",
    "SJNBL030177_D1, SJNBL030820_D1, SJNBL031239_D1, SJNBL031668_D1, SJNBL031668_D2, SJNBL032779_D1, SJNBL032876_D1\n",
    "(35 total, 34 unique)\n",
    "\n",
    "non-MYCN-amp:  \n",
    "- SJNBL014_D (TERT, CN 7)  \n",
    "- SJNBL196_R (STEAP1B, CN 9)  \n",
    "- SJNBL197_R (no genes, CN 4)  \n",
    "- SJNBL030810_D2 (TERT, CN 5)  \n",
    "- SJNBL031802_D2 (KANSL1 partial, CN 8)\n",
    "  "
   ]
  },
  {
   "cell_type": "code",
   "execution_count": null,
   "id": "132f9b22-5a5a-4196-b107-c6108ecb84ae",
   "metadata": {
    "scrolled": true
   },
   "outputs": [],
   "source": [
    "df = get_ecDNA_biosamples('NBL')\n",
    "print(len(df))\n",
    "df"
   ]
  },
  {
   "attachments": {},
   "cell_type": "markdown",
   "id": "175bcc0f-20ff-47c1-aeac-64814f70e34a",
   "metadata": {},
   "source": [
    "# RBL\n",
    "- 2 MYCN amp (SJRB001_D, SJRB011_D)\n",
    "- 2 RB1 fusion amp (SJRB039_D, SJRB030065_D1\n",
    "- SMARCA5 amp (SJRB030199_D1)\n",
    "- ND (SJRB030188_D1). CN 72(!). No known oncogenes. CLRN2, DCAF16, FAM184B, HS3ST1, LAP3, LCORL, MED28, NCAPG, QDPR, SEL1L3, SNORA75B"
   ]
  },
  {
   "cell_type": "code",
   "execution_count": null,
   "id": "7a49e1cb-ec60-4f15-aaa3-c008ee1c96e3",
   "metadata": {},
   "outputs": [],
   "source": [
    "df = get_ecDNA_biosamples('RBL')\n",
    "print(len(df))\n",
    "df"
   ]
  },
  {
   "attachments": {},
   "cell_type": "markdown",
   "id": "5b5bcef7-1109-4b96-a979-be93a76bb76d",
   "metadata": {
    "jp-MarkdownHeadingCollapsed": true
   },
   "source": [
    "# Misc. sarcomas\n",
    "- SJBT030809_D1 (HGCS): GALK2, FAM227B\n",
    "- SJST030131_D3 (SCT): KIT, PDGFRA; APIP, CAT, CD44\n",
    "- SJST032561_D1 (SYNS): low-copy (CN 3), no genes, short (48kbp)\n",
    "- BS_X3KSK1AF (NOS): MYC, CN 14\n",
    "- BS_AVMVWGX0 (NOS): No known oncogenes; CN 10; ARGLU1, DAOA, EFNB2, FAM155A, SLC10A2, SNORD31B. \n",
    "- BS_9E2FF9ZP (NOS): No genes; cycles file super unclear."
   ]
  },
  {
   "cell_type": "code",
   "execution_count": null,
   "id": "d4254f59-f439-420a-8d5a-ef61da653c5a",
   "metadata": {},
   "outputs": [],
   "source": [
    "get_ecDNA_biosamples('SARC')"
   ]
  },
  {
   "cell_type": "markdown",
   "id": "bbd596b1-8afd-4ae7-938e-e1a9fba6acec",
   "metadata": {},
   "source": [
    "# ETMR\n",
    "BS_K07KNTFY, BS_TE8QFF7T, BS_69VS8PS1, BS_GGY4Q2C9\n",
    "All C19MC"
   ]
  },
  {
   "cell_type": "code",
   "execution_count": null,
   "id": "7a96142b-f4da-4278-8533-ba202b219316",
   "metadata": {},
   "outputs": [],
   "source": [
    "get_ecDNA_biosamples('ETMR')"
   ]
  },
  {
   "cell_type": "markdown",
   "id": "951dd4a3-e85c-4400-9da0-060135e4b64b",
   "metadata": {},
   "source": [
    "# EMBT\n",
    "- BS_VRDQTVHR: chr6 chromothriptic. No full oncogenes, SGK1 3'.\n",
    "- BS_7M145V8M: chr6 chromothriptic. No oncogenes. Progression of above. Minimal shared amplicon includes HYMAI / MAP3K5 / MPC1 / PEX7 / PLAGL1 / RPS6KA2 / SF3B5 / SFT2D1 / ZC2HC1B.\n",
    "- BS_PCMHH474: C19MC, TTYH1 5'.\n",
    "- BS_3PATZ29V: chr12 chromothriptic. AGAP2 / BTG1 / CDK4 / DDIT3 / FGF6 / GLI1 / HMGA2 / IFNG / KRAS / LDHB / LRIG3 / MDM2 / YEATS4.\n",
    "- BS_WMXKD55A: chr12 chromothriptic. Recurrence of above. AGAP2 / CDK4 / DDIT3 / FGF6 / GLI1 / HMGA2 / IFNG / KRAS / LDHB / LRIG3 / MDM2 / YEATS4."
   ]
  },
  {
   "cell_type": "code",
   "execution_count": null,
   "id": "87d3da61-2ff3-4f46-a6e9-9189edfa193b",
   "metadata": {},
   "outputs": [],
   "source": [
    "get_ecDNA_biosamples('EMBT')"
   ]
  },
  {
   "attachments": {},
   "cell_type": "markdown",
   "id": "3b5ef848-249a-4f88-aac0-523675590eef",
   "metadata": {},
   "source": [
    "# OST\n",
    "- 17p11.2-p12: SJOS001101_M5, SJOS001108_M1, SJOS001126_D1 (also chr19 including CCNE1), SJOS003_D, SJOS012_D, SJOS016_D, SJOS019_D, SJOS030101_D1, SJOS018_D (also MDM2, CCND3, FOXP4), SJOS031130_D1, SJOS031782_D1\n",
    "- BIRC2/BIRC3/YAP1: SJOS001104_M1, SJOS030759_D2\n",
    "- 12q13 (AGAP2/CDK4/GLI1/LRIG3): SJOS001109_D1 (also FOXP4, BOC, MLLT1, SEC62, EPCAM, FBXO11, IGFR1, MSH2, MSH6 on another ecDNA),\n",
    "  SJOS001110_D1, SJOS002_D, SJOS001115_D1, SJOS031125_D1 (also FOXP4),\n",
    "- 6p21 (FOXP4): SJOS001109_D1, SJOS030272_D1 (17p11.2 classified as 'unknown'),SJOS031125_D1 (also 12q13), SJOS018_D (also 17p11.2)\n",
    "- MYC: SJOS015_D, SJOS030605_D1\n",
    "- CCNE1: SJOS001126_D1 (also including 17p11.2), SJOS016_D, SJOS030422_D1, SJOS030861_D3, SJOS032521_D1 (also RAD21 on CNC)\n",
    "- SJOS001105_D1 (most of amplicon3 is categorized as 'unknown' including putative oncogenes ADGRF1, CCND3, CUL7, DNPH1, ERBB3, LRIG3, NACA, PA2G4, POLH, PTK7, TFEB; but a small segment is 'ecDNA'.\n",
    "- SJOS001111_M1 (amplicon3 including MYC is 'unknown' but amplicon4 is ecDNA with a small fragment of ecDNA (CNBD1, CNGB3)\n",
    "- SJOS001120_D1 (no genes on ecDNA, but oncogenes on other amplicons)\n",
    "- SJOS001128_D1 (amplicon6 is mostly 'unknown' including IGF1R, but a small fragment is ecDNA+ NR2F2)\n",
    "- SJOS004_D (no oncogenes on ecDNA but some on 'unknown')\n",
    "- SJOS006_D (no oncogenes. LIPH, SENP2, TMEM41A)\n",
    "- SJOS014_D (RAD21)\n",
    "- SJOS030645_D1/2 (E2F3, HLA-B; 17p11.2 classed as 'unknown')\n",
    "- SJOS031478_D2 (a bit of highly repetitive chr5 incl. PCDHB1-19, PCDHA1-12, PCDHC3-5)\n",
    "- SJST031623_D1 (no ecDNA genes, but lots on 'unknown')\n",
    "- SJST032337_D1 (PIM2)\n",
    "- SJOS032468_D1 (no ecDNA genes, but 17p11.2 on CNC)"
   ]
  },
  {
   "cell_type": "code",
   "execution_count": null,
   "id": "2a54369b-6366-410c-b6cc-76857103d8d7",
   "metadata": {
    "scrolled": true
   },
   "outputs": [],
   "source": [
    "get_ecDNA_biosamples('OST')"
   ]
  },
  {
   "cell_type": "code",
   "execution_count": null,
   "id": "9adc0948-4762-4983-99c8-427a0fa000c9",
   "metadata": {},
   "outputs": [],
   "source": [
    "osts = get_ecDNA_biosamples('OST').index\n",
    "genes[genes.sample_name.isin(osts) & (genes.gene == 'FOXP4')]"
   ]
  },
  {
   "cell_type": "code",
   "execution_count": null,
   "id": "4737cad7-a8f7-41e2-b086-197a6afc42a2",
   "metadata": {},
   "outputs": [],
   "source": [
    "genes.head()"
   ]
  },
  {
   "cell_type": "code",
   "execution_count": null,
   "id": "ac19e0da-b73f-458c-9ac2-2cb96151f8a0",
   "metadata": {},
   "outputs": [],
   "source": []
  }
 ],
 "metadata": {
  "kernelspec": {
   "display_name": "py3",
   "language": "python",
   "name": "py3"
  },
  "language_info": {
   "codemirror_mode": {
    "name": "ipython",
    "version": 3
   },
   "file_extension": ".py",
   "mimetype": "text/x-python",
   "name": "python",
   "nbconvert_exporter": "python",
   "pygments_lexer": "ipython3",
   "version": "3.12.5"
  }
 },
 "nbformat": 4,
 "nbformat_minor": 5
}
