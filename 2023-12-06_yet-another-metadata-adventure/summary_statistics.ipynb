{
 "cells": [
  {
   "cell_type": "code",
   "execution_count": null,
   "id": "cab41c1d-5116-4f0d-a394-9a339b016d92",
   "metadata": {},
   "outputs": [],
   "source": [
    "import pandas as pd\n",
    "import numpy as np\n",
    "import matplotlib.pyplot as plt\n",
    "import seaborn as sns\n",
    "import sys\n",
    "sys.path.append('../src')\n",
    "from data_imports import *\n",
    "pd.set_option('display.max_rows', None)\n",
    "pd.set_option('display.max_columns', None)"
   ]
  },
  {
   "cell_type": "code",
   "execution_count": null,
   "id": "228057bc-c530-4232-9999-df13c6016ca1",
   "metadata": {},
   "outputs": [],
   "source": [
    "patients = import_patients()\n",
    "biosamples = import_biosamples()\n",
    "amplicons = import_amplicons()"
   ]
  },
  {
   "cell_type": "markdown",
   "id": "3927d786-8927-47db-a8c0-3007ffd790dd",
   "metadata": {},
   "source": [
    "# Summary statistics"
   ]
  },
  {
   "cell_type": "code",
   "execution_count": null,
   "id": "88238710-c3be-4ba6-a76e-d32f79fefd21",
   "metadata": {
    "tags": []
   },
   "outputs": [],
   "source": [
    "# How many patients with ecDNA?\n",
    "ec=len(patients[patients.amplicon_class == 'ecDNA'])\n",
    "nec=len(patients)\n",
    "print(f\"Number of ecDNA+ patients: {ec}\")\n",
    "print(f\"Total number of patients: {nec}\")\n",
    "print(f\"fraction of ecDNA+ patients: {ec/nec}\")"
   ]
  },
  {
   "cell_type": "code",
   "execution_count": null,
   "id": "ca14d319-1341-406f-8dab-93f932b48b20",
   "metadata": {
    "tags": []
   },
   "outputs": [],
   "source": [
    "# How many unique tumor types?\n",
    "print(f\"Number of tumor samples: {len(biosamples)}\")\n",
    "print(f\"Number of unique tumors: {len(biosamples[biosamples.in_unique_tumor_set])}\")\n",
    "print(f\"Number of tumor types: {len(biosamples.cancer_type.unique())}\")\n",
    "\n",
    "# How many tumor types with >=n biosamples?\n",
    "n=5\n",
    "tmp = biosamples[biosamples.in_unique_tumor_set]\n",
    "gby = tmp.groupby(\"cancer_type\").count().ecDNA_sequences_detected\n",
    "print(f\"Number of tumor types with >= {n} tumors: {len(gby[gby >=n])}\")\n",
    "\n",
    "# How many tumor types with ecDNA?\n",
    "ect = biosamples[biosamples.amplicon_class == \"ecDNA\"].cancer_type.unique()\n",
    "print(f\"Number of tumor types with ecDNA: {len(ect)}\")\n",
    "print(f\"Tumor types with ecDNA: {', '.join(ect)}\")\n",
    "\n",
    "# How many tumor types with >=4 biosamples and ecDNA?\n",
    "ect = set(ect)\n",
    "m = set(gby[gby >= n].index)\n",
    "print(f\"Number of tumor types with ecDNA and >= {n} tumors: {len(ect & m)}\")\n",
    "#print(f\"Tumor types with ecDNA and >= 4 tumors: {', '.join(n & m)}\")\n",
    "\n",
    "# Which ecDNA+ tumors are excluded when we set an n threshold?\n",
    "print(f\"ecDNA+ tumors with fewer than {n} unique biosamples: {', '.join(ect - m)}\")\n"
   ]
  },
  {
   "cell_type": "code",
   "execution_count": null,
   "id": "f0aa4ac6-d7f9-4b9f-9035-956821296302",
   "metadata": {
    "tags": []
   },
   "outputs": [],
   "source": [
    "ss = amplicons[amplicons[\"ecDNA+\"] == \"Positive\"]\n",
    "n_ecDNA = len(ss)\n",
    "print(f\"Number of ecDNA sequences detected: {n_ecDNA}\")\n",
    "\n",
    "bb = biosamples[(biosamples.amplicon_class == \"ecDNA\")]\n",
    "n_ecDNA_samples = len(bb)\n",
    "print(f\"Number of ecDNA+ samples: {n_ecDNA_samples}\")\n",
    "\n",
    "n_ecDNA_patients = len(bb.patient_id.unique())\n",
    "print(f\"Number of ecDNA+ patients: {n_ecDNA_patients}\")"
   ]
  },
  {
   "cell_type": "code",
   "execution_count": null,
   "id": "28b1d5ab-8757-4152-9c3e-00f1717ff56b",
   "metadata": {
    "tags": []
   },
   "outputs": [],
   "source": [
    "# data\n",
    "tmp = biosamples[biosamples.in_unique_tumor_set]\n",
    "ct = pd.crosstab(tmp.cancer_type, tmp.ecDNA_sequences_detected > 0)\n",
    "ct['Total'] = ct.apply(sum,axis='columns')\n",
    "ct.sort_values('Total',ascending=False,inplace=True)\n",
    "ct.rename(columns={False:'no ecDNA',True:'ecDNA'},inplace=True)\n",
    "ct.head()"
   ]
  },
  {
   "cell_type": "code",
   "execution_count": null,
   "id": "e3ba302a-eaf4-46d7-84f1-d0fa516d9300",
   "metadata": {
    "tags": []
   },
   "outputs": [],
   "source": [
    "def all_tumors_x_ecDNA_stacked_barplot(ct, svgfile=None):\n",
    "    cats = ['ecDNA','no ecDNA']\n",
    "    colors={'ecDNA':'red','no ecDNA':'grey'}\n",
    "\n",
    "    # legend\n",
    "    plt.figure(figsize=(12,5))\n",
    "    l = plt.legend(handles=[plt.Rectangle((0,0),1,1,fc=colors[c],edgecolor='none') for c in cats],\n",
    "                  labels=cats, loc='upper right',frameon=False,ncol=1,prop={'size':14})\n",
    "    # plot\n",
    "    p=recursive_stacked_barplot(ct,cats,colors)\n",
    "    # axes\n",
    "    sns.despine(left=True)\n",
    "    p.set_xticklabels(p.get_xticklabels(), rotation=-45,horizontalalignment='left',rotation_mode=\"anchor\")\n",
    "    p.set_xlabel(\"tumor type\")\n",
    "    p.set_ylabel(\"count\")\n",
    "    #p.set_ylim(0,20)\n",
    "    #p.set_yticks(range(0,20,5))\n",
    "    for item in ([p.xaxis.label, p.yaxis.label] +\n",
    "            p.get_yticklabels()):\n",
    "        item.set_fontsize(14)\n",
    "    for item in p.get_xticklabels():\n",
    "        item.set_fontsize(7)\n",
    "    # save\n",
    "    if svgfile != None:\n",
    "        plt.savefig(svgfile)\n",
    "\n",
    "\n",
    "def recursive_stacked_barplot(df,cats,colors):\n",
    "    if len(cats) == 0:\n",
    "        pass\n",
    "    else:\n",
    "        # make barplot\n",
    "        df = df[cats]\n",
    "        y = df.apply(sum,axis='columns')\n",
    "        p=sns.barplot(x = df.index, y=y, color=colors[cats[-1]])\n",
    "        # recurse\n",
    "        recursive_stacked_barplot(df,cats[:-1],colors)\n",
    "        return p\n",
    "    \n",
    "## This plot has too many tumor types to be very readable but shows that we have a long tail of tumor types, and the long tail is ecDNA-.\n",
    "all_tumors_x_ecDNA_stacked_barplot(ct)"
   ]
  },
  {
   "cell_type": "code",
   "execution_count": null,
   "id": "dcb68483-1e81-4269-b000-6955189dfb21",
   "metadata": {
    "tags": []
   },
   "outputs": [],
   "source": [
    "def geqn_tumors_x_ecDNA_stacked_barplot(ct, svgfile=None):\n",
    "    cats = ['ecDNA','no ecDNA']\n",
    "    colors={'ecDNA':'red','no ecDNA':'grey'}\n",
    "\n",
    "    # legend\n",
    "    plt.figure(figsize=(12,5))\n",
    "    l = plt.legend(handles=[plt.Rectangle((0,0),1,1,fc=colors[c],edgecolor='none') for c in cats],\n",
    "                  labels=cats, loc='upper right',frameon=False,ncol=1,prop={'size':14})\n",
    "    # plot\n",
    "    p=recursive_stacked_barplot(ct,cats,colors)\n",
    "    # axes\n",
    "    sns.despine(left=True)\n",
    "    p.set_xticklabels(p.get_xticklabels(), rotation=-45,horizontalalignment='left',rotation_mode=\"anchor\")\n",
    "    p.set_xlabel(\"tumor type\")\n",
    "    p.set_ylabel(\"count\")\n",
    "    #p.set_ylim(0,20)\n",
    "    #p.set_yticks(range(0,20,5))\n",
    "    for item in ([p.xaxis.label, p.yaxis.label] +\n",
    "            p.get_xticklabels() + p.get_yticklabels()):\n",
    "        item.set_fontsize(14)\n",
    "    #p.set_yscale(\"log\")\n",
    "    # save\n",
    "    if svgfile != None:\n",
    "        plt.savefig(svgfile)\n",
    "        \n",
    "tmp = biosamples[biosamples.in_unique_tumor_set]\n",
    "gby = tmp.groupby(\"cancer_type\").count().ecDNA_sequences_detected\n",
    "geqn = gby[gby >= n].index\n",
    "geqn_tumors_x_ecDNA_stacked_barplot(ct[ct.index.isin(geqn)])"
   ]
  },
  {
   "cell_type": "markdown",
   "id": "d2151cc2-f583-4c2c-aebb-2ad50c8541d1",
   "metadata": {},
   "source": [
    "## What changed?"
   ]
  },
  {
   "cell_type": "code",
   "execution_count": null,
   "id": "e0eca243-3381-4d65-b55f-980249716927",
   "metadata": {},
   "outputs": [],
   "source": [
    "def fraction_ecDNA(cancer_type):\n",
    "    tmp = biosamples[biosamples.in_unique_tumor_set]\n",
    "    tmp = tmp[tmp.cancer_type == cancer_type]\n",
    "    a=len(tmp[tmp.ecDNA_sequences_detected > 0])\n",
    "    b=len(tmp)\n",
    "    print(f\"{a}/{b}, {a/b*100}%\")\n",
    "def subfraction_ecDNA(cancer_type):\n",
    "    # break down fraction of ecDNA+ samples by subtype.\n",
    "    tmp = biosamples[biosamples.in_unique_tumor_set]\n",
    "    tmp = tmp[tmp.cancer_type == cancer_type]\n",
    "    ct = pd.crosstab(tmp.cancer_subclass, tmp.ecDNA_sequences_detected > 0)\n",
    "    for s in ct.index:\n",
    "        a=ct.loc[s,True]\n",
    "        b=ct.loc[s,False]+a\n",
    "        print(f\"{s}: {a}/{b}, {a/b*100}%\")\n",
    "    return"
   ]
  },
  {
   "cell_type": "code",
   "execution_count": null,
   "id": "32be15c6-0009-493a-a0bb-6e97e9e69656",
   "metadata": {},
   "outputs": [],
   "source": [
    "fraction_ecDNA('PNST')\n",
    "subfraction_ecDNA('PNST')"
   ]
  },
  {
   "cell_type": "code",
   "execution_count": null,
   "id": "962bc2b0-13bf-4910-9cf6-204aa8a98419",
   "metadata": {},
   "outputs": [],
   "source": [
    "fraction_ecDNA('CPT')\n",
    "subfraction_ecDNA('CPT')"
   ]
  },
  {
   "cell_type": "code",
   "execution_count": null,
   "id": "fa8b741d-2c42-40e3-82d0-5e55867fae15",
   "metadata": {
    "tags": []
   },
   "outputs": [],
   "source": [
    "## LGG\n",
    "# Sunita's 12/23 draft: 1/290\n",
    "# Revision: 1/282\n",
    "# XO1: 1/549\n",
    "# 10/2/2024: 1/599\n",
    "fraction_ecDNA('LGG')\n",
    "#biosamples[(biosamples.cancer_type=='LGG') & (biosamples.amplicon_class == 'ecDNA')]\n"
   ]
  },
  {
   "cell_type": "code",
   "execution_count": null,
   "id": "c6df54e3-26bd-4f5c-b651-b89f4d3d3222",
   "metadata": {
    "tags": []
   },
   "outputs": [],
   "source": [
    "## HGG\n",
    "# Sunita's 12/23 draft: 31/157\n",
    "# Revision:  31/159\n",
    "# 10/2/2024: 77/379\n",
    "fraction_ecDNA('HGG')\n",
    "subfraction_ecDNA('HGG')"
   ]
  },
  {
   "cell_type": "code",
   "execution_count": null,
   "id": "d30933ff-0210-4be3-8c30-fce4ebc8fef1",
   "metadata": {
    "tags": []
   },
   "outputs": [],
   "source": [
    "## MBL\n",
    "# Sunita's 12/23 draft: 25/177\n",
    "# Revision: 24/178\n",
    "# 10/2/2024: 55/347\n",
    "fraction_ecDNA('MBL')\n",
    "subfraction_ecDNA('MBL')"
   ]
  },
  {
   "cell_type": "code",
   "execution_count": null,
   "id": "95a0da18-f15f-4314-8531-386936efab2d",
   "metadata": {
    "tags": []
   },
   "outputs": [],
   "source": [
    "## NBL\n",
    "# Sunita's 12/23 draft: 32/106\n",
    "# Revision: 33/111\n",
    "# 10/2/2024: 40/159\n",
    "fraction_ecDNA('NBL')"
   ]
  },
  {
   "cell_type": "code",
   "execution_count": null,
   "id": "566bca88-1c99-466b-a11c-a17d17f43be3",
   "metadata": {
    "tags": []
   },
   "outputs": [],
   "source": [
    "## PBL\n",
    "# Sunita's 12/23 draft: 1/4\n",
    "# Revision: 1/6\n",
    "# 10/2/2024: 1/28, but changed to PINT to include low-grade pineal tumors\n",
    "fraction_ecDNA('PINT')\n",
    "subfraction_ecDNA('PINT')"
   ]
  },
  {
   "cell_type": "code",
   "execution_count": null,
   "id": "965feb0f-e6bc-4efa-a5bc-ab60b02b7767",
   "metadata": {
    "tags": []
   },
   "outputs": [],
   "source": [
    "## EPN\n",
    "# Sunita's 12/23 draft: 2/73\n",
    "# Revision: 2/76\n",
    "# 10/2/2024: 3/239\n",
    "fraction_ecDNA('EPN')\n",
    "#biosamples[(biosamples.cancer_type=='EPN') & (biosamples.amplicon_class == 'ecDNA')]"
   ]
  },
  {
   "cell_type": "code",
   "execution_count": null,
   "id": "f53ac892-c33b-4359-bc50-228fb62642be",
   "metadata": {
    "tags": []
   },
   "outputs": [],
   "source": [
    "## OS\n",
    "# Sunita's 12/23 draft: 27/57\n",
    "# Revision: 26/55\n",
    "# 10/2/2024: 35/70\n",
    "fraction_ecDNA('OST')"
   ]
  },
  {
   "cell_type": "code",
   "execution_count": null,
   "id": "377d471b-8ced-4f60-b583-1e3f1addbb98",
   "metadata": {
    "tags": []
   },
   "outputs": [],
   "source": [
    "## RMS\n",
    "# Sunita's 12/23 draft: 14/35\n",
    "# Revision: 16/49\n",
    "fraction_ecDNA('RMS')\n",
    "subfraction_ecDNA('RMS')"
   ]
  },
  {
   "cell_type": "code",
   "execution_count": null,
   "id": "5b0acafa-e909-44af-bd61-ee6781f0b7e9",
   "metadata": {
    "tags": []
   },
   "outputs": [],
   "source": [
    "## RBL\n",
    "# Sunita's 12/23 draft: 6/32\n",
    "# Revision: 6/32\n",
    "# 10/2/2024: 6/44\n",
    "fraction_ecDNA('RBL')\n",
    "#biosamples[(biosamples.cancer_type=='RBL') & (biosamples.amplicon_class == 'ecDNA')]"
   ]
  },
  {
   "cell_type": "code",
   "execution_count": null,
   "id": "0fd40c13-04b6-4ce7-b311-6073aa5b3b01",
   "metadata": {
    "tags": []
   },
   "outputs": [],
   "source": [
    "## ACC\n",
    "# Sunita's 12/23 draft: 2/21\n",
    "# Revision: 3/20\n",
    "# 10/2/2024: 4/23\n",
    "fraction_ecDNA('ACC')\n",
    "#biosamples[(biosamples.cancer_type=='ACC') & (biosamples.amplicon_class == 'ecDNA')]"
   ]
  },
  {
   "cell_type": "code",
   "execution_count": null,
   "id": "6c385233-33c6-449d-ade0-36f0f2a27c29",
   "metadata": {
    "tags": []
   },
   "outputs": [],
   "source": [
    "## CPG\n",
    "# Sunita's 12/23 draft: 1/39\n",
    "# Revision: 1/51\n",
    "# 10/2/2024: 1/101\n",
    "fraction_ecDNA('CPG')\n",
    "#biosamples[(biosamples.cancer_type=='CPG') & (biosamples.amplicon_class == 'ecDNA')]"
   ]
  },
  {
   "cell_type": "code",
   "execution_count": null,
   "id": "3c33ba01-0229-4b3b-9638-88878d9d267f",
   "metadata": {
    "tags": []
   },
   "outputs": [],
   "source": [
    "## GNT -> GG\n",
    "# Sunita's 12/23 draft: 1/44\n",
    "# Revision: 1/90\n",
    "# 10/2/2024: 1/192\n",
    "fraction_ecDNA('GNT')\n",
    "#biosamples[(biosamples.cancer_type=='GNT') & (biosamples.amplicon_class == 'ecDNA')]"
   ]
  },
  {
   "cell_type": "code",
   "execution_count": null,
   "id": "a62655c1-6375-4a86-bc82-24757edc605f",
   "metadata": {
    "tags": []
   },
   "outputs": [],
   "source": [
    "## ETMR\n",
    "# Sunita's 12/23 draft: 4/4\n",
    "# Revision: 4/6\n",
    "# 10/2/2024: 4/9\n",
    "fraction_ecDNA('ETMR')\n",
    "biosamples[(biosamples.cancer_type=='ETMR') & (biosamples.amplicon_class == 'ecDNA')]"
   ]
  },
  {
   "cell_type": "code",
   "execution_count": null,
   "id": "2d0b55c6-d1ba-46ba-9f6d-c6713dd2d8bf",
   "metadata": {
    "tags": []
   },
   "outputs": [],
   "source": [
    "fraction_ecDNA('SARC')\n",
    "subfraction_ecDNA('SARC')"
   ]
  },
  {
   "cell_type": "code",
   "execution_count": null,
   "id": "68ed946d-5b78-45d8-ab0d-4b749fa1fb0d",
   "metadata": {
    "tags": []
   },
   "outputs": [],
   "source": [
    "fraction_ecDNA('MST')\n",
    "fraction_ecDNA('GCT')\n",
    "fraction_ecDNA('WLM')\n",
    "fraction_ecDNA('CARC')"
   ]
  },
  {
   "cell_type": "code",
   "execution_count": null,
   "id": "611b1a63-f7fe-4d83-8160-1a0f5ec9875b",
   "metadata": {},
   "outputs": [],
   "source": [
    "fraction_ecDNA('HBL')\n",
    "fraction_ecDNA('MEL')"
   ]
  },
  {
   "cell_type": "code",
   "execution_count": null,
   "id": "71d6ab09-bc2f-4e1f-aaec-1b7f681aefd7",
   "metadata": {
    "tags": []
   },
   "outputs": [],
   "source": [
    "fraction_ecDNA('EWS')"
   ]
  },
  {
   "cell_type": "code",
   "execution_count": null,
   "id": "3c5bd5c8-a998-4468-8161-0f5a7f20fbed",
   "metadata": {},
   "outputs": [],
   "source": [
    "fraction_ecDNA('EMBT')"
   ]
  },
  {
   "cell_type": "code",
   "execution_count": null,
   "id": "44571b0d-6d9a-4ef0-88ad-8c8cbd740853",
   "metadata": {
    "tags": []
   },
   "outputs": [],
   "source": [
    "fraction_ecDNA('BENG')\n",
    "biosamples[(biosamples.cancer_type=='BENG') & (biosamples.amplicon_class == 'ecDNA')]"
   ]
  },
  {
   "cell_type": "code",
   "execution_count": null,
   "id": "8dd86075-c2ce-4851-ba03-ddcedec4dcbe",
   "metadata": {
    "tags": []
   },
   "outputs": [],
   "source": [
    "fraction_ecDNA('ATRT')\n",
    "fraction_ecDNA('MNG')"
   ]
  },
  {
   "cell_type": "markdown",
   "id": "3ad8b19c-39c5-4405-9a8a-87084c8ac9df",
   "metadata": {
    "tags": []
   },
   "source": [
    "## 9/2022 Dataset"
   ]
  },
  {
   "cell_type": "code",
   "execution_count": null,
   "id": "3237f7ef-2a38-4e69-85ed-e6cb7faa08c9",
   "metadata": {
    "tags": []
   },
   "outputs": [],
   "source": [
    "def read_progress():\n",
    "    # read the lines in progress.txt to a set\n",
    "    with open('../2022-02-23_sj_samples/out/progress.txt','r') as f:\n",
    "        return set(map(str.strip,f.readlines()))\n",
    "subset = read_progress()"
   ]
  },
  {
   "cell_type": "code",
   "execution_count": null,
   "id": "1e4f549c-f1fb-4bcd-97ac-43b9681173e2",
   "metadata": {},
   "outputs": [],
   "source": [
    "tmp = biosamples[biosamples.index.isin(subset)]"
   ]
  },
  {
   "cell_type": "code",
   "execution_count": null,
   "id": "347c2c47-c0e3-44eb-8df1-923799b68bc5",
   "metadata": {},
   "outputs": [],
   "source": [
    "# data\n",
    "ct = pd.crosstab(tmp.cancer_type, tmp.ecDNA_sequences_detected > 0)\n",
    "ct['Total'] = ct.apply(sum,axis='columns')\n",
    "ct.sort_values('Total',ascending=False,inplace=True)\n",
    "ct.rename(columns={False:'no ecDNA',True:'ecDNA'},inplace=True)\n",
    "all_tumors_x_ecDNA_stacked_barplot(ct)"
   ]
  },
  {
   "cell_type": "code",
   "execution_count": null,
   "id": "b6d222f2-f0e5-446d-8f8e-defc5105d9f3",
   "metadata": {},
   "outputs": [],
   "source": [
    "tmp.tail()"
   ]
  },
  {
   "cell_type": "code",
   "execution_count": null,
   "id": "4886bc0c-f2dd-408d-9eb4-9c85c65ae76f",
   "metadata": {},
   "outputs": [],
   "source": [
    "len(tmp)"
   ]
  },
  {
   "cell_type": "code",
   "execution_count": null,
   "id": "5b3c3d1a-5954-4021-b2c0-dae3ea2764d4",
   "metadata": {},
   "outputs": [],
   "source": []
  }
 ],
 "metadata": {
  "kernelspec": {
   "display_name": "py3",
   "language": "python",
   "name": "py3"
  },
  "language_info": {
   "codemirror_mode": {
    "name": "ipython",
    "version": 3
   },
   "file_extension": ".py",
   "mimetype": "text/x-python",
   "name": "python",
   "nbconvert_exporter": "python",
   "pygments_lexer": "ipython3",
   "version": "3.12.5"
  }
 },
 "nbformat": 4,
 "nbformat_minor": 5
}
