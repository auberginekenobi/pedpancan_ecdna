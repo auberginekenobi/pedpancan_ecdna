{
 "cells": [
  {
   "cell_type": "code",
   "execution_count": 3,
   "id": "fdebb688-a48c-44a1-b274-6ad05c3ab45c",
   "metadata": {
    "tags": []
   },
   "outputs": [],
   "source": [
    "import pandas as pd\n",
    "from data_imports import *\n",
    "pd.set_option('display.max_rows', None)\n",
    "pd.set_option('display.max_columns', None)\n",
    "import numpy as np\n",
    "import matplotlib.pyplot as plt\n",
    "import seaborn as sns"
   ]
  },
  {
   "cell_type": "markdown",
   "id": "b943b3ae-9b6c-4037-ba15-692c106de3f7",
   "metadata": {},
   "source": [
    "# Generate and save supplementary tables"
   ]
  },
  {
   "cell_type": "code",
   "execution_count": 4,
   "id": "0636289d-a002-4c76-bc78-f1f5ac0be2cf",
   "metadata": {
    "tags": []
   },
   "outputs": [
    {
     "name": "stderr",
     "output_type": "stream",
     "text": [
      "/Users/ochapman/projects/pedpancan_ecdna/2023-12-06_yet-another-metadata-adventure/data_imports.py:147: DtypeWarning: Columns (1,21,24,25,26,27,33,36,37,41,43,45,47,48,49,51) have mixed types. Specify dtype option on import or set low_memory=False.\n",
      "  df = pd.read_csv(path,sep='\\t',index_col=0)\n"
     ]
    },
    {
     "name": "stdout",
     "output_type": "stream",
     "text": [
      "Warning: The column 'harmonized_diagnosis' for sample 7316-1101 differs between CAVATICA and opentarget annotations.\n",
      "Warning: The column 'harmonized_diagnosis' for sample 7316-2935 differs between CAVATICA and opentarget annotations.\n",
      "Warning: The column 'tumor_descriptor' for sample 7316-3217 differs between CAVATICA and opentarget annotations.\n",
      "Warning: The column 'primary_site' for sample 7316-3229 differs between CAVATICA and opentarget annotations.\n",
      "Warning: The column 'age_at_diagnosis_days' for sample 7316-323 differs between CAVATICA and opentarget annotations.\n",
      "Warning: The column 'primary_site' for sample 7316-3230 differs between CAVATICA and opentarget annotations.\n",
      "Warning: The column 'CNS_region' for sample 7316-3230 differs between CAVATICA and opentarget annotations.\n",
      "Warning: The column 'primary_site' for sample 7316-3231 differs between CAVATICA and opentarget annotations.\n",
      "Warning: The column 'harmonized_diagnosis' for sample 7316-3295 differs between CAVATICA and opentarget annotations.\n",
      "Warning: The column 'harmonized_diagnosis' for sample 7316-3632 differs between CAVATICA and opentarget annotations.\n",
      "Warning: The column 'harmonized_diagnosis' for sample 7316-4062 differs between CAVATICA and opentarget annotations.\n",
      "Warning: The column 'harmonized_diagnosis' for sample 7316-921 differs between CAVATICA and opentarget annotations.\n",
      "53 KF biospecimens missing from the opentarget histologies table...\n",
      "found 41 matching external sample IDs, adding to table...\n",
      "1684\n",
      "1522\n",
      "1506\n"
     ]
    },
    {
     "data": {
      "text/html": [
       "<div>\n",
       "<style scoped>\n",
       "    .dataframe tbody tr th:only-of-type {\n",
       "        vertical-align: middle;\n",
       "    }\n",
       "\n",
       "    .dataframe tbody tr th {\n",
       "        vertical-align: top;\n",
       "    }\n",
       "\n",
       "    .dataframe thead th {\n",
       "        text-align: right;\n",
       "    }\n",
       "</style>\n",
       "<table border=\"1\" class=\"dataframe\">\n",
       "  <thead>\n",
       "    <tr style=\"text-align: right;\">\n",
       "      <th></th>\n",
       "      <th>sex</th>\n",
       "      <th>patient_id</th>\n",
       "      <th>external_sample_id</th>\n",
       "      <th>tumor_history</th>\n",
       "      <th>age_at_diagnosis</th>\n",
       "      <th>cohort</th>\n",
       "      <th>extent_of_tumor_resection</th>\n",
       "      <th>cancer_type</th>\n",
       "      <th>ecDNA_sequences_detected</th>\n",
       "      <th>amplicon_class</th>\n",
       "      <th>in_unique_tumor_set</th>\n",
       "      <th>in_unique_patient_set</th>\n",
       "    </tr>\n",
       "  </thead>\n",
       "  <tbody>\n",
       "    <tr>\n",
       "      <th>BS_AQMKA8NC</th>\n",
       "      <td>Male</td>\n",
       "      <td>PT_00G007DM</td>\n",
       "      <td>7316-2577</td>\n",
       "      <td>Recurrence</td>\n",
       "      <td>3178.0</td>\n",
       "      <td>PBTA-X00</td>\n",
       "      <td>Gross/Near total resection</td>\n",
       "      <td>ETMR</td>\n",
       "      <td>0.0</td>\n",
       "      <td>No amplification</td>\n",
       "      <td>False</td>\n",
       "      <td>False</td>\n",
       "    </tr>\n",
       "    <tr>\n",
       "      <th>BS_K07KNTFY</th>\n",
       "      <td>Male</td>\n",
       "      <td>PT_00G007DM</td>\n",
       "      <td>7316-272</td>\n",
       "      <td>Diagnosis</td>\n",
       "      <td>464.0</td>\n",
       "      <td>PBTA-X00</td>\n",
       "      <td>Gross/Near total resection</td>\n",
       "      <td>ETMR</td>\n",
       "      <td>1.0</td>\n",
       "      <td>ecDNA</td>\n",
       "      <td>True</td>\n",
       "      <td>True</td>\n",
       "    </tr>\n",
       "    <tr>\n",
       "      <th>BS_TE8QFF7T</th>\n",
       "      <td>Male</td>\n",
       "      <td>PT_01MZ62KG</td>\n",
       "      <td>7316-447</td>\n",
       "      <td>Progressive</td>\n",
       "      <td>546.0</td>\n",
       "      <td>PBTA-X00</td>\n",
       "      <td>Partial resection</td>\n",
       "      <td>ETMR</td>\n",
       "      <td>1.0</td>\n",
       "      <td>ecDNA</td>\n",
       "      <td>True</td>\n",
       "      <td>True</td>\n",
       "    </tr>\n",
       "    <tr>\n",
       "      <th>BS_2VB8649B</th>\n",
       "      <td>Male</td>\n",
       "      <td>PT_02J5CWN5</td>\n",
       "      <td>7316-2989</td>\n",
       "      <td>Diagnosis</td>\n",
       "      <td>2223.0</td>\n",
       "      <td>PBTA-X00</td>\n",
       "      <td>Partial resection</td>\n",
       "      <td>LGG</td>\n",
       "      <td>0.0</td>\n",
       "      <td>No amplification</td>\n",
       "      <td>False</td>\n",
       "      <td>False</td>\n",
       "    </tr>\n",
       "    <tr>\n",
       "      <th>BS_5TT6TT4K</th>\n",
       "      <td>Male</td>\n",
       "      <td>PT_02J5CWN5</td>\n",
       "      <td>7316-898</td>\n",
       "      <td>Progressive</td>\n",
       "      <td>3722.0</td>\n",
       "      <td>PBTA-X00</td>\n",
       "      <td>Partial resection</td>\n",
       "      <td>LGG</td>\n",
       "      <td>0.0</td>\n",
       "      <td>No amplification</td>\n",
       "      <td>True</td>\n",
       "      <td>True</td>\n",
       "    </tr>\n",
       "  </tbody>\n",
       "</table>\n",
       "</div>"
      ],
      "text/plain": [
       "              sex   patient_id external_sample_id tumor_history   \n",
       "BS_AQMKA8NC  Male  PT_00G007DM          7316-2577    Recurrence  \\\n",
       "BS_K07KNTFY  Male  PT_00G007DM           7316-272     Diagnosis   \n",
       "BS_TE8QFF7T  Male  PT_01MZ62KG           7316-447   Progressive   \n",
       "BS_2VB8649B  Male  PT_02J5CWN5          7316-2989     Diagnosis   \n",
       "BS_5TT6TT4K  Male  PT_02J5CWN5           7316-898   Progressive   \n",
       "\n",
       "             age_at_diagnosis    cohort   extent_of_tumor_resection   \n",
       "BS_AQMKA8NC            3178.0  PBTA-X00  Gross/Near total resection  \\\n",
       "BS_K07KNTFY             464.0  PBTA-X00  Gross/Near total resection   \n",
       "BS_TE8QFF7T             546.0  PBTA-X00           Partial resection   \n",
       "BS_2VB8649B            2223.0  PBTA-X00           Partial resection   \n",
       "BS_5TT6TT4K            3722.0  PBTA-X00           Partial resection   \n",
       "\n",
       "            cancer_type  ecDNA_sequences_detected    amplicon_class   \n",
       "BS_AQMKA8NC        ETMR                       0.0  No amplification  \\\n",
       "BS_K07KNTFY        ETMR                       1.0             ecDNA   \n",
       "BS_TE8QFF7T        ETMR                       1.0             ecDNA   \n",
       "BS_2VB8649B         LGG                       0.0  No amplification   \n",
       "BS_5TT6TT4K         LGG                       0.0  No amplification   \n",
       "\n",
       "             in_unique_tumor_set  in_unique_patient_set  \n",
       "BS_AQMKA8NC                False                  False  \n",
       "BS_K07KNTFY                 True                   True  \n",
       "BS_TE8QFF7T                 True                   True  \n",
       "BS_2VB8649B                False                  False  \n",
       "BS_5TT6TT4K                 True                   True  "
      ]
     },
     "execution_count": 4,
     "metadata": {},
     "output_type": "execute_result"
    }
   ],
   "source": [
    "biosamples = generate_biosample_table()\n",
    "print(len(biosamples))\n",
    "print(biosamples.in_unique_tumor_set.sum())\n",
    "print(biosamples.in_unique_patient_set.sum())\n",
    "biosamples.head()"
   ]
  },
  {
   "cell_type": "code",
   "execution_count": 6,
   "id": "5f245307-5345-40e5-ae16-97ccfd802197",
   "metadata": {
    "tags": []
   },
   "outputs": [
    {
     "name": "stderr",
     "output_type": "stream",
     "text": [
      "/Users/ochapman/projects/pedpancan_ecdna/2023-12-06_yet-another-metadata-adventure/data_imports.py:147: DtypeWarning: Columns (1,21,24,25,26,27,33,36,37,41,43,45,47,48,49,51) have mixed types. Specify dtype option on import or set low_memory=False.\n",
      "  df = pd.read_csv(path,sep='\\t',index_col=0)\n"
     ]
    },
    {
     "name": "stdout",
     "output_type": "stream",
     "text": [
      "Warning: The column 'harmonized_diagnosis' for sample 7316-1101 differs between CAVATICA and opentarget annotations.\n",
      "Warning: The column 'harmonized_diagnosis' for sample 7316-2935 differs between CAVATICA and opentarget annotations.\n",
      "Warning: The column 'tumor_descriptor' for sample 7316-3217 differs between CAVATICA and opentarget annotations.\n",
      "Warning: The column 'primary_site' for sample 7316-3229 differs between CAVATICA and opentarget annotations.\n",
      "Warning: The column 'age_at_diagnosis_days' for sample 7316-323 differs between CAVATICA and opentarget annotations.\n",
      "Warning: The column 'primary_site' for sample 7316-3230 differs between CAVATICA and opentarget annotations.\n",
      "Warning: The column 'CNS_region' for sample 7316-3230 differs between CAVATICA and opentarget annotations.\n",
      "Warning: The column 'primary_site' for sample 7316-3231 differs between CAVATICA and opentarget annotations.\n",
      "Warning: The column 'harmonized_diagnosis' for sample 7316-3295 differs between CAVATICA and opentarget annotations.\n",
      "Warning: The column 'harmonized_diagnosis' for sample 7316-3632 differs between CAVATICA and opentarget annotations.\n",
      "Warning: The column 'harmonized_diagnosis' for sample 7316-4062 differs between CAVATICA and opentarget annotations.\n",
      "Warning: The column 'harmonized_diagnosis' for sample 7316-921 differs between CAVATICA and opentarget annotations.\n",
      "53 KF biospecimens missing from the opentarget histologies table...\n",
      "found 41 matching external sample IDs, adding to table...\n"
     ]
    },
    {
     "name": "stderr",
     "output_type": "stream",
     "text": [
      "/Users/ochapman/projects/pedpancan_ecdna/2023-12-06_yet-another-metadata-adventure/data_imports.py:147: DtypeWarning: Columns (1,21,24,25,26,27,33,36,37,41,43,45,47,48,49,51) have mixed types. Specify dtype option on import or set low_memory=False.\n",
      "  df = pd.read_csv(path,sep='\\t',index_col=0)\n"
     ]
    },
    {
     "name": "stdout",
     "output_type": "stream",
     "text": [
      "Warning: The column 'harmonized_diagnosis' for sample 7316-1101 differs between CAVATICA and opentarget annotations.\n",
      "Warning: The column 'harmonized_diagnosis' for sample 7316-2935 differs between CAVATICA and opentarget annotations.\n",
      "Warning: The column 'tumor_descriptor' for sample 7316-3217 differs between CAVATICA and opentarget annotations.\n",
      "Warning: The column 'primary_site' for sample 7316-3229 differs between CAVATICA and opentarget annotations.\n",
      "Warning: The column 'age_at_diagnosis_days' for sample 7316-323 differs between CAVATICA and opentarget annotations.\n",
      "Warning: The column 'primary_site' for sample 7316-3230 differs between CAVATICA and opentarget annotations.\n",
      "Warning: The column 'CNS_region' for sample 7316-3230 differs between CAVATICA and opentarget annotations.\n",
      "Warning: The column 'primary_site' for sample 7316-3231 differs between CAVATICA and opentarget annotations.\n",
      "Warning: The column 'harmonized_diagnosis' for sample 7316-3295 differs between CAVATICA and opentarget annotations.\n",
      "Warning: The column 'harmonized_diagnosis' for sample 7316-3632 differs between CAVATICA and opentarget annotations.\n",
      "Warning: The column 'harmonized_diagnosis' for sample 7316-4062 differs between CAVATICA and opentarget annotations.\n",
      "Warning: The column 'harmonized_diagnosis' for sample 7316-921 differs between CAVATICA and opentarget annotations.\n",
      "53 KF biospecimens missing from the opentarget histologies table...\n",
      "found 41 matching external sample IDs, adding to table...\n"
     ]
    }
   ],
   "source": [
    "patients = generate_patient_table()"
   ]
  },
  {
   "cell_type": "code",
   "execution_count": 8,
   "id": "c3521b3a-1d9d-4bf8-a998-127031f094c6",
   "metadata": {
    "tags": []
   },
   "outputs": [],
   "source": [
    "# Generate Supplementary tables\n",
    "biosamples.to_csv(\"out/Supplementary Table 2.tsv\",sep='\\t')\n",
    "patients.to_csv(\"out/Supplementary Table 1.tsv\",sep='\\t')"
   ]
  },
  {
   "cell_type": "markdown",
   "id": "3927d786-8927-47db-a8c0-3007ffd790dd",
   "metadata": {},
   "source": [
    "# Summary statistics"
   ]
  },
  {
   "cell_type": "code",
   "execution_count": 18,
   "id": "88238710-c3be-4ba6-a76e-d32f79fefd21",
   "metadata": {
    "tags": []
   },
   "outputs": [
    {
     "name": "stdout",
     "output_type": "stream",
     "text": [
      "Number of ecDNA+ patients: 156\n",
      "Total number of patients: 1506\n",
      "fraction of ecDNA+ patients: 0.10358565737051793\n"
     ]
    }
   ],
   "source": [
    "# How many patients with ecDNA?\n",
    "ec=len(patients[patients.amplicon_class == 'ecDNA'])\n",
    "nec=len(patients)\n",
    "print(f\"Number of ecDNA+ patients: {ec}\")\n",
    "print(f\"Total number of patients: {nec}\")\n",
    "print(f\"fraction of ecDNA+ patients: {ec/nec}\")"
   ]
  },
  {
   "cell_type": "code",
   "execution_count": 19,
   "id": "ca14d319-1341-406f-8dab-93f932b48b20",
   "metadata": {
    "tags": []
   },
   "outputs": [
    {
     "name": "stdout",
     "output_type": "stream",
     "text": [
      "Number of tumor types: 45\n",
      "Number of tumor types with >= 5 tumors: 29\n",
      "Number of tumor types with ecDNA: 19\n",
      "Tumor types with ecDNA: ETMR, HGG, RMS, EPN, GNT, CPT, MBL, MPNST, PBL, NBL, MST, CPG, OST, LGG, RBL, ACC, WLM, SARC, GCT\n",
      "Number of tumor types with ecDNA and >= 5 tumors: 17\n",
      "ecDNA+ tumors with fewer than 5 unique biosamples: MPNST, MST\n"
     ]
    }
   ],
   "source": [
    "# How many unique tumor types?\n",
    "print(f\"Number of tumor types: {len(biosamples.cancer_type.unique())}\")\n",
    "\n",
    "# How many tumor types with >=n biosamples?\n",
    "n=5\n",
    "tmp = biosamples[biosamples.in_unique_tumor_set]\n",
    "gby = tmp.groupby(\"cancer_type\").count().ecDNA_sequences_detected\n",
    "print(f\"Number of tumor types with >= {n} tumors: {len(gby[gby >=n])}\")\n",
    "\n",
    "# How many tumor types with ecDNA?\n",
    "ect = biosamples[biosamples.amplicon_class == \"ecDNA\"].cancer_type.unique()\n",
    "print(f\"Number of tumor types with ecDNA: {len(ect)}\")\n",
    "print(f\"Tumor types with ecDNA: {', '.join(ect)}\")\n",
    "\n",
    "# How many tumor types with >=4 biosamples and ecDNA?\n",
    "ect = set(ect)\n",
    "m = set(gby[gby >= n].index)\n",
    "print(f\"Number of tumor types with ecDNA and >= {n} tumors: {len(ect & m)}\")\n",
    "#print(f\"Tumor types with ecDNA and >= 4 tumors: {', '.join(n & m)}\")\n",
    "\n",
    "# Which ecDNA+ tumors are excluded when we set an n threshold?\n",
    "print(f\"ecDNA+ tumors with fewer than {n} unique biosamples: {', '.join(ect - m)}\")\n"
   ]
  },
  {
   "cell_type": "code",
   "execution_count": 36,
   "id": "d522031e-8252-4c82-9d0a-775ca6fb8f7f",
   "metadata": {
    "tags": []
   },
   "outputs": [
    {
     "data": {
      "text/html": [
       "<div>\n",
       "<style scoped>\n",
       "    .dataframe tbody tr th:only-of-type {\n",
       "        vertical-align: middle;\n",
       "    }\n",
       "\n",
       "    .dataframe tbody tr th {\n",
       "        vertical-align: top;\n",
       "    }\n",
       "\n",
       "    .dataframe thead th {\n",
       "        text-align: right;\n",
       "    }\n",
       "</style>\n",
       "<table border=\"1\" class=\"dataframe\">\n",
       "  <thead>\n",
       "    <tr style=\"text-align: right;\">\n",
       "      <th></th>\n",
       "      <th>sample_name</th>\n",
       "      <th>amplicon_number</th>\n",
       "      <th>amplicon_decomposition_class</th>\n",
       "      <th>ecDNA+</th>\n",
       "      <th>BFB+</th>\n",
       "      <th>ecDNA_amplicons</th>\n",
       "    </tr>\n",
       "  </thead>\n",
       "  <tbody>\n",
       "    <tr>\n",
       "      <th>0</th>\n",
       "      <td>BS_A9S5HT6P</td>\n",
       "      <td>amplicon1</td>\n",
       "      <td>No amp/Invalid</td>\n",
       "      <td>None detected</td>\n",
       "      <td>None detected</td>\n",
       "      <td>0</td>\n",
       "    </tr>\n",
       "    <tr>\n",
       "      <th>1</th>\n",
       "      <td>BS_XEVMEYFS</td>\n",
       "      <td>amplicon1</td>\n",
       "      <td>Cyclic</td>\n",
       "      <td>Positive</td>\n",
       "      <td>None detected</td>\n",
       "      <td>1</td>\n",
       "    </tr>\n",
       "    <tr>\n",
       "      <th>2</th>\n",
       "      <td>BS_XEVMEYFS</td>\n",
       "      <td>amplicon2</td>\n",
       "      <td>No amp/Invalid</td>\n",
       "      <td>None detected</td>\n",
       "      <td>None detected</td>\n",
       "      <td>0</td>\n",
       "    </tr>\n",
       "    <tr>\n",
       "      <th>3</th>\n",
       "      <td>BS_59FR1NC2</td>\n",
       "      <td>amplicon1</td>\n",
       "      <td>Linear</td>\n",
       "      <td>None detected</td>\n",
       "      <td>None detected</td>\n",
       "      <td>0</td>\n",
       "    </tr>\n",
       "    <tr>\n",
       "      <th>4</th>\n",
       "      <td>BS_GRECE8Q9</td>\n",
       "      <td>amplicon1</td>\n",
       "      <td>No amp/Invalid</td>\n",
       "      <td>None detected</td>\n",
       "      <td>None detected</td>\n",
       "      <td>0</td>\n",
       "    </tr>\n",
       "  </tbody>\n",
       "</table>\n",
       "</div>"
      ],
      "text/plain": [
       "   sample_name amplicon_number amplicon_decomposition_class         ecDNA+   \n",
       "0  BS_A9S5HT6P       amplicon1               No amp/Invalid  None detected  \\\n",
       "1  BS_XEVMEYFS       amplicon1                       Cyclic       Positive   \n",
       "2  BS_XEVMEYFS       amplicon2               No amp/Invalid  None detected   \n",
       "3  BS_59FR1NC2       amplicon1                       Linear  None detected   \n",
       "4  BS_GRECE8Q9       amplicon1               No amp/Invalid  None detected   \n",
       "\n",
       "            BFB+  ecDNA_amplicons  \n",
       "0  None detected                0  \n",
       "1  None detected                1  \n",
       "2  None detected                0  \n",
       "3  None detected                0  \n",
       "4  None detected                0  "
      ]
     },
     "execution_count": 36,
     "metadata": {},
     "output_type": "execute_result"
    }
   ],
   "source": [
    "# How many ecDNAs detected?\n",
    "SUPPLEMENTARY_TABLES_PATH=\"/Users/ochapman/projects/pedpancan_ecdna/data/Supplementary Tables.xlsx\"\n",
    "def import_amplicons():\n",
    "    df = pd.read_excel(SUPPLEMENTARY_TABLES_PATH,sheet_name=\"3. Amplicons\")\n",
    "    # exclude X01, for now.\n",
    "    df = df[~df.sample_name.str.startswith('PT')]\n",
    "    return df\n",
    "amplicons = import_amplicons()\n",
    "amplicons.head()"
   ]
  },
  {
   "cell_type": "code",
   "execution_count": 51,
   "id": "f0aa4ac6-d7f9-4b9f-9035-956821296302",
   "metadata": {
    "tags": []
   },
   "outputs": [
    {
     "name": "stdout",
     "output_type": "stream",
     "text": [
      "Number of ecDNA sequences detected: 205\n",
      "Number of ecDNA+ samples: 178\n",
      "Number of ecDNA+ patients: 156\n"
     ]
    }
   ],
   "source": [
    "ss = amplicons[amplicons[\"ecDNA+\"] == \"Positive\"]\n",
    "n_ecDNA = len(ss)\n",
    "print(f\"Number of ecDNA sequences detected: {n_ecDNA}\")\n",
    "\n",
    "bb = biosamples[(biosamples.amplicon_class == \"ecDNA\")]\n",
    "n_ecDNA_samples = len(bb)\n",
    "print(f\"Number of ecDNA+ samples: {n_ecDNA_samples}\")\n",
    "\n",
    "n_ecDNA_patients = len(bb.patient_id.unique())\n",
    "print(f\"Number of ecDNA+ patients: {n_ecDNA_patients}\")"
   ]
  },
  {
   "cell_type": "code",
   "execution_count": 52,
   "id": "9df3d0e3-90bb-4238-9f05-7458d858408b",
   "metadata": {
    "tags": []
   },
   "outputs": [
    {
     "data": {
      "text/html": [
       "<div>\n",
       "<style scoped>\n",
       "    .dataframe tbody tr th:only-of-type {\n",
       "        vertical-align: middle;\n",
       "    }\n",
       "\n",
       "    .dataframe tbody tr th {\n",
       "        vertical-align: top;\n",
       "    }\n",
       "\n",
       "    .dataframe thead th {\n",
       "        text-align: right;\n",
       "    }\n",
       "</style>\n",
       "<table border=\"1\" class=\"dataframe\">\n",
       "  <thead>\n",
       "    <tr style=\"text-align: right;\">\n",
       "      <th></th>\n",
       "      <th>sex</th>\n",
       "      <th>patient_id</th>\n",
       "      <th>external_sample_id</th>\n",
       "      <th>tumor_history</th>\n",
       "      <th>age_at_diagnosis</th>\n",
       "      <th>cohort</th>\n",
       "      <th>extent_of_tumor_resection</th>\n",
       "      <th>cancer_type</th>\n",
       "      <th>ecDNA_sequences_detected</th>\n",
       "      <th>amplicon_class</th>\n",
       "      <th>in_unique_tumor_set</th>\n",
       "      <th>in_unique_patient_set</th>\n",
       "    </tr>\n",
       "  </thead>\n",
       "  <tbody>\n",
       "    <tr>\n",
       "      <th>SJST030131_D3</th>\n",
       "      <td>Male</td>\n",
       "      <td>SJ030131</td>\n",
       "      <td>NaN</td>\n",
       "      <td>Diagnosis</td>\n",
       "      <td>6059.0</td>\n",
       "      <td>SJC-DS-1008,SJC-DS-1004</td>\n",
       "      <td>NaN</td>\n",
       "      <td>SARC</td>\n",
       "      <td>2.0</td>\n",
       "      <td>ecDNA</td>\n",
       "      <td>True</td>\n",
       "      <td>True</td>\n",
       "    </tr>\n",
       "    <tr>\n",
       "      <th>SJBT030809_D1</th>\n",
       "      <td>Male</td>\n",
       "      <td>SJ030809</td>\n",
       "      <td>NaN</td>\n",
       "      <td>Diagnosis</td>\n",
       "      <td>3791.0</td>\n",
       "      <td>SJC-DS-1007</td>\n",
       "      <td>NaN</td>\n",
       "      <td>SARC</td>\n",
       "      <td>1.0</td>\n",
       "      <td>ecDNA</td>\n",
       "      <td>True</td>\n",
       "      <td>True</td>\n",
       "    </tr>\n",
       "  </tbody>\n",
       "</table>\n",
       "</div>"
      ],
      "text/plain": [
       "                sex patient_id external_sample_id tumor_history   \n",
       "SJST030131_D3  Male   SJ030131                NaN     Diagnosis  \\\n",
       "SJBT030809_D1  Male   SJ030809                NaN     Diagnosis   \n",
       "\n",
       "               age_at_diagnosis                   cohort   \n",
       "SJST030131_D3            6059.0  SJC-DS-1008,SJC-DS-1004  \\\n",
       "SJBT030809_D1            3791.0              SJC-DS-1007   \n",
       "\n",
       "              extent_of_tumor_resection cancer_type  ecDNA_sequences_detected   \n",
       "SJST030131_D3                       NaN        SARC                       2.0  \\\n",
       "SJBT030809_D1                       NaN        SARC                       1.0   \n",
       "\n",
       "              amplicon_class  in_unique_tumor_set  in_unique_patient_set  \n",
       "SJST030131_D3          ecDNA                 True                   True  \n",
       "SJBT030809_D1          ecDNA                 True                   True  "
      ]
     },
     "execution_count": 52,
     "metadata": {},
     "output_type": "execute_result"
    }
   ],
   "source": [
    "# What other sarcomas have ecDNA?\n",
    "biosamples[(biosamples.cancer_type == \"SARC\") & (biosamples.amplicon_class == \"ecDNA\")]"
   ]
  },
  {
   "cell_type": "code",
   "execution_count": 10,
   "id": "28b1d5ab-8757-4152-9c3e-00f1717ff56b",
   "metadata": {
    "tags": []
   },
   "outputs": [
    {
     "data": {
      "text/html": [
       "<div>\n",
       "<style scoped>\n",
       "    .dataframe tbody tr th:only-of-type {\n",
       "        vertical-align: middle;\n",
       "    }\n",
       "\n",
       "    .dataframe tbody tr th {\n",
       "        vertical-align: top;\n",
       "    }\n",
       "\n",
       "    .dataframe thead th {\n",
       "        text-align: right;\n",
       "    }\n",
       "</style>\n",
       "<table border=\"1\" class=\"dataframe\">\n",
       "  <thead>\n",
       "    <tr style=\"text-align: right;\">\n",
       "      <th>ecDNA_sequences_detected</th>\n",
       "      <th>no ecDNA</th>\n",
       "      <th>ecDNA</th>\n",
       "      <th>Total</th>\n",
       "    </tr>\n",
       "    <tr>\n",
       "      <th>cancer_type</th>\n",
       "      <th></th>\n",
       "      <th></th>\n",
       "      <th></th>\n",
       "    </tr>\n",
       "  </thead>\n",
       "  <tbody>\n",
       "    <tr>\n",
       "      <th>LGG</th>\n",
       "      <td>307</td>\n",
       "      <td>1</td>\n",
       "      <td>308</td>\n",
       "    </tr>\n",
       "    <tr>\n",
       "      <th>HGG</th>\n",
       "      <td>173</td>\n",
       "      <td>40</td>\n",
       "      <td>213</td>\n",
       "    </tr>\n",
       "    <tr>\n",
       "      <th>MBL</th>\n",
       "      <td>163</td>\n",
       "      <td>28</td>\n",
       "      <td>191</td>\n",
       "    </tr>\n",
       "    <tr>\n",
       "      <th>NBL</th>\n",
       "      <td>80</td>\n",
       "      <td>34</td>\n",
       "      <td>114</td>\n",
       "    </tr>\n",
       "    <tr>\n",
       "      <th>GNT</th>\n",
       "      <td>93</td>\n",
       "      <td>1</td>\n",
       "      <td>94</td>\n",
       "    </tr>\n",
       "  </tbody>\n",
       "</table>\n",
       "</div>"
      ],
      "text/plain": [
       "ecDNA_sequences_detected  no ecDNA  ecDNA  Total\n",
       "cancer_type                                     \n",
       "LGG                            307      1    308\n",
       "HGG                            173     40    213\n",
       "MBL                            163     28    191\n",
       "NBL                             80     34    114\n",
       "GNT                             93      1     94"
      ]
     },
     "execution_count": 10,
     "metadata": {},
     "output_type": "execute_result"
    }
   ],
   "source": [
    "# data\n",
    "ct = pd.crosstab(biosamples.cancer_type, biosamples.ecDNA_sequences_detected > 0)\n",
    "ct['Total'] = ct.apply(sum,axis='columns')\n",
    "ct.sort_values('Total',ascending=False,inplace=True)\n",
    "ct.rename(columns={False:'no ecDNA',True:'ecDNA'},inplace=True)\n",
    "ct.head()"
   ]
  },
  {
   "cell_type": "code",
   "execution_count": 9,
   "id": "e3ba302a-eaf4-46d7-84f1-d0fa516d9300",
   "metadata": {
    "tags": []
   },
   "outputs": [
    {
     "data": {
      "image/png": "[encoded data removed]",
      "text/plain": [
       "<Figure size 1200x500 with 1 Axes>"
      ]
     },
     "metadata": {},
     "output_type": "display_data"
    }
   ],
   "source": [
    "def all_tumors_x_ecDNA_stacked_barplot(ct, svgfile=None):\n",
    "    cats = ['ecDNA','no ecDNA']\n",
    "    colors={'ecDNA':'red','no ecDNA':'grey'}\n",
    "\n",
    "    # legend\n",
    "    plt.figure(figsize=(12,5))\n",
    "    l = plt.legend(handles=[plt.Rectangle((0,0),1,1,fc=colors[c],edgecolor='none') for c in cats],\n",
    "                  labels=cats, loc='upper right',frameon=False,ncol=1,prop={'size':14})\n",
    "    # plot\n",
    "    p=recursive_stacked_barplot(ct,cats,colors)\n",
    "    # axes\n",
    "    sns.despine(left=True)\n",
    "    p.set_xticklabels(p.get_xticklabels(), rotation=-45,horizontalalignment='left',rotation_mode=\"anchor\")\n",
    "    p.set_xlabel(\"tumor type\")\n",
    "    p.set_ylabel(\"count\")\n",
    "    #p.set_ylim(0,20)\n",
    "    #p.set_yticks(range(0,20,5))\n",
    "    for item in ([p.xaxis.label, p.yaxis.label] +\n",
    "            p.get_yticklabels()):\n",
    "        item.set_fontsize(14)\n",
    "    for item in p.get_xticklabels():\n",
    "        item.set_fontsize(7)\n",
    "    # save\n",
    "    if svgfile != None:\n",
    "        plt.savefig(svgfile)\n",
    "\n",
    "\n",
    "def recursive_stacked_barplot(df,cats,colors):\n",
    "    if len(cats) == 0:\n",
    "        pass\n",
    "    else:\n",
    "        # make barplot\n",
    "        df = df[cats]\n",
    "        y = df.apply(sum,axis='columns')\n",
    "        p=sns.barplot(x = df.index, y=y, color=colors[cats[-1]])\n",
    "        # recurse\n",
    "        recursive_stacked_barplot(df,cats[:-1],colors)\n",
    "        return p\n",
    "    \n",
    "## This plot has too many tumor types to be very readable but shows that we have a long tail of tumor types, and the long tail is ecDNA-.\n",
    "all_tumors_x_ecDNA_stacked_barplot(ct)"
   ]
  },
  {
   "cell_type": "code",
   "execution_count": 10,
   "id": "dcb68483-1e81-4269-b000-6955189dfb21",
   "metadata": {
    "tags": []
   },
   "outputs": [
    {
     "data": {
      "image/png": "[encoded data removed]",
      "text/plain": [
       "<Figure size 1200x500 with 1 Axes>"
      ]
     },
     "metadata": {},
     "output_type": "display_data"
    }
   ],
   "source": [
    "def geqn_tumors_x_ecDNA_stacked_barplot(ct, svgfile=None):\n",
    "    cats = ['ecDNA','no ecDNA']\n",
    "    colors={'ecDNA':'red','no ecDNA':'grey'}\n",
    "\n",
    "    # legend\n",
    "    plt.figure(figsize=(12,5))\n",
    "    l = plt.legend(handles=[plt.Rectangle((0,0),1,1,fc=colors[c],edgecolor='none') for c in cats],\n",
    "                  labels=cats, loc='upper right',frameon=False,ncol=1,prop={'size':14})\n",
    "    # plot\n",
    "    p=recursive_stacked_barplot(ct,cats,colors)\n",
    "    # axes\n",
    "    sns.despine(left=True)\n",
    "    p.set_xticklabels(p.get_xticklabels(), rotation=-45,horizontalalignment='left',rotation_mode=\"anchor\")\n",
    "    p.set_xlabel(\"tumor type\")\n",
    "    p.set_ylabel(\"count\")\n",
    "    #p.set_ylim(0,20)\n",
    "    #p.set_yticks(range(0,20,5))\n",
    "    for item in ([p.xaxis.label, p.yaxis.label] +\n",
    "            p.get_xticklabels() + p.get_yticklabels()):\n",
    "        item.set_fontsize(14)\n",
    "    #p.set_yscale(\"log\")\n",
    "    # save\n",
    "    if svgfile != None:\n",
    "        plt.savefig(svgfile)\n",
    "        \n",
    "tmp = biosamples[biosamples.in_unique_tumor_set]\n",
    "gby = tmp.groupby(\"cancer_type\").count().ecDNA_sequences_detected\n",
    "geqn = gby[gby >= n].index\n",
    "geqn_tumors_x_ecDNA_stacked_barplot(ct[ct.index.isin(geqn)])"
   ]
  },
  {
   "cell_type": "markdown",
   "id": "d2151cc2-f583-4c2c-aebb-2ad50c8541d1",
   "metadata": {},
   "source": [
    "## What changed?"
   ]
  },
  {
   "cell_type": "code",
   "execution_count": 54,
   "id": "fa8b741d-2c42-40e3-82d0-5e55867fae15",
   "metadata": {
    "tags": []
   },
   "outputs": [
    {
     "name": "stdout",
     "output_type": "stream",
     "text": [
      "1\n",
      "284\n"
     ]
    }
   ],
   "source": [
    "## LGG\n",
    "# Sunita's 12/23 draft: 1/290\n",
    "# Revision: 1/279\n",
    "def fraction_ecDNA(cancer_type):\n",
    "    tmp = biosamples[biosamples.in_unique_tumor_set]\n",
    "    tmp = tmp[tmp.cancer_type == cancer_type]\n",
    "    print(len(tmp[tmp.ecDNA_sequences_detected > 0]))\n",
    "    print(len(tmp))\n",
    "fraction_ecDNA('LGG')"
   ]
  },
  {
   "cell_type": "code",
   "execution_count": 12,
   "id": "c6df54e3-26bd-4f5c-b651-b89f4d3d3222",
   "metadata": {
    "tags": []
   },
   "outputs": [
    {
     "name": "stdout",
     "output_type": "stream",
     "text": [
      "31\n",
      "159\n"
     ]
    }
   ],
   "source": [
    "## HGG\n",
    "# Sunita's 12/23 draft: 31/157\n",
    "# Revision:  31/159\n",
    "fraction_ecDNA('HGG')"
   ]
  },
  {
   "cell_type": "code",
   "execution_count": 13,
   "id": "d30933ff-0210-4be3-8c30-fce4ebc8fef1",
   "metadata": {
    "tags": []
   },
   "outputs": [
    {
     "name": "stdout",
     "output_type": "stream",
     "text": [
      "24\n",
      "178\n"
     ]
    }
   ],
   "source": [
    "## MBL\n",
    "# Sunita's 12/23 draft: 25/177\n",
    "# Revision: 24/178\n",
    "fraction_ecDNA('MBL')"
   ]
  },
  {
   "cell_type": "code",
   "execution_count": 56,
   "id": "95a0da18-f15f-4314-8531-386936efab2d",
   "metadata": {
    "tags": []
   },
   "outputs": [
    {
     "name": "stdout",
     "output_type": "stream",
     "text": [
      "33\n",
      "111\n"
     ]
    }
   ],
   "source": [
    "## NBL\n",
    "# Sunita's 12/23 draft: 32/106\n",
    "# Revision: 33/111\n",
    "fraction_ecDNA('NBL')"
   ]
  },
  {
   "cell_type": "code",
   "execution_count": 58,
   "id": "566bca88-1c99-466b-a11c-a17d17f43be3",
   "metadata": {
    "tags": []
   },
   "outputs": [
    {
     "name": "stdout",
     "output_type": "stream",
     "text": [
      "1\n",
      "6\n"
     ]
    },
    {
     "data": {
      "text/html": [
       "<div>\n",
       "<style scoped>\n",
       "    .dataframe tbody tr th:only-of-type {\n",
       "        vertical-align: middle;\n",
       "    }\n",
       "\n",
       "    .dataframe tbody tr th {\n",
       "        vertical-align: top;\n",
       "    }\n",
       "\n",
       "    .dataframe thead th {\n",
       "        text-align: right;\n",
       "    }\n",
       "</style>\n",
       "<table border=\"1\" class=\"dataframe\">\n",
       "  <thead>\n",
       "    <tr style=\"text-align: right;\">\n",
       "      <th></th>\n",
       "      <th>sex</th>\n",
       "      <th>patient_id</th>\n",
       "      <th>external_sample_id</th>\n",
       "      <th>tumor_history</th>\n",
       "      <th>age_at_diagnosis</th>\n",
       "      <th>cohort</th>\n",
       "      <th>extent_of_tumor_resection</th>\n",
       "      <th>cancer_type</th>\n",
       "      <th>ecDNA_sequences_detected</th>\n",
       "      <th>amplicon_class</th>\n",
       "      <th>in_unique_tumor_set</th>\n",
       "      <th>in_unique_patient_set</th>\n",
       "    </tr>\n",
       "  </thead>\n",
       "  <tbody>\n",
       "    <tr>\n",
       "      <th>BS_XJZQA3AP</th>\n",
       "      <td>Male</td>\n",
       "      <td>PT_B54PH840</td>\n",
       "      <td>7316-2707</td>\n",
       "      <td>Diagnosis</td>\n",
       "      <td>577.0</td>\n",
       "      <td>PBTA-X00</td>\n",
       "      <td>Gross/Near total resection</td>\n",
       "      <td>PBL</td>\n",
       "      <td>1.0</td>\n",
       "      <td>ecDNA</td>\n",
       "      <td>True</td>\n",
       "      <td>True</td>\n",
       "    </tr>\n",
       "    <tr>\n",
       "      <th>BS_H1MNXNHB</th>\n",
       "      <td>Female</td>\n",
       "      <td>PT_GNKRMTQY</td>\n",
       "      <td>7316-3856</td>\n",
       "      <td>Diagnosis</td>\n",
       "      <td>2948.0</td>\n",
       "      <td>PBTA-X00</td>\n",
       "      <td>Gross/Near total resection</td>\n",
       "      <td>PBL</td>\n",
       "      <td>0.0</td>\n",
       "      <td>No amplification</td>\n",
       "      <td>True</td>\n",
       "      <td>True</td>\n",
       "    </tr>\n",
       "    <tr>\n",
       "      <th>BS_9BN45DFK</th>\n",
       "      <td>Male</td>\n",
       "      <td>PT_QD6KKKJH</td>\n",
       "      <td>7316-1765</td>\n",
       "      <td>Diagnosis</td>\n",
       "      <td>3129.0</td>\n",
       "      <td>PBTA-X00</td>\n",
       "      <td>Partial resection</td>\n",
       "      <td>PBL</td>\n",
       "      <td>0.0</td>\n",
       "      <td>No amplification</td>\n",
       "      <td>False</td>\n",
       "      <td>False</td>\n",
       "    </tr>\n",
       "    <tr>\n",
       "      <th>BS_B91XGSA5</th>\n",
       "      <td>Male</td>\n",
       "      <td>PT_QD6KKKJH</td>\n",
       "      <td>7316-1765</td>\n",
       "      <td>Diagnosis</td>\n",
       "      <td>3129.0</td>\n",
       "      <td>PBTA-X00</td>\n",
       "      <td>Partial resection</td>\n",
       "      <td>PBL</td>\n",
       "      <td>0.0</td>\n",
       "      <td>No amplification</td>\n",
       "      <td>True</td>\n",
       "      <td>True</td>\n",
       "    </tr>\n",
       "    <tr>\n",
       "      <th>SJBT030154_D1</th>\n",
       "      <td>Female</td>\n",
       "      <td>SJ030154</td>\n",
       "      <td>NaN</td>\n",
       "      <td>Diagnosis</td>\n",
       "      <td>1399.0</td>\n",
       "      <td>SJC-DS-1004</td>\n",
       "      <td>NaN</td>\n",
       "      <td>PBL</td>\n",
       "      <td>0.0</td>\n",
       "      <td>No amplification</td>\n",
       "      <td>True</td>\n",
       "      <td>True</td>\n",
       "    </tr>\n",
       "    <tr>\n",
       "      <th>SJBT030427_D1</th>\n",
       "      <td>Male</td>\n",
       "      <td>SJ030427</td>\n",
       "      <td>NaN</td>\n",
       "      <td>Diagnosis</td>\n",
       "      <td>442.0</td>\n",
       "      <td>SJC-DS-1007</td>\n",
       "      <td>NaN</td>\n",
       "      <td>PBL</td>\n",
       "      <td>0.0</td>\n",
       "      <td>No amplification</td>\n",
       "      <td>True</td>\n",
       "      <td>True</td>\n",
       "    </tr>\n",
       "    <tr>\n",
       "      <th>SJBT030913_D2</th>\n",
       "      <td>Male</td>\n",
       "      <td>SJ030913</td>\n",
       "      <td>NaN</td>\n",
       "      <td>Diagnosis</td>\n",
       "      <td>3813.0</td>\n",
       "      <td>SJC-DS-1007</td>\n",
       "      <td>NaN</td>\n",
       "      <td>PBL</td>\n",
       "      <td>0.0</td>\n",
       "      <td>No amplification</td>\n",
       "      <td>True</td>\n",
       "      <td>True</td>\n",
       "    </tr>\n",
       "  </tbody>\n",
       "</table>\n",
       "</div>"
      ],
      "text/plain": [
       "                  sex   patient_id external_sample_id tumor_history   \n",
       "BS_XJZQA3AP      Male  PT_B54PH840          7316-2707     Diagnosis  \\\n",
       "BS_H1MNXNHB    Female  PT_GNKRMTQY          7316-3856     Diagnosis   \n",
       "BS_9BN45DFK      Male  PT_QD6KKKJH          7316-1765     Diagnosis   \n",
       "BS_B91XGSA5      Male  PT_QD6KKKJH          7316-1765     Diagnosis   \n",
       "SJBT030154_D1  Female     SJ030154                NaN     Diagnosis   \n",
       "SJBT030427_D1    Male     SJ030427                NaN     Diagnosis   \n",
       "SJBT030913_D2    Male     SJ030913                NaN     Diagnosis   \n",
       "\n",
       "               age_at_diagnosis       cohort   extent_of_tumor_resection   \n",
       "BS_XJZQA3AP               577.0     PBTA-X00  Gross/Near total resection  \\\n",
       "BS_H1MNXNHB              2948.0     PBTA-X00  Gross/Near total resection   \n",
       "BS_9BN45DFK              3129.0     PBTA-X00           Partial resection   \n",
       "BS_B91XGSA5              3129.0     PBTA-X00           Partial resection   \n",
       "SJBT030154_D1            1399.0  SJC-DS-1004                         NaN   \n",
       "SJBT030427_D1             442.0  SJC-DS-1007                         NaN   \n",
       "SJBT030913_D2            3813.0  SJC-DS-1007                         NaN   \n",
       "\n",
       "              cancer_type  ecDNA_sequences_detected    amplicon_class   \n",
       "BS_XJZQA3AP           PBL                       1.0             ecDNA  \\\n",
       "BS_H1MNXNHB           PBL                       0.0  No amplification   \n",
       "BS_9BN45DFK           PBL                       0.0  No amplification   \n",
       "BS_B91XGSA5           PBL                       0.0  No amplification   \n",
       "SJBT030154_D1         PBL                       0.0  No amplification   \n",
       "SJBT030427_D1         PBL                       0.0  No amplification   \n",
       "SJBT030913_D2         PBL                       0.0  No amplification   \n",
       "\n",
       "               in_unique_tumor_set  in_unique_patient_set  \n",
       "BS_XJZQA3AP                   True                   True  \n",
       "BS_H1MNXNHB                   True                   True  \n",
       "BS_9BN45DFK                  False                  False  \n",
       "BS_B91XGSA5                   True                   True  \n",
       "SJBT030154_D1                 True                   True  \n",
       "SJBT030427_D1                 True                   True  \n",
       "SJBT030913_D2                 True                   True  "
      ]
     },
     "execution_count": 58,
     "metadata": {},
     "output_type": "execute_result"
    }
   ],
   "source": [
    "## PBL\n",
    "# Sunita's 12/23 draft: 1/4\n",
    "# Revision: 1/6\n",
    "fraction_ecDNA('PBL')\n",
    "biosamples[biosamples.cancer_type=='PBL']"
   ]
  },
  {
   "cell_type": "code",
   "execution_count": 109,
   "id": "965feb0f-e6bc-4efa-a5bc-ab60b02b7767",
   "metadata": {
    "tags": []
   },
   "outputs": [
    {
     "name": "stdout",
     "output_type": "stream",
     "text": [
      "2\n",
      "76\n"
     ]
    }
   ],
   "source": [
    "## EPN\n",
    "# Sunita's 12/23 draft: 2/73\n",
    "# Revision: 2/76\n",
    "fraction_ecDNA('EPN')"
   ]
  },
  {
   "cell_type": "code",
   "execution_count": 110,
   "id": "f53ac892-c33b-4359-bc50-228fb62642be",
   "metadata": {
    "tags": []
   },
   "outputs": [
    {
     "name": "stdout",
     "output_type": "stream",
     "text": [
      "26\n",
      "55\n"
     ]
    }
   ],
   "source": [
    "## OS\n",
    "# Sunita's 12/23 draft: 27/57\n",
    "# Revision: 26/55\n",
    "fraction_ecDNA('OS')"
   ]
  },
  {
   "cell_type": "code",
   "execution_count": 113,
   "id": "377d471b-8ced-4f60-b583-1e3f1addbb98",
   "metadata": {
    "tags": []
   },
   "outputs": [
    {
     "name": "stdout",
     "output_type": "stream",
     "text": [
      "15\n",
      "38\n"
     ]
    }
   ],
   "source": [
    "## RMS\n",
    "# Sunita's 12/23 draft: 14/35\n",
    "# Revision: 15/38\n",
    "fraction_ecDNA('RMS')"
   ]
  },
  {
   "cell_type": "code",
   "execution_count": 115,
   "id": "5b0acafa-e909-44af-bd61-ee6781f0b7e9",
   "metadata": {
    "tags": []
   },
   "outputs": [
    {
     "name": "stdout",
     "output_type": "stream",
     "text": [
      "6\n",
      "32\n"
     ]
    }
   ],
   "source": [
    "## RBL\n",
    "# Sunita's 12/23 draft: 6/32\n",
    "# Revision: 6/32\n",
    "fraction_ecDNA('RBL')"
   ]
  },
  {
   "cell_type": "code",
   "execution_count": 117,
   "id": "0fd40c13-04b6-4ce7-b311-6073aa5b3b01",
   "metadata": {
    "tags": []
   },
   "outputs": [
    {
     "name": "stdout",
     "output_type": "stream",
     "text": [
      "3\n",
      "20\n"
     ]
    }
   ],
   "source": [
    "## ACC\n",
    "# Sunita's 12/23 draft: 2/21\n",
    "# Revision: 3/20\n",
    "fraction_ecDNA('ACC')"
   ]
  },
  {
   "cell_type": "code",
   "execution_count": 119,
   "id": "6c385233-33c6-449d-ade0-36f0f2a27c29",
   "metadata": {
    "tags": []
   },
   "outputs": [
    {
     "name": "stdout",
     "output_type": "stream",
     "text": [
      "1\n",
      "51\n"
     ]
    }
   ],
   "source": [
    "## CPG\n",
    "# Sunita's 12/23 draft: 1/39\n",
    "# Revision: 1/51\n",
    "fraction_ecDNA('CPG')"
   ]
  },
  {
   "cell_type": "code",
   "execution_count": 120,
   "id": "3c33ba01-0229-4b3b-9638-88878d9d267f",
   "metadata": {
    "tags": []
   },
   "outputs": [
    {
     "name": "stdout",
     "output_type": "stream",
     "text": [
      "1\n",
      "48\n"
     ]
    }
   ],
   "source": [
    "## GG\n",
    "# Sunita's 12/23 draft: 1/44\n",
    "# Revision: 1/48\n",
    "fraction_ecDNA('GG')"
   ]
  },
  {
   "cell_type": "code",
   "execution_count": 121,
   "id": "a62655c1-6375-4a86-bc82-24757edc605f",
   "metadata": {
    "tags": []
   },
   "outputs": [
    {
     "name": "stdout",
     "output_type": "stream",
     "text": [
      "4\n",
      "6\n"
     ]
    }
   ],
   "source": [
    "## ETMR\n",
    "# Sunita's 12/23 draft: 4/4\n",
    "# Revision: 4/6\n",
    "fraction_ecDNA('ETMR')\n"
   ]
  },
  {
   "cell_type": "code",
   "execution_count": 123,
   "id": "793762aa-83f0-4cf5-9d8b-bce2507c7675",
   "metadata": {
    "tags": []
   },
   "outputs": [
    {
     "name": "stdout",
     "output_type": "stream",
     "text": [
      "1\n",
      "6\n"
     ]
    }
   ],
   "source": [
    "## PBL\n",
    "# Sunita's 12/23 draft: 1/4\n",
    "# Revision: 1/6\n",
    "fraction_ecDNA('PBL')"
   ]
  },
  {
   "cell_type": "code",
   "execution_count": 20,
   "id": "4c9ca7e0-11f8-4082-b45a-850f263b80a3",
   "metadata": {
    "tags": []
   },
   "outputs": [
    {
     "name": "stdout",
     "output_type": "stream",
     "text": [
      "1\n",
      "3\n",
      "1\n",
      "1\n",
      "2\n",
      "3\n",
      "1\n",
      "21\n",
      "1\n",
      "8\n",
      "1\n",
      "28\n"
     ]
    }
   ],
   "source": [
    "fraction_ecDNA('SCSNOS')\n",
    "fraction_ecDNA('CS')\n",
    "fraction_ecDNA('MST')\n",
    "fraction_ecDNA('GCT')\n",
    "fraction_ecDNA('CPC')\n",
    "fraction_ecDNA('WLM')"
   ]
  },
  {
   "cell_type": "code",
   "execution_count": 27,
   "id": "8b75bcc5-2c7a-4f10-8ca0-4efeaee7821c",
   "metadata": {
    "tags": []
   },
   "outputs": [
    {
     "name": "stdout",
     "output_type": "stream",
     "text": [
      "0\n",
      "12\n",
      "0\n",
      "1\n"
     ]
    }
   ],
   "source": [
    "fraction_ecDNA('GNT')\n",
    "fraction_ecDNA('GNBL')"
   ]
  },
  {
   "cell_type": "code",
   "execution_count": 55,
   "id": "71d6ab09-bc2f-4e1f-aaec-1b7f681aefd7",
   "metadata": {
    "tags": []
   },
   "outputs": [
    {
     "name": "stdout",
     "output_type": "stream",
     "text": [
      "0\n",
      "36\n"
     ]
    }
   ],
   "source": [
    "fraction_ecDNA('EWS')"
   ]
  },
  {
   "cell_type": "code",
   "execution_count": 59,
   "id": "44571b0d-6d9a-4ef0-88ad-8c8cbd740853",
   "metadata": {
    "tags": []
   },
   "outputs": [
    {
     "name": "stdout",
     "output_type": "stream",
     "text": [
      "0\n",
      "58\n"
     ]
    }
   ],
   "source": [
    "fraction_ecDNA('BENG')"
   ]
  },
  {
   "cell_type": "code",
   "execution_count": 18,
   "id": "2ecbb883-160c-41c1-902c-ab622fd8828d",
   "metadata": {
    "tags": []
   },
   "outputs": [
    {
     "data": {
      "text/html": [
       "<div>\n",
       "<style scoped>\n",
       "    .dataframe tbody tr th:only-of-type {\n",
       "        vertical-align: middle;\n",
       "    }\n",
       "\n",
       "    .dataframe tbody tr th {\n",
       "        vertical-align: top;\n",
       "    }\n",
       "\n",
       "    .dataframe thead th {\n",
       "        text-align: right;\n",
       "    }\n",
       "</style>\n",
       "<table border=\"1\" class=\"dataframe\">\n",
       "  <thead>\n",
       "    <tr style=\"text-align: right;\">\n",
       "      <th></th>\n",
       "      <th>sex</th>\n",
       "      <th>patient_id</th>\n",
       "      <th>external_sample_id</th>\n",
       "      <th>tumor_history</th>\n",
       "      <th>age_at_diagnosis</th>\n",
       "      <th>cohort</th>\n",
       "      <th>extent_of_tumor_resection</th>\n",
       "      <th>cancer_type</th>\n",
       "      <th>ecDNA_sequences_detected</th>\n",
       "      <th>amplicon_class</th>\n",
       "      <th>in_unique_tumor_set</th>\n",
       "      <th>in_unique_patient_set</th>\n",
       "    </tr>\n",
       "  </thead>\n",
       "  <tbody>\n",
       "    <tr>\n",
       "      <th>BS_4Z6F1HJZ</th>\n",
       "      <td>Male</td>\n",
       "      <td>PT_6PFFSB6D</td>\n",
       "      <td>7316-2569</td>\n",
       "      <td>Diagnosis</td>\n",
       "      <td>5690.0</td>\n",
       "      <td>PBTA-X00</td>\n",
       "      <td>Partial resection</td>\n",
       "      <td>SCT</td>\n",
       "      <td>0.0</td>\n",
       "      <td>No amplification</td>\n",
       "      <td>True</td>\n",
       "      <td>True</td>\n",
       "    </tr>\n",
       "  </tbody>\n",
       "</table>\n",
       "</div>"
      ],
      "text/plain": [
       "              sex   patient_id external_sample_id tumor_history   \n",
       "BS_4Z6F1HJZ  Male  PT_6PFFSB6D          7316-2569     Diagnosis  \\\n",
       "\n",
       "             age_at_diagnosis    cohort extent_of_tumor_resection cancer_type   \n",
       "BS_4Z6F1HJZ            5690.0  PBTA-X00         Partial resection         SCT  \\\n",
       "\n",
       "             ecDNA_sequences_detected    amplicon_class  in_unique_tumor_set   \n",
       "BS_4Z6F1HJZ                       0.0  No amplification                 True  \\\n",
       "\n",
       "             in_unique_patient_set  \n",
       "BS_4Z6F1HJZ                   True  "
      ]
     },
     "execution_count": 18,
     "metadata": {},
     "output_type": "execute_result"
    }
   ],
   "source": [
    "biosamples[biosamples.cancer_type == \"SCT\"]"
   ]
  },
  {
   "cell_type": "markdown",
   "id": "3ad8b19c-39c5-4405-9a8a-87084c8ac9df",
   "metadata": {
    "tags": []
   },
   "source": [
    "## NFP and MPNST\n",
    "Summary: No NFPs have ecDNA. 1 patient with MPNST had ecDNA; both are recurrences; primary not in the dataset."
   ]
  },
  {
   "cell_type": "code",
   "execution_count": 65,
   "id": "3237f7ef-2a38-4e69-85ed-e6cb7faa08c9",
   "metadata": {
    "tags": []
   },
   "outputs": [
    {
     "data": {
      "text/html": [
       "<div>\n",
       "<style scoped>\n",
       "    .dataframe tbody tr th:only-of-type {\n",
       "        vertical-align: middle;\n",
       "    }\n",
       "\n",
       "    .dataframe tbody tr th {\n",
       "        vertical-align: top;\n",
       "    }\n",
       "\n",
       "    .dataframe thead th {\n",
       "        text-align: right;\n",
       "    }\n",
       "</style>\n",
       "<table border=\"1\" class=\"dataframe\">\n",
       "  <thead>\n",
       "    <tr style=\"text-align: right;\">\n",
       "      <th></th>\n",
       "      <th>sex</th>\n",
       "      <th>patient_id</th>\n",
       "      <th>external_sample_id</th>\n",
       "      <th>tumor_history</th>\n",
       "      <th>age_at_diagnosis</th>\n",
       "      <th>cohort</th>\n",
       "      <th>extent_of_tumor_resection</th>\n",
       "      <th>cancer_type</th>\n",
       "      <th>ecDNA_sequences_detected</th>\n",
       "      <th>amplicon_class</th>\n",
       "      <th>in_unique_tumor_set</th>\n",
       "      <th>in_unique_patient_set</th>\n",
       "    </tr>\n",
       "  </thead>\n",
       "  <tbody>\n",
       "    <tr>\n",
       "      <th>BS_6Z213H2V</th>\n",
       "      <td>None</td>\n",
       "      <td>PT_2E552BAR</td>\n",
       "      <td>7316-3066</td>\n",
       "      <td>Progressive</td>\n",
       "      <td>7300.0</td>\n",
       "      <td>PBTA-X00</td>\n",
       "      <td>Partial resection</td>\n",
       "      <td>MPNST</td>\n",
       "      <td>0.0</td>\n",
       "      <td>No amplification</td>\n",
       "      <td>True</td>\n",
       "      <td>True</td>\n",
       "    </tr>\n",
       "    <tr>\n",
       "      <th>BS_WH8KWW5J</th>\n",
       "      <td>Male</td>\n",
       "      <td>PT_9PJR0ZK7</td>\n",
       "      <td>7316-2576</td>\n",
       "      <td>Recurrence</td>\n",
       "      <td>6879.0</td>\n",
       "      <td>PBTA-X00</td>\n",
       "      <td>Partial resection</td>\n",
       "      <td>MPNST</td>\n",
       "      <td>1.0</td>\n",
       "      <td>ecDNA</td>\n",
       "      <td>False</td>\n",
       "      <td>False</td>\n",
       "    </tr>\n",
       "    <tr>\n",
       "      <th>BS_A1DV9T7G</th>\n",
       "      <td>Male</td>\n",
       "      <td>PT_9PJR0ZK7</td>\n",
       "      <td>7316-935</td>\n",
       "      <td>Progressive</td>\n",
       "      <td>6431.0</td>\n",
       "      <td>PBTA-X00</td>\n",
       "      <td>Partial resection</td>\n",
       "      <td>MPNST</td>\n",
       "      <td>2.0</td>\n",
       "      <td>ecDNA</td>\n",
       "      <td>True</td>\n",
       "      <td>True</td>\n",
       "    </tr>\n",
       "    <tr>\n",
       "      <th>BS_Z1BBZ01F</th>\n",
       "      <td>None</td>\n",
       "      <td>PT_QQ9JGEY9</td>\n",
       "      <td>7316-356</td>\n",
       "      <td>Diagnosis</td>\n",
       "      <td>6349.0</td>\n",
       "      <td>PBTA-X00</td>\n",
       "      <td>Partial resection</td>\n",
       "      <td>MPNST</td>\n",
       "      <td>0.0</td>\n",
       "      <td>No amplification</td>\n",
       "      <td>True</td>\n",
       "      <td>True</td>\n",
       "    </tr>\n",
       "    <tr>\n",
       "      <th>SJMPNST030013_D1</th>\n",
       "      <td>None</td>\n",
       "      <td>SJ030013</td>\n",
       "      <td>NaN</td>\n",
       "      <td>Diagnosis</td>\n",
       "      <td>NaN</td>\n",
       "      <td>SJC-DS-1003</td>\n",
       "      <td>NaN</td>\n",
       "      <td>MPNST</td>\n",
       "      <td>0.0</td>\n",
       "      <td>No amplification</td>\n",
       "      <td>True</td>\n",
       "      <td>True</td>\n",
       "    </tr>\n",
       "  </tbody>\n",
       "</table>\n",
       "</div>"
      ],
      "text/plain": [
       "                   sex   patient_id external_sample_id tumor_history   \n",
       "BS_6Z213H2V       None  PT_2E552BAR          7316-3066   Progressive  \\\n",
       "BS_WH8KWW5J       Male  PT_9PJR0ZK7          7316-2576    Recurrence   \n",
       "BS_A1DV9T7G       Male  PT_9PJR0ZK7           7316-935   Progressive   \n",
       "BS_Z1BBZ01F       None  PT_QQ9JGEY9           7316-356     Diagnosis   \n",
       "SJMPNST030013_D1  None     SJ030013                NaN     Diagnosis   \n",
       "\n",
       "                  age_at_diagnosis       cohort extent_of_tumor_resection   \n",
       "BS_6Z213H2V                 7300.0     PBTA-X00         Partial resection  \\\n",
       "BS_WH8KWW5J                 6879.0     PBTA-X00         Partial resection   \n",
       "BS_A1DV9T7G                 6431.0     PBTA-X00         Partial resection   \n",
       "BS_Z1BBZ01F                 6349.0     PBTA-X00         Partial resection   \n",
       "SJMPNST030013_D1               NaN  SJC-DS-1003                       NaN   \n",
       "\n",
       "                 cancer_type  ecDNA_sequences_detected    amplicon_class   \n",
       "BS_6Z213H2V            MPNST                       0.0  No amplification  \\\n",
       "BS_WH8KWW5J            MPNST                       1.0             ecDNA   \n",
       "BS_A1DV9T7G            MPNST                       2.0             ecDNA   \n",
       "BS_Z1BBZ01F            MPNST                       0.0  No amplification   \n",
       "SJMPNST030013_D1       MPNST                       0.0  No amplification   \n",
       "\n",
       "                  in_unique_tumor_set  in_unique_patient_set  \n",
       "BS_6Z213H2V                      True                   True  \n",
       "BS_WH8KWW5J                     False                  False  \n",
       "BS_A1DV9T7G                      True                   True  \n",
       "BS_Z1BBZ01F                      True                   True  \n",
       "SJMPNST030013_D1                 True                   True  "
      ]
     },
     "execution_count": 65,
     "metadata": {},
     "output_type": "execute_result"
    }
   ],
   "source": [
    "biosamples[biosamples.cancer_type == 'MPNST']"
   ]
  },
  {
   "cell_type": "code",
   "execution_count": 86,
   "id": "dad52faa-abaf-4cc3-8edd-5d3cb48d8702",
   "metadata": {
    "tags": []
   },
   "outputs": [
    {
     "data": {
      "text/html": [
       "<div>\n",
       "<style scoped>\n",
       "    .dataframe tbody tr th:only-of-type {\n",
       "        vertical-align: middle;\n",
       "    }\n",
       "\n",
       "    .dataframe tbody tr th {\n",
       "        vertical-align: top;\n",
       "    }\n",
       "\n",
       "    .dataframe thead th {\n",
       "        text-align: right;\n",
       "    }\n",
       "</style>\n",
       "<table border=\"1\" class=\"dataframe\">\n",
       "  <thead>\n",
       "    <tr style=\"text-align: right;\">\n",
       "      <th></th>\n",
       "      <th>sex</th>\n",
       "      <th>patient_id</th>\n",
       "      <th>external_sample_id</th>\n",
       "      <th>tumor_history</th>\n",
       "      <th>age_at_diagnosis</th>\n",
       "      <th>cohort</th>\n",
       "      <th>extent_of_tumor_resection</th>\n",
       "      <th>cancer_type</th>\n",
       "      <th>ecDNA_sequences_detected</th>\n",
       "      <th>amplicon_class</th>\n",
       "      <th>in_unique_tumor_set</th>\n",
       "      <th>in_unique_patient_set</th>\n",
       "    </tr>\n",
       "  </thead>\n",
       "  <tbody>\n",
       "  </tbody>\n",
       "</table>\n",
       "</div>"
      ],
      "text/plain": [
       "Empty DataFrame\n",
       "Columns: [sex, patient_id, external_sample_id, tumor_history, age_at_diagnosis, cohort, extent_of_tumor_resection, cancer_type, ecDNA_sequences_detected, amplicon_class, in_unique_tumor_set, in_unique_patient_set]\n",
       "Index: []"
      ]
     },
     "execution_count": 86,
     "metadata": {},
     "output_type": "execute_result"
    }
   ],
   "source": [
    "biosamples[(biosamples.cancer_type == 'NFP') & (biosamples.ecDNA_sequences_detected > 0)]"
   ]
  },
  {
   "cell_type": "code",
   "execution_count": 84,
   "id": "ac017ec5-915b-46fb-aef9-1e5eb21014ca",
   "metadata": {
    "tags": []
   },
   "outputs": [
    {
     "data": {
      "text/html": [
       "<div>\n",
       "<style scoped>\n",
       "    .dataframe tbody tr th:only-of-type {\n",
       "        vertical-align: middle;\n",
       "    }\n",
       "\n",
       "    .dataframe tbody tr th {\n",
       "        vertical-align: top;\n",
       "    }\n",
       "\n",
       "    .dataframe thead th {\n",
       "        text-align: right;\n",
       "    }\n",
       "</style>\n",
       "<table border=\"1\" class=\"dataframe\">\n",
       "  <thead>\n",
       "    <tr style=\"text-align: right;\">\n",
       "      <th></th>\n",
       "      <th>sex</th>\n",
       "      <th>patient_id</th>\n",
       "      <th>external_sample_id</th>\n",
       "      <th>tumor_history</th>\n",
       "      <th>age_at_diagnosis</th>\n",
       "      <th>cohort</th>\n",
       "      <th>extent_of_tumor_resection</th>\n",
       "      <th>cancer_type</th>\n",
       "      <th>ecDNA_sequences_detected</th>\n",
       "      <th>amplicon_class</th>\n",
       "      <th>in_unique_tumor_set</th>\n",
       "      <th>in_unique_patient_set</th>\n",
       "    </tr>\n",
       "  </thead>\n",
       "  <tbody>\n",
       "    <tr>\n",
       "      <th>BS_WH8KWW5J</th>\n",
       "      <td>Male</td>\n",
       "      <td>PT_9PJR0ZK7</td>\n",
       "      <td>7316-2576</td>\n",
       "      <td>Recurrence</td>\n",
       "      <td>6879.0</td>\n",
       "      <td>PBTA-X00</td>\n",
       "      <td>Partial resection</td>\n",
       "      <td>MPNST</td>\n",
       "      <td>1.0</td>\n",
       "      <td>ecDNA</td>\n",
       "      <td>False</td>\n",
       "      <td>False</td>\n",
       "    </tr>\n",
       "    <tr>\n",
       "      <th>BS_A1DV9T7G</th>\n",
       "      <td>Male</td>\n",
       "      <td>PT_9PJR0ZK7</td>\n",
       "      <td>7316-935</td>\n",
       "      <td>Progressive</td>\n",
       "      <td>6431.0</td>\n",
       "      <td>PBTA-X00</td>\n",
       "      <td>Partial resection</td>\n",
       "      <td>MPNST</td>\n",
       "      <td>2.0</td>\n",
       "      <td>ecDNA</td>\n",
       "      <td>True</td>\n",
       "      <td>True</td>\n",
       "    </tr>\n",
       "  </tbody>\n",
       "</table>\n",
       "</div>"
      ],
      "text/plain": [
       "              sex   patient_id external_sample_id tumor_history   \n",
       "BS_WH8KWW5J  Male  PT_9PJR0ZK7          7316-2576    Recurrence  \\\n",
       "BS_A1DV9T7G  Male  PT_9PJR0ZK7           7316-935   Progressive   \n",
       "\n",
       "             age_at_diagnosis    cohort extent_of_tumor_resection cancer_type   \n",
       "BS_WH8KWW5J            6879.0  PBTA-X00         Partial resection       MPNST  \\\n",
       "BS_A1DV9T7G            6431.0  PBTA-X00         Partial resection       MPNST   \n",
       "\n",
       "             ecDNA_sequences_detected amplicon_class  in_unique_tumor_set   \n",
       "BS_WH8KWW5J                       1.0          ecDNA                False  \\\n",
       "BS_A1DV9T7G                       2.0          ecDNA                 True   \n",
       "\n",
       "             in_unique_patient_set  \n",
       "BS_WH8KWW5J                  False  \n",
       "BS_A1DV9T7G                   True  "
      ]
     },
     "execution_count": 84,
     "metadata": {},
     "output_type": "execute_result"
    }
   ],
   "source": [
    "biosamples[biosamples.patient_id == 'PT_9PJR0ZK7'"
   ]
  }
 ],
 "metadata": {
  "kernelspec": {
   "display_name": "py3",
   "language": "python",
   "name": "py3"
  },
  "language_info": {
   "codemirror_mode": {
    "name": "ipython",
    "version": 3
   },
   "file_extension": ".py",
   "mimetype": "text/x-python",
   "name": "python",
   "nbconvert_exporter": "python",
   "pygments_lexer": "ipython3",
   "version": "3.11.3"
  }
 },
 "nbformat": 4,
 "nbformat_minor": 5
}
