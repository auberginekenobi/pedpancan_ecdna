{
 "cells": [
  {
   "cell_type": "markdown",
   "id": "c6e7d2ab-4b95-4b59-b060-d99f69aa85e3",
   "metadata": {},
   "source": [
    "# medullo-diff\n",
    "Medulloblastomas were estimated at 18% in previous N.G. paper; however, pedpancan is at 14%.\n",
    "- Is this statistically different?\n",
    "- Why the difference?\n",
    "    - ICGC are the different samples\n",
    "    - Could be hg19 or could be adult\n",
    "    \n",
    "## Conclusion\n",
    "The difference is driven by 7 tumors previously classified as ecDNA+ MB and now classified as ecDNA-. In 6 of 7 cases, a low-copy cyclic amplicon was previously detected which may alternately represent ecDNA or HSR. Due to differences in our updated methods, these low-copy amplifications are not detected in this analysis. One tumor was previously classified as ecDNA+ based on weak evidence of a cyclic amplification, which probably represents a false positive and is corrected herein."
   ]
  },
  {
   "cell_type": "code",
   "execution_count": 1,
   "id": "ee1fa1b2-25c1-4160-ab65-9e877d9de19b",
   "metadata": {
    "tags": []
   },
   "outputs": [],
   "source": [
    "import pandas as pd"
   ]
  },
  {
   "cell_type": "code",
   "execution_count": 39,
   "id": "62e06e5c-9d8b-41cf-ba08-230d27711b42",
   "metadata": {
    "tags": []
   },
   "outputs": [],
   "source": [
    "SUPPLEMENTARY_TABLES_PATH=\"/Users/ochapman/projects/pedpancan_ecdna/data/Supplementary Tables.xlsx\"\n",
    "MEDULLO_TABLES_PATH=\"/Users/ochapman/projects/medullo-ecdna/data/41588_2023_1551_MOESM4_ESM.xlsx\"\n",
    "def import_biosamples():\n",
    "    df = pd.read_excel(SUPPLEMENTARY_TABLES_PATH,sheet_name=\"2. Biosamples\",index_col=0)\n",
    "    # hack hack, these are 2 biosamples of the same tumor at the same timepoint\n",
    "    df.loc[\"SJMB009_D\",\"in_unique_tumor_set\"] = True\n",
    "    df.loc[\"SJMB009_D\",\"in_unique_patient_set\"] = True\n",
    "    df.loc[\"SJMB009_E\",\"in_unique_tumor_set\"] = False\n",
    "    df.loc[\"SJMB009_E\",\"in_unique_patient_set\"] = False\n",
    "    return df\n",
    "def import_medullo_biosamples():\n",
    "    return pd.read_excel(MEDULLO_TABLES_PATH,sheet_name=\"2 WGS Sample Cohort\",index_col=0)\n",
    "def import_medullo_patients():\n",
    "    return pd.read_excel(MEDULLO_TABLES_PATH,sheet_name=\"1 WGS Patient Cohort\",index_col=0)"
   ]
  },
  {
   "cell_type": "code",
   "execution_count": 40,
   "id": "dc227719-bbfd-4109-8859-8db4a9f922ad",
   "metadata": {
    "tags": []
   },
   "outputs": [],
   "source": [
    "bs = import_biosamples()\n",
    "bsm = import_medullo_biosamples()\n",
    "bs = bs[bs.cancer_type == \"MBL\"]\n",
    "bsm = bsm[~bsm.index.isin(bs[~bs.in_unique_patient_set].index)]\n",
    "bs = bs[bs.in_unique_patient_set]"
   ]
  },
  {
   "cell_type": "code",
   "execution_count": 43,
   "id": "f739dbcf-b948-491e-9061-d09e712da09c",
   "metadata": {
    "tags": []
   },
   "outputs": [
    {
     "name": "stdout",
     "output_type": "stream",
     "text": [
      "samples in pedpancan not in medullo: 1\n",
      "samples in medullo not in pedpancan: 293\n"
     ]
    }
   ],
   "source": [
    "print(f\"samples in pedpancan not in medullo: {len(set(bs.index)-set(bsm.index))}\")\n",
    "# Not really sure why BS_M16CDR44 is not included in the medullo dataset but no consequence.\n",
    "print(f\"samples in medullo not in pedpancan: {len(set(bsm.index)-set(bs.index))}\")"
   ]
  },
  {
   "cell_type": "code",
   "execution_count": 64,
   "id": "9dacf970-5d7d-4e3b-bae2-c65a21ae51b6",
   "metadata": {
    "tags": []
   },
   "outputs": [],
   "source": [
    "not_in_both = set(bsm.index)-set(bs.index)\n",
    "in_both = set(bsm.index)&set(bs.index)"
   ]
  },
  {
   "cell_type": "code",
   "execution_count": 70,
   "id": "90a81c41-4a21-4f4a-872e-588f5af70e27",
   "metadata": {
    "tags": []
   },
   "outputs": [
    {
     "name": "stdout",
     "output_type": "stream",
     "text": [
      "pedpancan_ecDNA  False  True \n",
      "medullo_ecDNA                \n",
      "False              145      0\n",
      "True                 6     24\n"
     ]
    },
    {
     "data": {
      "text/html": [
       "<div>\n",
       "<style scoped>\n",
       "    .dataframe tbody tr th:only-of-type {\n",
       "        vertical-align: middle;\n",
       "    }\n",
       "\n",
       "    .dataframe tbody tr th {\n",
       "        vertical-align: top;\n",
       "    }\n",
       "\n",
       "    .dataframe thead th {\n",
       "        text-align: right;\n",
       "    }\n",
       "</style>\n",
       "<table border=\"1\" class=\"dataframe\">\n",
       "  <thead>\n",
       "    <tr style=\"text-align: right;\">\n",
       "      <th></th>\n",
       "      <th>Patient_ID</th>\n",
       "      <th>Tumor_type</th>\n",
       "      <th>in_pedpancan</th>\n",
       "      <th>medullo_ecDNA</th>\n",
       "      <th>pedpancan_ecDNA</th>\n",
       "    </tr>\n",
       "    <tr>\n",
       "      <th>Sample_ID</th>\n",
       "      <th></th>\n",
       "      <th></th>\n",
       "      <th></th>\n",
       "      <th></th>\n",
       "      <th></th>\n",
       "    </tr>\n",
       "  </thead>\n",
       "  <tbody>\n",
       "    <tr>\n",
       "      <th>BS_NMQTPVFW</th>\n",
       "      <td>PT_7QKGGMKV</td>\n",
       "      <td>primary</td>\n",
       "      <td>True</td>\n",
       "      <td>True</td>\n",
       "      <td>False</td>\n",
       "    </tr>\n",
       "    <tr>\n",
       "      <th>BS_FVYBGMG1</th>\n",
       "      <td>PT_9DMMZ08D</td>\n",
       "      <td>primary</td>\n",
       "      <td>True</td>\n",
       "      <td>True</td>\n",
       "      <td>False</td>\n",
       "    </tr>\n",
       "    <tr>\n",
       "      <th>BS_FT95T4YP</th>\n",
       "      <td>PT_NDVJE438</td>\n",
       "      <td>primary</td>\n",
       "      <td>True</td>\n",
       "      <td>True</td>\n",
       "      <td>False</td>\n",
       "    </tr>\n",
       "    <tr>\n",
       "      <th>BS_KRYYDC2X</th>\n",
       "      <td>PT_RH59ET3M</td>\n",
       "      <td>primary</td>\n",
       "      <td>True</td>\n",
       "      <td>True</td>\n",
       "      <td>False</td>\n",
       "    </tr>\n",
       "    <tr>\n",
       "      <th>SJMB003_D</th>\n",
       "      <td>SJ008003</td>\n",
       "      <td>primary</td>\n",
       "      <td>True</td>\n",
       "      <td>True</td>\n",
       "      <td>False</td>\n",
       "    </tr>\n",
       "    <tr>\n",
       "      <th>SJMB030582_D1</th>\n",
       "      <td>SJ030582</td>\n",
       "      <td>primary</td>\n",
       "      <td>True</td>\n",
       "      <td>True</td>\n",
       "      <td>False</td>\n",
       "    </tr>\n",
       "  </tbody>\n",
       "</table>\n",
       "</div>"
      ],
      "text/plain": [
       "                Patient_ID Tumor_type  in_pedpancan  medullo_ecDNA   \n",
       "Sample_ID                                                            \n",
       "BS_NMQTPVFW    PT_7QKGGMKV    primary          True           True  \\\n",
       "BS_FVYBGMG1    PT_9DMMZ08D    primary          True           True   \n",
       "BS_FT95T4YP    PT_NDVJE438    primary          True           True   \n",
       "BS_KRYYDC2X    PT_RH59ET3M    primary          True           True   \n",
       "SJMB003_D         SJ008003    primary          True           True   \n",
       "SJMB030582_D1     SJ030582    primary          True           True   \n",
       "\n",
       "               pedpancan_ecDNA  \n",
       "Sample_ID                       \n",
       "BS_NMQTPVFW              False  \n",
       "BS_FVYBGMG1              False  \n",
       "BS_FT95T4YP              False  \n",
       "BS_KRYYDC2X              False  \n",
       "SJMB003_D                False  \n",
       "SJMB030582_D1            False  "
      ]
     },
     "execution_count": 70,
     "metadata": {},
     "output_type": "execute_result"
    }
   ],
   "source": [
    "# Any different classifications?\n",
    "bsm_bs = bsm[bsm.index.isin(in_both)].copy()\n",
    "bsm_bs[\"medullo_ecDNA\"] = bsm_bs.ecDNA > 0\n",
    "bsm_bs[\"pedpancan_ecDNA\"] = bs.loc[bsm_bs.index,\"ecDNA_sequences_detected\"] > 0\n",
    "bsm_bs.drop([\"ecDNA\",\"Aliases\"],axis=1,inplace=True)\n",
    "print(pd.crosstab(bsm_bs.medullo_ecDNA, bsm_bs.pedpancan_ecDNA)) # oh dear\n",
    "bsm_bs[bsm_bs.medullo_ecDNA != bsm_bs.pedpancan_ecDNA]"
   ]
  },
  {
   "cell_type": "code",
   "execution_count": 51,
   "id": "1a7d05a8-6d4d-4d51-9f52-96971a628ecb",
   "metadata": {
    "tags": []
   },
   "outputs": [],
   "source": [
    "bsm[\"in_pedpancan\"] = bsm.index.isin(in_both)"
   ]
  },
  {
   "cell_type": "code",
   "execution_count": 54,
   "id": "742799b0-960f-4333-a9a5-ae06f9905366",
   "metadata": {
    "tags": []
   },
   "outputs": [
    {
     "data": {
      "text/html": [
       "<div>\n",
       "<style scoped>\n",
       "    .dataframe tbody tr th:only-of-type {\n",
       "        vertical-align: middle;\n",
       "    }\n",
       "\n",
       "    .dataframe tbody tr th {\n",
       "        vertical-align: top;\n",
       "    }\n",
       "\n",
       "    .dataframe thead th {\n",
       "        text-align: right;\n",
       "    }\n",
       "</style>\n",
       "<table border=\"1\" class=\"dataframe\">\n",
       "  <thead>\n",
       "    <tr style=\"text-align: right;\">\n",
       "      <th>in_pedpancan</th>\n",
       "      <th>False</th>\n",
       "      <th>True</th>\n",
       "    </tr>\n",
       "    <tr>\n",
       "      <th>ecDNA</th>\n",
       "      <th></th>\n",
       "      <th></th>\n",
       "    </tr>\n",
       "  </thead>\n",
       "  <tbody>\n",
       "    <tr>\n",
       "      <th>False</th>\n",
       "      <td>240</td>\n",
       "      <td>145</td>\n",
       "    </tr>\n",
       "    <tr>\n",
       "      <th>True</th>\n",
       "      <td>53</td>\n",
       "      <td>30</td>\n",
       "    </tr>\n",
       "  </tbody>\n",
       "</table>\n",
       "</div>"
      ],
      "text/plain": [
       "in_pedpancan  False  True \n",
       "ecDNA                     \n",
       "False           240    145\n",
       "True             53     30"
      ]
     },
     "execution_count": 54,
     "metadata": {},
     "output_type": "execute_result"
    }
   ],
   "source": [
    "pd.crosstab(bsm.ecDNA > 0, bsm.in_pedpancan)"
   ]
  },
  {
   "cell_type": "code",
   "execution_count": 72,
   "id": "77be82d0-e315-4511-a17e-c8e8aa308238",
   "metadata": {
    "tags": []
   },
   "outputs": [
    {
     "data": {
      "text/plain": [
       "24"
      ]
     },
     "execution_count": 72,
     "metadata": {},
     "output_type": "execute_result"
    }
   ],
   "source": [
    "len(bs[(bs.ecDNA_sequences_detected > 0) & bs.in_unique_patient_set])"
   ]
  },
  {
   "cell_type": "code",
   "execution_count": 73,
   "id": "043c46ae-0cb5-4f06-8a48-ac030f46afc9",
   "metadata": {
    "tags": []
   },
   "outputs": [
    {
     "data": {
      "text/plain": [
       "176"
      ]
     },
     "execution_count": 73,
     "metadata": {},
     "output_type": "execute_result"
    }
   ],
   "source": [
    "len(bs[bs.in_unique_patient_set])"
   ]
  },
  {
   "cell_type": "code",
   "execution_count": 77,
   "id": "eb70da9b-221e-4cf7-8cd2-b7b0a6f51c59",
   "metadata": {
    "tags": []
   },
   "outputs": [
    {
     "data": {
      "text/plain": [
       "0.13636363636363635"
      ]
     },
     "execution_count": 77,
     "metadata": {},
     "output_type": "execute_result"
    }
   ],
   "source": [
    "24/(176)"
   ]
  },
  {
   "cell_type": "code",
   "execution_count": 78,
   "id": "699954be-e012-4ef8-8e6f-51190dd2d0b9",
   "metadata": {
    "tags": []
   },
   "outputs": [
    {
     "data": {
      "text/plain": [
       "0.17045454545454544"
      ]
     },
     "execution_count": 78,
     "metadata": {},
     "output_type": "execute_result"
    }
   ],
   "source": [
    "30/(176)"
   ]
  },
  {
   "cell_type": "code",
   "execution_count": 79,
   "id": "90abd65b-497c-4f50-85c6-1d6508ae88f9",
   "metadata": {
    "tags": []
   },
   "outputs": [
    {
     "data": {
      "text/plain": [
       "175"
      ]
     },
     "execution_count": 79,
     "metadata": {},
     "output_type": "execute_result"
    }
   ],
   "source": [
    "len(in_both)"
   ]
  },
  {
   "cell_type": "code",
   "execution_count": null,
   "id": "4561c05b-ca6b-42a9-8be9-347573fbfb27",
   "metadata": {
    "tags": []
   },
   "outputs": [],
   "source": []
  },
  {
   "cell_type": "code",
   "execution_count": null,
   "id": "91dc6a92-7353-4028-bda0-e7f524da289b",
   "metadata": {},
   "outputs": [],
   "source": []
  }
 ],
 "metadata": {
  "kernelspec": {
   "display_name": "py3",
   "language": "python",
   "name": "py3"
  },
  "language_info": {
   "codemirror_mode": {
    "name": "ipython",
    "version": 3
   },
   "file_extension": ".py",
   "mimetype": "text/x-python",
   "name": "python",
   "nbconvert_exporter": "python",
   "pygments_lexer": "ipython3",
   "version": "3.11.3"
  }
 },
 "nbformat": 4,
 "nbformat_minor": 5
}
