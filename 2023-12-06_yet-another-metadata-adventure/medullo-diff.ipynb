{
 "cells": [
  {
   "cell_type": "markdown",
   "id": "c6e7d2ab-4b95-4b59-b060-d99f69aa85e3",
   "metadata": {},
   "source": [
    "# medullo-diff\n",
    "Medulloblastomas were estimated at 18% in previous N.G. paper; however, pedpancan is at 16%.\n",
    "- Is this statistically different?\n",
    "- Why the difference?\n",
    "    - ICGC are the different samples\n",
    "    - Could be hg19 or could be adult\n",
    "    \n",
    "## Conclusion\n",
    "The difference is driven by 7 tumors previously classified as ecDNA+ MB and now classified as ecDNA-. In 6 of 7 cases, a low-copy cyclic amplicon was previously detected which may alternately represent ecDNA or HSR. Due to differences in our updated methods, these low-copy amplifications are not detected in this analysis. One tumor was previously classified as ecDNA+ based on weak evidence of a cyclic amplification, which probably represents a false positive and is corrected herein."
   ]
  },
  {
   "cell_type": "code",
   "execution_count": null,
   "id": "ee1fa1b2-25c1-4160-ab65-9e877d9de19b",
   "metadata": {
    "tags": []
   },
   "outputs": [],
   "source": [
    "import pandas as pd\n",
    "import sys\n",
    "sys.path.append('../src')\n",
    "from data_imports import *\n",
    "import scipy.stats\n"
   ]
  },
  {
   "cell_type": "code",
   "execution_count": null,
   "id": "62e06e5c-9d8b-41cf-ba08-230d27711b42",
   "metadata": {
    "tags": []
   },
   "outputs": [],
   "source": [
    "MEDULLO_TABLES_PATH=\"../data/local/41588_2023_1551_MOESM4_ESM.xlsx\"\n",
    "def import_medullo_biosamples():\n",
    "    return pd.read_excel(MEDULLO_TABLES_PATH,sheet_name=\"2 WGS Sample Cohort\",index_col=0)\n",
    "def import_medullo_patients():\n",
    "    return pd.read_excel(MEDULLO_TABLES_PATH,sheet_name=\"1 WGS Patient Cohort\",index_col=0)"
   ]
  },
  {
   "cell_type": "code",
   "execution_count": null,
   "id": "dc227719-bbfd-4109-8859-8db4a9f922ad",
   "metadata": {
    "tags": []
   },
   "outputs": [],
   "source": [
    "bs = import_biosamples()\n",
    "bsm = import_medullo_biosamples()\n",
    "bs = bs[bs.cancer_type == \"MBL\"]\n",
    "bsm = bsm[~bsm.index.isin(bs[~bs.in_unique_patient_set].index)]\n",
    "bs = bs[bs.in_unique_patient_set]"
   ]
  },
  {
   "cell_type": "code",
   "execution_count": null,
   "id": "9dacf970-5d7d-4e3b-bae2-c65a21ae51b6",
   "metadata": {
    "tags": []
   },
   "outputs": [],
   "source": [
    "medullo_only = set(bsm.index)-set(bs.index)\n",
    "in_both = set(bsm.index)&set(bs.index)\n",
    "pedpancan_only = set(bs.index)-set(bsm.index)"
   ]
  },
  {
   "cell_type": "code",
   "execution_count": null,
   "id": "f739dbcf-b948-491e-9061-d09e712da09c",
   "metadata": {
    "tags": []
   },
   "outputs": [],
   "source": [
    "print(f\"samples in pedpancan not in medullo: {len(pedpancan_only)}\")\n",
    "# Not really sure why BS_M16CDR44 is not included in the medullo dataset but no consequence.\n",
    "print(f\"samples in medullo not in pedpancan: {len(medullo_only)}\")"
   ]
  },
  {
   "cell_type": "code",
   "execution_count": null,
   "id": "90a81c41-4a21-4f4a-872e-588f5af70e27",
   "metadata": {
    "tags": []
   },
   "outputs": [],
   "source": [
    "# Any different classifications?\n",
    "bsm_bs = bsm[bsm.index.isin(in_both)].copy()\n",
    "bsm_bs[\"medullo_ecDNA\"] = bsm_bs.ecDNA > 0\n",
    "bsm_bs[\"pedpancan_ecDNA\"] = bs.loc[bsm_bs.index,\"ecDNA_sequences_detected\"] > 0\n",
    "bsm_bs.drop([\"ecDNA\",\"Aliases\"],axis=1,inplace=True)\n",
    "print(pd.crosstab(bsm_bs.medullo_ecDNA, bsm_bs.pedpancan_ecDNA)) # oh dear\n",
    "bsm_bs[bsm_bs.medullo_ecDNA != bsm_bs.pedpancan_ecDNA]"
   ]
  },
  {
   "cell_type": "code",
   "execution_count": null,
   "id": "37adcc9b-b11e-4e61-b066-1d2172f878e3",
   "metadata": {},
   "outputs": [],
   "source": [
    "# Is the prevalence of ecDNA significantly different between the two cohorts?\n",
    "def get_all_biosamples(bs,bsm,in_both):\n",
    "    bs['ecDNA']=bs.amplicon_class=='ecDNA'\n",
    "    bs['cohort']=bs.index.map(lambda x: 'both' if x in in_both else 'pedpancan')\n",
    "    bs=bs[['ecDNA','cohort']]\n",
    "    bsm['ecDNA']=bsm.ecDNA > 0\n",
    "    bsm['cohort']='medullo'\n",
    "    bsm=bsm[~bsm.index.isin(in_both)]\n",
    "    bsm=bsm[['ecDNA','cohort']]\n",
    "    return pd.concat([bs,bsm])\n",
    "bs_all = get_all_biosamples(bs,bsm,in_both)\n",
    "\n",
    "contingency_tbl = pd.crosstab(bs_all.ecDNA > 0, bs_all.cohort)\n",
    "print(scipy.stats.chi2_contingency(contingency_tbl))\n",
    "print(contingency_tbl)"
   ]
  },
  {
   "cell_type": "code",
   "execution_count": null,
   "id": "56bde7d0-2c06-4d5a-bbda-5fd74f7ed021",
   "metadata": {},
   "outputs": [],
   "source": [
    "55/(55+144+143)"
   ]
  },
  {
   "cell_type": "code",
   "execution_count": null,
   "id": "5edf223c-290b-4d3e-9f2a-6a9f212b88d0",
   "metadata": {},
   "outputs": [],
   "source": []
  }
 ],
 "metadata": {
  "kernelspec": {
   "display_name": "py3",
   "language": "python",
   "name": "py3"
  },
  "language_info": {
   "codemirror_mode": {
    "name": "ipython",
    "version": 3
   },
   "file_extension": ".py",
   "mimetype": "text/x-python",
   "name": "python",
   "nbconvert_exporter": "python",
   "pygments_lexer": "ipython3",
   "version": "3.12.5"
  }
 },
 "nbformat": 4,
 "nbformat_minor": 5
}
