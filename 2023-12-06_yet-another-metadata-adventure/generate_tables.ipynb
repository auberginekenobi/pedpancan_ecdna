{
 "cells": [
  {
   "cell_type": "code",
   "execution_count": null,
   "id": "e66a9e36-7521-4c88-89c9-1f022837c181",
   "metadata": {
    "tags": []
   },
   "outputs": [],
   "source": [
    "import pandas as pd\n",
    "import numpy as np\n",
    "import matplotlib.pyplot as plt\n",
    "import seaborn as sns\n",
    "import sys\n",
    "sys.path.append('../src')\n",
    "from data_imports import *\n",
    "pd.set_option('display.max_rows', None)\n",
    "pd.set_option('display.max_columns', None)\n"
   ]
  },
  {
   "cell_type": "markdown",
   "id": "b7ffcdfb-61c2-46a5-b4f8-14dceedf16be",
   "metadata": {},
   "source": [
    "# Generate and save supplementary tables"
   ]
  },
  {
   "cell_type": "code",
   "execution_count": null,
   "id": "b324f3f1-47a8-4610-9ef2-8f60bfad0d22",
   "metadata": {
    "scrolled": true,
    "tags": []
   },
   "outputs": [],
   "source": [
    "biosamples = generate_biosample_table()\n",
    "print(f\"Number of unique biosamples:{len(biosamples)}\")\n",
    "print(f\"Number of unique tumors: {biosamples.in_unique_tumor_set.sum()}\")\n",
    "print(f\"Number of unique patients:{biosamples.in_unique_patient_set.sum()}\")\n",
    "biosamples.head()"
   ]
  },
  {
   "cell_type": "code",
   "execution_count": null,
   "id": "5551d843-8f87-4f54-a931-8f064a3930ce",
   "metadata": {
    "scrolled": true,
    "tags": []
   },
   "outputs": [],
   "source": [
    "patients = generate_patient_table(biosamples)\n",
    "patients.head()"
   ]
  },
  {
   "cell_type": "code",
   "execution_count": null,
   "id": "409a2f34-c459-419a-a3d5-7a3c34f5e1e9",
   "metadata": {
    "scrolled": true
   },
   "outputs": [],
   "source": [
    "amplicons = generate_amplicon_table(biosamples)\n",
    "amplicons.head()"
   ]
  },
  {
   "cell_type": "code",
   "execution_count": null,
   "id": "33772241-a7b2-426e-b1cc-d615970fb36e",
   "metadata": {
    "scrolled": true
   },
   "outputs": [],
   "source": [
    "genes = generate_gene_table(biosamples)"
   ]
  },
  {
   "cell_type": "code",
   "execution_count": null,
   "id": "301a3fa0-87e1-40b8-9572-c7ebf4c4f96c",
   "metadata": {
    "tags": []
   },
   "outputs": [],
   "source": [
    "# Generate Supplementary tables\n",
    "biosamples.to_csv(\"out/Supplementary Table 2.3.tsv\",sep='\\t')\n",
    "patients.to_csv(\"out/Supplementary Table 1.3.tsv\",sep='\\t')\n",
    "amplicons.to_csv(\"out/Supplementary Table 4.3.tsv\",sep='\\t',index=False)\n",
    "genes.to_csv(\"out/Supplementary Table 5.3.tsv\",sep='\\t',index=False)"
   ]
  },
  {
   "cell_type": "code",
   "execution_count": null,
   "id": "92963ca6-d2f9-4028-a33b-1969a08501aa",
   "metadata": {},
   "outputs": [],
   "source": []
  }
 ],
 "metadata": {
  "kernelspec": {
   "display_name": "py3",
   "language": "python",
   "name": "py3"
  },
  "language_info": {
   "codemirror_mode": {
    "name": "ipython",
    "version": 3
   },
   "file_extension": ".py",
   "mimetype": "text/x-python",
   "name": "python",
   "nbconvert_exporter": "python",
   "pygments_lexer": "ipython3",
   "version": "3.12.5"
  }
 },
 "nbformat": 4,
 "nbformat_minor": 5
}
