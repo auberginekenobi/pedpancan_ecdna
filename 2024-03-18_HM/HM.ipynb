{
 "cells": [
  {
   "cell_type": "code",
   "execution_count": null,
   "id": "8b2a18d6-8dcb-44dc-88a3-bee076f02213",
   "metadata": {
    "tags": []
   },
   "outputs": [],
   "source": [
    "import pandas as pd\n",
    "pd.set_option('display.max_rows', None)\n",
    "import warnings\n",
    "\n",
    "import sys\n",
    "sys.path.append('../src/')\n",
    "from data_imports import *"
   ]
  },
  {
   "cell_type": "code",
   "execution_count": null,
   "id": "1815524f-b1e9-4c87-8def-6a0e7bbb5b8d",
   "metadata": {
    "scrolled": true,
    "tags": []
   },
   "outputs": [],
   "source": [
    "with warnings.catch_warnings(action=\"ignore\"):\n",
    "    biosamples = generate_biosample_table(include_HM=True)\n",
    "biosamples=biosamples[(biosamples.cancer_type == 'HM') & biosamples.in_unique_tumor_set]\n",
    "biosamples.head()"
   ]
  },
  {
   "cell_type": "code",
   "execution_count": null,
   "id": "60df5fc8-0a64-4a1e-8094-c7ff10e2654b",
   "metadata": {
    "tags": []
   },
   "outputs": [],
   "source": [
    "len(biosamples)"
   ]
  },
  {
   "cell_type": "code",
   "execution_count": null,
   "id": "26690146-ea9c-40be-bb12-886b067eaced",
   "metadata": {},
   "outputs": [],
   "source": [
    "biosamples.groupby('amplicon_class').count()"
   ]
  },
  {
   "cell_type": "code",
   "execution_count": null,
   "id": "b7c2f51d-1c64-4cae-bb7c-ce228750d72f",
   "metadata": {
    "tags": []
   },
   "outputs": [],
   "source": [
    "biosamples.to_csv('out/HM_biosamples.tsv',sep='\\t')"
   ]
  }
 ],
 "metadata": {
  "kernelspec": {
   "display_name": "py3",
   "language": "python",
   "name": "py3"
  },
  "language_info": {
   "codemirror_mode": {
    "name": "ipython",
    "version": 3
   },
   "file_extension": ".py",
   "mimetype": "text/x-python",
   "name": "python",
   "nbconvert_exporter": "python",
   "pygments_lexer": "ipython3",
   "version": "3.12.5"
  }
 },
 "nbformat": 4,
 "nbformat_minor": 5
}
