{
 "cells": [
  {
   "cell_type": "code",
   "execution_count": 2,
   "id": "39a39a76",
   "metadata": {
    "ExecuteTime": {
     "end_time": "2022-04-16T00:40:16.294314Z",
     "start_time": "2022-04-16T00:40:16.266604Z"
    }
   },
   "outputs": [],
   "source": [
    "import pandas as pd\n",
    "import numpy as np"
   ]
  },
  {
   "cell_type": "code",
   "execution_count": 3,
   "id": "7729f375",
   "metadata": {
    "ExecuteTime": {
     "end_time": "2022-04-16T00:40:26.138984Z",
     "start_time": "2022-04-16T00:40:16.988059Z"
    }
   },
   "outputs": [
    {
     "name": "stderr",
     "output_type": "stream",
     "text": [
      "/home/ochapman/miniconda3/envs/py3/lib/python3.10/site-packages/openpyxl/styles/stylesheet.py:226: UserWarning: Workbook contains no default style, apply openpyxl's default\n",
      "  warn(\"Workbook contains no default style, apply openpyxl's default\")\n",
      "/home/ochapman/miniconda3/envs/py3/lib/python3.10/site-packages/openpyxl/styles/stylesheet.py:226: UserWarning: Workbook contains no default style, apply openpyxl's default\n",
      "  warn(\"Workbook contains no default style, apply openpyxl's default\")\n"
     ]
    }
   ],
   "source": [
    "def read_biosample_data(file='data/biospecimenDataFileRepo_20220228.xlsx'):\n",
    "    df = pd.read_excel(file)\n",
    "    return df\n",
    "def read_patient_data(file=\"data/clinicalDataFileRepo_20220228.xlsx\"):\n",
    "    return pd.read_excel(file)\n",
    "def read_file_data(file=\"data/file-table.tsv\"):\n",
    "    return pd.read_csv(file,sep='\\t')\n",
    "biosamples = read_biosample_data()\n",
    "patients = read_patient_data()\n",
    "files = read_file_data()"
   ]
  },
  {
   "cell_type": "code",
   "execution_count": 4,
   "id": "2f791ca5",
   "metadata": {
    "ExecuteTime": {
     "end_time": "2022-04-16T00:40:26.152463Z",
     "start_time": "2022-04-16T00:40:26.142365Z"
    }
   },
   "outputs": [
    {
     "name": "stdout",
     "output_type": "stream",
     "text": [
      "Tumor WGS files: 2745\n"
     ]
    }
   ],
   "source": [
    "# How many tumor WGS files do we have?\n",
    "malignant_keywords=['Tumor','tumor','metastasis','Primary Blood Derived Cancer - Bone Marrow',\n",
    "                    'Blood Derived Cancer - Bone Marrow, Post-treatment','Primary Blood Derived Cancer - Peripheral Blood',\n",
    "                   'relapse','Blood Derived Cancer - Peripheral Blood, Post-treatment','metastasis or relapse']\n",
    "foi = files[files[\"Tissue Type (Source Text)\"].isin(malignant_keywords)]\n",
    "print(\"Tumor WGS files:\",len(foi))"
   ]
  },
  {
   "cell_type": "code",
   "execution_count": 5,
   "id": "205a89dd",
   "metadata": {
    "ExecuteTime": {
     "end_time": "2022-04-16T00:40:26.168640Z",
     "start_time": "2022-04-16T00:40:26.154356Z"
    }
   },
   "outputs": [
    {
     "name": "stdout",
     "output_type": "stream",
     "text": [
      "Tumor patients for which WGS exists: 1557\n"
     ]
    }
   ],
   "source": [
    "# How many patients does this correspond to?\n",
    "boi = foi[\"Participants ID\"].unique()\n",
    "print(\"Tumor patients for which WGS exists:\",len(boi))"
   ]
  },
  {
   "cell_type": "code",
   "execution_count": 6,
   "id": "3fb5d67a",
   "metadata": {
    "ExecuteTime": {
     "end_time": "2022-04-16T00:40:26.178422Z",
     "start_time": "2022-04-16T00:40:26.171889Z"
    }
   },
   "outputs": [
    {
     "name": "stdout",
     "output_type": "stream",
     "text": [
      "Tumor biospecimens for which WGS exists: 1785\n"
     ]
    }
   ],
   "source": [
    "# How many biosamples does this correspond to?\n",
    "boi = foi[\"Biospecimen ID\"].unique()\n",
    "print(\"Tumor biospecimens for which WGS exists:\",len(boi))"
   ]
  },
  {
   "cell_type": "code",
   "execution_count": 7,
   "id": "d8a1c659",
   "metadata": {
    "ExecuteTime": {
     "end_time": "2022-04-16T00:40:26.188760Z",
     "start_time": "2022-04-16T00:40:26.180556Z"
    }
   },
   "outputs": [
    {
     "name": "stdout",
     "output_type": "stream",
     "text": [
      "['KF-NBL' 'PBTA-CBTN' 'KF-CHDALL' 'PBTA-PNOC' 'KF-OS' 'TARGET-AML'\n",
      " 'TARGET-NB' 'KF-FALL']\n"
     ]
    }
   ],
   "source": [
    "# Which study codes do we need access to?\n",
    "soi = foi[\"Study Code\"].unique()\n",
    "#soi = soi[~((soi==\"PBTA-CBTN\") | (soi==\"PBTA-PNOC\"))]\n",
    "print(soi)"
   ]
  },
  {
   "cell_type": "code",
   "execution_count": 12,
   "id": "79f1620d",
   "metadata": {
    "ExecuteTime": {
     "end_time": "2022-04-16T00:43:40.032690Z",
     "start_time": "2022-04-16T00:43:40.016940Z"
    }
   },
   "outputs": [
    {
     "name": "stdout",
     "output_type": "stream",
     "text": [
      "KF-NBL 338\n",
      "PBTA-CBTN 968\n",
      "KF-CHDALL 252\n",
      "PBTA-PNOC 66\n",
      "KF-OS 93\n",
      "TARGET-AML 55\n",
      "TARGET-NB 6\n",
      "KF-FALL 7\n"
     ]
    }
   ],
   "source": [
    "# How many biosamples per study?\n",
    "for s in soi:\n",
    "    print(s,len(foi[foi[\"Study Code\"] == s][\"Biospecimen ID\"].unique()))"
   ]
  },
  {
   "cell_type": "code",
   "execution_count": 9,
   "id": "923add1f",
   "metadata": {
    "ExecuteTime": {
     "end_time": "2022-03-09T17:44:10.177916Z",
     "start_time": "2022-03-09T17:44:10.145164Z"
    }
   },
   "outputs": [
    {
     "name": "stdout",
     "output_type": "stream",
     "text": [
      "774\n",
      "758\n",
      "487\n",
      "486\n"
     ]
    }
   ],
   "source": [
    "def get_additional_files():\n",
    "    patients = foi[(foi[\"Study Code\"].isin(soi))][\"Participants ID\"].unique()\n",
    "    tumor_files = foi[(foi[\"Participants ID\"].isin(patients))].sort_values([\"Participants ID\",\"Biospecimen ID\",\"File Format\"])\n",
    "    print(len(tumor_files))\n",
    "    tumor_files = tumor_files.drop_duplicates(subset=[\"Participants ID\",\"Biospecimen ID\",\"File Format\"],keep='last')\n",
    "    print(len(tumor_files))\n",
    "    \n",
    "    nonmalignant_keywords=['Normal','normal','Fibroblasts from Bone Marrow Normal','Non-Tumor']\n",
    "    normal_files = files[(files[\"Tissue Type (Source Text)\"].isin(nonmalignant_keywords)) &\n",
    "                        (files[\"Participants ID\"].isin(tumor_files[\"Participants ID\"]))]\n",
    "    normal_files = normal_files.sort_values([\"Participants ID\",\"Biospecimen ID\",\"File Format\"])\n",
    "    print(len(normal_files))\n",
    "    normal_files = normal_files.drop_duplicates([\"Participants ID\",\"Biospecimen ID\",\"File Format\"],keep='last')\n",
    "    print(len(normal_files))\n",
    "    return tumor_files,normal_files\n",
    "tumor_files, normal_files = get_additional_files()\n"
   ]
  },
  {
   "cell_type": "code",
   "execution_count": 12,
   "id": "0f40cbb3",
   "metadata": {
    "ExecuteTime": {
     "end_time": "2022-03-09T17:44:31.909208Z",
     "start_time": "2022-03-09T17:44:31.905391Z"
    }
   },
   "outputs": [],
   "source": [
    "# tumor_files.to_csv('tumor_files.tsv',sep='\\t',index=False)\n",
    "# normal_files.to_csv('normal_files.tsv',sep='\\t',index=False)\n",
    "# Note: these are aligned to different references. Should probably break it up by project."
   ]
  },
  {
   "cell_type": "code",
   "execution_count": 13,
   "id": "c0868275",
   "metadata": {
    "ExecuteTime": {
     "end_time": "2022-03-09T17:44:32.428959Z",
     "start_time": "2022-03-09T17:44:32.401214Z"
    }
   },
   "outputs": [
    {
     "data": {
      "text/html": [
       "<div>\n",
       "<style scoped>\n",
       "    .dataframe tbody tr th:only-of-type {\n",
       "        vertical-align: middle;\n",
       "    }\n",
       "\n",
       "    .dataframe tbody tr th {\n",
       "        vertical-align: top;\n",
       "    }\n",
       "\n",
       "    .dataframe thead th {\n",
       "        text-align: right;\n",
       "    }\n",
       "</style>\n",
       "<table border=\"1\" class=\"dataframe\">\n",
       "  <thead>\n",
       "    <tr style=\"text-align: right;\">\n",
       "      <th></th>\n",
       "      <th>File ID</th>\n",
       "      <th>Participants ID</th>\n",
       "      <th>Study Code</th>\n",
       "      <th>File Format</th>\n",
       "      <th>File Name</th>\n",
       "      <th>Sample External ID</th>\n",
       "      <th>Biospecimen ID</th>\n",
       "      <th>Tissue Type (Source Text)</th>\n",
       "      <th>Diagnosis (Source Text)</th>\n",
       "    </tr>\n",
       "  </thead>\n",
       "  <tbody>\n",
       "    <tr>\n",
       "      <th>9529</th>\n",
       "      <td>GF_HVS1T3G0</td>\n",
       "      <td>PT_0001K4K1</td>\n",
       "      <td>KF-CHDALL</td>\n",
       "      <td>cram</td>\n",
       "      <td>s3://kf-study-us-east-1-prd-sd-z6mwd3h0/source...</td>\n",
       "      <td>P6159_T</td>\n",
       "      <td>BS_Z93M9TXC</td>\n",
       "      <td>Tumor</td>\n",
       "      <td>Down syndrome, Acute lymphoblastic leukemia</td>\n",
       "    </tr>\n",
       "    <tr>\n",
       "      <th>11358</th>\n",
       "      <td>GF_NEN4V1A1</td>\n",
       "      <td>PT_00FB6H4C</td>\n",
       "      <td>KF-CHDALL</td>\n",
       "      <td>cram</td>\n",
       "      <td>s3://kf-study-us-east-1-prd-sd-z6mwd3h0/source...</td>\n",
       "      <td>P10597_T</td>\n",
       "      <td>BS_AGA1ZH2Z</td>\n",
       "      <td>Tumor</td>\n",
       "      <td>Acute lymphoblastic leukemia, Down syndrome</td>\n",
       "    </tr>\n",
       "    <tr>\n",
       "      <th>13194</th>\n",
       "      <td>GF_RYBSK13X</td>\n",
       "      <td>PT_00QYKRAX</td>\n",
       "      <td>KF-NBL</td>\n",
       "      <td>bam</td>\n",
       "      <td>SL253434.bam</td>\n",
       "      <td>GMKF-30-PASTHB03-01A-01D</td>\n",
       "      <td>BS_CG9KDK95</td>\n",
       "      <td>Tumor</td>\n",
       "      <td>Neuroblastoma, Neuroblastoma, Neuroblastoma, N...</td>\n",
       "    </tr>\n",
       "    <tr>\n",
       "      <th>1727</th>\n",
       "      <td>GF_389HPBZB</td>\n",
       "      <td>PT_00Y8C0XA</td>\n",
       "      <td>KF-NBL</td>\n",
       "      <td>bam</td>\n",
       "      <td>SL262747.bam</td>\n",
       "      <td>GMKF-30-PAUDEK03-01A-01D</td>\n",
       "      <td>BS_4ZE1R1FW</td>\n",
       "      <td>Tumor</td>\n",
       "      <td>Neuroblastoma, Neuroblastoma, Neuroblastoma, N...</td>\n",
       "    </tr>\n",
       "    <tr>\n",
       "      <th>5430</th>\n",
       "      <td>GF_A4AR6CHK</td>\n",
       "      <td>PT_027AV1N1</td>\n",
       "      <td>KF-CHDALL</td>\n",
       "      <td>cram</td>\n",
       "      <td>s3://kf-study-us-east-1-prd-sd-z6mwd3h0/source...</td>\n",
       "      <td>P11313_T</td>\n",
       "      <td>BS_PFKHGVMR</td>\n",
       "      <td>Tumor</td>\n",
       "      <td>Down syndrome, Acute lymphoblastic leukemia</td>\n",
       "    </tr>\n",
       "    <tr>\n",
       "      <th>...</th>\n",
       "      <td>...</td>\n",
       "      <td>...</td>\n",
       "      <td>...</td>\n",
       "      <td>...</td>\n",
       "      <td>...</td>\n",
       "      <td>...</td>\n",
       "      <td>...</td>\n",
       "      <td>...</td>\n",
       "      <td>...</td>\n",
       "    </tr>\n",
       "    <tr>\n",
       "      <th>12293</th>\n",
       "      <td>GF_Q6GYH4J1</td>\n",
       "      <td>PT_ZSZRCE81</td>\n",
       "      <td>KF-CHDALL</td>\n",
       "      <td>cram</td>\n",
       "      <td>s3://kf-study-us-east-1-prd-sd-z6mwd3h0/source...</td>\n",
       "      <td>P10825_T</td>\n",
       "      <td>BS_T40GZNCJ</td>\n",
       "      <td>Tumor</td>\n",
       "      <td>Acute lymphoblastic leukemia, Down syndrome</td>\n",
       "    </tr>\n",
       "    <tr>\n",
       "      <th>4470</th>\n",
       "      <td>GF_8BNQE78X</td>\n",
       "      <td>PT_ZT2NW6WA</td>\n",
       "      <td>KF-NBL</td>\n",
       "      <td>bam</td>\n",
       "      <td>SL264173.bam</td>\n",
       "      <td>GMKF-30-PAUCNL03-01A-01D</td>\n",
       "      <td>BS_KTHF096D</td>\n",
       "      <td>Tumor</td>\n",
       "      <td>Neuroblastoma, Neuroblastoma, Neuroblastoma, N...</td>\n",
       "    </tr>\n",
       "    <tr>\n",
       "      <th>8145</th>\n",
       "      <td>GF_F6QK3EQK</td>\n",
       "      <td>PT_ZVXBKPC5</td>\n",
       "      <td>KF-CHDALL</td>\n",
       "      <td>cram</td>\n",
       "      <td>s3://kf-study-us-east-1-prd-sd-z6mwd3h0/source...</td>\n",
       "      <td>P11354_T</td>\n",
       "      <td>BS_EWH47999</td>\n",
       "      <td>Tumor</td>\n",
       "      <td>Acute lymphoblastic leukemia, Down syndrome</td>\n",
       "    </tr>\n",
       "    <tr>\n",
       "      <th>15278</th>\n",
       "      <td>GF_WVB1F2Z3</td>\n",
       "      <td>PT_ZW22K0YF</td>\n",
       "      <td>KF-NBL</td>\n",
       "      <td>bam</td>\n",
       "      <td>SL262722.bam</td>\n",
       "      <td>GMKF-30-PASZTC03-01A-01D</td>\n",
       "      <td>BS_DGV11G69</td>\n",
       "      <td>Tumor</td>\n",
       "      <td>Neuroblastoma, Neuroblastoma, Neuroblastoma, N...</td>\n",
       "    </tr>\n",
       "    <tr>\n",
       "      <th>7948</th>\n",
       "      <td>GF_EV9FGF8Q</td>\n",
       "      <td>PT_ZYAS0Q37</td>\n",
       "      <td>KF-CHDALL</td>\n",
       "      <td>cram</td>\n",
       "      <td>s3://kf-study-us-east-1-prd-sd-z6mwd3h0/source...</td>\n",
       "      <td>P11352_T</td>\n",
       "      <td>BS_9PNA21NJ</td>\n",
       "      <td>Tumor</td>\n",
       "      <td>Down syndrome, Acute lymphoblastic leukemia</td>\n",
       "    </tr>\n",
       "  </tbody>\n",
       "</table>\n",
       "<p>758 rows × 9 columns</p>\n",
       "</div>"
      ],
      "text/plain": [
       "           File ID Participants ID Study Code File Format  \\\n",
       "9529   GF_HVS1T3G0     PT_0001K4K1  KF-CHDALL        cram   \n",
       "11358  GF_NEN4V1A1     PT_00FB6H4C  KF-CHDALL        cram   \n",
       "13194  GF_RYBSK13X     PT_00QYKRAX     KF-NBL         bam   \n",
       "1727   GF_389HPBZB     PT_00Y8C0XA     KF-NBL         bam   \n",
       "5430   GF_A4AR6CHK     PT_027AV1N1  KF-CHDALL        cram   \n",
       "...            ...             ...        ...         ...   \n",
       "12293  GF_Q6GYH4J1     PT_ZSZRCE81  KF-CHDALL        cram   \n",
       "4470   GF_8BNQE78X     PT_ZT2NW6WA     KF-NBL         bam   \n",
       "8145   GF_F6QK3EQK     PT_ZVXBKPC5  KF-CHDALL        cram   \n",
       "15278  GF_WVB1F2Z3     PT_ZW22K0YF     KF-NBL         bam   \n",
       "7948   GF_EV9FGF8Q     PT_ZYAS0Q37  KF-CHDALL        cram   \n",
       "\n",
       "                                               File Name  \\\n",
       "9529   s3://kf-study-us-east-1-prd-sd-z6mwd3h0/source...   \n",
       "11358  s3://kf-study-us-east-1-prd-sd-z6mwd3h0/source...   \n",
       "13194                                       SL253434.bam   \n",
       "1727                                        SL262747.bam   \n",
       "5430   s3://kf-study-us-east-1-prd-sd-z6mwd3h0/source...   \n",
       "...                                                  ...   \n",
       "12293  s3://kf-study-us-east-1-prd-sd-z6mwd3h0/source...   \n",
       "4470                                        SL264173.bam   \n",
       "8145   s3://kf-study-us-east-1-prd-sd-z6mwd3h0/source...   \n",
       "15278                                       SL262722.bam   \n",
       "7948   s3://kf-study-us-east-1-prd-sd-z6mwd3h0/source...   \n",
       "\n",
       "             Sample External ID Biospecimen ID Tissue Type (Source Text)  \\\n",
       "9529                    P6159_T    BS_Z93M9TXC                     Tumor   \n",
       "11358                  P10597_T    BS_AGA1ZH2Z                     Tumor   \n",
       "13194  GMKF-30-PASTHB03-01A-01D    BS_CG9KDK95                     Tumor   \n",
       "1727   GMKF-30-PAUDEK03-01A-01D    BS_4ZE1R1FW                     Tumor   \n",
       "5430                   P11313_T    BS_PFKHGVMR                     Tumor   \n",
       "...                         ...            ...                       ...   \n",
       "12293                  P10825_T    BS_T40GZNCJ                     Tumor   \n",
       "4470   GMKF-30-PAUCNL03-01A-01D    BS_KTHF096D                     Tumor   \n",
       "8145                   P11354_T    BS_EWH47999                     Tumor   \n",
       "15278  GMKF-30-PASZTC03-01A-01D    BS_DGV11G69                     Tumor   \n",
       "7948                   P11352_T    BS_9PNA21NJ                     Tumor   \n",
       "\n",
       "                                 Diagnosis (Source Text)  \n",
       "9529         Down syndrome, Acute lymphoblastic leukemia  \n",
       "11358        Acute lymphoblastic leukemia, Down syndrome  \n",
       "13194  Neuroblastoma, Neuroblastoma, Neuroblastoma, N...  \n",
       "1727   Neuroblastoma, Neuroblastoma, Neuroblastoma, N...  \n",
       "5430         Down syndrome, Acute lymphoblastic leukemia  \n",
       "...                                                  ...  \n",
       "12293        Acute lymphoblastic leukemia, Down syndrome  \n",
       "4470   Neuroblastoma, Neuroblastoma, Neuroblastoma, N...  \n",
       "8145         Acute lymphoblastic leukemia, Down syndrome  \n",
       "15278  Neuroblastoma, Neuroblastoma, Neuroblastoma, N...  \n",
       "7948         Down syndrome, Acute lymphoblastic leukemia  \n",
       "\n",
       "[758 rows x 9 columns]"
      ]
     },
     "execution_count": 13,
     "metadata": {},
     "output_type": "execute_result"
    }
   ],
   "source": [
    "tumor_files"
   ]
  },
  {
   "cell_type": "code",
   "execution_count": 1,
   "id": "a00a231b",
   "metadata": {
    "ExecuteTime": {
     "end_time": "2022-03-09T17:43:52.478360Z",
     "start_time": "2022-03-09T17:43:52.469934Z"
    }
   },
   "outputs": [],
   "source": [
    "def prettyprint_files(df):\n",
    "    string = ', '.join(df[\"File ID\"])\n",
    "    return string"
   ]
  },
  {
   "cell_type": "code",
   "execution_count": 14,
   "id": "62518d3a",
   "metadata": {
    "ExecuteTime": {
     "end_time": "2022-03-09T17:45:25.128115Z",
     "start_time": "2022-03-09T17:45:25.121519Z"
    }
   },
   "outputs": [
    {
     "data": {
      "text/plain": [
       "'GF_HVS1T3G0, GF_NEN4V1A1, GF_RYBSK13X, GF_389HPBZB, GF_A4AR6CHK, GF_C2ARZ67J, GF_24T6V28F, GF_5NE9XD2V, GF_S9MSCWSE, GF_HH9C5DYX, GF_FPST0WPE, GF_P8X607RQ, GF_DJ7404AM, GF_WAXP3WTE, GF_G6NN88FQ, GF_GWWHESX1, GF_52P1DDMG, GF_CG088HKD, GF_CEBS4FD1, GF_FB4XB50G, GF_PRTCVAEM, GF_X9G3F9GG, GF_CPYM5XYG, GF_EQWAVWVK, GF_4EJW664M, GF_ABVK4VQA, GF_9Y7A2Z43, GF_NSMCSRF8, GF_10XKEP2A, GF_W93F5HNS, GF_T6TVKCHR, GF_4BKKS2J9, GF_F7GSSZW4, GF_5EK27W5Z, GF_AV896TT6, GF_PHMEJEPK, GF_0HCRMKEA, GF_VKZW08ZB, GF_EEM7D4TA, GF_17H3AH3Z, GF_W1MWQ5FP, GF_47C1H4EB, GF_PT3XJAZZ, GF_8CY002Y0, GF_R5W35HEP, GF_YB33WZWN, GF_THRP1AFG, GF_YZEB59ES, GF_5P2P45Z7, GF_32NXA0X2, GF_MFAWYTCS, GF_86K1YE5P, GF_EKHXB01D, GF_13WSRAXQ, GF_20G3TV17, GF_M11A9X01, GF_JDD0PNHA, GF_MKEJ5ZWF, GF_EZ4KE4CR, GF_VVXJWV9M, GF_4PN971E7, GF_92Z3B85P, GF_54DJB75E, GF_0WVQ0YCC, GF_69D6RTTE, GF_ANCH2W6G, GF_K0Y6BXQQ, GF_HBBX1PVA, GF_MK4AH78C, GF_P5MN7A2Y, GF_5Q595TEQ, GF_27T5YZEC, GF_EQXVBCZP, GF_TFMKZT5M, GF_Q891KN9W, GF_MEWQNPEZ, GF_YFPD6PCQ, GF_P962D6KS, GF_X0K5BZZT, GF_N1DKVPXE, GF_XCQGQ43Z, GF_BHBHY75X, GF_M13W3YDS, GF_KGVS2914, GF_PWEG444R, GF_TJ3Z2GFE, GF_DBNGMV95, GF_33XP20S4, GF_585C6417, GF_SZY8EDFQ, GF_S4BMT46M, GF_1P9EAK8H, GF_8NAKM10V, GF_NSN89Z1Y, GF_VRE7PY7D, GF_YKK3JA1F, GF_CFAHHDYM, GF_8EYJXKPB, GF_AYE3MAZR, GF_H4PWERNK, GF_37C3S635, GF_GN7WQ1RS, GF_4DZ6X3C3, GF_5BPX0E3S, GF_X5TEXH3V, GF_F68SPZBG, GF_Y0ETEJ66, GF_59AJXWVX, GF_HJ7PHJPT, GF_HRX89CDK, GF_N8EZ7SQW, GF_YVYBN6JJ, GF_N0SRWDN7, GF_TQDRGVBX, GF_DZ8N93WM, GF_9MV2N20Z, GF_7FYPGWJ9, GF_TT9VCHG3, GF_CC3V8DP4, GF_Y2J06VKV, GF_5523CMW7, GF_SFCWT69T, GF_B47GE49S, GF_QSD93CE9, GF_VHW0JFW5, GF_RCVDFDX8, GF_7857TPX9, GF_X1423951, GF_3TNNKEHE, GF_5RZB97NV, GF_D0B0WSDT, GF_5FYDRMBM, GF_7ZZQE147, GF_HF9B39XS, GF_8MZDGAD5, GF_38A33A2Y, GF_BKXJVPEK, GF_PRR848E0, GF_YJZD3VVC, GF_9EE9N37D, GF_N8PKRGHZ, GF_ZS1VW2WP, GF_23GYN0SE, GF_QXARTAFB, GF_2F5MKG96, GF_Q247023C, GF_CP6XZBRJ, GF_0EC1HW1W, GF_C7Z75SPB, GF_BPD37NKZ, GF_HV4K0SPC, GF_6WA96GR7, GF_SRP6HR06, GF_J0MM1Q8Y, GF_07AGBZR6, GF_7JQ8XET8, GF_Z23QHQ69, GF_4EZ1AK25, GF_AZEN07TR, GF_VQZC16TM, GF_Z5VNZT6A, GF_E0ZHNG5E, GF_RBCAX03X, GF_1C8AVVWC, GF_V2PGFNRE, GF_1ZCZ6VGM, GF_NK7PARB1, GF_KRJDY3MR, GF_X458MSCG, GF_3AEJVGRA, GF_P5HJ4HX5, GF_WE2FY5GS, GF_7PWP22A7, GF_K6D5KWXN, GF_1VSN1XWP, GF_0P5BANFN, GF_GD20NVTA, GF_0FKDXYVZ, GF_8YY3N4XZ, GF_FY3VFEPM, GF_PZFY9Z3R, GF_5SSRTSCX, GF_6B0P2APA, GF_8FTJXCRA, GF_23K11D8P, GF_419SWRAT, GF_17QSSC2Q, GF_QJKZ24VS, GF_ENPVX2A7, GF_H0DTCHQ3, GF_3AAJVWYE, GF_N3E40QY4, GF_PYP9FA9P, GF_ZYV4YJ81, GF_V7SN8YFP, GF_4R2FMVG4, GF_S0A9BV4Q, GF_MBXC4WR1, GF_RF1ER82Z, GF_WPDX3PBD, GF_Z1V8YRR7, GF_P4GRZJYX, GF_ZX4R5NAV, GF_KAX1QPJ2, GF_8B0T9GSE, GF_4W6CJPWE, GF_HK33XRVP, GF_1WN6ADKT, GF_HH7X1DWZ, GF_9ABTK9AJ, GF_WAM3BA2Z, GF_V4VP2N0B, GF_GKJTFVSJ, GF_1G4GCXEX, GF_CZSACMY2, GF_M3ZM1TKB, GF_HJKETZEN, GF_7J9A11Q4, GF_1P62M4KY, GF_PTNA9AC8, GF_PH3PNH81, GF_08F1QQ30, GF_6ZT802GM, GF_7NAGTX88, GF_YD0JQAVA, GF_95MTYT9V, GF_N8T54Y1B, GF_QM8NX2Y1, GF_MQMB04N3, GF_83K1WJ3D, GF_G7JA8CDP, GF_W6WRVBJJ, GF_HBGTXNH9, GF_PWQVBG6F, GF_4E6QY8A5, GF_184DESTP, GF_E475EWP1, GF_RC49X7FW, GF_7HQY2G59, GF_DY41KJY6, GF_RKK07S0D, GF_Y6QV2TNR, GF_D573GRXJ, GF_PM6343R7, GF_FCEC5XY3, GF_9BB1GPN4, GF_E5C943MY, GF_J4MTKAKC, GF_9C95PESX, GF_DVC95HHV, GF_05S0QQT3, GF_GB6JE04J, GF_8JVHBV9T, GF_TV4BNW9V, GF_9R890VQG, GF_3TQM7ZRV, GF_AF2DHZ0X, GF_ZM51FY0T, GF_QXR1XA0Z, GF_0EHYZM08, GF_F29K6GSV, GF_Z4J03C8V, GF_2ME7X60V, GF_NTPPDMK3, GF_JRYMVGNA, GF_1HTPAFDV, GF_PJD386T5, GF_433FSADP, GF_N2GN3MCN, GF_WD4X4WZ3, GF_TTYBMQTX, GF_9D7R960C, GF_A9X8BGBN, GF_THSMT8H5, GF_7RB4SFMH, GF_S2MZYWQE, GF_4EB85XVX, GF_PB8H4PP6, GF_9M32GXVG, GF_M81TTKVR, GF_9WN070FR, GF_F0FR9TBB, GF_WRTSYMV8, GF_53JH9XT5, GF_ZPHA5420, GF_ZHNTJ06F, GF_20VQWGHE, GF_EKE35ZCX, GF_R7H6R0W1, GF_J8M23602, GF_EM120943, GF_W30V3SMT, GF_T2HH9NAX, GF_9ESH59TE, GF_VZB61KHP, GF_ANWMTGAC, GF_4THNTRQ6, GF_DDMNW4JZ, GF_7574J58T, GF_VCGCVREF, GF_ZSQKQGYT, GF_BYKJHCQ5, GF_AGM293D6, GF_BRSHVZPR, GF_YW1PMKH1, GF_TJQT37WR, GF_PNAAB01W, GF_6SF6EYFR, GF_X5R71RW8, GF_H7240PCT, GF_99TZM5BQ, GF_BFQZKBWA, GF_KMFTJARV, GF_0XEAH8M8, GF_1PFEWE9C, GF_6WKTK5J7, GF_8WDYJCWN, GF_ZNRHYGA2, GF_B90HAPGD, GF_QYJDAVTZ, GF_VP8ZN5VF, GF_3528SFRW, GF_ZAT02Y0R, GF_7SW0YDK5, GF_X9EGCPRY, GF_8149M5QA, GF_2AA62DDC, GF_2DXQ8GVM, GF_SPG9KPZZ, GF_WQZJE12X, GF_E00QCM27, GF_8WCD6XCP, GF_00J8JC8Q, GF_FF623ZD5, GF_JX1RS4CM, GF_FRAC2DBX, GF_FV9SGBQK, GF_H816Q3JY, GF_CZT724F0, GF_HXEZ27N0, GF_DZZC7Z9P, GF_BP7ZZ6P3, GF_RK7NVX5H, GF_V0AVCD4R, GF_0TT2P9MN, GF_T6YHY8D4, GF_RY9SDJ4P, GF_DJAK31MD, GF_WDJWJ5H4, GF_KED3S6E1, GF_EY782BMP, GF_SC8M3C78, GF_T2JKC6T7, GF_NH78EGMY, GF_WTDMXR4B, GF_H2ZGHAY3, GF_5Z2ABRYH, GF_3E67Q9ZD, GF_97WZQKWS, GF_75ETTPSS, GF_N7RDQEE5, GF_1VFTXDQ8, GF_915C089H, GF_TKSYMNY7, GF_5R6K0QDF, GF_8G3RG144, GF_M979XT6F, GF_7JHKVT1W, GF_405H69W9, GF_BBBK1CVY, GF_R5RD660Z, GF_MNVM739N, GF_APRD7ANT, GF_CJFBJZX6, GF_9N30Y8K1, GF_SXEDGTJD, GF_1KQYZRQG, GF_238M60BN, GF_Z3NQ1KT1, GF_CW8EJ65K, GF_R429RCJW, GF_KJRVWXNH, GF_1523JX6P, GF_CYDCPRYT, GF_YAX7YFR6, GF_P8HG1Y4N, GF_74YTYBEK, GF_GQKGXHWP, GF_MDBH61T0, GF_5M9AWF49, GF_AS52J378, GF_PCE8TXH7, GF_J1BSKXP1, GF_9ZPHC66J, GF_66JBENT5, GF_RSKH0NSG, GF_E4YWCWMW, GF_E3HWGP7R, GF_QEX7M8KB, GF_4VGKH11D, GF_5HDDGFC8, GF_3EG9WHX6, GF_NZBQSDYK, GF_C5K8405D, GF_746P5MRQ, GF_J8ER2KKQ, GF_W31HQ8XW, GF_XHA1MSQS, GF_T1ASTPG7, GF_64XJSR5X, GF_XWQJW9XG, GF_XEJAAZA8, GF_EJ54TS5Z, GF_9D6NCSFD, GF_CK977NMS, GF_CB5B89Y7, GF_3G0D49F6, GF_RSDTSNGD, GF_8ATWDT8F, GF_SD4MJGGC, GF_23WPK3H8, GF_XKA048PT, GF_J4SN6HKS, GF_DYCJW0HE, GF_8NDTY0YF, GF_QS5VEN2Y, GF_5HWNBPN5, GF_WRMRYYMG, GF_CBV1FZG5, GF_GYVWBMXD, GF_37Z2X1ZW, GF_YRSBNBBC, GF_AP5JPEH8, GF_KW9FNRE4, GF_Y8MFKQEB, GF_8T0JP1VR, GF_JZMZR59D, GF_QXQTWSYS, GF_PC5F8G7G, GF_QD0AEK99, GF_KZ5E0J58, GF_FYHWQWZ0, GF_ST4CYRPP, GF_BWE8053D, GF_6DWZ6VYV, GF_4CQ63DCS, GF_YYKNPVR3, GF_67S00E49, GF_C9S85589, GF_TYYCDQP0, GF_MR0AMP4K, GF_0PZTNRZH, GF_MTNZ6BHS, GF_S4Q1FFP9, GF_2ZPYD6JP, GF_HVJ35F14, GF_9B765BVF, GF_1GJSQCZA, GF_V090X1NW, GF_GGXVEJXA, GF_BKBZWST9, GF_RD7EGTD5, GF_BXNWN95E, GF_6RD61TKR, GF_MNW7Y412, GF_3S1RBMPY, GF_Z0PW8KXN, GF_VQ33GREA, GF_4MKBNCD0, GF_1SDA32B0, GF_9DGH8479, GF_T2R714KT, GF_06Y99SA8, GF_CRKKJ93J, GF_R0J7944J, GF_1FME6MZ8, GF_SGSV9ERS, GF_19HC1FS6, GF_51XR4ZP9, GF_46R050CQ, GF_3M3C8WG4, GF_S370W8BW, GF_4H13K52T, GF_0B196CWG, GF_6RKHCJWR, GF_89W8B6NP, GF_092TA8XD, GF_X6GHYZJ4, GF_689K21QF, GF_MKQVCC19, GF_P838F9T0, GF_FSBG0AB2, GF_98JX5BVR, GF_69VRRYC8, GF_F3W0EJH1, GF_WTYRPFMB, GF_AM4XT9T2, GF_9GB0YSZD, GF_KSK1TR3V, GF_MFNFHXAG, GF_XT8ZFHHC, GF_HTQX5W5W, GF_EZDJV7KY, GF_M1BYJRTW, GF_FRVXA9AF, GF_GYM9DZ6A, GF_0J28Y572, GF_0B5JVV7T, GF_89168FZ0, GF_S5YGP94N, GF_FFX5Z93W, GF_1551XXYE, GF_BS2A182V, GF_5ZN05YJY, GF_VJVPK2KM, GF_XC07NNWP, GF_D5FSWJEH, GF_1X2HPKR5, GF_S1W9BQT6, GF_S1SDC6Z7, GF_R6KBEDXC, GF_JZNGFAGA, GF_AGHD3EC3, GF_QVKEJVCF, GF_XX9GAY97, GF_6HC8AZWC, GF_1C3EB4GF, GF_YRH4E0S5, GF_GF6QEN1B, GF_AC7FPAYJ, GF_YJ3JJD9W, GF_1M3VRHP2, GF_N1Z6FJ54, GF_NRVH3GRQ, GF_D4DMQ2WS, GF_C7CPHEYW, GF_V2ENR0XS, GF_YBQ2PS07, GF_ZZ1M97J0, GF_PDJ0HAVY, GF_K7NAV1FQ, GF_VKEV5NFX, GF_X5HCXDPD, GF_2TQQNE5C, GF_S6DY60Q4, GF_7DSRV9YN, GF_KFA17DX0, GF_TYMBM7AK, GF_9F7H741E, GF_J5PQ5CGW, GF_9VRAMCZ8, GF_HEJKQSFZ, GF_24T7XY9G, GF_R2Q6VMSD, GF_K2FRA36X, GF_FP5ZTRGB, GF_H36ZTFWJ, GF_GAY6A1G6, GF_36R9G6RX, GF_N2QPDKQV, GF_H7BCYQZP, GF_SAENQNJB, GF_JS123HYP, GF_G0JWRCM9, GF_0JDN8602, GF_6WK35FVT, GF_ERFWNZV5, GF_YKYXM374, GF_WT86DKGP, GF_M4V8RTWR, GF_JW0Y3DCA, GF_WWSMXVYP, GF_GGVGK6SD, GF_5EY3YG53, GF_21JVE023, GF_Q68EG8EJ, GF_GQJMY0J6, GF_3R7CTJDP, GF_TDZJV7B7, GF_TPTAD1HX, GF_BPVEQPXK, GF_B4KB4P9S, GF_A3ASC37Q, GF_QH6NZAMW, GF_5DW0N0NM, GF_VT0AWBVW, GF_4VDB45QN, GF_EYQASKTE, GF_P2DZE5CS, GF_25MW3AFG, GF_9V39Y3BQ, GF_2WY3XXS0, GF_ZZB2Z42W, GF_YVK1N6E2, GF_MY3W8FNC, GF_101SX14D, GF_SV2PNQES, GF_3NNW0BSK, GF_RN93GZ5G, GF_F8PS9NKZ, GF_P5G6NEQ8, GF_VZFSJ2BP, GF_W44AK59R, GF_Z4V0ACNK, GF_18QRH645, GF_QPF4GX3R, GF_24JKB45N, GF_FX13MXGN, GF_SQMFX0EF, GF_NY28F679, GF_S5RMC85Q, GF_25JS49F6, GF_G18R2EMQ, GF_TD3V5T1G, GF_F67AR73Z, GF_24QXWV0G, GF_09CB3HF1, GF_XXGCWS1M, GF_SCQP818H, GF_X7A467CX, GF_1WD1WQ71, GF_JYND9P1X, GF_CK8A526R, GF_90R0CQW3, GF_QP7GVCRF, GF_D763S4S3, GF_RM1PFFSX, GF_P5R4TQ7B, GF_95CXB4D2, GF_V9TKVB93, GF_X2YSEM8A, GF_V9B93Y31, GF_K97AJZVF, GF_JJ8BGNQS, GF_VR8ZTZ5G, GF_X9FF57Q4, GF_2Q9PQ2HT, GF_KC2Z5NMW, GF_WNYYEKHK, GF_YKGJYJYE, GF_PR9VT6DR, GF_5ARGJ27B, GF_GHP6GTRC, GF_XR5MBZ6Y, GF_CP1W1EXX, GF_06JM5V7H, GF_TXDY85AR, GF_2P98CYP2, GF_7HPCAH38, GF_EYZQBAH7, GF_452H0PCD, GF_JSAXF2M4, GF_7PMEBXJ9, GF_9ZBT70MJ, GF_VVAGQK63, GF_7GA8BABT, GF_9CEHM6PF, GF_D2EYVVFX, GF_WEEWTSFK, GF_JC4FPDB8, GF_9CK3YRGB, GF_NY45QQ1X, GF_P7D7G432, GF_GEBV6KRV, GF_GYRYRG4X, GF_GY0ACY9B, GF_WBBQBPZC, GF_DHXDNX6Q, GF_HY3AK63X, GF_7T9D58CC, GF_DGNAMW0R, GF_3JCZKMPN, GF_5219E8KR, GF_NQHDQ6KY, GF_B1K9CT4J, GF_XRNPBRAH, GF_YY6NK05J, GF_12XPQ27E, GF_AF21BNQ9, GF_RVPQ3QB3, GF_BQ6E151F, GF_F4BRZ8DF, GF_P3EB9E9Y, GF_NQ04XJD0, GF_RX8ANH7A, GF_1XS9HEKH, GF_7S6RCPES, GF_QDDNHA0Z, GF_81ADAQ69, GF_KD8NEE7H, GF_DT4JEZBA, GF_JYY4F5Y7, GF_B7E53KCR, GF_140EETH7, GF_TB36MH0D, GF_53096DM0, GF_5A3AY0JZ, GF_GCG1969V, GF_1R5TQWTE, GF_267H8S7H, GF_JCNHJNZH, GF_ZTS6PDCV, GF_G03HWKC0, GF_D5SYMTDJ, GF_1AC8YEHT, GF_BSH5A5KM, GF_KBHEPWPQ, GF_TXWDDQD3, GF_5QT5S4AD, GF_VMW3AG3W, GF_8DSP2W3F, GF_PAB9FQH8, GF_SZB4KRBN, GF_AW0T0DNS, GF_S8SVZKSE, GF_ESW7EQ9F, GF_C13QT67W, GF_A4JTE3D2, GF_MVSG0SS2, GF_FRRZRESH, GF_F3P84HXY, GF_1RT082TK, GF_N8TT9PYJ, GF_R3JKHX7A, GF_PQ9MBT7H, GF_RWCJ49HW, GF_Z6Z2R2J0, GF_T2AMZQM3, GF_JGFQSWQP, GF_K5JAMGYG, GF_NYS7Z8CX, GF_NQ0NYWXT, GF_346JZCZ2, GF_8V8MZ72G, GF_NJ38NCYZ, GF_DC3KHPM6, GF_TZAVAJNX, GF_5DV7ZPRC, GF_9DPKQ8ZV, GF_M7AW6SYS, GF_DYW1XY9R, GF_6SR0ESAG, GF_9P3F2S4J, GF_WX3D76MJ, GF_C0R136HH, GF_CR2SX9VR, GF_3ZZZ8ANZ, GF_5X3807KM, GF_251CY6YV, GF_MKXRC5QW, GF_6BAX1KR4, GF_THC3KEK3, GF_14QQKYYG, GF_Q6GYH4J1, GF_8BNQE78X, GF_F6QK3EQK, GF_WVB1F2Z3, GF_EV9FGF8Q'"
      ]
     },
     "execution_count": 14,
     "metadata": {},
     "output_type": "execute_result"
    }
   ],
   "source": [
    "prettyprint_files(tumor_files)"
   ]
  },
  {
   "cell_type": "code",
   "execution_count": null,
   "id": "8b3b7889",
   "metadata": {},
   "outputs": [],
   "source": []
  }
 ],
 "metadata": {
  "kernelspec": {
   "display_name": "Python [conda env:py3]",
   "language": "python",
   "name": "conda-env-py3-py"
  },
  "language_info": {
   "codemirror_mode": {
    "name": "ipython",
    "version": 3
   },
   "file_extension": ".py",
   "mimetype": "text/x-python",
   "name": "python",
   "nbconvert_exporter": "python",
   "pygments_lexer": "ipython3",
   "version": "3.10.2"
  }
 },
 "nbformat": 4,
 "nbformat_minor": 5
}
