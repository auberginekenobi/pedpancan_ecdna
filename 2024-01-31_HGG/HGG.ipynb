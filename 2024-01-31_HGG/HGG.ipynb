{
 "cells": [
  {
   "cell_type": "code",
   "execution_count": 3,
   "id": "5930ae29-ce71-475d-8bcb-dea60bd3d93b",
   "metadata": {
    "tags": []
   },
   "outputs": [],
   "source": [
    "import pandas as pd\n",
    "pd.set_option('display.max_rows', None)\n",
    "pd.set_option('display.max_columns', None)\n",
    "import numpy as np\n",
    "import matplotlib.pyplot as plt\n",
    "import seaborn as sns\n",
    "import scipy.stats"
   ]
  },
  {
   "cell_type": "code",
   "execution_count": 4,
   "id": "86792fc3-a4c9-433f-a79a-053b8d7e65fc",
   "metadata": {
    "tags": []
   },
   "outputs": [],
   "source": [
    "SUPPLEMENTARY_TABLES_PATH=\"/Users/ochapman/projects/pedpancan_ecdna/data/Supplementary Tables.xlsx\"\n",
    "\n",
    "def import_patients():\n",
    "    return pd.read_excel(SUPPLEMENTARY_TABLES_PATH,sheet_name=\"1. Patients\",index_col=0)\n",
    "def import_biosamples():\n",
    "    return pd.read_excel(SUPPLEMENTARY_TABLES_PATH,sheet_name=\"2. Biosamples\",index_col=0)\n",
    "def import_amplicons():\n",
    "    return pd.read_excel(SUPPLEMENTARY_TABLES_PATH,sheet_name=\"3. Amplicons\")\n",
    "def import_genes():\n",
    "    return pd.read_excel(SUPPLEMENTARY_TABLES_PATH,sheet_name=\"4. Gene amplifications\")\n",
    "BIOSAMPLES = import_biosamples()"
   ]
  },
  {
   "cell_type": "code",
   "execution_count": 5,
   "id": "146ee1af-cf67-4f9c-a62f-9ae2c3d3244a",
   "metadata": {
    "tags": []
   },
   "outputs": [],
   "source": [
    "def import_hgg_bs():\n",
    "    hgg_bs = import_biosamples()\n",
    "    hgg_bs = hgg_bs[(hgg_bs.cancer_type == \"HGG\") & (hgg_bs.in_unique_tumor_set)]\n",
    "    return hgg_bs\n",
    "def import_hgg_pt():\n",
    "    hgg_pt = import_patients()\n",
    "    hgg_pt = hgg_pt[(hgg_pt.cancer_type == \"HGG\")]\n",
    "    return hgg_pt"
   ]
  },
  {
   "cell_type": "code",
   "execution_count": 7,
   "id": "0a868e30-5e3a-4c2c-94a3-6b6cc9702464",
   "metadata": {
    "tags": []
   },
   "outputs": [],
   "source": [
    "bs = import_hgg_bs()\n",
    "pt = import_hgg_pt()"
   ]
  },
  {
   "cell_type": "code",
   "execution_count": 10,
   "id": "7ce22033-69fc-47a3-b5e9-af3b66e0900c",
   "metadata": {
    "tags": []
   },
   "outputs": [
    {
     "data": {
      "text/plain": [
       "cancer_subclass\n",
       "DHG_H3G34          4\n",
       "DHG_H3G34_TP53     1\n",
       "DMG_H3K27         19\n",
       "DMG_H3K27_TP53    38\n",
       "HGGNOS            49\n",
       "HGG_H3WT          21\n",
       "HGG_H3WT_TP53     16\n",
       "HGG_IDH_TP53       3\n",
       "HGNET              4\n",
       "IHG_ALK            1\n",
       "IHG_NRTK           1\n",
       "IHG_ROS1           1\n",
       "IHG_ROS1_TP53      1\n",
       "Name: patient_id, dtype: int64"
      ]
     },
     "execution_count": 10,
     "metadata": {},
     "output_type": "execute_result"
    }
   ],
   "source": [
    "bs.groupby(\"cancer_subclass\").count().patient_id"
   ]
  },
  {
   "cell_type": "code",
   "execution_count": 12,
   "id": "921c6817-b593-4102-a501-e5327ebb7b40",
   "metadata": {
    "tags": []
   },
   "outputs": [
    {
     "data": {
      "text/html": [
       "<div>\n",
       "<style scoped>\n",
       "    .dataframe tbody tr th:only-of-type {\n",
       "        vertical-align: middle;\n",
       "    }\n",
       "\n",
       "    .dataframe tbody tr th {\n",
       "        vertical-align: top;\n",
       "    }\n",
       "\n",
       "    .dataframe thead th {\n",
       "        text-align: right;\n",
       "    }\n",
       "</style>\n",
       "<table border=\"1\" class=\"dataframe\">\n",
       "  <thead>\n",
       "    <tr style=\"text-align: right;\">\n",
       "      <th>amplicon_class</th>\n",
       "      <th>False</th>\n",
       "      <th>True</th>\n",
       "    </tr>\n",
       "    <tr>\n",
       "      <th>cancer_subclass</th>\n",
       "      <th></th>\n",
       "      <th></th>\n",
       "    </tr>\n",
       "  </thead>\n",
       "  <tbody>\n",
       "    <tr>\n",
       "      <th>DHG_H3G34</th>\n",
       "      <td>4</td>\n",
       "      <td>0</td>\n",
       "    </tr>\n",
       "    <tr>\n",
       "      <th>DHG_H3G34_TP53</th>\n",
       "      <td>1</td>\n",
       "      <td>0</td>\n",
       "    </tr>\n",
       "    <tr>\n",
       "      <th>DMG_H3K27</th>\n",
       "      <td>17</td>\n",
       "      <td>2</td>\n",
       "    </tr>\n",
       "    <tr>\n",
       "      <th>DMG_H3K27_TP53</th>\n",
       "      <td>27</td>\n",
       "      <td>11</td>\n",
       "    </tr>\n",
       "    <tr>\n",
       "      <th>HGGNOS</th>\n",
       "      <td>44</td>\n",
       "      <td>5</td>\n",
       "    </tr>\n",
       "    <tr>\n",
       "      <th>HGG_H3WT</th>\n",
       "      <td>16</td>\n",
       "      <td>5</td>\n",
       "    </tr>\n",
       "    <tr>\n",
       "      <th>HGG_H3WT_TP53</th>\n",
       "      <td>10</td>\n",
       "      <td>6</td>\n",
       "    </tr>\n",
       "    <tr>\n",
       "      <th>HGG_IDH_TP53</th>\n",
       "      <td>1</td>\n",
       "      <td>2</td>\n",
       "    </tr>\n",
       "    <tr>\n",
       "      <th>HGNET</th>\n",
       "      <td>4</td>\n",
       "      <td>0</td>\n",
       "    </tr>\n",
       "    <tr>\n",
       "      <th>IHG_ALK</th>\n",
       "      <td>1</td>\n",
       "      <td>0</td>\n",
       "    </tr>\n",
       "    <tr>\n",
       "      <th>IHG_NRTK</th>\n",
       "      <td>1</td>\n",
       "      <td>0</td>\n",
       "    </tr>\n",
       "    <tr>\n",
       "      <th>IHG_ROS1</th>\n",
       "      <td>1</td>\n",
       "      <td>0</td>\n",
       "    </tr>\n",
       "    <tr>\n",
       "      <th>IHG_ROS1_TP53</th>\n",
       "      <td>1</td>\n",
       "      <td>0</td>\n",
       "    </tr>\n",
       "  </tbody>\n",
       "</table>\n",
       "</div>"
      ],
      "text/plain": [
       "amplicon_class   False  True \n",
       "cancer_subclass              \n",
       "DHG_H3G34            4      0\n",
       "DHG_H3G34_TP53       1      0\n",
       "DMG_H3K27           17      2\n",
       "DMG_H3K27_TP53      27     11\n",
       "HGGNOS              44      5\n",
       "HGG_H3WT            16      5\n",
       "HGG_H3WT_TP53       10      6\n",
       "HGG_IDH_TP53         1      2\n",
       "HGNET                4      0\n",
       "IHG_ALK              1      0\n",
       "IHG_NRTK             1      0\n",
       "IHG_ROS1             1      0\n",
       "IHG_ROS1_TP53        1      0"
      ]
     },
     "execution_count": 12,
     "metadata": {},
     "output_type": "execute_result"
    }
   ],
   "source": [
    "pd.crosstab(bs.cancer_subclass, bs.amplicon_class == 'ecDNA')\n",
    "# TODO: Survival analysis H3K27 mut ecDNA+/-"
   ]
  }
 ],
 "metadata": {
  "kernelspec": {
   "display_name": "py3",
   "language": "python",
   "name": "py3"
  },
  "language_info": {
   "codemirror_mode": {
    "name": "ipython",
    "version": 3
   },
   "file_extension": ".py",
   "mimetype": "text/x-python",
   "name": "python",
   "nbconvert_exporter": "python",
   "pygments_lexer": "ipython3",
   "version": "3.11.3"
  }
 },
 "nbformat": 4,
 "nbformat_minor": 5
}
