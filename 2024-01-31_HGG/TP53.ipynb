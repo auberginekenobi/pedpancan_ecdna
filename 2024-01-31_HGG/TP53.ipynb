{
 "cells": [
  {
   "cell_type": "code",
   "execution_count": 13,
   "id": "9d6d4a19-635f-457b-875f-3d3dbe22620f",
   "metadata": {
    "tags": []
   },
   "outputs": [],
   "source": [
    "import pandas as pd\n",
    "pd.set_option('display.max_rows', None)\n",
    "pd.set_option('display.max_columns', None)\n",
    "import numpy as np\n",
    "import matplotlib.pyplot as plt\n",
    "import seaborn as sns\n",
    "import scipy.stats"
   ]
  },
  {
   "cell_type": "code",
   "execution_count": 4,
   "id": "c515cad8-b1f8-4484-b6c2-0fc018ef5385",
   "metadata": {
    "tags": []
   },
   "outputs": [],
   "source": [
    "SUPPLEMENTARY_TABLES_PATH=\"/Users/ochapman/projects/pedpancan_ecdna/data/Supplementary Tables.xlsx\"\n",
    "\n",
    "def import_patients():\n",
    "    return pd.read_excel(SUPPLEMENTARY_TABLES_PATH,sheet_name=\"1. Patients\",index_col=0)\n",
    "def import_biosamples():\n",
    "    return pd.read_excel(SUPPLEMENTARY_TABLES_PATH,sheet_name=\"2. Biosamples\",index_col=0)\n",
    "def import_amplicons():\n",
    "    return pd.read_excel(SUPPLEMENTARY_TABLES_PATH,sheet_name=\"3. Amplicons\")\n",
    "def import_genes():\n",
    "    return pd.read_excel(SUPPLEMENTARY_TABLES_PATH,sheet_name=\"4. Gene amplifications\")\n",
    "BIOSAMPLES = import_biosamples()"
   ]
  },
  {
   "cell_type": "code",
   "execution_count": 54,
   "id": "78d59364-01b1-416c-88c1-1b8bf92db42e",
   "metadata": {
    "tags": []
   },
   "outputs": [],
   "source": [
    "def import_cbtn_TP53():\n",
    "    path=\"data/pbta_TP53_alterations.xlsx\"\n",
    "    df = pd.read_excel(path)\n",
    "    df = df.replace(\"not profiled\",np.nan)\n",
    "    df = df.dropna(subset=df.columns[4:], how='all')\n",
    "    # aggregate to patient level\n",
    "    gb = df.groupby('Patient ID')['Altered'].sum().reset_index()\n",
    "    gb['TP53_altered'] = gb.Altered > 0\n",
    "    gb = gb.set_index(\"Patient ID\")\n",
    "    return gb['TP53_altered']\n",
    "\n",
    "def import_cbtn_TP53_pathway():\n",
    "    path=\"data/alterations_across_samples.tsv\"\n",
    "    df = pd.read_csv(path,sep='\\t')\n",
    "    df = df.replace(\"not profiled\",np.nan)\n",
    "    df = df.dropna(subset=df.columns[4:], how='all')\n",
    "    gb = df.groupby('Patient ID')['Altered'].sum().reset_index()\n",
    "    gb['TP53_altered'] = gb.Altered > 0\n",
    "    gb = gb.set_index(\"Patient ID\")\n",
    "    return gb['TP53_altered']\n",
    "\n",
    "def import_hgg_bs():\n",
    "    hgg_bs = import_biosamples()\n",
    "    hgg_bs = hgg_bs[(hgg_bs.cancer_type == \"HGG\") & (hgg_bs.in_unique_patient_set)]\n",
    "    return hgg_bs\n",
    "def import_hgg_pt():\n",
    "    hgg_pt = import_patients()\n",
    "    #hgg_pt = hgg_pt[(hgg_pt.cancer_type == \"HGG\")]\n",
    "    hgg_pt = hgg_pt.merge(import_cbtn_TP53_pathway(),how='inner',left_index=True,right_index=True)\n",
    "    return hgg_pt\n",
    "\n"
   ]
  },
  {
   "cell_type": "code",
   "execution_count": 28,
   "id": "3e3748b6-0fe2-4295-9063-c97e30522120",
   "metadata": {
    "tags": []
   },
   "outputs": [
    {
     "name": "stdout",
     "output_type": "stream",
     "text": [
      "Chi2ContingencyResult(statistic=3.7563815898541106, pvalue=0.05260630402549279, dof=1, expected_freq=array([[36.22641509, 43.77358491],\n",
      "       [11.77358491, 14.22641509]]))\n"
     ]
    },
    {
     "data": {
      "text/html": [
       "<div>\n",
       "<style scoped>\n",
       "    .dataframe tbody tr th:only-of-type {\n",
       "        vertical-align: middle;\n",
       "    }\n",
       "\n",
       "    .dataframe tbody tr th {\n",
       "        vertical-align: top;\n",
       "    }\n",
       "\n",
       "    .dataframe thead th {\n",
       "        text-align: right;\n",
       "    }\n",
       "</style>\n",
       "<table border=\"1\" class=\"dataframe\">\n",
       "  <thead>\n",
       "    <tr style=\"text-align: right;\">\n",
       "      <th>cancer_subclass</th>\n",
       "      <th>False</th>\n",
       "      <th>True</th>\n",
       "    </tr>\n",
       "    <tr>\n",
       "      <th>amplicon_class</th>\n",
       "      <th></th>\n",
       "      <th></th>\n",
       "    </tr>\n",
       "  </thead>\n",
       "  <tbody>\n",
       "    <tr>\n",
       "      <th>False</th>\n",
       "      <td>41</td>\n",
       "      <td>39</td>\n",
       "    </tr>\n",
       "    <tr>\n",
       "      <th>True</th>\n",
       "      <td>7</td>\n",
       "      <td>19</td>\n",
       "    </tr>\n",
       "  </tbody>\n",
       "</table>\n",
       "</div>"
      ],
      "text/plain": [
       "cancer_subclass  False  True \n",
       "amplicon_class               \n",
       "False               41     39\n",
       "True                 7     19"
      ]
     },
     "execution_count": 28,
     "metadata": {},
     "output_type": "execute_result"
    }
   ],
   "source": [
    "# Association between TP53 and ecDNA?\n",
    "hgg_bs = import_hgg_bs()\n",
    "tmp = hgg_bs[~hgg_bs.cohort.str.startswith(\"SJC\")]\n",
    "contingency_tbl = pd.crosstab(tmp.amplicon_class == \"ecDNA\",tmp.cancer_subclass.str.contains(\"TP53\"))\n",
    "print(\n",
    "scipy.stats.chi2_contingency(contingency_tbl)\n",
    ")\n",
    "contingency_tbl\n",
    "# Wow, so close. are my data correct, and can I get more?"
   ]
  },
  {
   "cell_type": "code",
   "execution_count": 55,
   "id": "d07a7c48-6316-4272-baf2-5679b899b504",
   "metadata": {
    "tags": []
   },
   "outputs": [
    {
     "name": "stdout",
     "output_type": "stream",
     "text": [
      "Chi2ContingencyResult(statistic=51.20591512864554, pvalue=8.316764453609536e-13, dof=1, expected_freq=array([[649.23170732, 116.76829268],\n",
      "       [ 45.76829268,   8.23170732]]))\n"
     ]
    },
    {
     "data": {
      "text/html": [
       "<div>\n",
       "<style scoped>\n",
       "    .dataframe tbody tr th:only-of-type {\n",
       "        vertical-align: middle;\n",
       "    }\n",
       "\n",
       "    .dataframe tbody tr th {\n",
       "        vertical-align: top;\n",
       "    }\n",
       "\n",
       "    .dataframe thead th {\n",
       "        text-align: right;\n",
       "    }\n",
       "</style>\n",
       "<table border=\"1\" class=\"dataframe\">\n",
       "  <thead>\n",
       "    <tr style=\"text-align: right;\">\n",
       "      <th>TP53_altered</th>\n",
       "      <th>False</th>\n",
       "      <th>True</th>\n",
       "    </tr>\n",
       "    <tr>\n",
       "      <th>amplicon_class</th>\n",
       "      <th></th>\n",
       "      <th></th>\n",
       "    </tr>\n",
       "  </thead>\n",
       "  <tbody>\n",
       "    <tr>\n",
       "      <th>False</th>\n",
       "      <td>668</td>\n",
       "      <td>98</td>\n",
       "    </tr>\n",
       "    <tr>\n",
       "      <th>True</th>\n",
       "      <td>27</td>\n",
       "      <td>27</td>\n",
       "    </tr>\n",
       "  </tbody>\n",
       "</table>\n",
       "</div>"
      ],
      "text/plain": [
       "TP53_altered    False  True \n",
       "amplicon_class              \n",
       "False             668     98\n",
       "True               27     27"
      ]
     },
     "execution_count": 55,
     "metadata": {},
     "output_type": "execute_result"
    }
   ],
   "source": [
    "pt = import_hgg_pt()\n",
    "contingency_tbl = pd.crosstab(pt.amplicon_class == \"ecDNA\",pt.TP53_altered)\n",
    "print(\n",
    "scipy.stats.chi2_contingency(contingency_tbl)\n",
    ")\n",
    "contingency_tbl"
   ]
  },
  {
   "cell_type": "code",
   "execution_count": 22,
   "id": "a8a3ceff-d3d6-4b23-ac17-1c9702eeaf03",
   "metadata": {
    "tags": []
   },
   "outputs": [
    {
     "data": {
      "text/plain": [
       "158"
      ]
     },
     "execution_count": 22,
     "metadata": {},
     "output_type": "execute_result"
    }
   ],
   "source": [
    "sum(~hgg_bs.patient_id.duplicated())"
   ]
  },
  {
   "cell_type": "code",
   "execution_count": 56,
   "id": "02d69001-f5b7-4c5b-bba7-f3a7772f5b17",
   "metadata": {
    "tags": []
   },
   "outputs": [
    {
     "data": {
      "text/plain": [
       "4095"
      ]
     },
     "execution_count": 56,
     "metadata": {},
     "output_type": "execute_result"
    }
   ],
   "source": [
    "path=\"data/alterations_across_samples.tsv\"\n",
    "df = pd.read_csv(path,sep='\\t')\n",
    "len(df)"
   ]
  },
  {
   "cell_type": "code",
   "execution_count": null,
   "id": "9baa2858-7c0d-429c-a9e0-0b3fb014b98b",
   "metadata": {},
   "outputs": [],
   "source": []
  }
 ],
 "metadata": {
  "kernelspec": {
   "display_name": "py3",
   "language": "python",
   "name": "py3"
  },
  "language_info": {
   "codemirror_mode": {
    "name": "ipython",
    "version": 3
   },
   "file_extension": ".py",
   "mimetype": "text/x-python",
   "name": "python",
   "nbconvert_exporter": "python",
   "pygments_lexer": "ipython3",
   "version": "3.11.3"
  }
 },
 "nbformat": 4,
 "nbformat_minor": 5
}
