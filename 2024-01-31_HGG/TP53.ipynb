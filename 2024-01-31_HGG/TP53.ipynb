{
 "cells": [
  {
   "cell_type": "code",
   "execution_count": 1,
   "id": "9d6d4a19-635f-457b-875f-3d3dbe22620f",
   "metadata": {
    "tags": []
   },
   "outputs": [],
   "source": [
    "import pandas as pd\n",
    "pd.set_option('display.max_rows', None)\n",
    "pd.set_option('display.max_columns', None)\n",
    "import numpy as np\n",
    "import matplotlib.pyplot as plt\n",
    "import seaborn as sns\n",
    "import scipy.stats\n",
    "\n",
    "import sys\n",
    "sys.path.append('../src')\n",
    "from data_imports import *"
   ]
  },
  {
   "cell_type": "code",
   "execution_count": 2,
   "id": "c515cad8-b1f8-4484-b6c2-0fc018ef5385",
   "metadata": {
    "tags": []
   },
   "outputs": [],
   "source": [
    "BIOSAMPLES = import_biosamples()"
   ]
  },
  {
   "cell_type": "code",
   "execution_count": 8,
   "id": "78d59364-01b1-416c-88c1-1b8bf92db42e",
   "metadata": {
    "tags": []
   },
   "outputs": [],
   "source": [
    "def import_cbtn_TP53():\n",
    "    path=\"data/pbta_TP53_alterations.xlsx\"\n",
    "    df = pd.read_excel(path)\n",
    "    df = df.replace(\"not profiled\",np.nan)\n",
    "    df = df.dropna(subset=df.columns[4:], how='all')\n",
    "    # aggregate to patient level\n",
    "    gb = df.groupby('Patient ID')['Altered'].sum().reset_index()\n",
    "    gb['TP53_altered'] = gb.Altered > 0\n",
    "    gb = gb.set_index(\"Patient ID\")\n",
    "    return gb['TP53_altered']\n",
    "\n",
    "def import_cbtn_TP53_pathway():\n",
    "    path=\"data/alterations_across_samples.tsv\"\n",
    "    df = pd.read_csv(path,sep='\\t')\n",
    "    df = df.replace(\"not profiled\",np.nan)\n",
    "    df = df.dropna(subset=df.columns[4:], how='all')\n",
    "    gb = df.groupby('Patient ID')['Altered'].sum().reset_index()\n",
    "    gb['TP53_altered'] = gb.Altered > 0\n",
    "    gb = gb.set_index(\"Patient ID\")\n",
    "    return gb['TP53_altered']\n",
    "\n",
    "def import_hgg_bs():\n",
    "    hgg_bs = import_biosamples()\n",
    "    hgg_bs = hgg_bs[(hgg_bs.cancer_type == \"HGG\") & (hgg_bs.in_unique_patient_set)]\n",
    "    return hgg_bs\n",
    "def import_hgg_pt():\n",
    "    hgg_pt = import_patients()\n",
    "    hgg_pt = hgg_pt[(hgg_pt.cancer_type == \"HGG\")]\n",
    "    hgg_pt = hgg_pt.merge(import_cbtn_TP53_pathway(),how='inner',left_index=True,right_index=True)\n",
    "    return hgg_pt\n",
    "\n"
   ]
  },
  {
   "cell_type": "code",
   "execution_count": 12,
   "id": "d07a7c48-6316-4272-baf2-5679b899b504",
   "metadata": {
    "tags": []
   },
   "outputs": [
    {
     "name": "stdout",
     "output_type": "stream",
     "text": [
      "Chi2ContingencyResult(statistic=np.float64(5.635625373803828), pvalue=np.float64(0.017599066269750028), dof=1, expected_freq=array([[ 69.66666667, 139.33333333],\n",
      "       [ 21.33333333,  42.66666667]]))\n"
     ]
    },
    {
     "data": {
      "text/html": [
       "<div>\n",
       "<style scoped>\n",
       "    .dataframe tbody tr th:only-of-type {\n",
       "        vertical-align: middle;\n",
       "    }\n",
       "\n",
       "    .dataframe tbody tr th {\n",
       "        vertical-align: top;\n",
       "    }\n",
       "\n",
       "    .dataframe thead th {\n",
       "        text-align: right;\n",
       "    }\n",
       "</style>\n",
       "<table border=\"1\" class=\"dataframe\">\n",
       "  <thead>\n",
       "    <tr style=\"text-align: right;\">\n",
       "      <th>TP53_altered</th>\n",
       "      <th>False</th>\n",
       "      <th>True</th>\n",
       "    </tr>\n",
       "    <tr>\n",
       "      <th>amplicon_class</th>\n",
       "      <th></th>\n",
       "      <th></th>\n",
       "    </tr>\n",
       "  </thead>\n",
       "  <tbody>\n",
       "    <tr>\n",
       "      <th>False</th>\n",
       "      <td>78</td>\n",
       "      <td>131</td>\n",
       "    </tr>\n",
       "    <tr>\n",
       "      <th>True</th>\n",
       "      <td>13</td>\n",
       "      <td>51</td>\n",
       "    </tr>\n",
       "  </tbody>\n",
       "</table>\n",
       "</div>"
      ],
      "text/plain": [
       "TP53_altered    False  True \n",
       "amplicon_class              \n",
       "False              78    131\n",
       "True               13     51"
      ]
     },
     "execution_count": 12,
     "metadata": {},
     "output_type": "execute_result"
    }
   ],
   "source": [
    "pt = import_hgg_pt()\n",
    "contingency_tbl = pd.crosstab(pt.amplicon_class == \"ecDNA\",pt.TP53_altered)\n",
    "print(\n",
    "scipy.stats.chi2_contingency(contingency_tbl)\n",
    ")\n",
    "contingency_tbl"
   ]
  }
 ],
 "metadata": {
  "kernelspec": {
   "display_name": "py3",
   "language": "python",
   "name": "py3"
  },
  "language_info": {
   "codemirror_mode": {
    "name": "ipython",
    "version": 3
   },
   "file_extension": ".py",
   "mimetype": "text/x-python",
   "name": "python",
   "nbconvert_exporter": "python",
   "pygments_lexer": "ipython3",
   "version": "3.12.5"
  }
 },
 "nbformat": 4,
 "nbformat_minor": 5
}
