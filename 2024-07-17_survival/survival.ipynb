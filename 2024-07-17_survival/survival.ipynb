{
 "cells": [
  {
   "cell_type": "markdown",
   "id": "7d7596d1-491e-45a5-b304-fd4bed250756",
   "metadata": {},
   "source": [
    "# survival.ipynb\n",
    "Survival analyses on the pedpancan cohort."
   ]
  },
  {
   "cell_type": "code",
   "execution_count": null,
   "id": "f9e0d5c8-efbc-4da6-9985-0a4abfff70ba",
   "metadata": {
    "scrolled": true
   },
   "outputs": [],
   "source": [
    "library(tidyverse)\n",
    "library(readxl)\n",
    "library(dplyr)\n",
    "library(stringr)\n",
    "library(naniar) #for replace with Nas function\n",
    "library(survival)\n",
    "library(survminer)\n",
    "library(RColorBrewer)\n",
    "library(janitor)\n",
    "#library(rio)\n",
    "#library(labelled)\n",
    "library(gt)\n",
    "library(gtsummary)\n",
    "library(ggsurvfit)\n",
    "library(extrafont)\n",
    "library(svglite)\n",
    "\n",
    "#install.packages(\"devtools\")\n",
    "#library(devtools)\n",
    "#devtools::install_github(\"MSKCC-Epi-Bio/bstfun\")\n",
    "#pacman::p_load(bstfun)\n",
    "\n",
    "extrafont::font_import(pattern=\"Arial\",prompt=FALSE)\n",
    "extrafont::loadfonts()\n",
    "\n",
    "sessionInfo()"
   ]
  },
  {
   "cell_type": "code",
   "execution_count": null,
   "id": "525e8310-ad70-42b4-a8fd-462758555fd7",
   "metadata": {},
   "outputs": [],
   "source": [
    "## create an output directory if it doesn't exist\n",
    "dir.create('../out', showWarnings = FALSE)\n",
    "\n",
    "load_survival_data <- function(path, tumor_types=NULL){\n",
    "  ## path: path to data/Supplementary Tables.xlsx\n",
    "  ## tumor_types: (optional) may specify only a subset of tumor types present in the dataset.\n",
    "  combinedsurv <- read_excel(path, sheet=\"1. Patients\")\n",
    "  # Subset for tumor types if specified\n",
    "  if (!is.null(tumor_types)){\n",
    "    combinedsurv <- combinedsurv %>%\n",
    "    filter(str_detect(cancer_type, tumor_types))\n",
    "  }\n",
    "\n",
    "  # Drop NAs\n",
    "  combinedsurv <- combinedsurv %>%\n",
    "    filter(complete.cases(amplicon_class,OS_status,OS_months)) %>%\n",
    "    mutate(OS_months = as.numeric(OS_months)) %>%\n",
    "  # Censor at 5 years = 60 months\n",
    "    mutate(OS_months_5y = if_else(OS_months < 60, OS_months, 60)) %>%\n",
    "    mutate(OS_status_5y = if_else(OS_months <= 60, OS_status, \"Alive\")) %>%\n",
    "    mutate(OS_status_5y = if_else(OS_status_5y == \"Alive\", 0, 1)) %>%\n",
    "  # get ecDNA status\n",
    "    mutate(ecDNA_status = if_else(amplicon_class == \"ecDNA\", \"ecDNA+\", \"ecDNA-\")) %>%\n",
    "    mutate(amplicon_class = if_else(amplicon_class == \"intrachromosomal\", \"chromosomal\", amplicon_class)) %>%\n",
    "  # convert to factors\n",
    "    mutate(ecDNA_status = factor(ecDNA_status)) %>%\n",
    "    mutate(amplicon_class = factor(amplicon_class)) %>%\n",
    "    mutate(cancer_type = factor(cancer_type))\n",
    "    \n",
    "  return(combinedsurv)\n",
    "}\n",
    "\n",
    "cox_plot <- function(coxobj,data,outfile=NULL,width=3,height=6){\n",
    "  ## OSC function to perform a Cox regression and generate the plot\n",
    "  #coxph(Surv(OS_months, OS_status) ~ ecDNA_status + strata(cancer_type), data = data)\n",
    "  zph <-cox.zph(coxobj) \n",
    "  print(zph)\n",
    "  #ggcoxzph(zph)\n",
    "  #m4\n",
    "  #creating forest plots\n",
    "  plt <- ggforest(coxobj,data=as.data.frame(data)) +\n",
    "        theme_classic(base_size=7, base_family=\"Arial\") +\n",
    "        theme(axis.text = element_text(size=7,colour=\"black\"),\n",
    "              plot.title = element_text(size=7))\n",
    "\n",
    "  if(!is.null(outfile)){\n",
    "    pdf.options(encoding='ISOLatin2.enc')\n",
    "    pdfName = paste(outfile, \".pdf\", sep=\"\")\n",
    "    pngName = paste(outfile, \".png\", sep=\"\")\n",
    "    svgName = paste(outfile, \".svg\", sep = \"\")\n",
    "    ggsave(path=\"out\", filename=pdfName, device=\"pdf\", width=width, height=height, units='in')\n",
    "    ggsave(path=\"out\", device=\"png\", filename=pngName, width=width, height=height, units='in')\n",
    "    ggsave(path=\"out\", device=\"svg\", filename=svgName, width=width, height=height, units='in')\n",
    "  }\n",
    "  return(plt)\n",
    "}\n",
    "\n",
    "km_plot <- function(survObj,outfile=NULL){\n",
    "  ## OSC function to perform a KM analysis and generate the plot\n",
    "  if (length(survObj$n) == 2){\n",
    "    colors = c('blue', 'red')\n",
    "    labels = c('ecDNA-', 'ecDNA+')\n",
    "  } else if (length(survObj$n) == 3){\n",
    "    colors = c('magenta','red','dodgerblue')\n",
    "    labels = c('chromosomal','ecDNA','no amplification')\n",
    "  }\n",
    "  plt <- survObj %>% \n",
    "   ggsurvfit(linewidth=0.5) +\n",
    "   labs(x = 'Follow-up time (Months)',\n",
    "        y = 'Overall Survival') +\n",
    "   scale_color_manual(values = colors,\n",
    "                      labels = labels) +\n",
    "   scale_fill_manual(values = colors,\n",
    "                     labels = labels) +\n",
    "   scale_y_continuous(limits=c(0, 1))+\n",
    "   add_censor_mark(size = .5, alpha = 1) +\n",
    "   add_risktable(risktable_stats = \"n.risk\", size=2,\n",
    "                 theme = theme_risktable_default(axis.text.y.size = 7,\n",
    "                                    plot.title.size = 7)) +\n",
    "   add_risktable_strata_symbol(size=4) + \n",
    "   theme_classic(base_size=7, base_family=\"Arial\",) +\n",
    "   theme(axis.text = element_text(size=7,colour=\"black\"),\n",
    "         legend.position = \"bottom\",\n",
    "   )\n",
    "  if (length(survObj$n) <=3){\n",
    "    plt <- plt + add_confidence_interval()\n",
    "  }\n",
    "  \n",
    "  if(!is.null(outfile)){\n",
    "    pdf.options(encoding='ISOLatin2.enc')\n",
    "    pdfName = paste(outfile, \".pdf\", sep=\"\")\n",
    "    pngName = paste(outfile, \".png\", sep=\"\")\n",
    "    svgName = paste(outfile, \".svg\", sep = \"\")\n",
    "    ggsave(path=\"out\", filename=pdfName, device=\"pdf\", width=3, height=3.5, units='in')\n",
    "    ggsave(path=\"out\", device=\"png\", filename=pngName, width=3, height=3.5, units='in')\n",
    "    ggsave(path=\"out\", device=\"svg\", filename=svgName, width=3, height=3.5, units='in')\n",
    "  }\n",
    "  return(plt)\n",
    "}"
   ]
  },
  {
   "cell_type": "markdown",
   "id": "cbddc27e-f747-4422-84ac-a13db3bc40d5",
   "metadata": {},
   "source": [
    "# Kaplan-Meier regression"
   ]
  },
  {
   "cell_type": "code",
   "execution_count": null,
   "id": "105c8a05-eecd-46be-bd41-cdd093fd3288",
   "metadata": {},
   "outputs": [],
   "source": [
    "# KM amplicon type\n",
    "# KM by ecDNA status of tumor types with at least 1 sample with ecDNA, censored at 5 years\n",
    "dd2 <- load_survival_data(\"../data/Supplementary Tables 12_1_24.xlsx\") %>%\n",
    "  group_by(cancer_type) %>%\n",
    "  filter(n() >= 10) %>%\n",
    "  filter (any(OS_status == 'Deceased'))%>%\n",
    "  filter(any(amplicon_class == 'ecDNA'))%>%\n",
    "  ungroup()\n",
    "dd2$cancer_type <- droplevels(dd2$cancer_type) # drop unused levels\n",
    "dd2$cancer_type %>% unique() # print remaining levels\n",
    "\n",
    "formula = Surv(OS_months_5y, OS_status_5y) ~ amplicon_class\n",
    "km = survfit2(formula=formula, data = dd2 )\n",
    "km_plot(km, \"km_class_subset_5year\")\n",
    "#km_plot(km)\n",
    "logrank <- pairwise_survdiff(formula,dd2,p.adjust.method=\"BH\",rho=0)\n",
    "logrank\n",
    "\n"
   ]
  },
  {
   "cell_type": "markdown",
   "id": "04451ebf-727f-4b65-ad2c-53bdb62850b6",
   "metadata": {},
   "source": [
    "# Cox regressions\n",
    "\n",
    "We include tumor types which satisfy the following:\n",
    "- At least 10 patients\n",
    "- At least one death\n",
    "- At least one ecDNA"
   ]
  },
  {
   "cell_type": "code",
   "execution_count": null,
   "id": "ad6e6f31-69b3-4427-aab4-5eae492b5993",
   "metadata": {},
   "outputs": [],
   "source": [
    "# Set up dataset\n",
    "dd3 <-load_survival_data(\"../data/Supplementary Tables 12_1_24.xlsx\") %>%\n",
    "  group_by(cancer_type) %>%\n",
    "  filter(any(amplicon_class == 'ecDNA')) %>%\n",
    "  filter (any(OS_status == 'Deceased'))%>%\n",
    "  filter(n() >= 10) %>%\n",
    "  ungroup()\n",
    "dd3$amplicon_class = relevel(dd3$amplicon_class, ref = \"no amplification\")\n",
    "dd3$cancer_type = relevel(dd3$cancer_type, ref = \"LGG\")\n",
    "dim(dd3)\n",
    "dd3$cancer_type %>% unique()\n",
    "dd3$cancer_type <- droplevels(dd3$cancer_type)\n",
    "\n",
    "# print summary\n",
    "dd3 %>% group_by(amplicon_class, cancer_type) %>%\n",
    "  summarise(n=n())%>%\n",
    "  spread(cancer_type, n)\n",
    "\n",
    "# cox regression\n",
    "m4 <- coxph(Surv(OS_months_5y, OS_status_5y) ~ amplicon_class + cancer_type + sex + age_at_diagnosis, data = dd3)\n",
    "zph <-cox.zph(m4) \n",
    "print(\"zph\")\n",
    "print(zph)\n",
    "m4\n",
    "cox_plot(m4,dd3,\"cox_forest\",width=6,height=6)"
   ]
  },
  {
   "cell_type": "markdown",
   "id": "4cb1a7b2-518a-4ff7-b031-df7578a1b64d",
   "metadata": {},
   "source": [
    "# More plots, not included in the manuscript"
   ]
  },
  {
   "cell_type": "markdown",
   "id": "1dfd7f9e-f88b-4610-9960-4507ec246e84",
   "metadata": {
    "jp-MarkdownHeadingCollapsed": true
   },
   "source": [
    "## Alternative KM curves on the whole cohort"
   ]
  },
  {
   "cell_type": "code",
   "execution_count": null,
   "id": "620f677a-fb67-46d6-868c-c5774fbff826",
   "metadata": {},
   "outputs": [],
   "source": [
    "# KM by ecDNA status of combined cohort, censored at 5 years\n",
    "#no filters applied by cancer type or n value\n",
    "print(getwd())\n",
    "data <- load_survival_data(\"../data/Supplementary Tables 12_1_24.xlsx\")\n",
    "formula <- Surv(OS_months_5y, OS_status_5y) ~ ecDNA_status\n",
    "km <- survfit2(formula=formula, data=data)\n",
    "km_plot(km)\n",
    "#km_plot(km, \"km_surv_all_5year\")\n",
    "logrank <- survdiff(formula,data)\n",
    "logrank\n",
    "dim(data)"
   ]
  },
  {
   "cell_type": "code",
   "execution_count": null,
   "id": "4dd8a402-6cf6-4d01-9a8f-8e01a74b3b48",
   "metadata": {},
   "outputs": [],
   "source": [
    "# KM by amplicon type\n",
    "# no filters applied by tumor type or n value\n",
    "data <- load_survival_data(\"../data/Supplementary Tables 12_1_24.xlsx\") #%>%\n",
    "  #mutate(amplicon_class = recode(amplicon_class))\n",
    "formula <- Surv(OS_months_5y, OS_status_5y) ~ amplicon_class\n",
    "km <- survfit2(formula=formula, data=data)\n",
    "km_plot(km)\n",
    "#km_plot(km, \"km_class_all_5year\")\n",
    "logrank <- pairwise_survdiff(formula,data,p.adjust.method=\"BH\",rho=0)\n",
    "logrank"
   ]
  },
  {
   "cell_type": "code",
   "execution_count": null,
   "id": "151511a4-2b69-4bb4-83d9-137cb0c3d6fe",
   "metadata": {
    "scrolled": true
   },
   "outputs": [],
   "source": [
    "# KM by ecDNA status of tumor types with at least 1 sample with ecDNA, censored at 5 years\n",
    "#filtered by tumor type with ecDNA, n > 10 and at least one patient who is deceased\n",
    "dd2 <- load_survival_data(\"../data/Supplementary Tables 12_1_24.xlsx\") %>%\n",
    "  group_by(cancer_type) %>%\n",
    "  filter(any(amplicon_class == 'ecDNA')) %>%\n",
    "  filter(n() >= 10) %>%\n",
    "  filter (any(OS_status == 'Deceased'))%>%\n",
    "  ungroup()\n",
    "dd2$cancer_type <- droplevels(dd2$cancer_type) # drop unused levels\n",
    "dd2$cancer_type %>% unique() # print remaining levels\n",
    "\n",
    "formula <- Surv(OS_months_5y, OS_status_5y) ~ ecDNA_status\n",
    "km <- survfit2(formula=formula, data=dd2)\n",
    "km_plot(km)\n",
    "#km_plot(km, \"km_surv_subset_5year\")\n",
    "logrank <- survdiff(formula,dd2)\n",
    "logrank\n"
   ]
  },
  {
   "cell_type": "markdown",
   "id": "481f6d7d-c0aa-4b25-8e19-0dc46db1cf27",
   "metadata": {
    "jp-MarkdownHeadingCollapsed": true
   },
   "source": [
    "## Survival of HGG"
   ]
  },
  {
   "cell_type": "code",
   "execution_count": null,
   "id": "784cd58c-d5c8-48a3-8b93-fd58e2c5b47c",
   "metadata": {},
   "outputs": [],
   "source": [
    "# KM by amplicon type censored at 5 years\n",
    "dd2 <- load_survival_data(\"../data/Supplementary Tables 12_1_24.xlsx\") %>%\n",
    "  filter(str_detect(cancer_type, \"HGG\"))\n",
    "\n",
    "formula = Surv(OS_months_5y, OS_status_5y) ~ amplicon_class\n",
    "km = survfit2(formula=formula, data = dd2 )\n",
    "#km_plot(km, \"km_HGG_5year\")\n",
    "km_plot(km)\n",
    "logrank <- pairwise_survdiff(formula,dd2,p.adjust.method=\"BH\",rho=0)\n",
    "logrank"
   ]
  },
  {
   "cell_type": "markdown",
   "id": "38fef465-b5b1-4d27-9051-16c08e91bfc4",
   "metadata": {
    "jp-MarkdownHeadingCollapsed": true
   },
   "source": [
    "## HGG subtypes"
   ]
  },
  {
   "cell_type": "code",
   "execution_count": null,
   "id": "a65fb9e8-a24d-4f55-80e6-4484773ffa52",
   "metadata": {},
   "outputs": [],
   "source": [
    "dd5 <- load_survival_data(\"../data/Supplementary Tables 12_1_24.xlsx\") %>%\n",
    "  filter(str_detect(cancer_type, \"HGG\"))\n",
    "\n",
    "length(dd5)\n",
    "\n",
    "formula <- Surv(OS_months_5y, OS_status_5y) ~ ecDNA_status + cancer_subclass\n",
    "m2 <- coxph(formula = formula, data = dd5)\n",
    "m2\n",
    "# Check proportionality assumption\n",
    "coxZph <-cox.zph(m2) \n",
    "print(\"coxZph: \")\n",
    "print(coxZph)"
   ]
  },
  {
   "cell_type": "markdown",
   "id": "1b35d7f3-511b-4ce8-b97e-08f39ea12843",
   "metadata": {
    "jp-MarkdownHeadingCollapsed": true
   },
   "source": [
    "## Survival of H3K27 mutant HGG.\n",
    "Cox analysis: TP53 mutant is really bad for your prognosis, ecDNA nonsignificant."
   ]
  },
  {
   "cell_type": "code",
   "execution_count": null,
   "id": "7a5996d7-aaf9-4cf4-8abf-8c6e929fe320",
   "metadata": {},
   "outputs": [],
   "source": [
    "dd4 <- load_survival_data(\"../data/Supplementary Tables 12_1_24.xlsx\") %>%\n",
    "  filter(str_detect(cancer_subclass, \"K27\")) %>%\n",
    "  mutate(TP53_mutant = ifelse(str_detect(cancer_subclass, \"TP53\"), TRUE, FALSE))\n",
    "\n",
    "length(dd4)\n",
    "\n",
    "formula <- Surv(OS_months_5y, OS_status_5y) ~ ecDNA_status + TP53_mutant\n",
    "m2 <- coxph(formula = formula, data = dd4)\n",
    "m2\n",
    "# Check proportionality assumption\n",
    "coxZph <-cox.zph(m2) \n",
    "print(\"coxZph: \")\n",
    "print(coxZph)\n",
    "\n",
    "formula <- Surv(OS_months_5y, OS_status_5y) ~ ecDNA_status\n",
    "km <- survfit2(formula=formula, data=dd4)\n",
    "km_plot(km)\n",
    "#km_plot(km, \"km_surv_all_5year\")\n",
    "logrank <- survdiff(formula,dd4)\n",
    "logrank\n",
    "\n",
    "formula <- Surv(OS_months_5y, OS_status_5y) ~ TP53_mutant\n",
    "km <- survfit2(formula=formula, data=dd4)\n",
    "km_plot(km)\n",
    "#km_plot(km, \"km_surv_all_5year\")\n",
    "logrank <- survdiff(formula,dd4)\n",
    "logrank\n"
   ]
  },
  {
   "cell_type": "code",
   "execution_count": null,
   "id": "4dc15cdc-4387-4aac-9b91-76a5b0c45eab",
   "metadata": {},
   "outputs": [],
   "source": []
  }
 ],
 "metadata": {
  "kernelspec": {
   "display_name": "r-survival",
   "language": "R",
   "name": "r-survival"
  },
  "language_info": {
   "codemirror_mode": "r",
   "file_extension": ".r",
   "mimetype": "text/x-r-source",
   "name": "R",
   "pygments_lexer": "r",
   "version": "4.4.1"
  }
 },
 "nbformat": 4,
 "nbformat_minor": 5
}
