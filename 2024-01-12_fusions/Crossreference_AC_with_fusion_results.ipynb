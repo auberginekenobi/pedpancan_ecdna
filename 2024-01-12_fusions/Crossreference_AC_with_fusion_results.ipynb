{
 "cells": [
  {
   "cell_type": "markdown",
   "id": "af2c9574-c5f7-41e5-8703-d8bc5303694c",
   "metadata": {},
   "source": [
    "# Cross-reference AC gene amplifications with CBTN fusion calls\n",
    "This notebook identifies all fusion pairs in AmpliconClassifier results from CBTN which are also annotated in the fusion calls provided by CBTN. For a pair to be listed, it must satisfy the following requirements:\n",
    "- In AC gene_list results, one must be annotated as 5' truncated and the other 3' truncated, on the same amplicon classified as ecDNA\n",
    "- Both genes are listed as fusion partners in the annoFuse results for a RNA-seq fusion analysis corresponding to the same external biosample ID (7316-XXXX).\n",
    "\n",
    "TODO: For this notebook to work on CBTN-X01 biosamples, biosample names must be sanitized to the format BS_XXXXXXX, I think."
   ]
  },
  {
   "cell_type": "code",
   "execution_count": null,
   "id": "49b1f324-14dd-4d5b-800e-84c3a5848fb5",
   "metadata": {
    "tags": []
   },
   "outputs": [],
   "source": [
    "import sevenbridges as sbg\n",
    "import pandas as pd\n",
    "import pathlib\n",
    "import os\n",
    "import shutil\n",
    "\n",
    "pd.set_option('display.max_columns', None)"
   ]
  },
  {
   "cell_type": "code",
   "execution_count": null,
   "id": "eadcf665-4dcf-47eb-83f8-353e587dd76f",
   "metadata": {
    "tags": []
   },
   "outputs": [],
   "source": [
    "def import_biosamples(path=\"../data/Supplementary Tables.xlsx\"):\n",
    "    df = pd.read_excel(path, sheet_name=\"2. Biosamples\",index_col=0)\n",
    "    return df\n",
    "def import_annoFuse(path=\"../data/local/annoFuse/annoFuse_all.tsv\"):\n",
    "    df = pd.read_csv(path,sep='\\t')\n",
    "    return df\n",
    "def import_gene_list(path=\"../data/Supplementary Tables.xlsx\"):\n",
    "    df = pd.read_excel(path, sheet_name=\"4. Gene amplifications\")\n",
    "    return df"
   ]
  },
  {
   "cell_type": "code",
   "execution_count": null,
   "id": "2f8257d0-4731-404b-b0d3-55487775e354",
   "metadata": {
    "tags": []
   },
   "outputs": [],
   "source": [
    "#BS = import_biosamples()\n",
    "#BS = bs[~bs.external_sample_id.isna()]\n",
    "#AF = import_annoFuse()\n",
    "#GL = import_gene_list()"
   ]
  },
  {
   "cell_type": "code",
   "execution_count": null,
   "id": "3ac2f853-281b-4c23-8b8f-482d8e227e6d",
   "metadata": {
    "tags": []
   },
   "outputs": [],
   "source": [
    "## Setup API, set global variables\n",
    "\n",
    "# default config location is ~/.sevenbridges/credentials\n",
    "api = sbg.Api(config=sbg.Config(profile='cavatica'))\n",
    "\n",
    "PROJECT_ID='chapmano/pancancer-ecdna'\n",
    "ANNOFUSE_DIR = api.files.query(project=PROJECT_ID, names=['annoFuse'])[0]\n",
    "\n",
    "def get_metadata_table():\n",
    "    '''\n",
    "    Generate the metadata table of annoFuse results stored in chapmano/pancancer-ecdna/annoFuse\n",
    "    '''\n",
    "    # Assemble table of metadata, one row per file\n",
    "    metadata = pd.DataFrame()\n",
    "    files = api.files.query(parent=ANNOFUSE_DIR).all()\n",
    "    for file in files:\n",
    "        df = pd.DataFrame(data=file.metadata,index=[file.name])\n",
    "        metadata = pd.concat([metadata,df])\n",
    "    \n",
    "    metadata = metadata[[\"Kids First Biospecimen ID\",\"Kids First Participant ID\",\"sample_id\"]]\n",
    "    return metadata\n",
    "metadata = get_metadata_table()"
   ]
  },
  {
   "cell_type": "code",
   "execution_count": null,
   "id": "82a94510-d743-4752-9e69-3f4f34e94da6",
   "metadata": {},
   "outputs": [],
   "source": [
    "BS = import_biosamples()\n",
    "BS = bs[~bs.external_sample_id.isna()]\n",
    "AF = import_annoFuse()\n",
    "\n",
    "def view_group_head(grp):\n",
    "    for key, item in grp:\n",
    "        print(grp.get_group(key), \"\\n\\n\")\n",
    "        break\n",
    "\n",
    "def af_pairs(df):\n",
    "    pairs = set()\n",
    "    for index, row in df.iterrows():\n",
    "        if not pd.isna(row.Gene1A) and not pd.isna(row.Gene1B):\n",
    "            pairs.add((row.Gene1A, row.Gene1B))\n",
    "        if not pd.isna(row.Gene1A) and not pd.isna(row.Gene2B):\n",
    "            pairs.add((row.Gene1A, row.Gene2B))\n",
    "        if not pd.isna(row.Gene2A) and not pd.isna(row.Gene1B):\n",
    "            pairs.add((row.Gene2A, row.Gene1B))\n",
    "        if not pd.isna(row.Gene2A) and not pd.isna(row.Gene2B):\n",
    "            pairs.add((row.Gene2A, row.Gene2B))\n",
    "    return pairs\n",
    "\n",
    "def helper_fusions_by_amplicon(bs,af):\n",
    "    fusions = set()\n",
    "    genes_5p = bs[bs.truncated == '5p']['gene'].values\n",
    "    genes_3p = bs[bs.truncated == '3p']['gene'].values\n",
    "    pairs = af_pairs(af)\n",
    "    #print(genes_5p, genes_3p, pairs)\n",
    "    for pair in pairs:\n",
    "        if (pair[0] in genes_5p and pair[1] in genes_3p) or (pair[1] in genes_5p and pair[0] in genes_3p):\n",
    "            fusions.add(pair)\n",
    "    fusions = pd.DataFrame(fusions)\n",
    "    return fusions\n",
    "\n",
    "def id_fusions_by_amplicon(df):\n",
    "    bs=df.sample_name.unique()[0] # grouped by BS, so exactly 1 sample_name.\n",
    "    try:\n",
    "        external_sample_id = BS.loc[bs,'external_sample_id'] # at most 1 external sample id\n",
    "    except:\n",
    "        return pd.DataFrame()\n",
    "    bs_rna = metadata[metadata.sample_id == external_sample_id]['Kids First Biospecimen ID']\n",
    "    af = AF[AF.Sample.isin(bs_rna)]\n",
    "    fusions = helper_fusions_by_amplicon(df,af)\n",
    "    #fusions[\"WGS_biosample\"] = bs\n",
    "    fusions[\"external_biosample\"] = external_sample_id\n",
    "    fusions[\"RNA_biosample\"] = \", \".join(bs_rna.values)\n",
    "    return fusions\n",
    "\n",
    "def id_cbtn_fusions_on_ecDNA():\n",
    "    gl = import_gene_list()\n",
    "    # only look at truncated genes, on ecDNA, from CBTN\n",
    "    gl = gl[(gl.feature.str.startswith('ecDNA')) & (~gl.truncated.isna())]\n",
    "    grp = gl.groupby(by=['sample_name','feature'])\n",
    "    view_group_head(grp)\n",
    "    result = grp.apply(id_fusions_by_amplicon)\n",
    "    return result\n",
    "results = id_cbtn_fusions_on_ecDNA()"
   ]
  },
  {
   "cell_type": "code",
   "execution_count": null,
   "id": "044844ca-e9af-4059-974e-79d5907128e8",
   "metadata": {
    "tags": []
   },
   "outputs": [],
   "source": [
    "results.to_excel(\"out/annoFuse_fusions_on_ecDNA.xlsx\")"
   ]
  },
  {
   "cell_type": "code",
   "execution_count": null,
   "id": "85cb0b2e-090d-49f7-8c8f-99d833c17902",
   "metadata": {
    "tags": []
   },
   "outputs": [],
   "source": [
    "results"
   ]
  },
  {
   "cell_type": "code",
   "execution_count": null,
   "id": "4ce3243a-fcfb-42bd-aad6-533dae6c1b4d",
   "metadata": {
    "tags": []
   },
   "outputs": [],
   "source": [
    "# FOXO1-PAX7 fusions not listed because they are from SJ biosamples.\n",
    "gl[gl.gene=='FOXO1']"
   ]
  },
  {
   "cell_type": "code",
   "execution_count": null,
   "id": "de7b7afe-bce8-4133-96c7-cf0c364ab4fe",
   "metadata": {
    "tags": []
   },
   "outputs": [],
   "source": [
    "# Some external biosamples have multiple annoFuse results?! are the files the same?\n",
    "print(len(metadata))\n",
    "print(len(metadata.sample_id.unique()))"
   ]
  },
  {
   "cell_type": "code",
   "execution_count": null,
   "id": "9bd1f7c5-6c59-4934-b60e-0352f7257085",
   "metadata": {
    "tags": []
   },
   "outputs": [],
   "source": []
  },
  {
   "cell_type": "code",
   "execution_count": null,
   "id": "7b9164d4-afc1-4d16-a08c-b6a6a6c1a6fc",
   "metadata": {},
   "outputs": [],
   "source": []
  }
 ],
 "metadata": {
  "kernelspec": {
   "display_name": "Python 3 (ipykernel)",
   "language": "python",
   "name": "python3"
  },
  "language_info": {
   "codemirror_mode": {
    "name": "ipython",
    "version": 3
   },
   "file_extension": ".py",
   "mimetype": "text/x-python",
   "name": "python",
   "nbconvert_exporter": "python",
   "pygments_lexer": "ipython3",
   "version": "3.10.14"
  }
 },
 "nbformat": 4,
 "nbformat_minor": 5
}
