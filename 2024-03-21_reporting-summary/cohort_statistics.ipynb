{
 "cells": [
  {
   "cell_type": "code",
   "execution_count": 1,
   "id": "109e2da4-0f1b-4c1e-a76e-c86256a462e9",
   "metadata": {
    "tags": []
   },
   "outputs": [],
   "source": [
    "import pandas as pd\n",
    "pd.set_option('display.max_rows', None)\n",
    "pd.set_option('display.max_columns', None)\n",
    "import numpy as np\n",
    "import matplotlib.pyplot as plt\n",
    "import seaborn as sns\n",
    "import scipy.stats"
   ]
  },
  {
   "cell_type": "code",
   "execution_count": 2,
   "id": "4454c2f0-54ce-4404-8f66-751e731bbb4b",
   "metadata": {
    "tags": []
   },
   "outputs": [],
   "source": [
    "SUPPLEMENTARY_TABLES_PATH=\"/Users/ochapman/projects/pedpancan_ecdna/data/Supplementary Tables.xlsx\"\n",
    "\n",
    "def import_patients():\n",
    "    return pd.read_excel(SUPPLEMENTARY_TABLES_PATH,sheet_name=\"1. Patients\",index_col=0)\n",
    "def import_biosamples():\n",
    "    return pd.read_excel(SUPPLEMENTARY_TABLES_PATH,sheet_name=\"2. Biosamples\",index_col=0)\n",
    "def import_amplicons():\n",
    "    return pd.read_excel(SUPPLEMENTARY_TABLES_PATH,sheet_name=\"3. Amplicons\")\n",
    "def import_genes():\n",
    "    return pd.read_excel(SUPPLEMENTARY_TABLES_PATH,sheet_name=\"4. Gene amplifications\")\n",
    "BIOSAMPLES = import_biosamples()"
   ]
  },
  {
   "cell_type": "code",
   "execution_count": 3,
   "id": "28c63f13-1a10-4665-b924-4066953a6b2d",
   "metadata": {
    "tags": []
   },
   "outputs": [],
   "source": [
    "PATIENTS = import_patients()"
   ]
  },
  {
   "cell_type": "code",
   "execution_count": 5,
   "id": "9695e637-d1ba-4913-9592-0585d087d89e",
   "metadata": {
    "tags": []
   },
   "outputs": [
    {
     "data": {
      "text/html": [
       "<div>\n",
       "<style scoped>\n",
       "    .dataframe tbody tr th:only-of-type {\n",
       "        vertical-align: middle;\n",
       "    }\n",
       "\n",
       "    .dataframe tbody tr th {\n",
       "        vertical-align: top;\n",
       "    }\n",
       "\n",
       "    .dataframe thead th {\n",
       "        text-align: right;\n",
       "    }\n",
       "</style>\n",
       "<table border=\"1\" class=\"dataframe\">\n",
       "  <thead>\n",
       "    <tr style=\"text-align: right;\">\n",
       "      <th></th>\n",
       "      <th>age_at_diagnosis</th>\n",
       "      <th>cohort</th>\n",
       "      <th>cancer_type</th>\n",
       "      <th>cancer_subclass</th>\n",
       "      <th>amplicon_class</th>\n",
       "      <th>OS_status</th>\n",
       "      <th>OS_months</th>\n",
       "    </tr>\n",
       "    <tr>\n",
       "      <th>sex</th>\n",
       "      <th></th>\n",
       "      <th></th>\n",
       "      <th></th>\n",
       "      <th></th>\n",
       "      <th></th>\n",
       "      <th></th>\n",
       "      <th></th>\n",
       "    </tr>\n",
       "  </thead>\n",
       "  <tbody>\n",
       "    <tr>\n",
       "      <th>Female</th>\n",
       "      <td>601</td>\n",
       "      <td>632</td>\n",
       "      <td>632</td>\n",
       "      <td>393</td>\n",
       "      <td>632</td>\n",
       "      <td>591</td>\n",
       "      <td>528</td>\n",
       "    </tr>\n",
       "    <tr>\n",
       "      <th>Male</th>\n",
       "      <td>722</td>\n",
       "      <td>753</td>\n",
       "      <td>753</td>\n",
       "      <td>495</td>\n",
       "      <td>753</td>\n",
       "      <td>711</td>\n",
       "      <td>636</td>\n",
       "    </tr>\n",
       "  </tbody>\n",
       "</table>\n",
       "</div>"
      ],
      "text/plain": [
       "        age_at_diagnosis  cohort  cancer_type  cancer_subclass   \n",
       "sex                                                              \n",
       "Female               601     632          632              393  \\\n",
       "Male                 722     753          753              495   \n",
       "\n",
       "        amplicon_class  OS_status  OS_months  \n",
       "sex                                           \n",
       "Female             632        591        528  \n",
       "Male               753        711        636  "
      ]
     },
     "execution_count": 5,
     "metadata": {},
     "output_type": "execute_result"
    }
   ],
   "source": [
    "PATIENTS.groupby('sex').count()"
   ]
  },
  {
   "cell_type": "code",
   "execution_count": 22,
   "id": "f249ecde-4433-4e7d-9059-6531b064ba3d",
   "metadata": {
    "tags": []
   },
   "outputs": [
    {
     "name": "stdout",
     "output_type": "stream",
     "text": [
      "Patient cohort had mean age 8.688073602119472 with standard deviation 6.020247281352094\n"
     ]
    }
   ],
   "source": [
    "m = PATIENTS.age_at_diagnosis.mean()\n",
    "sd = PATIENTS.age_at_diagnosis.std()\n",
    "print(f\"Patient cohort had mean age {m/365.25} with standard deviation {sd/365.25}\")"
   ]
  },
  {
   "cell_type": "code",
   "execution_count": 10,
   "id": "4fe1465f-7509-4e18-92d2-cf8b9a63794c",
   "metadata": {
    "tags": []
   },
   "outputs": [
    {
     "data": {
      "text/plain": [
       "1444"
      ]
     },
     "execution_count": 10,
     "metadata": {},
     "output_type": "execute_result"
    }
   ],
   "source": []
  },
  {
   "cell_type": "code",
   "execution_count": 11,
   "id": "0a1b400e-c3ee-4fcd-9871-9b05f47a3a2a",
   "metadata": {
    "tags": []
   },
   "outputs": [
    {
     "data": {
      "text/plain": [
       "0.543682310469314"
      ]
     },
     "execution_count": 11,
     "metadata": {},
     "output_type": "execute_result"
    }
   ],
   "source": []
  },
  {
   "cell_type": "code",
   "execution_count": null,
   "id": "1cf4ab34-8925-4c0c-b5ba-b14dde883770",
   "metadata": {},
   "outputs": [],
   "source": []
  }
 ],
 "metadata": {
  "kernelspec": {
   "display_name": "py3",
   "language": "python",
   "name": "py3"
  },
  "language_info": {
   "codemirror_mode": {
    "name": "ipython",
    "version": 3
   },
   "file_extension": ".py",
   "mimetype": "text/x-python",
   "name": "python",
   "nbconvert_exporter": "python",
   "pygments_lexer": "ipython3",
   "version": "3.11.3"
  }
 },
 "nbformat": 4,
 "nbformat_minor": 5
}
