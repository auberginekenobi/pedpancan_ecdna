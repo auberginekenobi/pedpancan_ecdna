{
 "cells": [
  {
   "cell_type": "markdown",
   "id": "349c96a5-b4d8-4768-a6bc-99575b1b849d",
   "metadata": {},
   "source": [
    "# Explore the effects of various metadata covariates on ecDNA predictions.\n",
    "https://stats.oarc.ucla.edu/other/mult-pkg/introduction-to-generalized-linear-mixed-models/\n",
    "Use a logistic mixed model? https://stats.oarc.ucla.edu/r/dae/mixed-effects-logistic-regression/"
   ]
  },
  {
   "cell_type": "code",
   "execution_count": null,
   "id": "0782d026-863e-46dc-b2b3-5b25aa8f830a",
   "metadata": {},
   "outputs": [],
   "source": [
    "import pandas as pd\n",
    "import numpy as np\n",
    "import seaborn as sns\n",
    "import matplotlib.pyplot as plt\n",
    "import scipy.stats\n",
    "import sys\n",
    "from pathlib import Path\n",
    "\n",
    "sys.path.append('../src')\n",
    "Path(\"out\").mkdir(parents=True, exist_ok=True)\n",
    "\n",
    "import data_imports\n",
    "\n",
    "pd.set_option('display.max_columns', None)"
   ]
  },
  {
   "cell_type": "code",
   "execution_count": null,
   "id": "a60f2918-39a1-43e8-9df4-2f15a9c41014",
   "metadata": {},
   "outputs": [],
   "source": [
    "data_imports.generate_cbtn_biosample_table(verbose=1)"
   ]
  },
  {
   "cell_type": "code",
   "execution_count": null,
   "id": "ac6b20d7-7a88-4bd9-a475-31fb6e8e2461",
   "metadata": {},
   "outputs": [],
   "source": []
  }
 ],
 "metadata": {
  "kernelspec": {
   "display_name": "py3",
   "language": "python",
   "name": "py3"
  },
  "language_info": {
   "codemirror_mode": {
    "name": "ipython",
    "version": 3
   },
   "file_extension": ".py",
   "mimetype": "text/x-python",
   "name": "python",
   "nbconvert_exporter": "python",
   "pygments_lexer": "ipython3",
   "version": "3.12.5"
  }
 },
 "nbformat": 4,
 "nbformat_minor": 5
}
