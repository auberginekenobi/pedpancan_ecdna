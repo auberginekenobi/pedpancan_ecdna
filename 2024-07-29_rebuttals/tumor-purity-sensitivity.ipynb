{
 "cells": [
  {
   "cell_type": "markdown",
   "id": "349c96a5-b4d8-4768-a6bc-99575b1b849d",
   "metadata": {},
   "source": [
    "# Explore the effects of tumor purity on ecDNA annotations.\n",
    "**Please remember not to commit data or visualizations to GitHub!**\n",
    "\n",
    "Best way to do this is to clear outputs of all cells before saving and committing changes to a notebook, and to make good use of the .gitignore file.\n",
    "\n",
    "## Requirements\n",
    "Data:\n",
    "- `../data/cloud/opentarget/histologies.tsv` (get this file from OneDrive/2023-pedpancan/data/opentarget/histologies.tsv)\n",
    "\n",
    "Software:\n",
    "- pandas\n",
    "- numpy\n",
    "- seaborn\n",
    "- scipy\n",
    "- sklearn\n",
    "\n",
    "## Results\n",
    "- OpenPBTA has already applied 4 tumor purity estimators to many samples, using WGS or methylation data:\n",
    "```\n",
    "    total number of CBTN samples: 1874  \n",
    "    samples with tumor_fraction_THetA2 estimate: 1655  \n",
    "    samples with tumor_fraction_RFpurify_ABSOLUTE estimate: 1206  \n",
    "    samples with tumor_fraction_RFpurify_ESTIMATE estimate: 1206  \n",
    "    samples with tumor_fraction_LUMP estimate: 1205  \n",
    "    samples with estimates from all estimators: 1099\n",
    "```\n",
    "- For these, we can ask whether there is an association between estimates from the same samples:\n",
    "    - Weak correlation between THetA2 (WGS) and other estimators (methyl)\n",
    "    - Strong correlation between estimators using methylation\n",
    "- Logistic regression figure saved to `out/TODO`\n",
    "- Tumor purity has nonsignificant effect on ecDNA prediction (likelihood ratio test, p=0.20, comparing models with covariates for sex, age, tumor type and extent of resection on n=1020 examples)."
   ]
  },
  {
   "cell_type": "code",
   "execution_count": null,
   "id": "0782d026-863e-46dc-b2b3-5b25aa8f830a",
   "metadata": {},
   "outputs": [],
   "source": [
    "import pandas as pd\n",
    "import numpy as np\n",
    "import seaborn as sns\n",
    "import matplotlib.pyplot as plt\n",
    "import scipy.stats\n",
    "import numpy as np\n",
    "from scipy.stats import chi2\n",
    "from sklearn.metrics import log_loss\n",
    "from sklearn.linear_model import LogisticRegression\n",
    "\n",
    "import warnings\n",
    "import sys\n",
    "from pathlib import Path\n",
    "\n",
    "sys.path.append('../src')\n",
    "Path(\"out\").mkdir(parents=True, exist_ok=True)\n",
    "\n",
    "import data_imports\n",
    "\n",
    "pd.set_option('display.max_columns', None)"
   ]
  },
  {
   "cell_type": "code",
   "execution_count": null,
   "id": "a60f2918-39a1-43e8-9df4-2f15a9c41014",
   "metadata": {},
   "outputs": [],
   "source": [
    "warnings.filterwarnings('ignore', '.*differs between CAVATICA and opentarget annotations.*')\n",
    "df = data_imports.generate_cbtn_biosample_table(verbose=2)\n",
    "df = data_imports.unify_tumor_diagnoses(df,include_HM=False)\n",
    "df = data_imports.clean_tumor_diagnoses(df)\n",
    "df = data_imports.annotate_with_ecDNA(df)\n",
    "df = data_imports.annotate_amplicon_class(df)\n",
    "df = data_imports.annotate_duplicate_biosamples(df)\n",
    "warnings.resetwarnings()\n",
    "#df=df[df.in_unique_patient_set]\n",
    "df.rename(columns={'tumor_fraction': 'tumor_fraction_THetA2'}, inplace=True)"
   ]
  },
  {
   "cell_type": "code",
   "execution_count": null,
   "id": "ac6b20d7-7a88-4bd9-a475-31fb6e8e2461",
   "metadata": {
    "scrolled": true
   },
   "outputs": [],
   "source": [
    "print(len(df))\n",
    "df.head(n=1)"
   ]
  },
  {
   "cell_type": "code",
   "execution_count": null,
   "id": "c84767ca-c706-404a-8abf-4404b1e4a3d7",
   "metadata": {},
   "outputs": [],
   "source": [
    "df.to_csv('out/suppl_biosample_tumor_purity.tsv',sep='\\t')"
   ]
  },
  {
   "cell_type": "code",
   "execution_count": null,
   "id": "399f8f7d-0f4f-468c-8818-0e737623176d",
   "metadata": {},
   "outputs": [],
   "source": [
    "# Some helper functions\n",
    "def savefig(fig, basename):\n",
    "    pngName = basename + \".png\"\n",
    "    svgName = basename + \".svg\"\n",
    "    fig.savefig(pngName,format='png')\n",
    "    fig.savefig(svgName,format='svg')\n",
    "def set_plot_defaults():\n",
    "    linewidth=0.75\n",
    "    fontsize=10\n",
    "    sns.set(rc={'svg.fonttype':'none',\n",
    "                'pdf.use14corefonts':True,\n",
    "                'figure.figsize':(7,2),\n",
    "                'font.size': fontsize,'axes.labelsize': fontsize,'axes.titlesize': fontsize,'xtick.labelsize': fontsize,\n",
    "                'ytick.labelsize': fontsize,'legend.fontsize': fontsize,\n",
    "                'font.family':'sans-serif',\n",
    "                'font.sans-serif':'Arial',\n",
    "                'axes.linewidth':linewidth,\n",
    "                'ytick.major.width':linewidth,\n",
    "                })\n",
    "    sns.set_style(\"white\")\n",
    "    sns.despine()\n",
    "    return"
   ]
  },
  {
   "cell_type": "markdown",
   "id": "19a6b288-b02b-4fb8-900b-4421941e9187",
   "metadata": {},
   "source": [
    "## Tumor fraction metrics metaanalysis\n",
    "OpenPBTA has 4 (four!) annotations for tumor fraction:\n",
    "- tumor_fraction (THetA2, from WGS)\n",
    "- tumor_fraction_RFpurify_ABSOLUTE (random forest predicting ABSOLUTE estimates (SNP array))\n",
    "- tumor_fraction_RFpurify_ESTIMATE (random forest predicting ESTIMATE estimates (RNA-seq or affy array))\n",
    "- tumor_fraction_LUMP (from leukocyte-specific CpGs in 450k array)\n",
    "\n",
    "We're going to use THetA2 for downstream analyses but it's useful to know how well these estimates agree with each other."
   ]
  },
  {
   "cell_type": "code",
   "execution_count": null,
   "id": "2abc388f-1b69-446b-952a-7358332729d6",
   "metadata": {
    "scrolled": true
   },
   "outputs": [],
   "source": [
    "purity_estimators = ['tumor_fraction_THetA2','tumor_fraction_RFpurify_ABSOLUTE','tumor_fraction_RFpurify_ESTIMATE','tumor_fraction_LUMP']\n",
    "cbtn_purity_data = df[purity_estimators+['in_unique_tumor_set']].copy()\n",
    "cbtn_purity_data.head(n=1)"
   ]
  },
  {
   "cell_type": "code",
   "execution_count": null,
   "id": "29706ab5-f07a-4807-85e2-d41ee6a2fad8",
   "metadata": {},
   "outputs": [],
   "source": [
    "# How complete are the tumor purity estimates?\n",
    "def report_purity_completeness(df):\n",
    "    ddf=df[df['in_unique_tumor_set']]\n",
    "    df = df[purity_estimators]\n",
    "    print(f'total number of CBTN samples: {len(df)}')\n",
    "    print(f'total number of CBTN tumors: {len(ddf)}')\n",
    "    for col in df.columns:\n",
    "        print(f'samples with {col} estimate: {df[col].count()}')\n",
    "        print(f'tumors with {col} estimate: {ddf[col].count()}')\n",
    "    print(f'samples with estimates from all estimators: {len(df.dropna())}')\n",
    "    print(f'tumors with estimates from all estimators: {len(ddf.dropna())}')\n",
    "report_purity_completeness(cbtn_purity_data)"
   ]
  },
  {
   "cell_type": "code",
   "execution_count": null,
   "id": "b2e196cb-47bf-4c84-a3ad-b31aed27e703",
   "metadata": {},
   "outputs": [],
   "source": [
    "# How concordant are the tumor purity estimates?\n",
    "def compare_purity_estimators(df):\n",
    "    df=df[df['in_unique_tumor_set']]\n",
    "    df=df.dropna()\n",
    "    df = df[purity_estimators]\n",
    "    df=df.rename(mapper=lambda x:x.removeprefix(\"tumor_fraction_\") ,axis=1)\n",
    "    corr = df.corr(method='pearson')\n",
    "\n",
    "    mask = np.triu(np.ones_like(corr, dtype=bool),k=1)\n",
    "    fig, ax = plt.subplots(figsize=(5, 4))\n",
    "    cmap = sns.diverging_palette(220, 10, as_cmap=True)\n",
    "    sns.heatmap(corr, mask=mask, cmap=cmap, vmin=-1, vmax=1, annot=True, fmt=\".2f\",\n",
    "                square=True, linewidths=.5, cbar_kws={\"shrink\": .8}, ax=ax)\n",
    "    \n",
    "    ax.set_title(\"Concordance between tumor purity estimators\")\n",
    "    plt.tight_layout()\n",
    "    plt.show()\n",
    "    return fig, ax\n",
    "set_plot_defaults()\n",
    "fig, ax = compare_purity_estimators(cbtn_purity_data)\n",
    "savefig(fig, 'out/purity_estimator_concordance')"
   ]
  },
  {
   "cell_type": "markdown",
   "id": "7e8845d4-03c6-47c5-933c-8a6bb652258b",
   "metadata": {},
   "source": [
    "## Association with ecDNA\n",
    "\n",
    "- boxplot of ecDNA as a function of tumor_purity:  \n",
    "  `out/boxplot_ecDNA_tumor_purity`\n",
    "- likelihood ratio test to see if adding tumor_purity significantly improves the model.\n",
    "  https://www.statology.org/likelihood-ratio-test-in-python/\n",
    "    - LRT for THetA2 on base model of age, sex, extent of resection, cancer type: p=0.35, n=681\n",
    "    - LRT for RFpurify_ABSOLUTE on base model of age, sex, extent of resection, cancer type: p=0.002, n=631\n",
    "    - LRT for THetA2 on base model of age, sex, cancer type: p=0.12, n=2072"
   ]
  },
  {
   "cell_type": "code",
   "execution_count": null,
   "id": "6b5ae791-8889-460c-981d-71abd0284060",
   "metadata": {},
   "outputs": [],
   "source": [
    "# Load THetA2 data for full cohort\n",
    "def load_theta2_data(cbtn_data, sj_data):\n",
    "    df = data_imports.import_biosamples()\n",
    "    df['tumor_fraction_THetA2'] = cbtn_data['tumor_fraction_THetA2']\n",
    "    df.loc[sj_data.index,'tumor_fraction_THetA2'] = sj_data['TumorFraction']\n",
    "    #df=df[df['in_unique_tumor_set']]\n",
    "    return df\n",
    "\n",
    "sj_data = pd.read_excel('../manuscript/collaborators/Rishaan/SJ_tumor_purity.xlsx',index_col='biosample_id')\n",
    "full_df = load_theta2_data(df,sj_data)\n",
    "\n",
    "b = full_df[(~full_df['tumor_fraction_THetA2'].isna())]\n",
    "t = b[b.in_unique_tumor_set]\n",
    "print(f'Biosamples analyzed with THetA2: {len(b)}')\n",
    "print(f'Tumors analyzed with THetA2: {len(t)}')"
   ]
  },
  {
   "cell_type": "code",
   "execution_count": null,
   "id": "5a82f04e-a6d9-4cb8-a5c9-836eacffeb7a",
   "metadata": {},
   "outputs": [],
   "source": [
    "# How many SJ samples analyzed by THetA2?\n",
    "full_df.head(n=1)\n",
    "sjb = full_df[\n",
    "    (full_df['cohort'].str.startswith('SJC')) &\n",
    "    (~full_df['tumor_fraction_THetA2'].isna())\n",
    "]\n",
    "sjt = sjb[sjb.in_unique_tumor_set]\n",
    "print(f'SJ biosamples analyzed with THetA2: {len(sjb)}')\n",
    "print(f'SJ tumors analyzed with THetA2: {len(sjt)}')"
   ]
  },
  {
   "cell_type": "code",
   "execution_count": null,
   "id": "7e97bcf1-f0cc-4ed3-9d17-c9fb81c938e4",
   "metadata": {},
   "outputs": [],
   "source": [
    "from scipy.stats import f_oneway\n",
    "\n",
    "def plot_ecDNA_vs_tumor_purity(data):\n",
    "    data=data[data['in_unique_tumor_set']]\n",
    "    data = data.dropna(subset=['amplicon_class','tumor_fraction_THetA2'])\n",
    "\n",
    "    # one-way ANOVA:\n",
    "    groups = [group['tumor_fraction_THetA2'].values for _, group in data.groupby('amplicon_class')]\n",
    "    f_stat, p_value = f_oneway(*groups)\n",
    "    print(f\"F-statistic: {f_stat}, p-value: {p_value}\")\n",
    "    \n",
    "    # figure\n",
    "    fig, ax = plt.subplots(figsize=(5, 4))\n",
    "    order=sorted(data['amplicon_class'].unique())\n",
    "    sns.boxplot(data=data,x='amplicon_class',y='tumor_fraction_THetA2',order=order,ax=ax)\n",
    "    plt.tight_layout()\n",
    "    sns.despine()\n",
    "    return fig,ax\n",
    "\n",
    "set_plot_defaults()\n",
    "fig, ax = plot_ecDNA_vs_tumor_purity(full_df)\n",
    "savefig(fig, 'out/boxplot_ecDNA_tumor_purity')"
   ]
  },
  {
   "cell_type": "code",
   "execution_count": null,
   "id": "25d9e185-a978-426f-a94d-fadd72a2fa03",
   "metadata": {
    "scrolled": true
   },
   "outputs": [],
   "source": [
    "\"\"\"\n",
    "Copyright 2017 Ronald J. Nowling\n",
    "Licensed under the Apache License, Version 2.0 (the \"License\");\n",
    "you may not use this file except in compliance with the License.\n",
    "You may obtain a copy of the License at\n",
    "    http://www.apache.org/licenses/LICENSE-2.0\n",
    "Unless required by applicable law or agreed to in writing, software\n",
    "distributed under the License is distributed on an \"AS IS\" BASIS,\n",
    "WITHOUT WARRANTIES OR CONDITIONS OF ANY KIND, either express or implied.\n",
    "See the License for the specific language governing permissions and\n",
    "limitations under the License.\n",
    "\"\"\"\n",
    "\n",
    "def likelihood_ratio_test(features_alternate, labels, lr_model, features_null=None):\n",
    "    \"\"\"\n",
    "    Compute the likelihood ratio test for a model trained on the set of features in\n",
    "    `features_alternate` vs a null model.  If `features_null` is not defined, then\n",
    "    the null model simply uses the intercept (class probabilities).  Note that\n",
    "    `features_null` must be a subset of `features_alternative` -- it can not contain\n",
    "    features that are not in `features_alternate`.\n",
    "    Returns the p-value, which can be used to accept or reject the null hypothesis.\n",
    "    \"\"\"\n",
    "    labels = np.array(labels)\n",
    "    features_alternate = np.array(features_alternate)\n",
    "    \n",
    "    if features_null is not None:\n",
    "        features_null = np.array(features_null)\n",
    "        \n",
    "        if features_null.shape[1] >= features_alternate.shape[1]:\n",
    "            raise ValueError(\"Alternate features must have more features than null features\")\n",
    "        \n",
    "        lr_model.fit(features_null, labels)\n",
    "        null_prob = lr_model.predict_proba(features_null)#[:, 1]\n",
    "        df = features_alternate.shape[1] - features_null.shape[1]\n",
    "    else:\n",
    "        null_prob = sum(labels) / float(labels.shape[0]) * \\\n",
    "                    np.ones(labels.shape)\n",
    "        df = features_alternate.shape[1]\n",
    "    \n",
    "    lr_model.fit(features_alternate, labels)\n",
    "    alt_prob = lr_model.predict_proba(features_alternate)\n",
    "\n",
    "    alt_log_likelihood = -log_loss(labels,\n",
    "                                   alt_prob,\n",
    "                                   normalize=False)\n",
    "    null_log_likelihood = -log_loss(labels,\n",
    "                                    null_prob,\n",
    "                                    normalize=False)\n",
    "\n",
    "    G = 2 * (alt_log_likelihood - null_log_likelihood)\n",
    "    p_value = chi2.sf(G, df)\n",
    "\n",
    "    return p_value"
   ]
  },
  {
   "cell_type": "code",
   "execution_count": null,
   "id": "23d4e9a9-2aed-462b-a9bd-99c4de162720",
   "metadata": {},
   "outputs": [],
   "source": [
    "def test_purity(asdf,variable,include_extent_of_resection=True):\n",
    "    if include_extent_of_resection:\n",
    "        v1 = ['sex','age_at_diagnosis','extent_of_tumor_resection','cancer_type']\n",
    "    else:\n",
    "        v1 = ['sex','age_at_diagnosis','cancer_type']\n",
    "    v2 = v1 + [variable]\n",
    "    asdf=asdf[asdf['in_unique_tumor_set']]\n",
    "    data = asdf[v2+['amplicon_class']].dropna()\n",
    "    # drop rare values\n",
    "    if include_extent_of_resection:\n",
    "        cts = data.extent_of_tumor_resection.value_counts()\n",
    "        keep = cts[cts >=5].index\n",
    "        data = data[data.extent_of_tumor_resection.isin(keep)]\n",
    "    # keep only tumor types with at least 1 example of ecDNA, intrachromosomal, no amp\n",
    "    amp_classes = set(data['amplicon_class'].unique())\n",
    "    gb = data.groupby('cancer_type')['amplicon_class'].nunique()\n",
    "    complete_types = gb[gb == len(amp_classes)].index\n",
    "    print(complete_types)\n",
    "    data = data[data['cancer_type'].isin(complete_types)]\n",
    "    print(len(data))\n",
    "    \n",
    "    # data definitions\n",
    "    y = data.amplicon_class\n",
    "    x1=pd.get_dummies(data[v1])\n",
    "    x2=pd.get_dummies(data[v2])\n",
    "    \n",
    "    # models\n",
    "    model = LogisticRegression(penalty=None,solver='newton-cg')\n",
    "    \n",
    "    return likelihood_ratio_test(features_alternate=x2,features_null=x1,lr_model=model,labels=y)"
   ]
  },
  {
   "cell_type": "code",
   "execution_count": null,
   "id": "93d9f50e-22e5-40f0-b6b1-11deb7d69693",
   "metadata": {},
   "outputs": [],
   "source": [
    "# Test THetA2 on CBTN dataset\n",
    "test_purity(df,'tumor_fraction_THetA2')"
   ]
  },
  {
   "cell_type": "code",
   "execution_count": null,
   "id": "d1613185-871b-4d45-932f-9223973d0acf",
   "metadata": {},
   "outputs": [],
   "source": [
    "# Test RFpurify_ABSOLUTE on CBTN dataset\n",
    "test_purity(df,'tumor_fraction_RFpurify_ABSOLUTE')"
   ]
  },
  {
   "cell_type": "code",
   "execution_count": null,
   "id": "d1ddb311-c2f4-4b1d-b257-15bdee2618ca",
   "metadata": {},
   "outputs": [],
   "source": [
    "# Test THetA2 on full dataset\n",
    "test_purity(full_df,'tumor_fraction_THetA2',include_extent_of_resection=False)"
   ]
  },
  {
   "attachments": {},
   "cell_type": "markdown",
   "id": "35b36768-cb32-4793-8742-72c627d3727f",
   "metadata": {},
   "source": [
    "## Remove 'low-purity' tumors?\n",
    "\n",
    "What happens if we remove 'low-purity' tumors?\n",
    "- Lose 257 tumor samples\n",
    "- ecDNA fraction increases for most tumor types\n",
    "- Lose only ecDNA+ LGG\n",
    "- Drop SJST031620_D1? Conflicting metadata, might be rhabdomyosarcoma\n",
    "\n",
    "What do the ecDNA amps look like in 'low-purity' tumors?\n",
    "- BS_DYA4EMPF: clear high-copy CDK4 ecDNA\n",
    "- BS_2296JPP5: clear high-copy BIRC3 ecDNA\n",
    "- BS_E1FCN4JK: 2 clear high-copy ecDNA\n",
    "- SJOS001110_D1: low-copy ecDNA present\n",
    "- SJLGG040_D: low-copy ecDNA present\n",
    "- SJHGG030230_D1: Could be FP\n",
    "- *SJHGG030230_R1: Same amp, complex rearrangements. Could be ecDNA or CNC.\n",
    "- SJRHB031244_D2: Messy BP graph, lots of edges mapping to no change in CN.\n",
    "- *SJRHB031244_D1: 2 clear ecDNA.\n",
    "- SJST031395_D1: clear ecDNA\n",
    "- SJST031620_D2: No amp\n",
    "- SJST031620_D1: Clear MYCL ecDNA, but metadata ambiguously classify as Wilms or rhabdomyosarcoma.\n",
    "- SJNBL031668_D1: Messy BP graph, high copy, probably heterogeneous ecDNA\n",
    "- *SJNBL031668_D2: Same\n",
    "- SJHGG031966_D1: Messy BP graph, probably ecDNA\n",
    "- SJHGG032168_D1: low-copy PDGFB ecDNA present\n",
    "\n",
    "\\* Passes purity threshold but paired with sample that did not."
   ]
  },
  {
   "cell_type": "code",
   "execution_count": null,
   "id": "ca04e087-415c-4322-bc41-0e9344a0dd16",
   "metadata": {},
   "outputs": [],
   "source": [
    "def examine_low_purity_tumors(df,threshold=0.1,metric='tumor_fraction_THetA2'):\n",
    "    df = df[df[metric] < threshold]\n",
    "    print(f\"'Low-purity' tumors to be removed at threshold {threshold}: {len(df)}\")\n",
    "    print(f\"Low-purity tumors by {df.groupby([\"cancer_type\",\"amplicon_class\"])['patient_id'].count()}\")\n",
    "    ec_subset = df[df.amplicon_class == 'ecDNA']\n",
    "    return ec_subset"
   ]
  },
  {
   "cell_type": "code",
   "execution_count": null,
   "id": "4bb6d01d-d7df-4ba5-a33e-f6c001cdcde2",
   "metadata": {
    "scrolled": true
   },
   "outputs": [],
   "source": [
    "ec_subset = examine_low_purity_tumors(full_df)"
   ]
  },
  {
   "cell_type": "code",
   "execution_count": null,
   "id": "a9bdc610-180d-40db-ba0f-70b64e958e8a",
   "metadata": {},
   "outputs": [],
   "source": [
    "lq_tumors = ec_subset.index\n",
    "lq_patients = ec_subset.patient_id\n",
    "full_df[full_df.patient_id.isin(lq_patients)]"
   ]
  },
  {
   "cell_type": "code",
   "execution_count": null,
   "id": "6365008f-0318-4da7-9460-aaa3e99fd4be",
   "metadata": {},
   "outputs": [],
   "source": [
    "def find_suspected_duplicates(df):\n",
    "    \"\"\"\n",
    "    Identify suspected biological duplicate samples based on metadata.\n",
    "    \n",
    "    Criteria:\n",
    "    - Same patient_id, and\n",
    "      - Two or more samples labeled \"Diagnosis\" from the \"SJ\" cohort, OR\n",
    "      - Two or more samples from the \"CBTN\" cohort with the same age_at_diagnosis\n",
    "\n",
    "    Parameters:\n",
    "    df (pd.DataFrame): A DataFrame containing at least the following columns:\n",
    "                       'patient_id', 'tumor_history', 'cohort', 'age_at_diagnosis'\n",
    "\n",
    "    Returns:\n",
    "    pd.DataFrame: Subset of df containing suspected duplicate samples\n",
    "    \"\"\"\n",
    "\n",
    "    def select_duplicates(group):\n",
    "        sj_case = group[\n",
    "            (group['tumor_history'] == 'Diagnosis') &\n",
    "            (group['cohort'].str.startswith('SJC'))\n",
    "        ]\n",
    "        if len(sj_case) >= 2:\n",
    "            return sj_case\n",
    "\n",
    "        cbtn_case = group[\n",
    "            (group['cohort'].isin(['PBTA-X00','PBTA-X01','PNOC'])) &\n",
    "            group['age_at_diagnosis'].duplicated(keep=False)\n",
    "        ]\n",
    "        if len(cbtn_case) >= 2:\n",
    "            return cbtn_case\n",
    "        return\n",
    "    patient_ids = df.patient_id.copy()\n",
    "    suspected = df.groupby('patient_id', group_keys=False).apply(select_duplicates,include_groups=False)\n",
    "    suspected['patient_id'] = patient_ids\n",
    "    return suspected"
   ]
  },
  {
   "cell_type": "code",
   "execution_count": null,
   "id": "41f49218-8130-4d39-aae6-9455e862e0a7",
   "metadata": {},
   "outputs": [],
   "source": [
    "dups = find_suspected_duplicates(full_df)\n",
    "print(len(dups[dups.in_unique_tumor_set])) # 197 tumors sampled more than once"
   ]
  },
  {
   "cell_type": "code",
   "execution_count": null,
   "id": "59d1a80e-c3b4-4196-8431-ee5f0a8ae56c",
   "metadata": {},
   "outputs": [],
   "source": [
    "def find_variable_duplicates(df, tumor_purity_col='tumor_fraction_THetA2', purity_threshold=0.1):\n",
    "    \"\"\"\n",
    "    From a dataframe of biological duplicates, return samples where:\n",
    "    - And at least one sample in the group is <= 0.1 tumor_purity while another is > 0.1,\n",
    "    \"\"\"\n",
    "\n",
    "    suspected = find_suspected_duplicates(df)\n",
    "\n",
    "    def is_discordant(group):\n",
    "        purity = group[tumor_purity_col]\n",
    "        crosses_threshold = (purity <= purity_threshold).any() and (purity > purity_threshold).any()\n",
    "        if crosses_threshold:\n",
    "            return group\n",
    "        else:\n",
    "            return pd.DataFrame(columns=group.columns)\n",
    "\n",
    "    discordant = (\n",
    "        df.groupby(\"patient_id\", group_keys=False)\n",
    "        .apply(is_discordant)\n",
    "        .reset_index(drop=True)\n",
    "    )\n",
    "\n",
    "    return discordant\n"
   ]
  },
  {
   "cell_type": "code",
   "execution_count": null,
   "id": "0595c827-4c3b-4e22-a7d2-97eb8b4df5ac",
   "metadata": {},
   "outputs": [],
   "source": [
    "find_variable_duplicates(dups)"
   ]
  },
  {
   "cell_type": "code",
   "execution_count": null,
   "id": "381cb280-50a3-4e94-a976-452c51558ca9",
   "metadata": {},
   "outputs": [],
   "source": [
    "def find_discordant_duplicates(df, tumor_purity_col='tumor_fraction_THetA2', class_col='amplicon_class', purity_threshold=0.1):\n",
    "    \"\"\"\n",
    "    From a dataframe of biological duplicates, return samples where:\n",
    "    - And at least one sample in the group is <= 0.1 tumor_purity while another is > 0.1,\n",
    "    and these samples have differing amplicon_class.\n",
    "    \"\"\"\n",
    "\n",
    "    suspected = find_suspected_duplicates(df)\n",
    "\n",
    "    def is_discordant(group):\n",
    "        purity = group[tumor_purity_col]\n",
    "        classes = group[class_col]\n",
    "\n",
    "        crosses_threshold = (purity <= purity_threshold).any() and (purity > purity_threshold).any()\n",
    "        differing_classes = classes.nunique() > 1\n",
    "\n",
    "        if crosses_threshold and differing_classes:\n",
    "            return group\n",
    "        else:\n",
    "            return pd.DataFrame(columns=group.columns)\n",
    "\n",
    "    discordant = (\n",
    "        df.groupby(\"patient_id\", group_keys=False)\n",
    "        .apply(is_discordant)\n",
    "        .reset_index(drop=True)\n",
    "    )\n",
    "\n",
    "    return discordant\n"
   ]
  },
  {
   "cell_type": "code",
   "execution_count": null,
   "id": "64ad1a4e-bca6-47ab-abcb-a6517f0bbfca",
   "metadata": {},
   "outputs": [],
   "source": [
    "find_discordant_duplicates(dups)\n",
    "# 2 tumors with differing classifications "
   ]
  },
  {
   "cell_type": "code",
   "execution_count": null,
   "id": "76c9d06e-5731-4c30-88bf-bac800c1c0dd",
   "metadata": {},
   "outputs": [],
   "source": [
    "dups[dups.in_unique_tumor_set]"
   ]
  },
  {
   "cell_type": "code",
   "execution_count": null,
   "id": "6c5996e7-264d-4117-a764-bc05d968b242",
   "metadata": {},
   "outputs": [],
   "source": [
    "def estimate_fn_low_purity_tumors(df,threshold=0.1,metric='tumor_fraction_THetA2'):\n",
    "    df = df[df[metric] < threshold]\n",
    "    df = df[~df.index.isin(dups.index)]\n",
    "    df = df[df.in_unique_tumor_set]\n",
    "    return df\n",
    "estimate_fn_low_purity_tumors(full_df)"
   ]
  },
  {
   "cell_type": "code",
   "execution_count": null,
   "id": "cbfb2b6a-18e0-4a6e-a6af-e311dd289345",
   "metadata": {},
   "outputs": [],
   "source": [
    "216*2/33"
   ]
  },
  {
   "cell_type": "code",
   "execution_count": null,
   "id": "c0cdb532-a9d7-416b-9297-063f31453219",
   "metadata": {},
   "outputs": [],
   "source": [
    "18/(18+13)"
   ]
  },
  {
   "cell_type": "code",
   "execution_count": null,
   "id": "4ce586bb-4435-4857-99ff-710a955500b9",
   "metadata": {},
   "outputs": [],
   "source": []
  }
 ],
 "metadata": {
  "kernelspec": {
   "display_name": "py3",
   "language": "python",
   "name": "py3"
  },
  "language_info": {
   "codemirror_mode": {
    "name": "ipython",
    "version": 3
   },
   "file_extension": ".py",
   "mimetype": "text/x-python",
   "name": "python",
   "nbconvert_exporter": "python",
   "pygments_lexer": "ipython3",
   "version": "3.12.6"
  }
 },
 "nbformat": 4,
 "nbformat_minor": 5
}
