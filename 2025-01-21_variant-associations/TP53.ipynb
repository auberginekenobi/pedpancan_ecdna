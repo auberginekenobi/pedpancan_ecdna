{
 "cells": [
  {
   "cell_type": "code",
   "execution_count": null,
   "id": "9d6d4a19-635f-457b-875f-3d3dbe22620f",
   "metadata": {
    "tags": []
   },
   "outputs": [],
   "source": [
    "import pandas as pd\n",
    "pd.set_option('display.max_rows', None)\n",
    "pd.set_option('display.max_columns', None)\n",
    "import numpy as np\n",
    "import matplotlib.pyplot as plt\n",
    "import seaborn as sns\n",
    "import scipy.stats\n",
    "\n",
    "import sys\n",
    "sys.path.append('../src')\n",
    "from data_imports import *"
   ]
  },
  {
   "cell_type": "code",
   "execution_count": null,
   "id": "78d59364-01b1-416c-88c1-1b8bf92db42e",
   "metadata": {
    "tags": []
   },
   "outputs": [],
   "source": [
    "def import_cbtn_TP53():\n",
    "    path=\"data/pbta_TP53_alterations.xlsx\"\n",
    "    df = pd.read_excel(path)\n",
    "    df = df.replace(\"not profiled\",np.nan)\n",
    "    df = df.dropna(subset=df.columns[4:], how='all')\n",
    "    # aggregate to patient level\n",
    "    gb = df.groupby('Patient ID')['Altered'].sum().reset_index()\n",
    "    gb['TP53_altered'] = gb.Altered > 0\n",
    "    gb = gb.set_index(\"Patient ID\")\n",
    "    return gb['TP53_altered']\n",
    "\n",
    "def import_cbtn_TP53_pathway():\n",
    "    path=\"data/alterations_across_samples.tsv\"\n",
    "    df = pd.read_csv(path,sep='\\t')\n",
    "    df = df.replace(\"not profiled\",np.nan)\n",
    "    df = df.dropna(subset=df.columns[4:], how='all')\n",
    "    gb = df.groupby('Patient ID')['Altered'].sum().reset_index()\n",
    "    gb['TP53_altered'] = gb.Altered > 0\n",
    "    gb = gb.set_index(\"Patient ID\")\n",
    "    return gb['TP53_altered']\n",
    "\n",
    "def import_tp53_pt():\n",
    "    pt = import_patients()\n",
    "    pt = pt.merge(import_cbtn_TP53_pathway(),how='inner',left_index=True,right_index=True)\n",
    "    return pt\n",
    "\n"
   ]
  },
  {
   "cell_type": "code",
   "execution_count": null,
   "id": "d07a7c48-6316-4272-baf2-5679b899b504",
   "metadata": {
    "tags": []
   },
   "outputs": [],
   "source": [
    "pt = import_tp53_pt()\n",
    "p53_mut_tumors = ['CHDM','EMBT','ETMR','HGG','MBL','MST','SARC']\n",
    "#p53_mut_tumors=['HGG']\n",
    "pt=pt[pt.cancer_type.isin(p53_mut_tumors)]\n",
    "contingency_tbl = pd.crosstab(pt.amplicon_class,pt.TP53_altered)\n",
    "print(\n",
    "    'ecDNA vs intrachromosomal:',\n",
    "    scipy.stats.chi2_contingency(contingency_tbl.loc[['ecDNA','intrachromosomal']])\n",
    ")\n",
    "print(\n",
    "    'ecDNA vs no amplification',\n",
    "    scipy.stats.chi2_contingency(contingency_tbl.loc[['ecDNA','no amplification']])\n",
    ")\n",
    "\n",
    "print(\n",
    "    'intrachromosomal vs no amplification',\n",
    "    scipy.stats.chi2_contingency(contingency_tbl.loc[['intrachromosomal','no amplification']])\n",
    ")\n",
    "\n",
    "print(contingency_tbl.sum(axis=1))\n",
    "\n",
    "contingency_tbl"
   ]
  },
  {
   "cell_type": "code",
   "execution_count": null,
   "id": "c683242f-4d04-46b4-96df-84c082dfb88c",
   "metadata": {
    "scrolled": true
   },
   "outputs": [],
   "source": [
    "pct_by_cancer_type = pd.crosstab(pt.cancer_type,pt.TP53_altered)\n",
    "pct_by_cancer_type['frac'] = pct_by_cancer_type[True]/(pct_by_cancer_type[False]+pct_by_cancer_type[True])\n",
    "pct_by_cancer_type\n",
    "p53_mut_tumors = ['CHDM','EMBT','ETMR','HGG','MBL','MST','SARC']"
   ]
  }
 ],
 "metadata": {
  "kernelspec": {
   "display_name": "py3",
   "language": "python",
   "name": "py3"
  },
  "language_info": {
   "codemirror_mode": {
    "name": "ipython",
    "version": 3
   },
   "file_extension": ".py",
   "mimetype": "text/x-python",
   "name": "python",
   "nbconvert_exporter": "python",
   "pygments_lexer": "ipython3",
   "version": "3.12.5"
  }
 },
 "nbformat": 4,
 "nbformat_minor": 5
}
