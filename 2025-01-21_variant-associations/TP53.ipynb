{
 "cells": [
  {
   "cell_type": "code",
   "execution_count": 2,
   "id": "9d6d4a19-635f-457b-875f-3d3dbe22620f",
   "metadata": {
    "tags": []
   },
   "outputs": [],
   "source": [
    "import pandas as pd\n",
    "pd.set_option('display.max_rows', None)\n",
    "pd.set_option('display.max_columns', None)\n",
    "import numpy as np\n",
    "import matplotlib.pyplot as plt\n",
    "import seaborn as sns\n",
    "import scipy.stats\n",
    "\n",
    "import sys\n",
    "sys.path.append('../src')\n",
    "from data_imports import *"
   ]
  },
  {
   "cell_type": "code",
   "execution_count": 3,
   "id": "c515cad8-b1f8-4484-b6c2-0fc018ef5385",
   "metadata": {
    "tags": []
   },
   "outputs": [],
   "source": [
    "BIOSAMPLES = import_biosamples()"
   ]
  },
  {
   "cell_type": "code",
   "execution_count": 4,
   "id": "78d59364-01b1-416c-88c1-1b8bf92db42e",
   "metadata": {
    "tags": []
   },
   "outputs": [],
   "source": [
    "def import_cbtn_TP53():\n",
    "    path=\"data/pbta_TP53_alterations.xlsx\"\n",
    "    df = pd.read_excel(path)\n",
    "    df = df.replace(\"not profiled\",np.nan)\n",
    "    df = df.dropna(subset=df.columns[4:], how='all')\n",
    "    # aggregate to patient level\n",
    "    gb = df.groupby('Patient ID')['Altered'].sum().reset_index()\n",
    "    gb['TP53_altered'] = gb.Altered > 0\n",
    "    gb = gb.set_index(\"Patient ID\")\n",
    "    return gb['TP53_altered']\n",
    "\n",
    "def import_cbtn_TP53_pathway():\n",
    "    path=\"data/alterations_across_samples.tsv\"\n",
    "    df = pd.read_csv(path,sep='\\t')\n",
    "    df = df.replace(\"not profiled\",np.nan)\n",
    "    df = df.dropna(subset=df.columns[4:], how='all')\n",
    "    gb = df.groupby('Patient ID')['Altered'].sum().reset_index()\n",
    "    gb['TP53_altered'] = gb.Altered > 0\n",
    "    gb = gb.set_index(\"Patient ID\")\n",
    "    return gb['TP53_altered']\n",
    "\n",
    "def import_tp53_pt():\n",
    "    pt = import_patients()\n",
    "    pt = pt.merge(import_cbtn_TP53_pathway(),how='inner',left_index=True,right_index=True)\n",
    "    return pt\n",
    "\n"
   ]
  },
  {
   "cell_type": "code",
   "execution_count": 5,
   "id": "d07a7c48-6316-4272-baf2-5679b899b504",
   "metadata": {
    "tags": []
   },
   "outputs": [
    {
     "name": "stdout",
     "output_type": "stream",
     "text": [
      "ecDNA vs intrachromosomal: Chi2ContingencyResult(statistic=np.float64(0.08321174266101466), pvalue=np.float64(0.77299123426763), dof=1, expected_freq=array([[53.51923077, 67.48076923],\n",
      "       [38.48076923, 48.51923077]]))\n",
      "ecDNA vs no amplification Chi2ContingencyResult(statistic=np.float64(218.0105142660559), pvalue=np.float64(2.4566875970788638e-49), dof=1, expected_freq=array([[ 105.25574874,   15.74425126],\n",
      "       [1445.74425126,  216.25574874]]))\n"
     ]
    },
    {
     "data": {
      "text/html": [
       "<div>\n",
       "<style scoped>\n",
       "    .dataframe tbody tr th:only-of-type {\n",
       "        vertical-align: middle;\n",
       "    }\n",
       "\n",
       "    .dataframe tbody tr th {\n",
       "        vertical-align: top;\n",
       "    }\n",
       "\n",
       "    .dataframe thead th {\n",
       "        text-align: right;\n",
       "    }\n",
       "</style>\n",
       "<table border=\"1\" class=\"dataframe\">\n",
       "  <thead>\n",
       "    <tr style=\"text-align: right;\">\n",
       "      <th>TP53_altered</th>\n",
       "      <th>False</th>\n",
       "      <th>True</th>\n",
       "    </tr>\n",
       "    <tr>\n",
       "      <th>amplicon_class</th>\n",
       "      <th></th>\n",
       "      <th></th>\n",
       "    </tr>\n",
       "  </thead>\n",
       "  <tbody>\n",
       "    <tr>\n",
       "      <th>ecDNA</th>\n",
       "      <td>52</td>\n",
       "      <td>69</td>\n",
       "    </tr>\n",
       "    <tr>\n",
       "      <th>intrachromosomal</th>\n",
       "      <td>40</td>\n",
       "      <td>47</td>\n",
       "    </tr>\n",
       "    <tr>\n",
       "      <th>no amplification</th>\n",
       "      <td>1499</td>\n",
       "      <td>163</td>\n",
       "    </tr>\n",
       "  </tbody>\n",
       "</table>\n",
       "</div>"
      ],
      "text/plain": [
       "TP53_altered      False  True \n",
       "amplicon_class                \n",
       "ecDNA                52     69\n",
       "intrachromosomal     40     47\n",
       "no amplification   1499    163"
      ]
     },
     "execution_count": 5,
     "metadata": {},
     "output_type": "execute_result"
    }
   ],
   "source": [
    "pt = import_tp53_pt()\n",
    "contingency_tbl = pd.crosstab(pt.amplicon_class,pt.TP53_altered)\n",
    "print(\n",
    "    'ecDNA vs intrachromosomal:',\n",
    "    scipy.stats.chi2_contingency(contingency_tbl.loc[['ecDNA','intrachromosomal']])\n",
    ")\n",
    "print(\n",
    "    'ecDNA vs no amplification',\n",
    "    scipy.stats.chi2_contingency(contingency_tbl.loc[['ecDNA','no amplification']])\n",
    ")\n",
    "\n",
    "contingency_tbl"
   ]
  },
  {
   "cell_type": "code",
   "execution_count": 10,
   "id": "c683242f-4d04-46b4-96df-84c082dfb88c",
   "metadata": {},
   "outputs": [
    {
     "data": {
      "text/plain": [
       "(1870, 9)"
      ]
     },
     "execution_count": 10,
     "metadata": {},
     "output_type": "execute_result"
    }
   ],
   "source": [
    "pt.shape"
   ]
  },
  {
   "cell_type": "code",
   "execution_count": null,
   "id": "abc771d1-c621-46a7-b98d-74d0885dcace",
   "metadata": {},
   "outputs": [],
   "source": []
  }
 ],
 "metadata": {
  "kernelspec": {
   "display_name": "py3",
   "language": "python",
   "name": "py3"
  },
  "language_info": {
   "codemirror_mode": {
    "name": "ipython",
    "version": 3
   },
   "file_extension": ".py",
   "mimetype": "text/x-python",
   "name": "python",
   "nbconvert_exporter": "python",
   "pygments_lexer": "ipython3",
   "version": "3.12.5"
  }
 },
 "nbformat": 4,
 "nbformat_minor": 5
}
