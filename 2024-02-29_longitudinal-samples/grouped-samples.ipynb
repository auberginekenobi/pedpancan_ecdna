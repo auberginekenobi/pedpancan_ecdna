{
 "cells": [
  {
   "cell_type": "code",
   "execution_count": null,
   "id": "ea63e1e5-7ea4-4557-9954-56352225cbbf",
   "metadata": {},
   "outputs": [],
   "source": [
    "# Rerun AA on merged sorted seed files of all samples with shared ancestry."
   ]
  },
  {
   "cell_type": "code",
   "execution_count": null,
   "id": "fafb635d-2ba5-42f5-8394-665e4c0f3f90",
   "metadata": {},
   "outputs": [],
   "source": [
    "# ID all patients with more than one biosample\n",
    "# Get all seed bed files\n",
    "# Merge and sort seed beds\n",
    "# Rerun all AA with shared bed\n",
    "# CAVATICA python API client docs at https://sevenbridges-python.readthedocs.io/en/latest/sevenbridges.html"
   ]
  },
  {
   "cell_type": "code",
   "execution_count": null,
   "id": "822fe0d4-77af-448d-abe1-1913bece257e",
   "metadata": {},
   "outputs": [],
   "source": [
    "import pandas as pd\n",
    "import numpy as np\n",
    "import sys\n",
    "from pathlib import Path\n",
    "from collections import OrderedDict\n",
    "\n",
    "sys.path.append('../src')\n",
    "Path(\"out\").mkdir(parents=True, exist_ok=True)\n",
    "\n",
    "import data_imports\n",
    "\n",
    "import sevenbridges as sbg\n",
    "import pathlib\n",
    "import os\n",
    "import shutil\n",
    "\n",
    "pd.set_option('display.max_columns', None)"
   ]
  },
  {
   "cell_type": "code",
   "execution_count": null,
   "id": "c9eb3247-1153-49cc-a82f-3996b6c3588b",
   "metadata": {},
   "outputs": [],
   "source": [
    "# GLOBALS\n",
    "\n",
    "# default config location is ~/.sevenbridges/credentials\n",
    "api = sbg.Api(config=sbg.Config(profile='cavatica'))\n",
    "\n",
    "PROJECT_ID='chapmano/pancancer-ecdna'\n",
    "APP = 'chapmano/pancancer-ecdna/ampliconsuite-grouped-cram'\n",
    "BIOSAMPLES = data_imports.import_biosamples()\n",
    "IN_REFERENCE=api.files.get(id='615cd166ec5e113414f33c0d')\n",
    "MOSEK_DIR=api.files.get(id='616e08dfaa99d11c4bb0dd59')\n",
    "DATA_REPO=api.files.get(id='6181b500ba246329d9313cf4')\n",
    "REFERENCE_FILE_LIST=api.files.get(id='615cd166ec5e113414f33c0b')\n",
    "\n",
    "tumor_wgs_dir = api.files.query(project=PROJECT_ID, names=['wgs'])[0]\n",
    "tumor_wgs_files = list(api.files.query(parent=tumor_wgs_dir).all())\n",
    "\n",
    "normal_wgs_dir = api.files.query(project=PROJECT_ID, names=['normal-wgs'])[0]\n",
    "normal_wgs_files = list(api.files.query(parent=normal_wgs_dir).all())"
   ]
  },
  {
   "cell_type": "code",
   "execution_count": null,
   "id": "6ce3f2f7-d1ad-4ee6-9fbf-ab6de7c9372d",
   "metadata": {},
   "outputs": [],
   "source": [
    "def submit_grouped_job(pt,verbose=False, dry_run=False):\n",
    "    # create list of sample records\n",
    "    samples = []\n",
    "    for file in tumor_wgs_files:\n",
    "        if file.name.endswith('.cram') and file.metadata['Kids First Participant ID'] == pt:\n",
    "            samples.append({'sample_name':file.metadata['Kids First Biospecimen ID'],'cram':file,'tumor_normal':'tumor'})\n",
    "    for file in normal_wgs_files:\n",
    "        if file.name.endswith('.cram') and file.metadata['Kids First Participant ID'] == pt:\n",
    "            samples.append({'sample_name':file.metadata['Kids First Biospecimen ID'],'cram':file,'tumor_normal':'normal'})\n",
    "\n",
    "    # Set inputs\n",
    "    inputs = {\n",
    "        'in_reference' : IN_REFERENCE,\n",
    "        'mosek_dir' : MOSEK_DIR,\n",
    "        'data_repo' : DATA_REPO,\n",
    "        'reference_file_list' : REFERENCE_FILE_LIST,\n",
    "        'ref' : 'hg38',\n",
    "        'cngain' : 4.5,\n",
    "        'output_dir' : pt,\n",
    "        'input_record' : samples,\n",
    "    }\n",
    "    execution_settings =  {\n",
    "        'use_memoization' : True,\n",
    "    }\n",
    "    if dry_run:\n",
    "        task = api.tasks.create(name=pt+\"-grouped\", project=PROJECT_ID, app=APP, inputs=inputs, execution_settings=execution_settings, interruptible=False, run=False)\n",
    "        api.tasks.delete(task)\n",
    "    else:\n",
    "        task = api.tasks.create(name=pt+\"-grouped\", project=PROJECT_ID, app=APP, inputs=inputs, execution_settings = execution_settings, run=True)\n",
    "    if verbose:\n",
    "        print(f'creating task for {pt}:\\n{inputs}')\n",
    "    return file"
   ]
  },
  {
   "cell_type": "code",
   "execution_count": null,
   "id": "cae28e00-1b0b-4f19-8c2d-6c13d36a3c1c",
   "metadata": {},
   "outputs": [],
   "source": [
    "asdf = submit_grouped_job('PT_CXT81GRM',verbose=True,dry_run=True)"
   ]
  },
  {
   "cell_type": "code",
   "execution_count": null,
   "id": "77174736-4f0e-4e50-9626-188ae1167222",
   "metadata": {},
   "outputs": [],
   "source": [
    "pd.set_option('display.max_rows', 5)\n",
    "SECONDARIES = ['Diagnosis','Progressive','Autopsy','Recurrence','Relapse','Metastasis'] #exclude second malignancies, no sample, unavailable\n",
    "def get_cbtn_pairs():\n",
    "    '''\n",
    "    We define a longitudinal case from CBTN which has samples with different dates of diagnosis.\n",
    "    '''\n",
    "    df = BIOSAMPLES[BIOSAMPLES.cohort.isin([\"PBTA-X00\",\"PBTA-X01\"]) &\n",
    "                    (BIOSAMPLES.tumor_history.isin(SECONDARIES)) &\n",
    "                    (BIOSAMPLES.duplicated('patient_id',keep=False))]\n",
    "    grp = df.groupby('patient_id').filter(lambda x: x['age_at_diagnosis'].max()-x['age_at_diagnosis'].min()>=30).sort_values([\"patient_id\",\"age_at_diagnosis\"])\n",
    "    return grp\n",
    "def get_longitudinal_cases(verbose=True):\n",
    "    df = get_cbtn_pairs()\n",
    "    if verbose:\n",
    "        a = df.patient_id.nunique()\n",
    "        b = df[df.amplicon_class == 'ecDNA'].patient_id.nunique()\n",
    "        print(f\"{b} of {a} longitudinal cases have ecDNA\")\n",
    "    return df\n",
    "def submit_longitudinal_samples(skip=[]):\n",
    "    s = get_longitudinal_cases()\n",
    "    ct=0\n",
    "    # For each patient with more than 1 tumor sample\n",
    "    for pt, df in s.groupby('patient_id'):\n",
    "        b = (df.amplicon_class == 'ecDNA').any()\n",
    "        if (not b) or (pt in skip):\n",
    "            continue\n",
    "        submit_grouped_job(pt,verbose=True,dry_run=False)\n",
    "        ct+=1\n",
    "    return ct\n",
    "ct = submit_longitudinal_samples(skip=['PT_CXT81GRM','PT_00G007DM'])\n",
    "print(ct)"
   ]
  },
  {
   "cell_type": "code",
   "execution_count": null,
   "id": "484e005a-b48d-4f36-aa35-fb5547291fb7",
   "metadata": {},
   "outputs": [],
   "source": [
    "# This would be at least 700 AA reruns - probably excessive\n",
    "def submit_all_multitumor_samples():\n",
    "    ct=0\n",
    "    # For each patient with more than 1 tumor sample\n",
    "    for pt, df in BIOSAMPLES.groupby('patient_id'):\n",
    "        if len(df) < 2:\n",
    "            continue\n",
    "        submit_grouped_job(pt,verbose=False,dry_run=True)\n",
    "        ct+=1\n",
    "    return ct\n",
    "ct = submit_all_multitumor_samples()\n",
    "print(ct)"
   ]
  }
 ],
 "metadata": {
  "kernelspec": {
   "display_name": "py3",
   "language": "python",
   "name": "py3"
  },
  "language_info": {
   "codemirror_mode": {
    "name": "ipython",
    "version": 3
   },
   "file_extension": ".py",
   "mimetype": "text/x-python",
   "name": "python",
   "nbconvert_exporter": "python",
   "pygments_lexer": "ipython3",
   "version": "3.12.5"
  }
 },
 "nbformat": 4,
 "nbformat_minor": 5
}
